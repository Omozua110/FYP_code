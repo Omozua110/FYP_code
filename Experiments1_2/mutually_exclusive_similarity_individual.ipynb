{
  "cells": [
    {
      "cell_type": "markdown",
      "metadata": {
        "colab": {
          "base_uri": "https://localhost:8080/"
        },
        "id": "wgQtmV9CCPlq",
        "outputId": "8c6fed82-b82d-466c-d4c1-a1526f0c8de6"
      },
      "source": [
        "from google.colab import drive\n",
        "drive.mount('/content/drive')"
      ]
    },
    {
      "cell_type": "code",
      "execution_count": null,
      "metadata": {
        "colab": {
          "base_uri": "https://localhost:8080/"
        },
        "id": "0aX1r5E-CVto",
        "outputId": "20400dc4-0b00-429d-b789-93f42c8f3cb2"
      },
      "outputs": [
        {
          "name": "stderr",
          "output_type": "stream",
          "text": [
            "<ipython-input-2-3ad6f845d460>:15: DtypeWarning: Columns (22,31,32,33,38,46,77) have mixed types. Specify dtype option on import or set low_memory=False.\n",
            "  data = pd.read_csv(\"/content/drive/MyDrive/Colab Notebooks/state_CA.csv\", usecols= columns_list)\n"
          ]
        }
      ],
      "source": [
        "import pandas as pd\n",
        "import numpy as np\n",
        "\n",
        "columns_list = ['income', 'debt_to_income_ratio', 'applicant_credit_score_type', 'co-applicant_credit_score_type', 'loan_amount', 'loan_purpose', 'loan_to_value_ratio', 'loan_term', 'preapproval', 'lien_status', 'prepayment_penalty_term', 'intro_rate_period', 'negative_amortization', 'interest_only_payment', 'balloon_payment', 'property_value', 'construction_method', 'occupancy_type', 'county_code', 'census_tract', 'applicant_ethnicity-1', 'applicant_ethnicity-2', 'applicant_ethnicity-3', 'applicant_ethnicity-4', 'applicant_ethnicity-5', 'applicant_race-1', 'applicant_race-2', 'applicant_race-3', 'applicant_race-4', 'applicant_race-5', 'applicant_sex','applicant_age', 'action_taken']\n",
        "\n",
        "int_types = ['applicant_ethnicity-1',\n",
        "       'applicant_ethnicity-2', 'applicant_ethnicity-3',\n",
        "       'applicant_ethnicity-4', 'applicant_ethnicity-5', 'applicant_race-1',\n",
        "       'applicant_race-2', 'applicant_race-3', 'applicant_race-4',\n",
        "       'applicant_race-5', 'applicant_sex', 'action_taken']\n",
        "float_types=['loan_amount','loan_to_value_ratio', 'interest_rate', 'rate_spread', 'income', 'debt_to_income_ratio', 'loan_to_value_ratio']\n",
        "\n",
        "object_types=[]\n",
        "\n",
        "data = pd.read_csv(\"state_CA.csv\", usecols= columns_list)\n",
        "\n"
      ]
    },
    {
      "cell_type": "code",
      "execution_count": null,
      "metadata": {
        "colab": {
          "base_uri": "https://localhost:8080/"
        },
        "id": "we1iZr4Nmdpj",
        "outputId": "b808dd27-411a-4c81-eac8-8ef75170b6ba"
      },
      "outputs": [
        {
          "data": {
            "text/plain": [
              "33"
            ]
          },
          "execution_count": 3,
          "metadata": {},
          "output_type": "execute_result"
        }
      ],
      "source": [
        "len(columns_list)"
      ]
    },
    {
      "cell_type": "markdown",
      "metadata": {
        "id": "jPMVZFY9Mk8m"
      },
      "source": []
    },
    {
      "cell_type": "markdown",
      "metadata": {
        "id": "AL8V93O-MkyH"
      },
      "source": []
    },
    {
      "cell_type": "code",
      "execution_count": null,
      "metadata": {
        "id": "S9WupKZ_DCdf"
      },
      "outputs": [],
      "source": [
        "columns_to_check_for_na = ['county_code', 'census_tract', 'preapproval',\n",
        "       'loan_purpose', 'lien_status', 'loan_amount', 'loan_to_value_ratio', 'loan_term', 'prepayment_penalty_term',\n",
        "       'intro_rate_period', 'negative_amortization', 'interest_only_payment',\n",
        "       'balloon_payment', 'property_value', 'construction_method',\n",
        "       'occupancy_type', 'income', 'debt_to_income_ratio',\n",
        "       'applicant_credit_score_type', 'co-applicant_credit_score_type',\n",
        "       'applicant_ethnicity-1', 'applicant_race-1', 'applicant_sex']\n",
        "\n",
        "data= data.dropna(subset=columns_to_check_for_na)\n"
      ]
    },
    {
      "cell_type": "code",
      "execution_count": null,
      "metadata": {
        "id": "s23YsHjxbqau"
      },
      "outputs": [],
      "source": [
        "data = data[data!= 'Exempt']\n",
        "data = data[data!= '1111']\n",
        "data = data[data!= 1111]\n",
        "data = data[data!= '8888']\n",
        "data = data[data!= 8888]"
      ]
    },
    {
      "cell_type": "code",
      "execution_count": null,
      "metadata": {
        "id": "PbhZiYkScFt3"
      },
      "outputs": [],
      "source": [
        "data = data[data!= 'NaN']\n",
        "data = data[data!= 'nan']"
      ]
    },
    {
      "cell_type": "code",
      "execution_count": null,
      "metadata": {
        "id": "c1EaDpcQJZP1"
      },
      "outputs": [],
      "source": [
        "# Update action_taken values\n",
        "data['action_taken'] = data['action_taken'].replace({1: 1, 2: 1, 3: 0, 7: 0})\n",
        "\n",
        "# Drop rows with action_taken values of 4, 5, 6, or 8\n",
        "data = data[~data['action_taken'].isin([4, 5, 6, 8])]\n",
        "data = data[~data['applicant_ethnicity-1'].isin([3, 4])]\n",
        "data = data[~data['applicant_sex'].isin([3, 4, 6])]\n",
        "\n"
      ]
    },
    {
      "cell_type": "code",
      "execution_count": null,
      "metadata": {
        "colab": {
          "base_uri": "https://localhost:8080/"
        },
        "id": "A-J2ebQuJFmq",
        "outputId": "ef7dd0a3-bd74-4404-d0ee-db445f4045ae"
      },
      "outputs": [
        {
          "name": "stdout",
          "output_type": "stream",
          "text": [
            "action_taken\n",
            "0    32992\n",
            "1    31881\n",
            "Name: count, dtype: int64\n"
          ]
        }
      ],
      "source": [
        "action_taken_counts = data['action_taken'].value_counts()\n",
        "print(action_taken_counts)"
      ]
    },
    {
      "cell_type": "code",
      "execution_count": null,
      "metadata": {
        "id": "h2Nxc2XKT8gh"
      },
      "outputs": [],
      "source": [
        "data['debt_to_income_ratio']= data['debt_to_income_ratio'].replace({\n",
        "    '<20%': '0',\n",
        "    '>60%': '60',\n",
        "\n",
        "    '30%-<36%': '30',\n",
        "    '20%-<30%': '20',\n",
        "    '50%-60%': '50'\n",
        "})\n",
        "\n",
        "num_elements_per_range = min(data['debt_to_income_ratio'].value_counts())\n",
        "\n"
      ]
    },
    {
      "cell_type": "code",
      "execution_count": null,
      "metadata": {
        "id": "So8oQzWHUJ3j"
      },
      "outputs": [],
      "source": [
        "\n",
        "replacement_ranges = {\n",
        "    '37': [37,38,39,40,41,42],\n",
        "    '43': [43,44,45,46,47,48,49],\n",
        "}\n",
        "\n",
        "for key,value in replacement_ranges.items():\n",
        "  selected_rows= data['debt_to_income_ratio'].astype(float).between(min(value), max(value))\n",
        "  data.loc[selected_rows, 'debt_to_income_ratio'] = key\n",
        "\n"
      ]
    },
    {
      "cell_type": "code",
      "execution_count": null,
      "metadata": {
        "id": "xN-QpS5ihyMe"
      },
      "outputs": [],
      "source": [
        "for i in range(1, 6):\n",
        "        race_col = f'applicant_race-{i}'\n",
        "        data[race_col] = data[race_col].replace({1: 1, 2: 2, 21:2, 22:2, 23:2, 24:2, 25:2, 26:2, 27:2, 3: 3, 4: 4, 41:4, 42: 4, 43: 4, 44: 4})\n",
        "\n",
        "for i in range(1, 6):\n",
        "        race_col = f'applicant_ethnicity-{i}'\n",
        "        data[race_col] = data[race_col].replace({1: 1, 2: 0, 11:1, 12:1, 13:1, 14:1})\n",
        "\n",
        "data['applicant_ethnicity'] = (data[['applicant_ethnicity-1', 'applicant_ethnicity-2', 'applicant_ethnicity-3', 'applicant_ethnicity-4', 'applicant_ethnicity-5']].sum(axis=1) >= 1).astype(int) + 1\n",
        "data.drop(['applicant_ethnicity-1', 'applicant_ethnicity-2', 'applicant_ethnicity-3', 'applicant_ethnicity-4', 'applicant_ethnicity-5'],  axis=1, inplace=True)\n"
      ]
    },
    {
      "cell_type": "code",
      "execution_count": null,
      "metadata": {
        "colab": {
          "base_uri": "https://localhost:8080/",
          "height": 461
        },
        "id": "05njUAZHThwD",
        "outputId": "022afa6e-64d8-4d26-aa93-2f9afc3a7fc3"
      },
      "outputs": [
        {
          "data": {
            "application/vnd.google.colaboratory.intrinsic+json": {
              "type": "dataframe",
              "variable_name": "data"
            },
            "text/html": [
              "\n",
              "  <div id=\"df-660ead7f-a285-4ab5-ba81-fbe326ecbc22\" class=\"colab-df-container\">\n",
              "    <div>\n",
              "<style scoped>\n",
              "    .dataframe tbody tr th:only-of-type {\n",
              "        vertical-align: middle;\n",
              "    }\n",
              "\n",
              "    .dataframe tbody tr th {\n",
              "        vertical-align: top;\n",
              "    }\n",
              "\n",
              "    .dataframe thead th {\n",
              "        text-align: right;\n",
              "    }\n",
              "</style>\n",
              "<table border=\"1\" class=\"dataframe\">\n",
              "  <thead>\n",
              "    <tr style=\"text-align: right;\">\n",
              "      <th></th>\n",
              "      <th>county_code</th>\n",
              "      <th>census_tract</th>\n",
              "      <th>action_taken</th>\n",
              "      <th>preapproval</th>\n",
              "      <th>loan_purpose</th>\n",
              "      <th>lien_status</th>\n",
              "      <th>loan_amount</th>\n",
              "      <th>loan_to_value_ratio</th>\n",
              "      <th>loan_term</th>\n",
              "      <th>prepayment_penalty_term</th>\n",
              "      <th>...</th>\n",
              "      <th>applicant_credit_score_type</th>\n",
              "      <th>co-applicant_credit_score_type</th>\n",
              "      <th>applicant_race-1</th>\n",
              "      <th>applicant_race-2</th>\n",
              "      <th>applicant_race-3</th>\n",
              "      <th>applicant_race-4</th>\n",
              "      <th>applicant_race-5</th>\n",
              "      <th>applicant_sex</th>\n",
              "      <th>applicant_age</th>\n",
              "      <th>applicant_ethnicity</th>\n",
              "    </tr>\n",
              "  </thead>\n",
              "  <tbody>\n",
              "    <tr>\n",
              "      <th>54108</th>\n",
              "      <td>6085.0</td>\n",
              "      <td>6.085504e+09</td>\n",
              "      <td>1</td>\n",
              "      <td>2</td>\n",
              "      <td>1</td>\n",
              "      <td>1</td>\n",
              "      <td>1085000.0</td>\n",
              "      <td>NaN</td>\n",
              "      <td>NaN</td>\n",
              "      <td>NaN</td>\n",
              "      <td>...</td>\n",
              "      <td>NaN</td>\n",
              "      <td>NaN</td>\n",
              "      <td>2.0</td>\n",
              "      <td>2.0</td>\n",
              "      <td>NaN</td>\n",
              "      <td>NaN</td>\n",
              "      <td>NaN</td>\n",
              "      <td>1</td>\n",
              "      <td>35-44</td>\n",
              "      <td>1</td>\n",
              "    </tr>\n",
              "    <tr>\n",
              "      <th>54116</th>\n",
              "      <td>6059.0</td>\n",
              "      <td>6.059063e+09</td>\n",
              "      <td>1</td>\n",
              "      <td>2</td>\n",
              "      <td>1</td>\n",
              "      <td>1</td>\n",
              "      <td>1955000.0</td>\n",
              "      <td>NaN</td>\n",
              "      <td>NaN</td>\n",
              "      <td>NaN</td>\n",
              "      <td>...</td>\n",
              "      <td>NaN</td>\n",
              "      <td>NaN</td>\n",
              "      <td>5.0</td>\n",
              "      <td>NaN</td>\n",
              "      <td>NaN</td>\n",
              "      <td>NaN</td>\n",
              "      <td>NaN</td>\n",
              "      <td>2</td>\n",
              "      <td>35-44</td>\n",
              "      <td>1</td>\n",
              "    </tr>\n",
              "    <tr>\n",
              "      <th>54131</th>\n",
              "      <td>6037.0</td>\n",
              "      <td>6.037262e+09</td>\n",
              "      <td>1</td>\n",
              "      <td>2</td>\n",
              "      <td>1</td>\n",
              "      <td>1</td>\n",
              "      <td>3045000.0</td>\n",
              "      <td>NaN</td>\n",
              "      <td>NaN</td>\n",
              "      <td>NaN</td>\n",
              "      <td>...</td>\n",
              "      <td>NaN</td>\n",
              "      <td>NaN</td>\n",
              "      <td>5.0</td>\n",
              "      <td>NaN</td>\n",
              "      <td>NaN</td>\n",
              "      <td>NaN</td>\n",
              "      <td>NaN</td>\n",
              "      <td>1</td>\n",
              "      <td>NaN</td>\n",
              "      <td>1</td>\n",
              "    </tr>\n",
              "    <tr>\n",
              "      <th>54139</th>\n",
              "      <td>6059.0</td>\n",
              "      <td>6.059063e+09</td>\n",
              "      <td>1</td>\n",
              "      <td>2</td>\n",
              "      <td>1</td>\n",
              "      <td>1</td>\n",
              "      <td>2625000.0</td>\n",
              "      <td>NaN</td>\n",
              "      <td>NaN</td>\n",
              "      <td>NaN</td>\n",
              "      <td>...</td>\n",
              "      <td>NaN</td>\n",
              "      <td>NaN</td>\n",
              "      <td>5.0</td>\n",
              "      <td>NaN</td>\n",
              "      <td>NaN</td>\n",
              "      <td>NaN</td>\n",
              "      <td>NaN</td>\n",
              "      <td>1</td>\n",
              "      <td>NaN</td>\n",
              "      <td>1</td>\n",
              "    </tr>\n",
              "    <tr>\n",
              "      <th>64997</th>\n",
              "      <td>6085.0</td>\n",
              "      <td>6.085508e+09</td>\n",
              "      <td>1</td>\n",
              "      <td>2</td>\n",
              "      <td>1</td>\n",
              "      <td>1</td>\n",
              "      <td>1725000.0</td>\n",
              "      <td>65.0</td>\n",
              "      <td>360.0</td>\n",
              "      <td>18.0</td>\n",
              "      <td>...</td>\n",
              "      <td>9.0</td>\n",
              "      <td>10.0</td>\n",
              "      <td>2.0</td>\n",
              "      <td>NaN</td>\n",
              "      <td>NaN</td>\n",
              "      <td>NaN</td>\n",
              "      <td>NaN</td>\n",
              "      <td>1</td>\n",
              "      <td>45-54</td>\n",
              "      <td>1</td>\n",
              "    </tr>\n",
              "    <tr>\n",
              "      <th>...</th>\n",
              "      <td>...</td>\n",
              "      <td>...</td>\n",
              "      <td>...</td>\n",
              "      <td>...</td>\n",
              "      <td>...</td>\n",
              "      <td>...</td>\n",
              "      <td>...</td>\n",
              "      <td>...</td>\n",
              "      <td>...</td>\n",
              "      <td>...</td>\n",
              "      <td>...</td>\n",
              "      <td>...</td>\n",
              "      <td>...</td>\n",
              "      <td>...</td>\n",
              "      <td>...</td>\n",
              "      <td>...</td>\n",
              "      <td>...</td>\n",
              "      <td>...</td>\n",
              "      <td>...</td>\n",
              "      <td>...</td>\n",
              "      <td>...</td>\n",
              "    </tr>\n",
              "    <tr>\n",
              "      <th>1547658</th>\n",
              "      <td>6071.0</td>\n",
              "      <td>6.071002e+09</td>\n",
              "      <td>1</td>\n",
              "      <td>2</td>\n",
              "      <td>1</td>\n",
              "      <td>1</td>\n",
              "      <td>395000.0</td>\n",
              "      <td>NaN</td>\n",
              "      <td>NaN</td>\n",
              "      <td>NaN</td>\n",
              "      <td>...</td>\n",
              "      <td>NaN</td>\n",
              "      <td>NaN</td>\n",
              "      <td>2.0</td>\n",
              "      <td>2.0</td>\n",
              "      <td>NaN</td>\n",
              "      <td>NaN</td>\n",
              "      <td>NaN</td>\n",
              "      <td>1</td>\n",
              "      <td>25-34</td>\n",
              "      <td>1</td>\n",
              "    </tr>\n",
              "    <tr>\n",
              "      <th>1547660</th>\n",
              "      <td>6059.0</td>\n",
              "      <td>6.059052e+09</td>\n",
              "      <td>1</td>\n",
              "      <td>2</td>\n",
              "      <td>1</td>\n",
              "      <td>1</td>\n",
              "      <td>1025000.0</td>\n",
              "      <td>NaN</td>\n",
              "      <td>NaN</td>\n",
              "      <td>NaN</td>\n",
              "      <td>...</td>\n",
              "      <td>NaN</td>\n",
              "      <td>NaN</td>\n",
              "      <td>2.0</td>\n",
              "      <td>2.0</td>\n",
              "      <td>NaN</td>\n",
              "      <td>NaN</td>\n",
              "      <td>NaN</td>\n",
              "      <td>2</td>\n",
              "      <td>25-34</td>\n",
              "      <td>1</td>\n",
              "    </tr>\n",
              "    <tr>\n",
              "      <th>1547661</th>\n",
              "      <td>6037.0</td>\n",
              "      <td>6.037403e+09</td>\n",
              "      <td>1</td>\n",
              "      <td>2</td>\n",
              "      <td>1</td>\n",
              "      <td>1</td>\n",
              "      <td>545000.0</td>\n",
              "      <td>NaN</td>\n",
              "      <td>NaN</td>\n",
              "      <td>NaN</td>\n",
              "      <td>...</td>\n",
              "      <td>NaN</td>\n",
              "      <td>NaN</td>\n",
              "      <td>2.0</td>\n",
              "      <td>2.0</td>\n",
              "      <td>NaN</td>\n",
              "      <td>NaN</td>\n",
              "      <td>NaN</td>\n",
              "      <td>1</td>\n",
              "      <td>25-34</td>\n",
              "      <td>1</td>\n",
              "    </tr>\n",
              "    <tr>\n",
              "      <th>1547662</th>\n",
              "      <td>6037.0</td>\n",
              "      <td>6.037431e+09</td>\n",
              "      <td>1</td>\n",
              "      <td>2</td>\n",
              "      <td>32</td>\n",
              "      <td>1</td>\n",
              "      <td>875000.0</td>\n",
              "      <td>NaN</td>\n",
              "      <td>NaN</td>\n",
              "      <td>NaN</td>\n",
              "      <td>...</td>\n",
              "      <td>NaN</td>\n",
              "      <td>NaN</td>\n",
              "      <td>2.0</td>\n",
              "      <td>2.0</td>\n",
              "      <td>NaN</td>\n",
              "      <td>NaN</td>\n",
              "      <td>NaN</td>\n",
              "      <td>2</td>\n",
              "      <td>45-54</td>\n",
              "      <td>1</td>\n",
              "    </tr>\n",
              "    <tr>\n",
              "      <th>1547663</th>\n",
              "      <td>6059.0</td>\n",
              "      <td>6.059052e+09</td>\n",
              "      <td>1</td>\n",
              "      <td>2</td>\n",
              "      <td>1</td>\n",
              "      <td>1</td>\n",
              "      <td>1275000.0</td>\n",
              "      <td>NaN</td>\n",
              "      <td>NaN</td>\n",
              "      <td>NaN</td>\n",
              "      <td>...</td>\n",
              "      <td>NaN</td>\n",
              "      <td>NaN</td>\n",
              "      <td>2.0</td>\n",
              "      <td>2.0</td>\n",
              "      <td>NaN</td>\n",
              "      <td>NaN</td>\n",
              "      <td>NaN</td>\n",
              "      <td>1</td>\n",
              "      <td>25-34</td>\n",
              "      <td>1</td>\n",
              "    </tr>\n",
              "  </tbody>\n",
              "</table>\n",
              "<p>64873 rows × 29 columns</p>\n",
              "</div>\n",
              "    <div class=\"colab-df-buttons\">\n",
              "\n",
              "  <div class=\"colab-df-container\">\n",
              "    <button class=\"colab-df-convert\" onclick=\"convertToInteractive('df-660ead7f-a285-4ab5-ba81-fbe326ecbc22')\"\n",
              "            title=\"Convert this dataframe to an interactive table.\"\n",
              "            style=\"display:none;\">\n",
              "\n",
              "  <svg xmlns=\"http://www.w3.org/2000/svg\" height=\"24px\" viewBox=\"0 -960 960 960\">\n",
              "    <path d=\"M120-120v-720h720v720H120Zm60-500h600v-160H180v160Zm220 220h160v-160H400v160Zm0 220h160v-160H400v160ZM180-400h160v-160H180v160Zm440 0h160v-160H620v160ZM180-180h160v-160H180v160Zm440 0h160v-160H620v160Z\"/>\n",
              "  </svg>\n",
              "    </button>\n",
              "\n",
              "  <style>\n",
              "    .colab-df-container {\n",
              "      display:flex;\n",
              "      gap: 12px;\n",
              "    }\n",
              "\n",
              "    .colab-df-convert {\n",
              "      background-color: #E8F0FE;\n",
              "      border: none;\n",
              "      border-radius: 50%;\n",
              "      cursor: pointer;\n",
              "      display: none;\n",
              "      fill: #1967D2;\n",
              "      height: 32px;\n",
              "      padding: 0 0 0 0;\n",
              "      width: 32px;\n",
              "    }\n",
              "\n",
              "    .colab-df-convert:hover {\n",
              "      background-color: #E2EBFA;\n",
              "      box-shadow: 0px 1px 2px rgba(60, 64, 67, 0.3), 0px 1px 3px 1px rgba(60, 64, 67, 0.15);\n",
              "      fill: #174EA6;\n",
              "    }\n",
              "\n",
              "    .colab-df-buttons div {\n",
              "      margin-bottom: 4px;\n",
              "    }\n",
              "\n",
              "    [theme=dark] .colab-df-convert {\n",
              "      background-color: #3B4455;\n",
              "      fill: #D2E3FC;\n",
              "    }\n",
              "\n",
              "    [theme=dark] .colab-df-convert:hover {\n",
              "      background-color: #434B5C;\n",
              "      box-shadow: 0px 1px 3px 1px rgba(0, 0, 0, 0.15);\n",
              "      filter: drop-shadow(0px 1px 2px rgba(0, 0, 0, 0.3));\n",
              "      fill: #FFFFFF;\n",
              "    }\n",
              "  </style>\n",
              "\n",
              "    <script>\n",
              "      const buttonEl =\n",
              "        document.querySelector('#df-660ead7f-a285-4ab5-ba81-fbe326ecbc22 button.colab-df-convert');\n",
              "      buttonEl.style.display =\n",
              "        google.colab.kernel.accessAllowed ? 'block' : 'none';\n",
              "\n",
              "      async function convertToInteractive(key) {\n",
              "        const element = document.querySelector('#df-660ead7f-a285-4ab5-ba81-fbe326ecbc22');\n",
              "        const dataTable =\n",
              "          await google.colab.kernel.invokeFunction('convertToInteractive',\n",
              "                                                    [key], {});\n",
              "        if (!dataTable) return;\n",
              "\n",
              "        const docLinkHtml = 'Like what you see? Visit the ' +\n",
              "          '<a target=\"_blank\" href=https://colab.research.google.com/notebooks/data_table.ipynb>data table notebook</a>'\n",
              "          + ' to learn more about interactive tables.';\n",
              "        element.innerHTML = '';\n",
              "        dataTable['output_type'] = 'display_data';\n",
              "        await google.colab.output.renderOutput(dataTable, element);\n",
              "        const docLink = document.createElement('div');\n",
              "        docLink.innerHTML = docLinkHtml;\n",
              "        element.appendChild(docLink);\n",
              "      }\n",
              "    </script>\n",
              "  </div>\n",
              "\n",
              "\n",
              "<div id=\"df-8e64c419-ed0a-41b2-b5d6-567eb93f4acd\">\n",
              "  <button class=\"colab-df-quickchart\" onclick=\"quickchart('df-8e64c419-ed0a-41b2-b5d6-567eb93f4acd')\"\n",
              "            title=\"Suggest charts\"\n",
              "            style=\"display:none;\">\n",
              "\n",
              "<svg xmlns=\"http://www.w3.org/2000/svg\" height=\"24px\"viewBox=\"0 0 24 24\"\n",
              "     width=\"24px\">\n",
              "    <g>\n",
              "        <path d=\"M19 3H5c-1.1 0-2 .9-2 2v14c0 1.1.9 2 2 2h14c1.1 0 2-.9 2-2V5c0-1.1-.9-2-2-2zM9 17H7v-7h2v7zm4 0h-2V7h2v10zm4 0h-2v-4h2v4z\"/>\n",
              "    </g>\n",
              "</svg>\n",
              "  </button>\n",
              "\n",
              "<style>\n",
              "  .colab-df-quickchart {\n",
              "      --bg-color: #E8F0FE;\n",
              "      --fill-color: #1967D2;\n",
              "      --hover-bg-color: #E2EBFA;\n",
              "      --hover-fill-color: #174EA6;\n",
              "      --disabled-fill-color: #AAA;\n",
              "      --disabled-bg-color: #DDD;\n",
              "  }\n",
              "\n",
              "  [theme=dark] .colab-df-quickchart {\n",
              "      --bg-color: #3B4455;\n",
              "      --fill-color: #D2E3FC;\n",
              "      --hover-bg-color: #434B5C;\n",
              "      --hover-fill-color: #FFFFFF;\n",
              "      --disabled-bg-color: #3B4455;\n",
              "      --disabled-fill-color: #666;\n",
              "  }\n",
              "\n",
              "  .colab-df-quickchart {\n",
              "    background-color: var(--bg-color);\n",
              "    border: none;\n",
              "    border-radius: 50%;\n",
              "    cursor: pointer;\n",
              "    display: none;\n",
              "    fill: var(--fill-color);\n",
              "    height: 32px;\n",
              "    padding: 0;\n",
              "    width: 32px;\n",
              "  }\n",
              "\n",
              "  .colab-df-quickchart:hover {\n",
              "    background-color: var(--hover-bg-color);\n",
              "    box-shadow: 0 1px 2px rgba(60, 64, 67, 0.3), 0 1px 3px 1px rgba(60, 64, 67, 0.15);\n",
              "    fill: var(--button-hover-fill-color);\n",
              "  }\n",
              "\n",
              "  .colab-df-quickchart-complete:disabled,\n",
              "  .colab-df-quickchart-complete:disabled:hover {\n",
              "    background-color: var(--disabled-bg-color);\n",
              "    fill: var(--disabled-fill-color);\n",
              "    box-shadow: none;\n",
              "  }\n",
              "\n",
              "  .colab-df-spinner {\n",
              "    border: 2px solid var(--fill-color);\n",
              "    border-color: transparent;\n",
              "    border-bottom-color: var(--fill-color);\n",
              "    animation:\n",
              "      spin 1s steps(1) infinite;\n",
              "  }\n",
              "\n",
              "  @keyframes spin {\n",
              "    0% {\n",
              "      border-color: transparent;\n",
              "      border-bottom-color: var(--fill-color);\n",
              "      border-left-color: var(--fill-color);\n",
              "    }\n",
              "    20% {\n",
              "      border-color: transparent;\n",
              "      border-left-color: var(--fill-color);\n",
              "      border-top-color: var(--fill-color);\n",
              "    }\n",
              "    30% {\n",
              "      border-color: transparent;\n",
              "      border-left-color: var(--fill-color);\n",
              "      border-top-color: var(--fill-color);\n",
              "      border-right-color: var(--fill-color);\n",
              "    }\n",
              "    40% {\n",
              "      border-color: transparent;\n",
              "      border-right-color: var(--fill-color);\n",
              "      border-top-color: var(--fill-color);\n",
              "    }\n",
              "    60% {\n",
              "      border-color: transparent;\n",
              "      border-right-color: var(--fill-color);\n",
              "    }\n",
              "    80% {\n",
              "      border-color: transparent;\n",
              "      border-right-color: var(--fill-color);\n",
              "      border-bottom-color: var(--fill-color);\n",
              "    }\n",
              "    90% {\n",
              "      border-color: transparent;\n",
              "      border-bottom-color: var(--fill-color);\n",
              "    }\n",
              "  }\n",
              "</style>\n",
              "\n",
              "  <script>\n",
              "    async function quickchart(key) {\n",
              "      const quickchartButtonEl =\n",
              "        document.querySelector('#' + key + ' button');\n",
              "      quickchartButtonEl.disabled = true;  // To prevent multiple clicks.\n",
              "      quickchartButtonEl.classList.add('colab-df-spinner');\n",
              "      try {\n",
              "        const charts = await google.colab.kernel.invokeFunction(\n",
              "            'suggestCharts', [key], {});\n",
              "      } catch (error) {\n",
              "        console.error('Error during call to suggestCharts:', error);\n",
              "      }\n",
              "      quickchartButtonEl.classList.remove('colab-df-spinner');\n",
              "      quickchartButtonEl.classList.add('colab-df-quickchart-complete');\n",
              "    }\n",
              "    (() => {\n",
              "      let quickchartButtonEl =\n",
              "        document.querySelector('#df-8e64c419-ed0a-41b2-b5d6-567eb93f4acd button');\n",
              "      quickchartButtonEl.style.display =\n",
              "        google.colab.kernel.accessAllowed ? 'block' : 'none';\n",
              "    })();\n",
              "  </script>\n",
              "</div>\n",
              "    </div>\n",
              "  </div>\n"
            ],
            "text/plain": [
              "         county_code  census_tract  action_taken  preapproval  loan_purpose  \\\n",
              "54108         6085.0  6.085504e+09             1            2             1   \n",
              "54116         6059.0  6.059063e+09             1            2             1   \n",
              "54131         6037.0  6.037262e+09             1            2             1   \n",
              "54139         6059.0  6.059063e+09             1            2             1   \n",
              "64997         6085.0  6.085508e+09             1            2             1   \n",
              "...              ...           ...           ...          ...           ...   \n",
              "1547658       6071.0  6.071002e+09             1            2             1   \n",
              "1547660       6059.0  6.059052e+09             1            2             1   \n",
              "1547661       6037.0  6.037403e+09             1            2             1   \n",
              "1547662       6037.0  6.037431e+09             1            2            32   \n",
              "1547663       6059.0  6.059052e+09             1            2             1   \n",
              "\n",
              "         lien_status  loan_amount loan_to_value_ratio loan_term  \\\n",
              "54108              1    1085000.0                 NaN       NaN   \n",
              "54116              1    1955000.0                 NaN       NaN   \n",
              "54131              1    3045000.0                 NaN       NaN   \n",
              "54139              1    2625000.0                 NaN       NaN   \n",
              "64997              1    1725000.0                65.0     360.0   \n",
              "...              ...          ...                 ...       ...   \n",
              "1547658            1     395000.0                 NaN       NaN   \n",
              "1547660            1    1025000.0                 NaN       NaN   \n",
              "1547661            1     545000.0                 NaN       NaN   \n",
              "1547662            1     875000.0                 NaN       NaN   \n",
              "1547663            1    1275000.0                 NaN       NaN   \n",
              "\n",
              "        prepayment_penalty_term  ... applicant_credit_score_type  \\\n",
              "54108                       NaN  ...                         NaN   \n",
              "54116                       NaN  ...                         NaN   \n",
              "54131                       NaN  ...                         NaN   \n",
              "54139                       NaN  ...                         NaN   \n",
              "64997                      18.0  ...                         9.0   \n",
              "...                         ...  ...                         ...   \n",
              "1547658                     NaN  ...                         NaN   \n",
              "1547660                     NaN  ...                         NaN   \n",
              "1547661                     NaN  ...                         NaN   \n",
              "1547662                     NaN  ...                         NaN   \n",
              "1547663                     NaN  ...                         NaN   \n",
              "\n",
              "         co-applicant_credit_score_type  applicant_race-1  applicant_race-2  \\\n",
              "54108                               NaN               2.0               2.0   \n",
              "54116                               NaN               5.0               NaN   \n",
              "54131                               NaN               5.0               NaN   \n",
              "54139                               NaN               5.0               NaN   \n",
              "64997                              10.0               2.0               NaN   \n",
              "...                                 ...               ...               ...   \n",
              "1547658                             NaN               2.0               2.0   \n",
              "1547660                             NaN               2.0               2.0   \n",
              "1547661                             NaN               2.0               2.0   \n",
              "1547662                             NaN               2.0               2.0   \n",
              "1547663                             NaN               2.0               2.0   \n",
              "\n",
              "        applicant_race-3  applicant_race-4  applicant_race-5  applicant_sex  \\\n",
              "54108                NaN               NaN               NaN              1   \n",
              "54116                NaN               NaN               NaN              2   \n",
              "54131                NaN               NaN               NaN              1   \n",
              "54139                NaN               NaN               NaN              1   \n",
              "64997                NaN               NaN               NaN              1   \n",
              "...                  ...               ...               ...            ...   \n",
              "1547658              NaN               NaN               NaN              1   \n",
              "1547660              NaN               NaN               NaN              2   \n",
              "1547661              NaN               NaN               NaN              1   \n",
              "1547662              NaN               NaN               NaN              2   \n",
              "1547663              NaN               NaN               NaN              1   \n",
              "\n",
              "        applicant_age  applicant_ethnicity  \n",
              "54108           35-44                    1  \n",
              "54116           35-44                    1  \n",
              "54131             NaN                    1  \n",
              "54139             NaN                    1  \n",
              "64997           45-54                    1  \n",
              "...               ...                  ...  \n",
              "1547658         25-34                    1  \n",
              "1547660         25-34                    1  \n",
              "1547661         25-34                    1  \n",
              "1547662         45-54                    1  \n",
              "1547663         25-34                    1  \n",
              "\n",
              "[64873 rows x 29 columns]"
            ]
          },
          "execution_count": 12,
          "metadata": {},
          "output_type": "execute_result"
        }
      ],
      "source": [
        "data"
      ]
    },
    {
      "cell_type": "code",
      "execution_count": null,
      "metadata": {
        "id": "l-DMhCRqTqdF"
      },
      "outputs": [],
      "source": [
        "def combine_race(row):\n",
        "    races = []\n",
        "    for i in range(1, 6):\n",
        "        race_col = f'applicant_race-{i}'\n",
        "        if pd.notna(row[race_col]) and row[race_col] in [1,2,3,4,5]:\n",
        "            races.append(row[race_col])\n",
        "    return races\n"
      ]
    },
    {
      "cell_type": "code",
      "execution_count": null,
      "metadata": {
        "id": "V6umv60MY74v"
      },
      "outputs": [],
      "source": [
        "from sklearn.preprocessing import MultiLabelBinarizer\n",
        "\n",
        "app_race = data.apply(combine_race, axis=1)\n",
        "mlb = MultiLabelBinarizer()\n",
        "race_binarized = mlb.fit_transform(app_race)\n",
        "data=data.drop(columns=['applicant_race-1', 'applicant_race-2', 'applicant_race-3', 'applicant_race-4', 'applicant_race-5'])"
      ]
    },
    {
      "cell_type": "code",
      "execution_count": null,
      "metadata": {
        "colab": {
          "base_uri": "https://localhost:8080/"
        },
        "id": "YJyqcNI2aWvU",
        "outputId": "f18103da-f6ef-40e5-92ab-e4ceff5f15fb"
      },
      "outputs": [
        {
          "data": {
            "text/plain": [
              "Index(['county_code', 'census_tract', 'action_taken', 'preapproval',\n",
              "       'loan_purpose', 'lien_status', 'loan_amount', 'loan_to_value_ratio',\n",
              "       'loan_term', 'prepayment_penalty_term', 'intro_rate_period',\n",
              "       'negative_amortization', 'interest_only_payment', 'balloon_payment',\n",
              "       'property_value', 'construction_method', 'occupancy_type', 'income',\n",
              "       'debt_to_income_ratio', 'applicant_credit_score_type',\n",
              "       'co-applicant_credit_score_type', 'applicant_sex', 'applicant_age',\n",
              "       'applicant_ethnicity'],\n",
              "      dtype='object')"
            ]
          },
          "execution_count": 15,
          "metadata": {},
          "output_type": "execute_result"
        }
      ],
      "source": [
        "data.columns"
      ]
    },
    {
      "cell_type": "code",
      "execution_count": null,
      "metadata": {
        "colab": {
          "base_uri": "https://localhost:8080/"
        },
        "id": "ZawLhfUR9RPy",
        "outputId": "47b9b84f-1e35-4f8e-c86a-1c33ab768afc"
      },
      "outputs": [
        {
          "data": {
            "text/plain": [
              "array([[0, 1, 0, 0, 0],\n",
              "       [0, 0, 0, 0, 1],\n",
              "       [0, 0, 0, 0, 1],\n",
              "       ...,\n",
              "       [0, 1, 0, 0, 0],\n",
              "       [0, 1, 0, 0, 0],\n",
              "       [0, 1, 0, 0, 0]])"
            ]
          },
          "execution_count": 16,
          "metadata": {},
          "output_type": "execute_result"
        }
      ],
      "source": [
        "race_binarized"
      ]
    },
    {
      "cell_type": "code",
      "execution_count": null,
      "metadata": {
        "id": "4z1SXfLyenIy"
      },
      "outputs": [],
      "source": [
        "import numpy as np\n",
        "race_sums = race_binarized.sum(axis=1)\n",
        "data['Mixed'] = (race_sums > 1).astype(int)\n",
        "\n",
        "data = data[race_sums > 0]\n",
        "race_binarized = race_binarized[race_sums > 0]"
      ]
    },
    {
      "cell_type": "code",
      "execution_count": null,
      "metadata": {
        "id": "vRAix_lbegQi"
      },
      "outputs": [],
      "source": [
        "for i, race in enumerate(['AI or AN', 'Asian', 'Black or AA', 'NH or PI', 'White']):\n",
        "    data[f'{race}'] = race_binarized[:, i]"
      ]
    },
    {
      "cell_type": "code",
      "execution_count": null,
      "metadata": {
        "colab": {
          "base_uri": "https://localhost:8080/"
        },
        "id": "kvvZ_tV9eemP",
        "outputId": "c29314c4-ce98-4e1a-817a-6974c3a19768"
      },
      "outputs": [
        {
          "name": "stdout",
          "output_type": "stream",
          "text": [
            "Empty DataFrame\n",
            "Columns: [county_code, census_tract, action_taken, preapproval, loan_purpose, lien_status, loan_amount, loan_to_value_ratio, loan_term, prepayment_penalty_term, intro_rate_period, negative_amortization, interest_only_payment, balloon_payment, property_value, construction_method, occupancy_type, income, debt_to_income_ratio, applicant_credit_score_type, co-applicant_credit_score_type, applicant_sex, applicant_age, applicant_ethnicity, Mixed, AI or AN, Asian, Black or AA, NH or PI, White]\n",
            "Index: []\n",
            "\n",
            "[0 rows x 30 columns]\n"
          ]
        }
      ],
      "source": [
        "race_columns = ['AI or AN', 'Asian', 'Black or AA', 'NH or PI', 'White']\n",
        "result_a =data[race_columns].sum(axis=1)<1\n",
        "off_rows = data[result_a]\n",
        "print(off_rows)"
      ]
    },
    {
      "cell_type": "code",
      "execution_count": null,
      "metadata": {
        "id": "DBT0qPUPTBxi"
      },
      "outputs": [],
      "source": [
        "data.dropna(inplace=True)"
      ]
    },
    {
      "cell_type": "code",
      "execution_count": null,
      "metadata": {
        "id": "3f4DkRe84JQi"
      },
      "outputs": [],
      "source": [
        "data['prepayment_penalty_term'] = data['prepayment_penalty_term'].astype(int)\n",
        "data['intro_rate_period'] = data['intro_rate_period'].astype(int)"
      ]
    },
    {
      "cell_type": "code",
      "execution_count": null,
      "metadata": {
        "colab": {
          "base_uri": "https://localhost:8080/"
        },
        "id": "r3uC8cW5NAas",
        "outputId": "411a5156-607f-42da-cf06-14b392ab3dba"
      },
      "outputs": [
        {
          "name": "stdout",
          "output_type": "stream",
          "text": [
            "Column 'county_code' has 57 distinct values 0\n",
            "Column 'census_tract' has 8063 distinct values 1\n",
            "Column 'action_taken' has 2 distinct values 2\n",
            "Column 'preapproval' has 2 distinct values 3\n",
            "Column 'loan_purpose' has 6 distinct values 4\n",
            "Column 'lien_status' has 2 distinct values 5\n",
            "Column 'loan_amount' has 186 distinct values 6\n",
            "Column 'loan_to_value_ratio' has 26126 distinct values 7\n",
            "Column 'loan_term' has 13 distinct values 8\n",
            "Column 'prepayment_penalty_term' has 7 distinct values 9\n",
            "Column 'intro_rate_period' has 9 distinct values 10\n",
            "Column 'negative_amortization' has 2 distinct values 11\n",
            "Column 'interest_only_payment' has 2 distinct values 12\n",
            "Column 'balloon_payment' has 2 distinct values 13\n",
            "Column 'property_value' has 1058 distinct values 14\n",
            "Column 'construction_method' has 2 distinct values 15\n",
            "Column 'occupancy_type' has 3 distinct values 16\n",
            "Column 'income' has 1343 distinct values 17\n",
            "Column 'debt_to_income_ratio' has 8 distinct values 18\n",
            "Column 'applicant_credit_score_type' has 8 distinct values 19\n",
            "Column 'co-applicant_credit_score_type' has 9 distinct values 20\n",
            "Column 'applicant_sex' has 2 distinct values 21\n",
            "Column 'applicant_age' has 7 distinct values 22\n",
            "Column 'applicant_ethnicity' has 2 distinct values 23\n",
            "Column 'Mixed' has 2 distinct values 24\n",
            "Column 'AI or AN' has 2 distinct values 25\n",
            "Column 'Asian' has 2 distinct values 26\n",
            "Column 'Black or AA' has 2 distinct values 27\n",
            "Column 'NH or PI' has 2 distinct values 28\n",
            "Column 'White' has 2 distinct values 29\n"
          ]
        }
      ],
      "source": [
        "x = 0\n",
        "for column in data.columns:\n",
        "  distinct_values = data[column].nunique()\n",
        "  print(f\"Column '{column}' has {distinct_values} distinct values\", x)\n",
        "  x+=1"
      ]
    },
    {
      "cell_type": "code",
      "execution_count": null,
      "metadata": {
        "id": "KIfiy2csZ_IS"
      },
      "outputs": [],
      "source": [
        "import numpy as np\n",
        "categorical_features = []\n",
        "dicts = {}\n",
        "x = 0\n",
        "for column in data.columns:\n",
        "  feature_dict= {}\n",
        "  distinct_values = data[column].nunique()\n",
        "  if column == 'action_taken' or column == 'Asian' or column == 'Black or AA' or column == 'NH or PI' or column == 'White':\n",
        "    continue\n",
        "  if column == 'AI or AN':\n",
        "    feature_dict['AI or AN'] = x\n",
        "    x+=1\n",
        "    feature_dict['Asian'] = x\n",
        "    x+=1\n",
        "    feature_dict['Black or AA'] = x\n",
        "    x+=1\n",
        "    feature_dict['NH or PI'] = x\n",
        "    x+=1\n",
        "    feature_dict['White'] = x\n",
        "    x+=1\n",
        "    dicts['race'] = feature_dict\n",
        "    continue\n",
        "  elif distinct_values < 50 and distinct_values>2:\n",
        "    categorical_features.append(column)\n",
        "    distinct_ops = data[column].unique()\n",
        "    for y in distinct_ops:\n",
        "      feature_dict[y] = x\n",
        "      x+=1\n",
        "  elif distinct_values == 2:\n",
        "    feature_dict['binary'] = x\n",
        "    x+=1\n",
        "  else:\n",
        "    feature_dict['continuous'] = x\n",
        "    x += 1\n",
        "  dicts[column]=feature_dict"
      ]
    },
    {
      "cell_type": "code",
      "execution_count": null,
      "metadata": {
        "colab": {
          "base_uri": "https://localhost:8080/"
        },
        "id": "EQ0cG_rQnhz5",
        "outputId": "8901bc43-e5f9-4009-de43-e83e28071d53"
      },
      "outputs": [
        {
          "name": "stdout",
          "output_type": "stream",
          "text": [
            "{'county_code': {'continuous': 0}, 'census_tract': {'continuous': 1}, 'preapproval': {'binary': 2}, 'loan_purpose': {1: 3, 31: 4, 2: 5, 32: 6, 4: 7, 5: 8}, 'lien_status': {'binary': 9}, 'loan_amount': {'continuous': 10}, 'loan_to_value_ratio': {'continuous': 11}, 'loan_term': {360.0: 12, 240.0: 13, '360': 14, '240': 15, '300': 16, '180': 17, 180.0: 18, 300.0: 19, '60': 20, '120': 21, '480': 22, '84': 23, '420': 24}, 'prepayment_penalty_term': {18: 25, 36: 26, 0: 27, 24: 28, 12: 29, 6: 30, 2: 31}, 'intro_rate_period': {60: 32, 1: 33, 84: 34, 299: 35, 120: 36, 3: 37, 12: 38, 6: 39, 9: 40}, 'negative_amortization': {'binary': 41}, 'interest_only_payment': {'binary': 42}, 'balloon_payment': {'binary': 43}, 'property_value': {'continuous': 44}, 'construction_method': {'binary': 45}, 'occupancy_type': {3: 46, 1: 47, 2: 48}, 'income': {'continuous': 49}, 'debt_to_income_ratio': {'50': 50, '30': 51, '37': 52, '43': 53, '60': 54, '20': 55, '0': 56, '36': 57}, 'applicant_credit_score_type': {9.0: 58, 3.0: 59, 2.0: 60, 1.0: 61, 7.0: 62, 4.0: 63, 8.0: 64, 11.0: 65}, 'co-applicant_credit_score_type': {10.0: 66, 3.0: 67, 1.0: 68, 2.0: 69, 9.0: 70, 7.0: 71, 8.0: 72, 11.0: 73, 4.0: 74}, 'applicant_sex': {'binary': 75}, 'applicant_age': {'45-54': 76, '55-64': 77, '35-44': 78, '65-74': 79, '>74': 80, '25-34': 81, '<25': 82}, 'applicant_ethnicity': {'binary': 83}, 'Mixed': {'binary': 84}, 'race': {'AI or AN': 85, 'Asian': 86, 'Black or AA': 87, 'NH or PI': 88, 'White': 89}}\n"
          ]
        }
      ],
      "source": [
        "print(dicts)"
      ]
    },
    {
      "cell_type": "code",
      "execution_count": null,
      "metadata": {
        "id": "677DEKelNE9X"
      },
      "outputs": [],
      "source": [
        "# = ['occupancy_type', 'preapproval','lien_status', 'balloon_payment', 'negative_amortization', 'interest_only_payment', 'debt_to_income_ratio','applicant_age', 'loan_purpose', 'applicant_credit_score_type', 'co-applicant_credit_score_type']\n",
        "\n",
        "data_encoded = pd.get_dummies(data, columns=categorical_features)"
      ]
    },
    {
      "cell_type": "code",
      "execution_count": null,
      "metadata": {
        "id": "mO6IGan6Tgvs"
      },
      "outputs": [],
      "source": [
        "data = data_encoded"
      ]
    },
    {
      "cell_type": "code",
      "execution_count": null,
      "metadata": {
        "colab": {
          "base_uri": "https://localhost:8080/"
        },
        "id": "51IfOGC2oJ8A",
        "outputId": "62185006-b77e-4b77-b7a6-c89da92d1434"
      },
      "outputs": [
        {
          "data": {
            "text/plain": [
              "['county_code',\n",
              " 'census_tract',\n",
              " 'action_taken',\n",
              " 'preapproval',\n",
              " 'lien_status',\n",
              " 'loan_amount',\n",
              " 'loan_to_value_ratio',\n",
              " 'negative_amortization',\n",
              " 'interest_only_payment',\n",
              " 'balloon_payment',\n",
              " 'property_value',\n",
              " 'construction_method',\n",
              " 'income',\n",
              " 'applicant_sex',\n",
              " 'applicant_ethnicity',\n",
              " 'Mixed',\n",
              " 'AI or AN',\n",
              " 'Asian',\n",
              " 'Black or AA',\n",
              " 'NH or PI',\n",
              " 'White',\n",
              " 'loan_purpose_1',\n",
              " 'loan_purpose_2',\n",
              " 'loan_purpose_4',\n",
              " 'loan_purpose_5',\n",
              " 'loan_purpose_31',\n",
              " 'loan_purpose_32',\n",
              " 'loan_term_180.0',\n",
              " 'loan_term_240.0',\n",
              " 'loan_term_300.0',\n",
              " 'loan_term_360.0',\n",
              " 'loan_term_120',\n",
              " 'loan_term_180',\n",
              " 'loan_term_240',\n",
              " 'loan_term_300',\n",
              " 'loan_term_360',\n",
              " 'loan_term_420',\n",
              " 'loan_term_480',\n",
              " 'loan_term_60',\n",
              " 'loan_term_84',\n",
              " 'prepayment_penalty_term_0',\n",
              " 'prepayment_penalty_term_2',\n",
              " 'prepayment_penalty_term_6',\n",
              " 'prepayment_penalty_term_12',\n",
              " 'prepayment_penalty_term_18',\n",
              " 'prepayment_penalty_term_24',\n",
              " 'prepayment_penalty_term_36',\n",
              " 'intro_rate_period_1',\n",
              " 'intro_rate_period_3',\n",
              " 'intro_rate_period_6',\n",
              " 'intro_rate_period_9',\n",
              " 'intro_rate_period_12',\n",
              " 'intro_rate_period_60',\n",
              " 'intro_rate_period_84',\n",
              " 'intro_rate_period_120',\n",
              " 'intro_rate_period_299',\n",
              " 'occupancy_type_1',\n",
              " 'occupancy_type_2',\n",
              " 'occupancy_type_3',\n",
              " 'debt_to_income_ratio_0',\n",
              " 'debt_to_income_ratio_20',\n",
              " 'debt_to_income_ratio_30',\n",
              " 'debt_to_income_ratio_36',\n",
              " 'debt_to_income_ratio_37',\n",
              " 'debt_to_income_ratio_43',\n",
              " 'debt_to_income_ratio_50',\n",
              " 'debt_to_income_ratio_60',\n",
              " 'applicant_credit_score_type_1.0',\n",
              " 'applicant_credit_score_type_2.0',\n",
              " 'applicant_credit_score_type_3.0',\n",
              " 'applicant_credit_score_type_4.0',\n",
              " 'applicant_credit_score_type_7.0',\n",
              " 'applicant_credit_score_type_8.0',\n",
              " 'applicant_credit_score_type_9.0',\n",
              " 'applicant_credit_score_type_11.0',\n",
              " 'co-applicant_credit_score_type_1.0',\n",
              " 'co-applicant_credit_score_type_2.0',\n",
              " 'co-applicant_credit_score_type_3.0',\n",
              " 'co-applicant_credit_score_type_4.0',\n",
              " 'co-applicant_credit_score_type_7.0',\n",
              " 'co-applicant_credit_score_type_8.0',\n",
              " 'co-applicant_credit_score_type_9.0',\n",
              " 'co-applicant_credit_score_type_10.0',\n",
              " 'co-applicant_credit_score_type_11.0',\n",
              " 'applicant_age_25-34',\n",
              " 'applicant_age_35-44',\n",
              " 'applicant_age_45-54',\n",
              " 'applicant_age_55-64',\n",
              " 'applicant_age_65-74',\n",
              " 'applicant_age_<25',\n",
              " 'applicant_age_>74']"
            ]
          },
          "execution_count": 27,
          "metadata": {},
          "output_type": "execute_result"
        }
      ],
      "source": [
        "list(data.columns)"
      ]
    },
    {
      "cell_type": "markdown",
      "metadata": {
        "id": "7t9Qpaipf-Ko"
      },
      "source": []
    },
    {
      "cell_type": "code",
      "execution_count": null,
      "metadata": {
        "id": "sNhJw9QOLlb8"
      },
      "outputs": [],
      "source": [
        "\n",
        "# Separate the majority and minority classes\n",
        "df_majority = data[data.action_taken == 0]\n",
        "df_minority = data[data.action_taken == 1]\n",
        "\n",
        "# Undersample the majority class without replacement\n",
        "df_majority_undersampled = df_majority.sample(n=len(df_minority), random_state=42)\n",
        "\n",
        "# Combine minority class with undersampled majority class\n",
        "df_undersampled = pd.concat([df_minority, df_majority_undersampled])\n",
        "\n",
        "# Shuffle the dataset to prevent the model from learning any order\n",
        "df_undersampled = df_undersampled.sample(frac=1, random_state=42).reset_index(drop=True)\n"
      ]
    },
    {
      "cell_type": "code",
      "execution_count": null,
      "metadata": {
        "id": "CTBOE3Z4M-D8"
      },
      "outputs": [],
      "source": [
        " data = df_undersampled"
      ]
    },
    {
      "cell_type": "code",
      "execution_count": null,
      "metadata": {
        "colab": {
          "base_uri": "https://localhost:8080/"
        },
        "id": "AiiYOcOlLsbh",
        "outputId": "9cf749d4-7009-4dc1-bb9e-30fc4e5b9c44"
      },
      "outputs": [
        {
          "name": "stdout",
          "output_type": "stream",
          "text": [
            "action_taken\n",
            "1    26720\n",
            "0    26720\n",
            "Name: count, dtype: int64\n"
          ]
        }
      ],
      "source": [
        "action_taken_counts = data['action_taken'].value_counts()\n",
        "print(action_taken_counts)"
      ]
    },
    {
      "cell_type": "code",
      "execution_count": null,
      "metadata": {
        "id": "FrXjuihrlyOy"
      },
      "outputs": [],
      "source": [
        "continuous = ['county_code', 'census_tract', 'loan_amount', 'loan_to_value_ratio', 'property_value', 'income']\n",
        "def weighted_euclidean(x, y, weights):\n",
        "    return np.sqrt(np.sum(weights * (x - y) ** 2))\n",
        "\n",
        "def weighted_hamming(x, y, weights):\n",
        "    return np.sum(weights * (x != y))"
      ]
    },
    {
      "cell_type": "code",
      "execution_count": null,
      "metadata": {
        "id": "Biq5a-j-vlSx"
      },
      "outputs": [],
      "source": [
        "from numba import jit\n",
        "import numpy as np\n",
        "\n",
        "@jit(nopython=True)\n",
        "def numba_weighted_euclidean(data, weights):\n",
        "    n_samples = data.shape[0]\n",
        "    dist_matrix = np.zeros((n_samples, n_samples))\n",
        "\n",
        "    for i in range(n_samples):\n",
        "        for j in range(n_samples):\n",
        "            dist = 0.0\n",
        "            for k in range(data.shape[1]):\n",
        "                diff = data[i, k] - data[j, k]\n",
        "                dist += (diff * diff) * weights[k]\n",
        "            dist_matrix[i, j] = np.sqrt(dist)\n",
        "\n",
        "    return dist_matrix\n"
      ]
    },
    {
      "cell_type": "code",
      "execution_count": null,
      "metadata": {
        "id": "QK7xc6wp5cou"
      },
      "outputs": [],
      "source": [
        "@jit(nopython=True)\n",
        "def numba_weighted_hamming_distance(data, weights):\n",
        "    n_samples = data.shape[0]\n",
        "    dist_matrix = np.zeros((n_samples, n_samples), dtype=np.float32)\n",
        "\n",
        "    for i in range(n_samples):\n",
        "        for j in range(i + 1, n_samples):\n",
        "            # Calculate the weighted distance\n",
        "            dist = 0.0\n",
        "            for k in range(data.shape[1]):  \n",
        "                if data[i, k] != data[j, k]:\n",
        "                    dist += weights[k]  \n",
        "\n",
        "            dist_matrix[i, j] = dist\n",
        "            dist_matrix[j, i] = dist  # Symmetric matrix\n",
        "\n",
        "    return dist_matrix"
      ]
    },
    {
      "cell_type": "code",
      "execution_count": null,
      "metadata": {
        "id": "Knh2YxdN9d0I"
      },
      "outputs": [],
      "source": [
        "from sklearn.model_selection import train_test_split\n",
        "\n",
        "# Assuming 'action_taken' is the target variable\n",
        "\n",
        "\n",
        "columns_with_na = data.columns[data.isna().any()].tolist()\n",
        "X = data.drop('action_taken', axis=1)\n",
        "y = data['action_taken']\n",
        "\n",
        "# Split data into training and testing sets\n",
        "X_train, X_test, y_train, y_test = train_test_split(X, y, test_size=0.2, random_state=42)"
      ]
    },
    {
      "cell_type": "code",
      "execution_count": null,
      "metadata": {
        "colab": {
          "base_uri": "https://localhost:8080/"
        },
        "id": "4L8UnmkNBzMW",
        "outputId": "fa90c132-e629-41c5-b630-597d871febfc"
      },
      "outputs": [
        {
          "data": {
            "text/plain": [
              "[]"
            ]
          },
          "execution_count": 35,
          "metadata": {},
          "output_type": "execute_result"
        }
      ],
      "source": [
        "columns_with_na"
      ]
    },
    {
      "cell_type": "code",
      "execution_count": null,
      "metadata": {
        "colab": {
          "base_uri": "https://localhost:8080/"
        },
        "id": "dkXy7WAg1TFn",
        "outputId": "d89b4782-16d0-4b1e-89b7-772683376f1c"
      },
      "outputs": [
        {
          "data": {
            "text/plain": [
              "Index(['county_code', 'census_tract', 'preapproval', 'lien_status',\n",
              "       'loan_amount', 'loan_to_value_ratio', 'negative_amortization',\n",
              "       'interest_only_payment', 'balloon_payment', 'property_value',\n",
              "       'construction_method', 'income', 'applicant_sex', 'applicant_ethnicity',\n",
              "       'Mixed', 'AI or AN', 'Asian', 'Black or AA', 'NH or PI', 'White',\n",
              "       'loan_purpose_1', 'loan_purpose_2', 'loan_purpose_4', 'loan_purpose_5',\n",
              "       'loan_purpose_31', 'loan_purpose_32', 'loan_term_180.0',\n",
              "       'loan_term_240.0', 'loan_term_300.0', 'loan_term_360.0',\n",
              "       'loan_term_120', 'loan_term_180', 'loan_term_240', 'loan_term_300',\n",
              "       'loan_term_360', 'loan_term_420', 'loan_term_480', 'loan_term_60',\n",
              "       'loan_term_84', 'prepayment_penalty_term_0',\n",
              "       'prepayment_penalty_term_2', 'prepayment_penalty_term_6',\n",
              "       'prepayment_penalty_term_12', 'prepayment_penalty_term_18',\n",
              "       'prepayment_penalty_term_24', 'prepayment_penalty_term_36',\n",
              "       'intro_rate_period_1', 'intro_rate_period_3', 'intro_rate_period_6',\n",
              "       'intro_rate_period_9', 'intro_rate_period_12', 'intro_rate_period_60',\n",
              "       'intro_rate_period_84', 'intro_rate_period_120',\n",
              "       'intro_rate_period_299', 'occupancy_type_1', 'occupancy_type_2',\n",
              "       'occupancy_type_3', 'debt_to_income_ratio_0', 'debt_to_income_ratio_20',\n",
              "       'debt_to_income_ratio_30', 'debt_to_income_ratio_36',\n",
              "       'debt_to_income_ratio_37', 'debt_to_income_ratio_43',\n",
              "       'debt_to_income_ratio_50', 'debt_to_income_ratio_60',\n",
              "       'applicant_credit_score_type_1.0', 'applicant_credit_score_type_2.0',\n",
              "       'applicant_credit_score_type_3.0', 'applicant_credit_score_type_4.0',\n",
              "       'applicant_credit_score_type_7.0', 'applicant_credit_score_type_8.0',\n",
              "       'applicant_credit_score_type_9.0', 'applicant_credit_score_type_11.0',\n",
              "       'co-applicant_credit_score_type_1.0',\n",
              "       'co-applicant_credit_score_type_2.0',\n",
              "       'co-applicant_credit_score_type_3.0',\n",
              "       'co-applicant_credit_score_type_4.0',\n",
              "       'co-applicant_credit_score_type_7.0',\n",
              "       'co-applicant_credit_score_type_8.0',\n",
              "       'co-applicant_credit_score_type_9.0',\n",
              "       'co-applicant_credit_score_type_10.0',\n",
              "       'co-applicant_credit_score_type_11.0', 'applicant_age_25-34',\n",
              "       'applicant_age_35-44', 'applicant_age_45-54', 'applicant_age_55-64',\n",
              "       'applicant_age_65-74', 'applicant_age_<25', 'applicant_age_>74'],\n",
              "      dtype='object')"
            ]
          },
          "execution_count": 36,
          "metadata": {},
          "output_type": "execute_result"
        }
      ],
      "source": [
        "X_test.columns"
      ]
    },
    {
      "cell_type": "code",
      "execution_count": null,
      "metadata": {
        "colab": {
          "base_uri": "https://localhost:8080/"
        },
        "id": "kmTVXKeS95bP",
        "outputId": "598c8de4-bb93-4a37-e5ef-cc868427cda2"
      },
      "outputs": [
        {
          "name": "stdout",
          "output_type": "stream",
          "text": [
            "Logistic Regression Accuracy: 0.7868\n"
          ]
        }
      ],
      "source": [
        "from sklearn.linear_model import LogisticRegression\n",
        "from sklearn.preprocessing import StandardScaler\n",
        "from sklearn.pipeline import make_pipeline\n",
        "from sklearn.metrics import accuracy_score, classification_report\n",
        "\n",
        "# Create a pipeline with preprocessing and model\n",
        "logistic_model = make_pipeline(StandardScaler(), LogisticRegression(max_iter=3000))\n",
        "\n",
        "# Fit the model on the training data\n",
        "logistic_model.fit(X_train, y_train)\n",
        "\n",
        "# Predict on the test data\n",
        "y_pred = logistic_model.predict(X_test)\n",
        "\n",
        "# Calculate the accuracy\n",
        "logistic_accuracy = accuracy_score(y_test, y_pred)\n",
        "print(f'Logistic Regression Accuracy: {logistic_accuracy:.4f}')\n",
        "\n",
        "# Generate and print the classification report\n",
        "report = classification_report(y_test, y_pred, target_names=['Class 0', 'Class 1'])"
      ]
    },
    {
      "cell_type": "code",
      "execution_count": null,
      "metadata": {
        "colab": {
          "base_uri": "https://localhost:8080/"
        },
        "id": "Jy9V4xkhEN-x",
        "outputId": "1c9617e0-c524-4de8-8809-c8134638eb13"
      },
      "outputs": [
        {
          "name": "stdout",
          "output_type": "stream",
          "text": [
            "              precision    recall  f1-score   support\n",
            "\n",
            "     Class 0       0.83      0.72      0.77      5315\n",
            "     Class 1       0.76      0.85      0.80      5373\n",
            "\n",
            "    accuracy                           0.79     10688\n",
            "   macro avg       0.79      0.79      0.79     10688\n",
            "weighted avg       0.79      0.79      0.79     10688\n",
            "\n"
          ]
        }
      ],
      "source": [
        "print(report)"
      ]
    },
    {
      "cell_type": "code",
      "execution_count": null,
      "metadata": {
        "colab": {
          "base_uri": "https://localhost:8080/"
        },
        "id": "nWxq3hk2i7lx",
        "outputId": "0f048586-c1af-418b-80af-0ecd47b65590"
      },
      "outputs": [
        {
          "name": "stdout",
          "output_type": "stream",
          "text": [
            "0.7558716506781343 0.8004203520448375 0.8505490415038154\n"
          ]
        }
      ],
      "source": [
        "from sklearn.metrics import precision_score, f1_score, recall_score\n",
        "print(precision_score(y_test, y_pred), f1_score(y_test, y_pred), recall_score(y_test, y_pred))"
      ]
    },
    {
      "cell_type": "code",
      "execution_count": null,
      "metadata": {
        "id": "KFa42vaZIDYB"
      },
      "outputs": [],
      "source": [
        "lr_coefficients = np.abs(logistic_model.named_steps['logisticregression'].coef_[0])\n",
        "feature_names = X_test.columns\n",
        "normalized_lr_weights = lr_coefficients / lr_coefficients.sum()\n",
        "lr_weights_dict = {feature_names: normalized_lr_weights for feature_names,\n",
        "                   normalized_lr_weights in zip(feature_names, normalized_lr_weights)}"
      ]
    },
    {
      "cell_type": "code",
      "execution_count": null,
      "metadata": {
        "colab": {
          "base_uri": "https://localhost:8080/"
        },
        "id": "t8qa_odtm0g_",
        "outputId": "e7e24866-7002-4095-8abc-c7b2f91140a2"
      },
      "outputs": [
        {
          "name": "stdout",
          "output_type": "stream",
          "text": [
            "{'county_code': 0.0005351534974824161, 'census_tract': 0.0007184589215704486, 'loan_amount': 0.02039844306808137, 'loan_to_value_ratio': 0.0430554295135898, 'property_value': 0.008017878226386953, 'income': 0.003286098485632583}\n",
            "{'preapproval': 0.004620236454186613, 'lien_status': 0.01691947239542368, 'negative_amortization': 0.009441033194274627, 'interest_only_payment': 0.0036555851030849176, 'balloon_payment': 0.0010421072058606961, 'construction_method': 0.004235418499744765, 'applicant_sex': 0.0009249525165287016, 'applicant_ethnicity': 0.015981169765521226, 'Mixed': 0.004390442395467588, 'AI or AN': 0.0032769043829829914, 'Asian': 0.010880130501399726, 'Black or AA': 0.0018220718131831135, 'NH or PI': 9.678077239930693e-05, 'White': 0.017739745240549616, 'loan_purpose_1': 0.0007858089161925198, 'loan_purpose_2': 0.000500392307500447, 'loan_purpose_4': 0.005012787247394622, 'loan_purpose_5': 0.0, 'loan_purpose_31': 0.008332369775782052, 'loan_purpose_32': 0.002449256384138754, 'loan_term_180.0': 0.06860498883030318, 'loan_term_240.0': 0.001983496917310212, 'loan_term_300.0': 0.0020275442872090955, 'loan_term_360.0': 0.014055808214787876, 'loan_term_120': 0.0014790355572784288, 'loan_term_180': 0.019332620499175387, 'loan_term_240': 0.0016991339262768734, 'loan_term_300': 0.0322619602183458, 'loan_term_360': 0.006194807399700711, 'loan_term_420': 0.0027338352823582336, 'loan_term_480': 0.001378128144410432, 'loan_term_60': 0.003671201939851623, 'loan_term_84': 0.0007715872470669173, 'prepayment_penalty_term_0': 0.005005437921815203, 'prepayment_penalty_term_2': 0.019162876835243106, 'prepayment_penalty_term_6': 0.001378128144410432, 'prepayment_penalty_term_12': 0.021176531111027623, 'prepayment_penalty_term_18': 0.002171222275720825, 'prepayment_penalty_term_24': 0.01658564604525159, 'prepayment_penalty_term_36': 0.011087617879892035, 'intro_rate_period_1': 0.018302824237239935, 'intro_rate_period_3': 0.014885380373987539, 'intro_rate_period_6': 0.014176559572691714, 'intro_rate_period_9': 0.00580813527357945, 'intro_rate_period_12': 0.00880404288941149, 'intro_rate_period_60': 0.004020163504046024, 'intro_rate_period_84': 0.009080068155296273, 'intro_rate_period_120': 0.00686630320226656, 'intro_rate_period_299': 0.0016991339262768734, 'occupancy_type_1': 0.00504575502197895, 'occupancy_type_2': 0.0058909306017499155, 'occupancy_type_3': 0.0007227765212169514, 'debt_to_income_ratio_0': 0.0003822115979393616, 'debt_to_income_ratio_20': 0.02433526484714461, 'debt_to_income_ratio_30': 0.03184104825086131, 'debt_to_income_ratio_36': 0.016815044208284752, 'debt_to_income_ratio_37': 0.04792078333972252, 'debt_to_income_ratio_43': 0.048644919529395175, 'debt_to_income_ratio_50': 0.02157640812876383, 'debt_to_income_ratio_60': 0.13535151388317898, 'applicant_credit_score_type_1.0': 0.02028277773889768, 'applicant_credit_score_type_2.0': 0.014530841014193161, 'applicant_credit_score_type_3.0': 0.0120366749642391, 'applicant_credit_score_type_4.0': 0.0015268616620064109, 'applicant_credit_score_type_7.0': 0.0031056673443180857, 'applicant_credit_score_type_8.0': 0.010891649447504096, 'applicant_credit_score_type_9.0': 0.021594112130810344, 'applicant_credit_score_type_11.0': 0.00041077854643986465, 'co-applicant_credit_score_type_1.0': 0.00265592220944264, 'co-applicant_credit_score_type_2.0': 0.008078849082110803, 'co-applicant_credit_score_type_3.0': 0.003999529584409835, 'co-applicant_credit_score_type_4.0': 0.0030067688567631972, 'co-applicant_credit_score_type_7.0': 0.00313273352492985, 'co-applicant_credit_score_type_8.0': 0.012202798783831799, 'co-applicant_credit_score_type_9.0': 0.004712847914694893, 'co-applicant_credit_score_type_10.0': 0.009561627634758983, 'co-applicant_credit_score_type_11.0': 0.00034886523833266997, 'applicant_age_25-34': 0.008327397540928112, 'applicant_age_35-44': 0.0018444104125972217, 'applicant_age_45-54': 0.0012720065487718318, 'applicant_age_55-64': 0.0027157773179420732, 'applicant_age_65-74': 0.005663791722741417, 'applicant_age_<25': 0.00252488222781772, 'applicant_age_>74': 0.0025234262246909304}\n"
          ]
        }
      ],
      "source": [
        "cont_dict_lr= {k: lr_weights_dict[k] for k in continuous if k in lr_weights_dict}\n",
        "\n",
        "cat_dict_lr = {k: v for k, v in lr_weights_dict.items() if k not in continuous}\n",
        "print(cont_dict_lr)\n",
        "print(cat_dict_lr)"
      ]
    },
    {
      "cell_type": "code",
      "execution_count": null,
      "metadata": {
        "id": "izN8f3I0oED5"
      },
      "outputs": [],
      "source": [
        "from sklearn.preprocessing import StandardScaler\n",
        "from scipy.spatial.distance import pdist, squareform\n",
        "scaler= StandardScaler()\n",
        "scaled_continuous_lr = scaler.fit_transform(X_test[cont_dict_lr.keys()])\n",
        "\n",
        "dist_matrix_continuous_lr = numba_weighted_euclidean(np.array(scaled_continuous_lr), np.array(list(cont_dict_lr.values())))"
      ]
    },
    {
      "cell_type": "code",
      "execution_count": null,
      "metadata": {
        "colab": {
          "base_uri": "https://localhost:8080/"
        },
        "id": "Xk7cBkBT07ET",
        "outputId": "a96d0a15-101f-4029-8329-2d2b7570919a"
      },
      "outputs": [
        {
          "name": "stdout",
          "output_type": "stream",
          "text": [
            "[[0.         0.23879686 0.27138545 ... 0.40376077 0.2389242  0.39863214]\n",
            " [0.23879686 0.         0.06438895 ... 0.16869777 0.04951923 0.17033596]\n",
            " [0.27138545 0.06438895 0.         ... 0.1485713  0.08364013 0.14018778]\n",
            " ...\n",
            " [0.40376077 0.16869777 0.1485713  ... 0.         0.16930568 0.05773941]\n",
            " [0.2389242  0.04951923 0.08364013 ... 0.16930568 0.         0.16810592]\n",
            " [0.39863214 0.17033596 0.14018778 ... 0.05773941 0.16810592 0.        ]]\n"
          ]
        }
      ],
      "source": [
        "print(dist_matrix_continuous_lr)"
      ]
    },
    {
      "cell_type": "code",
      "execution_count": null,
      "metadata": {
        "id": "rXBc6mJUtmAz"
      },
      "outputs": [],
      "source": [
        "dist_matrix_categorical_lr = numba_weighted_hamming_distance(np.array(X_test[cat_dict_lr.keys()], dtype=np.int32), np.array(list(cat_dict_lr.values())))"
      ]
    },
    {
      "cell_type": "code",
      "execution_count": null,
      "metadata": {
        "colab": {
          "base_uri": "https://localhost:8080/"
        },
        "id": "WUh4tXVCuAgK",
        "outputId": "6654b6c9-5f15-4e4e-a46d-25ef16bfc323"
      },
      "outputs": [
        {
          "name": "stdout",
          "output_type": "stream",
          "text": [
            "[[0.         0.17914946 0.13916412 ... 0.19668712 0.09933785 0.29762343]\n",
            " [0.17914946 0.         0.24168229 ... 0.25151297 0.18180348 0.24197981]\n",
            " [0.13916412 0.24168229 0.         ... 0.26808554 0.18145469 0.3506786 ]\n",
            " ...\n",
            " [0.19668712 0.25151297 0.26808554 ... 0.         0.18909562 0.29009137]\n",
            " [0.09933785 0.18180348 0.18145469 ... 0.18909562 0.         0.23040745]\n",
            " [0.29762343 0.24197981 0.3506786  ... 0.29009137 0.23040745 0.        ]]\n"
          ]
        }
      ],
      "source": [
        "print(dist_matrix_categorical_lr)\n",
        "combined_distances_lr = dist_matrix_continuous_lr + dist_matrix_categorical_lr"
      ]
    },
    {
      "cell_type": "code",
      "execution_count": null,
      "metadata": {
        "colab": {
          "base_uri": "https://localhost:8080/"
        },
        "id": "mXq8tCqWuOc-",
        "outputId": "80ec0819-6f69-413b-a544-2009b3e1c838"
      },
      "outputs": [
        {
          "data": {
            "text/plain": [
              "0.4595399112339706"
            ]
          },
          "execution_count": 46,
          "metadata": {},
          "output_type": "execute_result"
        }
      ],
      "source": [
        "average_distance_lr = np.mean(combined_distances_lr)\n",
        "average_distance_lr"
      ]
    },
    {
      "cell_type": "code",
      "execution_count": null,
      "metadata": {
        "colab": {
          "base_uri": "https://localhost:8080/"
        },
        "id": "0_9r6cF7ElSg",
        "outputId": "b8af8e44-4d99-4b11-99bd-06f08a63c589"
      },
      "outputs": [
        {
          "name": "stdout",
          "output_type": "stream",
          "text": [
            "Random Forest Accuracy: 0.8310254491017964\n",
            "              precision    recall  f1-score   support\n",
            "\n",
            "     Class 0       0.86      0.79      0.82      5315\n",
            "     Class 1       0.81      0.87      0.84      5373\n",
            "\n",
            "    accuracy                           0.83     10688\n",
            "   macro avg       0.83      0.83      0.83     10688\n",
            "weighted avg       0.83      0.83      0.83     10688\n",
            "\n"
          ]
        }
      ],
      "source": [
        "from sklearn.ensemble import RandomForestClassifier\n",
        "from sklearn.metrics import accuracy_score, classification_report\n",
        "\n",
        "# Initialize the Random Forest model\n",
        "rf_model = RandomForestClassifier(random_state=42)\n",
        "\n",
        "# Fit the model on the training data\n",
        "rf_model.fit(X_train, y_train)\n",
        "\n",
        "# Predict on the test data\n",
        "rf_pred = rf_model.predict(X_test)\n",
        "\n",
        "# Calculate the accuracy\n",
        "rf_accuracy = accuracy_score(y_test, rf_pred)\n",
        "print(f'Random Forest Accuracy: {rf_accuracy}')\n",
        "\n",
        "# Generate and print the classification report\n",
        "rf_report = classification_report(y_test, rf_pred, target_names=['Class 0', 'Class 1'])\n",
        "print(rf_report)"
      ]
    },
    {
      "cell_type": "code",
      "execution_count": null,
      "metadata": {
        "colab": {
          "base_uri": "https://localhost:8080/"
        },
        "id": "7J7bO3mzjKi_",
        "outputId": "bafff122-4215-4d71-ea96-692bc7147563"
      },
      "outputs": [
        {
          "name": "stdout",
          "output_type": "stream",
          "text": [
            "0.809366869037294 0.837852397198779 0.8684161548483157\n"
          ]
        }
      ],
      "source": [
        "print(precision_score(y_test, rf_pred), f1_score(y_test, rf_pred), recall_score(y_test, rf_pred))"
      ]
    },
    {
      "cell_type": "code",
      "execution_count": null,
      "metadata": {
        "colab": {
          "base_uri": "https://localhost:8080/"
        },
        "id": "OGPx73l1TRsp",
        "outputId": "1a9f29ba-74ae-4885-f071-621a29c9627b"
      },
      "outputs": [
        {
          "name": "stdout",
          "output_type": "stream",
          "text": [
            "{'county_code': 0.04007096345032093, 'census_tract': 0.057877187281704864, 'preapproval': 1.5028055801856578e-05, 'lien_status': 0.007479347022309313, 'loan_amount': 0.05629071802934597, 'loan_to_value_ratio': 0.11548627330197453, 'negative_amortization': 7.987306886361677e-05, 'interest_only_payment': 0.020379714292114746, 'balloon_payment': 0.0001945491060318176, 'property_value': 0.0711371782261101, 'construction_method': 0.0007625884515648942, 'income': 0.09194922160586703, 'applicant_sex': 0.012384402154963496, 'applicant_ethnicity': 0.010409424042048648, 'Mixed': 0.0022822120830114107, 'AI or AN': 0.0016146024430083949, 'Asian': 0.007510633863362145, 'Black or AA': 0.0038852031979263956, 'NH or PI': 0.001287902054985319, 'White': 0.008524121779931733, 'loan_purpose_1': 0.0035183827007472736, 'loan_purpose_2': 0.009339765358079033, 'loan_purpose_4': 0.00935409210590207, 'loan_purpose_5': 0.0, 'loan_purpose_31': 0.006084635829296688, 'loan_purpose_32': 0.0018021820667322706, 'loan_term_180.0': 0.0033592099212712656, 'loan_term_240.0': 7.330800509357401e-05, 'loan_term_300.0': 0.001907844801075002, 'loan_term_360.0': 0.021804325721017124, 'loan_term_120': 2.653275770472033e-06, 'loan_term_180': 0.0001278056982886941, 'loan_term_240': 1.50382298910938e-06, 'loan_term_300': 0.0012840961644711602, 'loan_term_360': 0.011203174262343057, 'loan_term_420': 0.0017804829815778094, 'loan_term_480': 3.621409274632343e-06, 'loan_term_60': 1.2879750012425342e-06, 'loan_term_84': 2.5333702191018885e-07, 'prepayment_penalty_term_0': 1.9074951190895692e-05, 'prepayment_penalty_term_2': 0.012605275436336374, 'prepayment_penalty_term_6': 0.0, 'prepayment_penalty_term_12': 4.70058855059753e-05, 'prepayment_penalty_term_18': 1.2427499166311988e-06, 'prepayment_penalty_term_24': 0.0008546570920332133, 'prepayment_penalty_term_36': 0.011773137548113379, 'intro_rate_period_1': 0.018921314183515683, 'intro_rate_period_3': 0.0009925047324864653, 'intro_rate_period_6': 0.00752255098679419, 'intro_rate_period_9': 4.255272217103027e-06, 'intro_rate_period_12': 0.005510753705722511, 'intro_rate_period_60': 9.638695656232784e-05, 'intro_rate_period_84': 0.0012010250849751388, 'intro_rate_period_120': 2.3859821102569234e-05, 'intro_rate_period_299': 1.4535663946684348e-06, 'occupancy_type_1': 0.002328979077461569, 'occupancy_type_2': 0.0022839756959244333, 'occupancy_type_3': 0.0004903045548603757, 'debt_to_income_ratio_0': 0.008369650424144143, 'debt_to_income_ratio_20': 0.010502422500076556, 'debt_to_income_ratio_30': 0.012950864171967492, 'debt_to_income_ratio_36': 0.004025352622233055, 'debt_to_income_ratio_37': 0.02896719069282983, 'debt_to_income_ratio_43': 0.03570093314142997, 'debt_to_income_ratio_50': 0.02940232403060343, 'debt_to_income_ratio_60': 0.12701708709081921, 'applicant_credit_score_type_1.0': 0.0026854014760467754, 'applicant_credit_score_type_2.0': 0.009610432251029559, 'applicant_credit_score_type_3.0': 0.0013128485896666976, 'applicant_credit_score_type_4.0': 2.8393005224162117e-05, 'applicant_credit_score_type_7.0': 4.963412178400762e-05, 'applicant_credit_score_type_8.0': 0.010631360703012547, 'applicant_credit_score_type_9.0': 0.0048048045850518, 'applicant_credit_score_type_11.0': 5.2053451473836836e-05, 'co-applicant_credit_score_type_1.0': 0.0006240448682452903, 'co-applicant_credit_score_type_2.0': 0.004397838967277193, 'co-applicant_credit_score_type_3.0': 0.00022100363680677506, 'co-applicant_credit_score_type_4.0': 1.1659734911951364e-07, 'co-applicant_credit_score_type_7.0': 1.366143593741221e-05, 'co-applicant_credit_score_type_8.0': 0.0036020437517586216, 'co-applicant_credit_score_type_9.0': 0.006595368361173356, 'co-applicant_credit_score_type_10.0': 0.00909596066292648, 'co-applicant_credit_score_type_11.0': 1.603992051797482e-05, 'applicant_age_25-34': 0.005795366510225799, 'applicant_age_35-44': 0.008586050303632346, 'applicant_age_45-54': 0.009330546408757941, 'applicant_age_55-64': 0.008629280486105333, 'applicant_age_65-74': 0.006710974349179149, 'applicant_age_<25': 0.0003005314010622356, 'applicant_age_>74': 0.004022893233338815}\n"
          ]
        }
      ],
      "source": [
        "rf_coefficients = np.abs(rf_model.feature_importances_)\n",
        "normalized_rf_weights = rf_coefficients / rf_coefficients.sum()\n",
        "rf_weights_dict = {feature_names: normalized_rf_weights for feature_names,\n",
        "                   normalized_rf_weights in zip(feature_names, normalized_rf_weights)}\n",
        "print(rf_weights_dict)"
      ]
    },
    {
      "cell_type": "code",
      "execution_count": null,
      "metadata": {
        "colab": {
          "base_uri": "https://localhost:8080/"
        },
        "id": "lK0eupeemoP1",
        "outputId": "c33cb7de-6107-43bf-ccd7-ac91e96aea93"
      },
      "outputs": [
        {
          "name": "stdout",
          "output_type": "stream",
          "text": [
            "{'county_code': 0.04007096345032093, 'census_tract': 0.057877187281704864, 'loan_amount': 0.05629071802934597, 'loan_to_value_ratio': 0.11548627330197453, 'property_value': 0.0711371782261101, 'income': 0.09194922160586703}\n",
            "{'preapproval': 1.5028055801856578e-05, 'lien_status': 0.007479347022309313, 'negative_amortization': 7.987306886361677e-05, 'interest_only_payment': 0.020379714292114746, 'balloon_payment': 0.0001945491060318176, 'construction_method': 0.0007625884515648942, 'applicant_sex': 0.012384402154963496, 'applicant_ethnicity': 0.010409424042048648, 'Mixed': 0.0022822120830114107, 'AI or AN': 0.0016146024430083949, 'Asian': 0.007510633863362145, 'Black or AA': 0.0038852031979263956, 'NH or PI': 0.001287902054985319, 'White': 0.008524121779931733, 'loan_purpose_1': 0.0035183827007472736, 'loan_purpose_2': 0.009339765358079033, 'loan_purpose_4': 0.00935409210590207, 'loan_purpose_5': 0.0, 'loan_purpose_31': 0.006084635829296688, 'loan_purpose_32': 0.0018021820667322706, 'loan_term_180.0': 0.0033592099212712656, 'loan_term_240.0': 7.330800509357401e-05, 'loan_term_300.0': 0.001907844801075002, 'loan_term_360.0': 0.021804325721017124, 'loan_term_120': 2.653275770472033e-06, 'loan_term_180': 0.0001278056982886941, 'loan_term_240': 1.50382298910938e-06, 'loan_term_300': 0.0012840961644711602, 'loan_term_360': 0.011203174262343057, 'loan_term_420': 0.0017804829815778094, 'loan_term_480': 3.621409274632343e-06, 'loan_term_60': 1.2879750012425342e-06, 'loan_term_84': 2.5333702191018885e-07, 'prepayment_penalty_term_0': 1.9074951190895692e-05, 'prepayment_penalty_term_2': 0.012605275436336374, 'prepayment_penalty_term_6': 0.0, 'prepayment_penalty_term_12': 4.70058855059753e-05, 'prepayment_penalty_term_18': 1.2427499166311988e-06, 'prepayment_penalty_term_24': 0.0008546570920332133, 'prepayment_penalty_term_36': 0.011773137548113379, 'intro_rate_period_1': 0.018921314183515683, 'intro_rate_period_3': 0.0009925047324864653, 'intro_rate_period_6': 0.00752255098679419, 'intro_rate_period_9': 4.255272217103027e-06, 'intro_rate_period_12': 0.005510753705722511, 'intro_rate_period_60': 9.638695656232784e-05, 'intro_rate_period_84': 0.0012010250849751388, 'intro_rate_period_120': 2.3859821102569234e-05, 'intro_rate_period_299': 1.4535663946684348e-06, 'occupancy_type_1': 0.002328979077461569, 'occupancy_type_2': 0.0022839756959244333, 'occupancy_type_3': 0.0004903045548603757, 'debt_to_income_ratio_0': 0.008369650424144143, 'debt_to_income_ratio_20': 0.010502422500076556, 'debt_to_income_ratio_30': 0.012950864171967492, 'debt_to_income_ratio_36': 0.004025352622233055, 'debt_to_income_ratio_37': 0.02896719069282983, 'debt_to_income_ratio_43': 0.03570093314142997, 'debt_to_income_ratio_50': 0.02940232403060343, 'debt_to_income_ratio_60': 0.12701708709081921, 'applicant_credit_score_type_1.0': 0.0026854014760467754, 'applicant_credit_score_type_2.0': 0.009610432251029559, 'applicant_credit_score_type_3.0': 0.0013128485896666976, 'applicant_credit_score_type_4.0': 2.8393005224162117e-05, 'applicant_credit_score_type_7.0': 4.963412178400762e-05, 'applicant_credit_score_type_8.0': 0.010631360703012547, 'applicant_credit_score_type_9.0': 0.0048048045850518, 'applicant_credit_score_type_11.0': 5.2053451473836836e-05, 'co-applicant_credit_score_type_1.0': 0.0006240448682452903, 'co-applicant_credit_score_type_2.0': 0.004397838967277193, 'co-applicant_credit_score_type_3.0': 0.00022100363680677506, 'co-applicant_credit_score_type_4.0': 1.1659734911951364e-07, 'co-applicant_credit_score_type_7.0': 1.366143593741221e-05, 'co-applicant_credit_score_type_8.0': 0.0036020437517586216, 'co-applicant_credit_score_type_9.0': 0.006595368361173356, 'co-applicant_credit_score_type_10.0': 0.00909596066292648, 'co-applicant_credit_score_type_11.0': 1.603992051797482e-05, 'applicant_age_25-34': 0.005795366510225799, 'applicant_age_35-44': 0.008586050303632346, 'applicant_age_45-54': 0.009330546408757941, 'applicant_age_55-64': 0.008629280486105333, 'applicant_age_65-74': 0.006710974349179149, 'applicant_age_<25': 0.0003005314010622356, 'applicant_age_>74': 0.004022893233338815}\n"
          ]
        }
      ],
      "source": [
        "cont_dict_rf= {k: rf_weights_dict[k] for k in continuous if k in rf_weights_dict}\n",
        "\n",
        "cat_dict_rf = {k: v for k, v in rf_weights_dict.items() if k not in continuous}\n",
        "print(cont_dict_rf)\n",
        "print(cat_dict_rf)"
      ]
    },
    {
      "cell_type": "code",
      "execution_count": null,
      "metadata": {
        "colab": {
          "base_uri": "https://localhost:8080/"
        },
        "id": "2szO_xFo7qbH",
        "outputId": "befd363b-69cb-4ecd-aef7-f793fef460ed"
      },
      "outputs": [
        {
          "data": {
            "text/plain": [
              "0.8572370892711186"
            ]
          },
          "execution_count": 51,
          "metadata": {},
          "output_type": "execute_result"
        }
      ],
      "source": [
        "scaled_continuous_rf = scaler.fit_transform(X_test[cont_dict_rf.keys()])\n",
        "\n",
        "dist_matrix_continuous_rf = numba_weighted_euclidean(np.array(scaled_continuous_rf), np.array(list(cont_dict_rf.values())))\n",
        "dist_matrix_categorical_rf = numba_weighted_hamming_distance(np.array(X_test[cat_dict_rf.keys()], dtype=np.int32), np.array(list(cat_dict_rf.values())))\n",
        "combined_distances_rf = dist_matrix_continuous_rf + dist_matrix_categorical_rf\n",
        "average_distance_rf = np.mean(combined_distances_rf)\n",
        "average_distance_rf"
      ]
    },
    {
      "cell_type": "code",
      "execution_count": null,
      "metadata": {
        "colab": {
          "base_uri": "https://localhost:8080/"
        },
        "id": "x5RUkA4yEobb",
        "outputId": "c122a56c-7005-40a2-d55e-040e3589a9a7"
      },
      "outputs": [
        {
          "name": "stdout",
          "output_type": "stream",
          "text": [
            "MLP Accuracy: 0.8164296407185628\n",
            "              precision    recall  f1-score   support\n",
            "\n",
            "     Class 0       0.83      0.79      0.81      5315\n",
            "     Class 1       0.80      0.84      0.82      5373\n",
            "\n",
            "    accuracy                           0.82     10688\n",
            "   macro avg       0.82      0.82      0.82     10688\n",
            "weighted avg       0.82      0.82      0.82     10688\n",
            "\n"
          ]
        }
      ],
      "source": [
        "from sklearn.neural_network import MLPClassifier\n",
        "from sklearn.preprocessing import StandardScaler\n",
        "from sklearn.pipeline import make_pipeline\n",
        "\n",
        "# Create a pipeline with preprocessing and the MLP model\n",
        "# StandardScaler is used to scale the data for better performance of the MLP\n",
        "mlp_model = make_pipeline(StandardScaler(), MLPClassifier(max_iter=1000,random_state=42, solver='sgd'))\n",
        "\n",
        "\n",
        "# Fit the model on the training data\n",
        "mlp_model.fit(X_train, y_train)\n",
        "\n",
        "# Predict on the test data\n",
        "mlp_pred = mlp_model.predict(X_test)\n",
        "\n",
        "# Calculate the accuracy\n",
        "mlp_accuracy = accuracy_score(y_test, mlp_pred)\n",
        "print(f'MLP Accuracy: {mlp_accuracy}')\n",
        "\n",
        "# Generate and print the classification report\n",
        "mlp_report = classification_report(y_test, mlp_pred, target_names=['Class 0', 'Class 1'])\n",
        "print(mlp_report)\n"
      ]
    },
    {
      "cell_type": "code",
      "execution_count": null,
      "metadata": {
        "colab": {
          "base_uri": "https://localhost:8080/"
        },
        "id": "orfrUCY5mx1W",
        "outputId": "ff8303b0-85f5-4555-d43b-92501e4fd19b"
      },
      "outputs": [
        {
          "name": "stdout",
          "output_type": "stream",
          "text": [
            "0.8015915119363395 0.8220892274211098 0.8436627582356225\n"
          ]
        }
      ],
      "source": [
        "print(precision_score(y_test, mlp_pred), f1_score(y_test, mlp_pred), recall_score(y_test, mlp_pred))"
      ]
    },
    {
      "cell_type": "code",
      "execution_count": null,
      "metadata": {
        "colab": {
          "base_uri": "https://localhost:8080/"
        },
        "id": "yCxSNncdLaRw",
        "outputId": "38d9b140-bac9-436c-8563-63e86a4b84b7"
      },
      "outputs": [
        {
          "name": "stdout",
          "output_type": "stream",
          "text": [
            "[0.01055206 0.0103713  0.00957108 0.01235781 0.01807954 0.02098845\n",
            " 0.00887065 0.01234504 0.01043735 0.01608852 0.01102316 0.01285472\n",
            " 0.01176819 0.01197226 0.01044744 0.01080698 0.01053367 0.01116622\n",
            " 0.01110811 0.00981755 0.01032072 0.0111844  0.0112587  0.00892853\n",
            " 0.01101282 0.01114353 0.01003481 0.01040056 0.01094086 0.01303866\n",
            " 0.00893138 0.00934926 0.00896867 0.00934687 0.01237837 0.0120272\n",
            " 0.00978174 0.00946875 0.00895384 0.00986774 0.0139512  0.00889555\n",
            " 0.00857175 0.00975915 0.00979351 0.01251116 0.01227033 0.00992038\n",
            " 0.01520296 0.00911829 0.01334699 0.00956175 0.01177685 0.00885399\n",
            " 0.00917389 0.01102493 0.01045442 0.01061272 0.01160125 0.01096507\n",
            " 0.01088055 0.011482   0.01235985 0.01094951 0.01222369 0.01654312\n",
            " 0.010657   0.01288065 0.01210191 0.00922296 0.00887062 0.01309959\n",
            " 0.01296945 0.0093707  0.00982269 0.01283191 0.00914529 0.00986026\n",
            " 0.00930764 0.01167238 0.01103076 0.01181112 0.00950003 0.01000951\n",
            " 0.01154    0.01075726 0.01116872 0.01038932 0.01045866 0.01121919] Index(['county_code', 'census_tract', 'preapproval', 'lien_status',\n",
            "       'loan_amount', 'loan_to_value_ratio', 'negative_amortization',\n",
            "       'interest_only_payment', 'balloon_payment', 'property_value',\n",
            "       'construction_method', 'income', 'applicant_sex', 'applicant_ethnicity',\n",
            "       'Mixed', 'AI or AN', 'Asian', 'Black or AA', 'NH or PI', 'White',\n",
            "       'loan_purpose_1', 'loan_purpose_2', 'loan_purpose_4', 'loan_purpose_5',\n",
            "       'loan_purpose_31', 'loan_purpose_32', 'loan_term_180.0',\n",
            "       'loan_term_240.0', 'loan_term_300.0', 'loan_term_360.0',\n",
            "       'loan_term_120', 'loan_term_180', 'loan_term_240', 'loan_term_300',\n",
            "       'loan_term_360', 'loan_term_420', 'loan_term_480', 'loan_term_60',\n",
            "       'loan_term_84', 'prepayment_penalty_term_0',\n",
            "       'prepayment_penalty_term_2', 'prepayment_penalty_term_6',\n",
            "       'prepayment_penalty_term_12', 'prepayment_penalty_term_18',\n",
            "       'prepayment_penalty_term_24', 'prepayment_penalty_term_36',\n",
            "       'intro_rate_period_1', 'intro_rate_period_3', 'intro_rate_period_6',\n",
            "       'intro_rate_period_9', 'intro_rate_period_12', 'intro_rate_period_60',\n",
            "       'intro_rate_period_84', 'intro_rate_period_120',\n",
            "       'intro_rate_period_299', 'occupancy_type_1', 'occupancy_type_2',\n",
            "       'occupancy_type_3', 'debt_to_income_ratio_0', 'debt_to_income_ratio_20',\n",
            "       'debt_to_income_ratio_30', 'debt_to_income_ratio_36',\n",
            "       'debt_to_income_ratio_37', 'debt_to_income_ratio_43',\n",
            "       'debt_to_income_ratio_50', 'debt_to_income_ratio_60',\n",
            "       'applicant_credit_score_type_1.0', 'applicant_credit_score_type_2.0',\n",
            "       'applicant_credit_score_type_3.0', 'applicant_credit_score_type_4.0',\n",
            "       'applicant_credit_score_type_7.0', 'applicant_credit_score_type_8.0',\n",
            "       'applicant_credit_score_type_9.0', 'applicant_credit_score_type_11.0',\n",
            "       'co-applicant_credit_score_type_1.0',\n",
            "       'co-applicant_credit_score_type_2.0',\n",
            "       'co-applicant_credit_score_type_3.0',\n",
            "       'co-applicant_credit_score_type_4.0',\n",
            "       'co-applicant_credit_score_type_7.0',\n",
            "       'co-applicant_credit_score_type_8.0',\n",
            "       'co-applicant_credit_score_type_9.0',\n",
            "       'co-applicant_credit_score_type_10.0',\n",
            "       'co-applicant_credit_score_type_11.0', 'applicant_age_25-34',\n",
            "       'applicant_age_35-44', 'applicant_age_45-54', 'applicant_age_55-64',\n",
            "       'applicant_age_65-74', 'applicant_age_<25', 'applicant_age_>74'],\n",
            "      dtype='object')\n",
            "{'county_code': 0.010552057196783978, 'census_tract': 0.0103712962588143, 'preapproval': 0.009571077814331643, 'lien_status': 0.01235781414859384, 'loan_amount': 0.018079538752377985, 'loan_to_value_ratio': 0.020988451338355144, 'negative_amortization': 0.008870648730519046, 'interest_only_payment': 0.012345037899043879, 'balloon_payment': 0.01043734952040405, 'property_value': 0.016088517929471583, 'construction_method': 0.011023159425949955, 'income': 0.012854715891712191, 'applicant_sex': 0.011768192730762536, 'applicant_ethnicity': 0.011972261341822827, 'Mixed': 0.010447442011796494, 'AI or AN': 0.010806976174651737, 'Asian': 0.010533665001345949, 'Black or AA': 0.01116622484809856, 'NH or PI': 0.011108113519560037, 'White': 0.009817552779123466, 'loan_purpose_1': 0.010320721639374432, 'loan_purpose_2': 0.01118440440628658, 'loan_purpose_4': 0.011258699046371383, 'loan_purpose_5': 0.008928526008014028, 'loan_purpose_31': 0.011012819614230012, 'loan_purpose_32': 0.01114353311006739, 'loan_term_180.0': 0.01003480783431524, 'loan_term_240.0': 0.010400556522164687, 'loan_term_300.0': 0.01094086011733395, 'loan_term_360.0': 0.013038664720528259, 'loan_term_120': 0.008931381237831871, 'loan_term_180': 0.009349257225302263, 'loan_term_240': 0.00896867134211151, 'loan_term_300': 0.00934687299876065, 'loan_term_360': 0.012378371437721612, 'loan_term_420': 0.012027203992066979, 'loan_term_480': 0.009781741579579036, 'loan_term_60': 0.009468752540338826, 'loan_term_84': 0.008953842753696076, 'prepayment_penalty_term_0': 0.009867738696070714, 'prepayment_penalty_term_2': 0.013951202253304958, 'prepayment_penalty_term_6': 0.008895549520510193, 'prepayment_penalty_term_12': 0.008571749926251324, 'prepayment_penalty_term_18': 0.009759153967757679, 'prepayment_penalty_term_24': 0.009793508440184766, 'prepayment_penalty_term_36': 0.012511163154949927, 'intro_rate_period_1': 0.012270332647542983, 'intro_rate_period_3': 0.009920382294633635, 'intro_rate_period_6': 0.015202960584766705, 'intro_rate_period_9': 0.009118294288697704, 'intro_rate_period_12': 0.013346991650426077, 'intro_rate_period_60': 0.009561745578599276, 'intro_rate_period_84': 0.011776847325850942, 'intro_rate_period_120': 0.008853986752912131, 'intro_rate_period_299': 0.009173891710173585, 'occupancy_type_1': 0.011024929194466989, 'occupancy_type_2': 0.010454416399904534, 'occupancy_type_3': 0.01061272252641197, 'debt_to_income_ratio_0': 0.011601251974132327, 'debt_to_income_ratio_20': 0.010965073479668137, 'debt_to_income_ratio_30': 0.010880552420370997, 'debt_to_income_ratio_36': 0.011482001872691406, 'debt_to_income_ratio_37': 0.012359854050468994, 'debt_to_income_ratio_43': 0.010949507079886024, 'debt_to_income_ratio_50': 0.012223687762641376, 'debt_to_income_ratio_60': 0.016543123909632435, 'applicant_credit_score_type_1.0': 0.010656995056157477, 'applicant_credit_score_type_2.0': 0.012880650426243435, 'applicant_credit_score_type_3.0': 0.012101909700082574, 'applicant_credit_score_type_4.0': 0.009222962077492743, 'applicant_credit_score_type_7.0': 0.008870623342874856, 'applicant_credit_score_type_8.0': 0.013099590326469382, 'applicant_credit_score_type_9.0': 0.012969449173146453, 'applicant_credit_score_type_11.0': 0.009370698544605904, 'co-applicant_credit_score_type_1.0': 0.009822690723864888, 'co-applicant_credit_score_type_2.0': 0.012831910640604896, 'co-applicant_credit_score_type_3.0': 0.009145285655260826, 'co-applicant_credit_score_type_4.0': 0.009860262461679387, 'co-applicant_credit_score_type_7.0': 0.009307642273874178, 'co-applicant_credit_score_type_8.0': 0.011672378113211044, 'co-applicant_credit_score_type_9.0': 0.011030759017796135, 'co-applicant_credit_score_type_10.0': 0.011811118587252858, 'co-applicant_credit_score_type_11.0': 0.00950003144845872, 'applicant_age_25-34': 0.010009505237306652, 'applicant_age_35-44': 0.011540000947863787, 'applicant_age_45-54': 0.010757256378203019, 'applicant_age_55-64': 0.011168720005499073, 'applicant_age_65-74': 0.010389315521238113, 'applicant_age_<25': 0.010458656800402172, 'applicant_age_>74': 0.011219186637889607}\n"
          ]
        }
      ],
      "source": [
        "mlp_classifier = mlp_model.named_steps['mlpclassifier']\n",
        "mlp_weights = mlp_classifier.coefs_[0]  # Weights from input layer to the first hidden layer\n",
        "mlp_coefficients = np.abs(np.sum(np.abs(mlp_weights), axis=1))\n",
        "normalized_mlp_weights = mlp_coefficients / mlp_coefficients.sum()\n",
        "print(normalized_mlp_weights, feature_names)\n",
        "mlp_weights_dict = {feature_names: normalized_mlp_weights for feature_names,\n",
        "                   normalized_mlp_weights in zip(feature_names, normalized_mlp_weights)}\n",
        "print(mlp_weights_dict)\n"
      ]
    },
    {
      "cell_type": "code",
      "execution_count": null,
      "metadata": {
        "colab": {
          "base_uri": "https://localhost:8080/"
        },
        "id": "9BVAIf_Ci0tI",
        "outputId": "b5cd4a6b-dc85-4a9b-cf2b-02e5df577109"
      },
      "outputs": [
        {
          "name": "stdout",
          "output_type": "stream",
          "text": [
            "{'county_code': 0.010552057196783978, 'census_tract': 0.0103712962588143, 'loan_amount': 0.018079538752377985, 'loan_to_value_ratio': 0.020988451338355144, 'property_value': 0.016088517929471583, 'income': 0.012854715891712191}\n",
            "{'preapproval': 0.009571077814331643, 'lien_status': 0.01235781414859384, 'negative_amortization': 0.008870648730519046, 'interest_only_payment': 0.012345037899043879, 'balloon_payment': 0.01043734952040405, 'construction_method': 0.011023159425949955, 'applicant_sex': 0.011768192730762536, 'applicant_ethnicity': 0.011972261341822827, 'Mixed': 0.010447442011796494, 'AI or AN': 0.010806976174651737, 'Asian': 0.010533665001345949, 'Black or AA': 0.01116622484809856, 'NH or PI': 0.011108113519560037, 'White': 0.009817552779123466, 'loan_purpose_1': 0.010320721639374432, 'loan_purpose_2': 0.01118440440628658, 'loan_purpose_4': 0.011258699046371383, 'loan_purpose_5': 0.008928526008014028, 'loan_purpose_31': 0.011012819614230012, 'loan_purpose_32': 0.01114353311006739, 'loan_term_180.0': 0.01003480783431524, 'loan_term_240.0': 0.010400556522164687, 'loan_term_300.0': 0.01094086011733395, 'loan_term_360.0': 0.013038664720528259, 'loan_term_120': 0.008931381237831871, 'loan_term_180': 0.009349257225302263, 'loan_term_240': 0.00896867134211151, 'loan_term_300': 0.00934687299876065, 'loan_term_360': 0.012378371437721612, 'loan_term_420': 0.012027203992066979, 'loan_term_480': 0.009781741579579036, 'loan_term_60': 0.009468752540338826, 'loan_term_84': 0.008953842753696076, 'prepayment_penalty_term_0': 0.009867738696070714, 'prepayment_penalty_term_2': 0.013951202253304958, 'prepayment_penalty_term_6': 0.008895549520510193, 'prepayment_penalty_term_12': 0.008571749926251324, 'prepayment_penalty_term_18': 0.009759153967757679, 'prepayment_penalty_term_24': 0.009793508440184766, 'prepayment_penalty_term_36': 0.012511163154949927, 'intro_rate_period_1': 0.012270332647542983, 'intro_rate_period_3': 0.009920382294633635, 'intro_rate_period_6': 0.015202960584766705, 'intro_rate_period_9': 0.009118294288697704, 'intro_rate_period_12': 0.013346991650426077, 'intro_rate_period_60': 0.009561745578599276, 'intro_rate_period_84': 0.011776847325850942, 'intro_rate_period_120': 0.008853986752912131, 'intro_rate_period_299': 0.009173891710173585, 'occupancy_type_1': 0.011024929194466989, 'occupancy_type_2': 0.010454416399904534, 'occupancy_type_3': 0.01061272252641197, 'debt_to_income_ratio_0': 0.011601251974132327, 'debt_to_income_ratio_20': 0.010965073479668137, 'debt_to_income_ratio_30': 0.010880552420370997, 'debt_to_income_ratio_36': 0.011482001872691406, 'debt_to_income_ratio_37': 0.012359854050468994, 'debt_to_income_ratio_43': 0.010949507079886024, 'debt_to_income_ratio_50': 0.012223687762641376, 'debt_to_income_ratio_60': 0.016543123909632435, 'applicant_credit_score_type_1.0': 0.010656995056157477, 'applicant_credit_score_type_2.0': 0.012880650426243435, 'applicant_credit_score_type_3.0': 0.012101909700082574, 'applicant_credit_score_type_4.0': 0.009222962077492743, 'applicant_credit_score_type_7.0': 0.008870623342874856, 'applicant_credit_score_type_8.0': 0.013099590326469382, 'applicant_credit_score_type_9.0': 0.012969449173146453, 'applicant_credit_score_type_11.0': 0.009370698544605904, 'co-applicant_credit_score_type_1.0': 0.009822690723864888, 'co-applicant_credit_score_type_2.0': 0.012831910640604896, 'co-applicant_credit_score_type_3.0': 0.009145285655260826, 'co-applicant_credit_score_type_4.0': 0.009860262461679387, 'co-applicant_credit_score_type_7.0': 0.009307642273874178, 'co-applicant_credit_score_type_8.0': 0.011672378113211044, 'co-applicant_credit_score_type_9.0': 0.011030759017796135, 'co-applicant_credit_score_type_10.0': 0.011811118587252858, 'co-applicant_credit_score_type_11.0': 0.00950003144845872, 'applicant_age_25-34': 0.010009505237306652, 'applicant_age_35-44': 0.011540000947863787, 'applicant_age_45-54': 0.010757256378203019, 'applicant_age_55-64': 0.011168720005499073, 'applicant_age_65-74': 0.010389315521238113, 'applicant_age_<25': 0.010458656800402172, 'applicant_age_>74': 0.011219186637889607}\n"
          ]
        }
      ],
      "source": [
        "cont_dict_mlp = {k: mlp_weights_dict[k] for k in continuous if k in mlp_weights_dict}\n",
        "\n",
        "cat_dict_mlp = {k: v for k, v in mlp_weights_dict.items() if k not in continuous}\n",
        "print(cont_dict_mlp)\n",
        "print(cat_dict_mlp)"
      ]
    },
    {
      "cell_type": "code",
      "execution_count": null,
      "metadata": {
        "colab": {
          "base_uri": "https://localhost:8080/"
        },
        "id": "s6HTfDGN8pud",
        "outputId": "b12a6ba4-4fa4-4c68-e714-8125f8292816"
      },
      "outputs": [
        {
          "data": {
            "text/plain": [
              "0.4543323346808169"
            ]
          },
          "execution_count": 57,
          "metadata": {},
          "output_type": "execute_result"
        }
      ],
      "source": [
        "scaled_continuous_mlp = scaler.fit_transform(X_test[cont_dict_mlp.keys()])\n",
        "\n",
        "dist_matrix_continuous_mlp = numba_weighted_euclidean(np.array(scaled_continuous_mlp), np.array(list(cont_dict_mlp.values())))\n",
        "dist_matrix_categorical_mlp = numba_weighted_hamming_distance(np.array(X_test[cat_dict_mlp.keys()], dtype=np.int32), np.array(list(cat_dict_mlp.values())))\n",
        "combined_distances_mlp = dist_matrix_continuous_mlp + dist_matrix_categorical_mlp\n",
        "average_distance_mlp = np.mean(combined_distances_mlp)\n",
        "average_distance_mlp"
      ]
    },
    {
      "cell_type": "code",
      "execution_count": null,
      "metadata": {
        "id": "hhZsfVf6-3X3"
      },
      "outputs": [],
      "source": [
        "def hamming_similarity(data):\n",
        "    vals, counts = np.unique(data, return_counts=True)\n",
        "    most_frequent_element = vals[np.argmax(counts)]\n",
        "\n",
        "    similarity_count = np.sum(data == most_frequent_element)\n",
        "\n",
        "    similarity_ratio = similarity_count / len(data)\n",
        "    return similarity_ratio\n",
        "\n"
      ]
    },
    {
      "cell_type": "code",
      "execution_count": null,
      "metadata": {
        "colab": {
          "base_uri": "https://localhost:8080/"
        },
        "id": "ehTZ3vYO_EE3",
        "outputId": "0e9aa133-30d1-43d0-c6fd-02e5f6e3477f"
      },
      "outputs": [
        {
          "name": "stdout",
          "output_type": "stream",
          "text": [
            "0.5656811377245509\n"
          ]
        }
      ],
      "source": [
        "print(hamming_similarity(y_pred))"
      ]
    },
    {
      "cell_type": "code",
      "execution_count": null,
      "metadata": {
        "colab": {
          "base_uri": "https://localhost:8080/"
        },
        "id": "1kvqaZHgBRsf",
        "outputId": "b0fe8934-9a6b-4466-a455-294b632c6e38"
      },
      "outputs": [
        {
          "name": "stdout",
          "output_type": "stream",
          "text": [
            "0.5393899700598802\n"
          ]
        }
      ],
      "source": [
        "print(hamming_similarity(rf_pred))"
      ]
    },
    {
      "cell_type": "code",
      "execution_count": null,
      "metadata": {
        "id": "S5kRNrndMVjC"
      },
      "outputs": [],
      "source": [
        "print(hamming_similarity(mlp_pred))"
      ]
    },
    {
      "cell_type": "code",
      "execution_count": null,
      "metadata": {
        "id": "1IBf_YMUKf7R"
      },
      "outputs": [],
      "source": [
        "X_train.drop(['AI or AN', 'Asian', 'Black or AA', 'NH or PI', 'White', 'Mixed', 'applicant_ethnicity', 'applicant_sex'], axis=1,inplace=True)\n",
        "X_test.drop(['AI or AN', 'Asian', 'Black or AA', 'NH or PI', 'White', 'Mixed', 'applicant_ethnicity', 'applicant_sex'], axis=1,inplace=True)"
      ]
    },
    {
      "cell_type": "code",
      "execution_count": null,
      "metadata": {
        "colab": {
          "base_uri": "https://localhost:8080/"
        },
        "id": "Qv4uL_ekLE7x",
        "outputId": "6cca01b5-207e-4aec-c865-02ab8261747d"
      },
      "outputs": [
        {
          "name": "stdout",
          "output_type": "stream",
          "text": [
            "Logistic Regression Accuracy: 0.7876\n"
          ]
        }
      ],
      "source": [
        "from sklearn.linear_model import LogisticRegression\n",
        "from sklearn.preprocessing import StandardScaler\n",
        "from sklearn.pipeline import make_pipeline\n",
        "from sklearn.metrics import accuracy_score, classification_report\n",
        "\n",
        "# Create a pipeline with preprocessing and model\n",
        "logistic_model = make_pipeline(StandardScaler(), LogisticRegression(max_iter=3000))\n",
        "\n",
        "# Fit the model on the training data\n",
        "logistic_model.fit(X_train, y_train)\n",
        "\n",
        "# Predict on the test data\n",
        "y_pred = logistic_model.predict(X_test)\n",
        "\n",
        "# Calculate the accuracy\n",
        "logistic_accuracy = accuracy_score(y_test, y_pred)\n",
        "print(f'Logistic Regression Accuracy: {logistic_accuracy:.4f}')\n",
        "\n",
        "# Generate and print the classification report\n",
        "report = classification_report(y_test, y_pred, target_names=['Class 0', 'Class 1'])"
      ]
    },
    {
      "cell_type": "code",
      "execution_count": null,
      "metadata": {
        "colab": {
          "base_uri": "https://localhost:8080/"
        },
        "id": "iBoZiKQwLE7y",
        "outputId": "2c4dd077-f96b-49b5-eaf4-f0caf04beaf5"
      },
      "outputs": [
        {
          "name": "stdout",
          "output_type": "stream",
          "text": [
            "0.7550550715107677 0.8018505586592178 0.8548297040759353\n"
          ]
        }
      ],
      "source": [
        "from sklearn.metrics import precision_score, f1_score, recall_score\n",
        "print(precision_score(y_test, y_pred), f1_score(y_test, y_pred), recall_score(y_test, y_pred))"
      ]
    },
    {
      "cell_type": "code",
      "execution_count": null,
      "metadata": {
        "colab": {
          "base_uri": "https://localhost:8080/"
        },
        "id": "XSdxnWZRLJza",
        "outputId": "2c87e7ea-428d-429a-ef8e-182cf8df92fa"
      },
      "outputs": [
        {
          "name": "stdout",
          "output_type": "stream",
          "text": [
            "Random Forest Accuracy: 0.8313061377245509\n",
            "              precision    recall  f1-score   support\n",
            "\n",
            "     Class 0       0.86      0.79      0.82      5315\n",
            "     Class 1       0.81      0.87      0.84      5373\n",
            "\n",
            "    accuracy                           0.83     10688\n",
            "   macro avg       0.83      0.83      0.83     10688\n",
            "weighted avg       0.83      0.83      0.83     10688\n",
            "\n"
          ]
        }
      ],
      "source": [
        "from sklearn.ensemble import RandomForestClassifier\n",
        "from sklearn.metrics import accuracy_score, classification_report\n",
        "\n",
        "# Initialize the Random Forest model\n",
        "rf_model = RandomForestClassifier(random_state=42)\n",
        "\n",
        "# Fit the model on the training data\n",
        "rf_model.fit(X_train, y_train)\n",
        "\n",
        "# Predict on the test data\n",
        "rf_pred_un = rf_model.predict(X_test)\n",
        "\n",
        "# Calculate the accuracy\n",
        "rf_accuracy = accuracy_score(y_test, rf_pred_un)\n",
        "print(f'Random Forest Accuracy: {rf_accuracy}')\n",
        "\n",
        "# Generate and print the classification report\n",
        "rf_report = classification_report(y_test, rf_pred, target_names=['Class 0', 'Class 1'])\n",
        "print(rf_report)"
      ]
    },
    {
      "cell_type": "code",
      "execution_count": null,
      "metadata": {
        "colab": {
          "base_uri": "https://localhost:8080/"
        },
        "id": "tmfDX8AMLJzb",
        "outputId": "46ea7155-779d-467c-848f-2a396ea43b9e"
      },
      "outputs": [
        {
          "name": "stdout",
          "output_type": "stream",
          "text": [
            "0.8089304257528557 0.8383104654291095 0.8699050809603573\n"
          ]
        }
      ],
      "source": [
        "print(precision_score(y_test, rf_pred_un), f1_score(y_test, rf_pred_un), recall_score(y_test, rf_pred_un))"
      ]
    },
    {
      "cell_type": "code",
      "execution_count": null,
      "metadata": {
        "colab": {
          "base_uri": "https://localhost:8080/"
        },
        "id": "mEE6zdyQLJzb",
        "outputId": "4cf402e8-351b-4a03-a50d-76afb8a3350b"
      },
      "outputs": [
        {
          "name": "stdout",
          "output_type": "stream",
          "text": [
            "MLP Accuracy: 0.8221369760479041\n",
            "              precision    recall  f1-score   support\n",
            "\n",
            "     Class 0       0.85      0.78      0.81      5315\n",
            "     Class 1       0.80      0.86      0.83      5373\n",
            "\n",
            "    accuracy                           0.82     10688\n",
            "   macro avg       0.82      0.82      0.82     10688\n",
            "weighted avg       0.82      0.82      0.82     10688\n",
            "\n"
          ]
        }
      ],
      "source": [
        "from sklearn.neural_network import MLPClassifier\n",
        "from sklearn.preprocessing import StandardScaler\n",
        "from sklearn.pipeline import make_pipeline\n",
        "\n",
        "# Create a pipeline with preprocessing and the MLP model\n",
        "# StandardScaler is used to scale the data for better performance of the MLP\n",
        "mlp_model = make_pipeline(StandardScaler(), MLPClassifier(max_iter=1000,random_state=42, solver='sgd'))\n",
        "\n",
        "\n",
        "# Fit the model on the training data\n",
        "mlp_model.fit(X_train, y_train)\n",
        "\n",
        "# Predict on the test data\n",
        "mlp_pred = mlp_model.predict(X_test)\n",
        "\n",
        "# Calculate the accuracy\n",
        "mlp_accuracy = accuracy_score(y_test, mlp_pred)\n",
        "print(f'MLP Accuracy: {mlp_accuracy}')\n",
        "\n",
        "# Generate and print the classification report\n",
        "mlp_report = classification_report(y_test, mlp_pred, target_names=['Class 0', 'Class 1'])\n",
        "print(mlp_report)\n"
      ]
    },
    {
      "cell_type": "code",
      "execution_count": null,
      "metadata": {
        "colab": {
          "base_uri": "https://localhost:8080/"
        },
        "id": "xviMr4HhLJzb",
        "outputId": "167965e1-adaa-4e81-bc7d-09bc14507b0e"
      },
      "outputs": [
        {
          "name": "stdout",
          "output_type": "stream",
          "text": [
            "0.7997237569060773 0.8297357814599196 0.8620882188721385\n"
          ]
        }
      ],
      "source": [
        "print(precision_score(y_test, mlp_pred), f1_score(y_test, mlp_pred), recall_score(y_test, mlp_pred))"
      ]
    },
    {
      "cell_type": "code",
      "execution_count": null,
      "metadata": {
        "colab": {
          "base_uri": "https://localhost:8080/"
        },
        "id": "s5XeDLPVLUqf",
        "outputId": "9168d729-4900-40a7-9cb1-99460199373d"
      },
      "outputs": [
        {
          "name": "stdout",
          "output_type": "stream",
          "text": [
            "0.5691429640718563\n"
          ]
        }
      ],
      "source": [
        "print(hamming_similarity(y_pred))"
      ]
    },
    {
      "cell_type": "code",
      "execution_count": null,
      "metadata": {
        "colab": {
          "base_uri": "https://localhost:8080/"
        },
        "id": "ITYwdncdLUqg",
        "outputId": "92affd77-63c5-49eb-850f-1cd6b924f565"
      },
      "outputs": [
        {
          "name": "stdout",
          "output_type": "stream",
          "text": [
            "0.5406062874251497\n",
            "0.5419161676646707\n"
          ]
        }
      ],
      "source": [
        "print(hamming_similarity(rf_pred))\n",
        "print(hamming_similarity(mlp_pred))"
      ]
    }
  ],
  "metadata": {
    "colab": {
      "provenance": []
    },
    "kernelspec": {
      "display_name": "Python 3",
      "name": "python3"
    },
    "language_info": {
      "name": "python"
    }
  },
  "nbformat": 4,
  "nbformat_minor": 0
}

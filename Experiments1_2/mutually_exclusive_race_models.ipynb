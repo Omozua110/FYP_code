{
  "cells": [
    {
      "cell_type": "markdown",
      "metadata": {
        "colab": {
          "base_uri": "https://localhost:8080/"
        },
        "id": "wgQtmV9CCPlq",
        "outputId": "79d72cfa-1ae8-448e-86a5-2a1063f32dd4"
      },
      "source": [
        "from google.colab import drive\n",
        "drive.mount('/content/drive')"
      ]
    },
    {
      "cell_type": "code",
      "execution_count": null,
      "metadata": {
        "colab": {
          "base_uri": "https://localhost:8080/"
        },
        "id": "0aX1r5E-CVto",
        "outputId": "e9cbd3ee-3fec-483c-d5fb-8ecd1946c1e8"
      },
      "outputs": [
        {
          "name": "stderr",
          "output_type": "stream",
          "text": [
            "<ipython-input-2-9cb36043a649>:21: DtypeWarning: Columns (22,31,32,33,38,46,77) have mixed types. Specify dtype option on import or set low_memory=False.\n",
            "  data = pd.read_csv(\"/content/drive/MyDrive/Colab Notebooks/state_CA.csv\", usecols= columns_list)\n"
          ]
        }
      ],
      "source": [
        "import pandas as pd\n",
        "import numpy as np\n",
        "\n",
        "columns_list = ['income', 'debt_to_income_ratio', 'applicant_credit_score_type', 'co-applicant_credit_score_type', 'loan_amount', 'loan_purpose', 'loan_to_value_ratio', 'loan_term', 'preapproval', 'lien_status', 'prepayment_penalty_term', 'intro_rate_period', 'negative_amortization', 'interest_only_payment', 'balloon_payment', 'property_value', 'construction_method', 'occupancy_type', 'county_code', 'census_tract', 'applicant_ethnicity-1', 'applicant_ethnicity-2', 'applicant_ethnicity-3', 'applicant_ethnicity-4', 'applicant_ethnicity-5', 'applicant_race-1', 'applicant_race-2', 'applicant_race-3', 'applicant_race-4', 'applicant_race-5', 'applicant_sex','applicant_age', 'action_taken']\n",
        "\n",
        "#columns_list = ['loan_purpose', 'loan_amount', 'action_taken', 'applicant_ethnicity-1', 'applicant_ethnicity-2', 'applicant_ethnicity-3', 'applicant_ethnicity-4', 'applicant_ethnicity-5', 'applicant_race-1', 'applicant_race-2', 'applicant_race-3', 'applicant_race-4', 'applicant_race-5', 'applicant_sex', 'lien_status',\n",
        "\n",
        "\n",
        "#  'income', 'debt_to_income_ratio', 'applicant_credit_score_type', 'co-applicant_credit_score_type', 'loan_amount', 'loan_type', 'loan_purpose', 'loan_to_value_ratio', 'interest_rate', 'rate_spread', 'loan_term', 'preapproval', 'lien_status', 'prepayment_penalty_term', 'intro_rate_period', 'negative_amortization', 'interest_only_payment', 'balloon_payment', 'property_value', 'construction_method', 'occupancy_type', 'county_code', 'census_tract', 'applicant_ethnicity-1', 'applicant_ethnicity-2', 'applicant_ethnicity-3', 'applicant_ethnicity-4', 'applicant_ethnicity-5', 'applicant_race-1', 'applicant_race-2', 'applicant_race-3', 'applicant_race-4', 'applicant_race-5', 'applicant_sex', 'action_taken']\n",
        "\n",
        "\n",
        "int_types = ['applicant_ethnicity-1',\n",
        "       'applicant_ethnicity-2', 'applicant_ethnicity-3',\n",
        "       'applicant_ethnicity-4', 'applicant_ethnicity-5', 'applicant_race-1',\n",
        "       'applicant_race-2', 'applicant_race-3', 'applicant_race-4',\n",
        "       'applicant_race-5', 'applicant_sex', 'action_taken']\n",
        "float_types=['loan_amount','loan_to_value_ratio', 'interest_rate', 'rate_spread', 'income', 'debt_to_income_ratio', 'loan_to_value_ratio']\n",
        "\n",
        "object_types=[]\n",
        "\n",
        "data = pd.read_csv(\"state_CA.csv\", usecols= columns_list)\n",
        "\n"
      ]
    },
    {
      "cell_type": "code",
      "execution_count": null,
      "metadata": {
        "colab": {
          "base_uri": "https://localhost:8080/"
        },
        "id": "we1iZr4Nmdpj",
        "outputId": "a0f2282b-ed42-49d0-8f43-24ae5f85b52f"
      },
      "outputs": [
        {
          "data": {
            "text/plain": [
              "33"
            ]
          },
          "execution_count": 3,
          "metadata": {},
          "output_type": "execute_result"
        }
      ],
      "source": [
        "len(columns_list)"
      ]
    },
    {
      "cell_type": "markdown",
      "metadata": {
        "id": "jPMVZFY9Mk8m"
      },
      "source": []
    },
    {
      "cell_type": "markdown",
      "metadata": {
        "id": "AL8V93O-MkyH"
      },
      "source": []
    },
    {
      "cell_type": "code",
      "execution_count": null,
      "metadata": {
        "colab": {
          "base_uri": "https://localhost:8080/"
        },
        "id": "olQ-ooUK_T7B",
        "outputId": "8413b349-7be2-41ab-dcc4-9e04a9eb1d0b"
      },
      "outputs": [
        {
          "data": {
            "text/plain": [
              "Index(['county_code', 'census_tract', 'action_taken', 'preapproval',\n",
              "       'loan_purpose', 'lien_status', 'loan_amount', 'loan_to_value_ratio',\n",
              "       'loan_term', 'prepayment_penalty_term', 'intro_rate_period',\n",
              "       'negative_amortization', 'interest_only_payment', 'balloon_payment',\n",
              "       'property_value', 'construction_method', 'occupancy_type', 'income',\n",
              "       'debt_to_income_ratio', 'applicant_credit_score_type',\n",
              "       'co-applicant_credit_score_type', 'applicant_ethnicity-1',\n",
              "       'applicant_ethnicity-2', 'applicant_ethnicity-3',\n",
              "       'applicant_ethnicity-4', 'applicant_ethnicity-5', 'applicant_race-1',\n",
              "       'applicant_race-2', 'applicant_race-3', 'applicant_race-4',\n",
              "       'applicant_race-5', 'applicant_sex', 'applicant_age'],\n",
              "      dtype='object')"
            ]
          },
          "execution_count": 4,
          "metadata": {},
          "output_type": "execute_result"
        }
      ],
      "source": [
        "data.columns"
      ]
    },
    {
      "cell_type": "code",
      "execution_count": null,
      "metadata": {
        "id": "S9WupKZ_DCdf"
      },
      "outputs": [],
      "source": [
        "columns_to_check_for_na = ['county_code', 'census_tract', 'preapproval',\n",
        "       'loan_purpose', 'lien_status', 'loan_amount', 'loan_to_value_ratio', 'loan_term', 'prepayment_penalty_term',\n",
        "       'intro_rate_period', 'negative_amortization', 'interest_only_payment',\n",
        "       'balloon_payment', 'property_value', 'construction_method',\n",
        "       'occupancy_type', 'income', 'debt_to_income_ratio',\n",
        "       'applicant_credit_score_type', 'co-applicant_credit_score_type',\n",
        "       'applicant_ethnicity-1', 'applicant_race-1', 'applicant_sex']\n",
        "\n",
        "data= data.dropna(subset=columns_to_check_for_na)\n"
      ]
    },
    {
      "cell_type": "code",
      "execution_count": null,
      "metadata": {
        "id": "s23YsHjxbqau"
      },
      "outputs": [],
      "source": [
        "data = data[data!= 'Exempt']\n",
        "data = data[data!= '1111']\n",
        "data = data[data!= 1111]\n",
        "data = data[data!= '8888']\n",
        "data = data[data!= 8888]"
      ]
    },
    {
      "cell_type": "code",
      "execution_count": null,
      "metadata": {
        "id": "PbhZiYkScFt3"
      },
      "outputs": [],
      "source": [
        "data = data[data!= 'NaN']\n",
        "data = data[data!= 'nan']"
      ]
    },
    {
      "cell_type": "code",
      "execution_count": null,
      "metadata": {
        "id": "c1EaDpcQJZP1"
      },
      "outputs": [],
      "source": [
        "# Update action_taken values\n",
        "data['action_taken'] = data['action_taken'].replace({1: 1, 2: 1, 3: 0, 7: 0})\n",
        "\n",
        "# Drop rows with action_taken values of 4, 5, 6, or 8\n",
        "data = data[~data['action_taken'].isin([4, 5, 6, 8])]\n",
        "data = data[~data['applicant_ethnicity-1'].isin([3, 4])]\n",
        "data = data[~data['applicant_sex'].isin([3, 4, 6])]\n",
        "\n"
      ]
    },
    {
      "cell_type": "code",
      "execution_count": null,
      "metadata": {
        "colab": {
          "base_uri": "https://localhost:8080/"
        },
        "id": "A-J2ebQuJFmq",
        "outputId": "c8b6cba4-a20e-42b1-a4de-90fd9f558cbe"
      },
      "outputs": [
        {
          "name": "stdout",
          "output_type": "stream",
          "text": [
            "action_taken\n",
            "0    32992\n",
            "1    31881\n",
            "Name: count, dtype: int64\n"
          ]
        }
      ],
      "source": [
        "action_taken_counts = data['action_taken'].value_counts()\n",
        "print(action_taken_counts)"
      ]
    },
    {
      "cell_type": "code",
      "execution_count": null,
      "metadata": {
        "id": "h2Nxc2XKT8gh"
      },
      "outputs": [],
      "source": [
        "data['debt_to_income_ratio']= data['debt_to_income_ratio'].replace({\n",
        "    '<20%': '0',\n",
        "    '>60%': '60',\n",
        "\n",
        "    '30%-<36%': '30',\n",
        "    '20%-<30%': '20',\n",
        "    '50%-60%': '50'\n",
        "})\n",
        "\n",
        "num_elements_per_range = min(data['debt_to_income_ratio'].value_counts())\n",
        "\n"
      ]
    },
    {
      "cell_type": "code",
      "execution_count": null,
      "metadata": {
        "id": "So8oQzWHUJ3j"
      },
      "outputs": [],
      "source": [
        "\n",
        "replacement_ranges = {\n",
        "    '37': [37,38,39,40,41,42],\n",
        "    '43': [43,44,45,46,47,48,49],\n",
        "}\n",
        "\n",
        "for key,value in replacement_ranges.items():\n",
        "  selected_rows= data['debt_to_income_ratio'].astype(float).between(min(value), max(value))\n",
        "  data.loc[selected_rows, 'debt_to_income_ratio'] = key\n",
        "\n"
      ]
    },
    {
      "cell_type": "code",
      "execution_count": null,
      "metadata": {
        "id": "xN-QpS5ihyMe"
      },
      "outputs": [],
      "source": [
        "for i in range(1, 6):\n",
        "        race_col = f'applicant_race-{i}'\n",
        "        data[race_col] = data[race_col].replace({1: 1, 2: 2, 21:2, 22:2, 23:2, 24:2, 25:2, 26:2, 27:2, 3: 3, 4: 4, 41:4, 42: 4, 43: 4, 44: 4})\n",
        "\n",
        "for i in range(1, 6):\n",
        "        race_col = f'applicant_ethnicity-{i}'\n",
        "        data[race_col] = data[race_col].replace({1: 1, 2: 0, 11:1, 12:1, 13:1, 14:1})\n",
        "\n",
        "data['applicant_ethnicity'] = (data[['applicant_ethnicity-1', 'applicant_ethnicity-2', 'applicant_ethnicity-3', 'applicant_ethnicity-4', 'applicant_ethnicity-5']].sum(axis=1) >= 1).astype(int) + 1\n",
        "data.drop(['applicant_ethnicity-1', 'applicant_ethnicity-2', 'applicant_ethnicity-3', 'applicant_ethnicity-4', 'applicant_ethnicity-5'],  axis=1, inplace=True)\n"
      ]
    },
    {
      "cell_type": "code",
      "execution_count": null,
      "metadata": {
        "colab": {
          "base_uri": "https://localhost:8080/",
          "height": 461
        },
        "id": "05njUAZHThwD",
        "outputId": "3c46a620-cfc2-4a1e-b4db-e5d0b47e38f8"
      },
      "outputs": [
        {
          "data": {
            "application/vnd.google.colaboratory.intrinsic+json": {
              "type": "dataframe",
              "variable_name": "data"
            },
            "text/html": [
              "\n",
              "  <div id=\"df-98ee8abc-27af-4d06-8a25-3176e2b97ece\" class=\"colab-df-container\">\n",
              "    <div>\n",
              "<style scoped>\n",
              "    .dataframe tbody tr th:only-of-type {\n",
              "        vertical-align: middle;\n",
              "    }\n",
              "\n",
              "    .dataframe tbody tr th {\n",
              "        vertical-align: top;\n",
              "    }\n",
              "\n",
              "    .dataframe thead th {\n",
              "        text-align: right;\n",
              "    }\n",
              "</style>\n",
              "<table border=\"1\" class=\"dataframe\">\n",
              "  <thead>\n",
              "    <tr style=\"text-align: right;\">\n",
              "      <th></th>\n",
              "      <th>county_code</th>\n",
              "      <th>census_tract</th>\n",
              "      <th>action_taken</th>\n",
              "      <th>preapproval</th>\n",
              "      <th>loan_purpose</th>\n",
              "      <th>lien_status</th>\n",
              "      <th>loan_amount</th>\n",
              "      <th>loan_to_value_ratio</th>\n",
              "      <th>loan_term</th>\n",
              "      <th>prepayment_penalty_term</th>\n",
              "      <th>...</th>\n",
              "      <th>applicant_credit_score_type</th>\n",
              "      <th>co-applicant_credit_score_type</th>\n",
              "      <th>applicant_race-1</th>\n",
              "      <th>applicant_race-2</th>\n",
              "      <th>applicant_race-3</th>\n",
              "      <th>applicant_race-4</th>\n",
              "      <th>applicant_race-5</th>\n",
              "      <th>applicant_sex</th>\n",
              "      <th>applicant_age</th>\n",
              "      <th>applicant_ethnicity</th>\n",
              "    </tr>\n",
              "  </thead>\n",
              "  <tbody>\n",
              "    <tr>\n",
              "      <th>54108</th>\n",
              "      <td>6085.0</td>\n",
              "      <td>6.085504e+09</td>\n",
              "      <td>1</td>\n",
              "      <td>2</td>\n",
              "      <td>1</td>\n",
              "      <td>1</td>\n",
              "      <td>1085000.0</td>\n",
              "      <td>NaN</td>\n",
              "      <td>NaN</td>\n",
              "      <td>NaN</td>\n",
              "      <td>...</td>\n",
              "      <td>NaN</td>\n",
              "      <td>NaN</td>\n",
              "      <td>2.0</td>\n",
              "      <td>2.0</td>\n",
              "      <td>NaN</td>\n",
              "      <td>NaN</td>\n",
              "      <td>NaN</td>\n",
              "      <td>1</td>\n",
              "      <td>35-44</td>\n",
              "      <td>1</td>\n",
              "    </tr>\n",
              "    <tr>\n",
              "      <th>54116</th>\n",
              "      <td>6059.0</td>\n",
              "      <td>6.059063e+09</td>\n",
              "      <td>1</td>\n",
              "      <td>2</td>\n",
              "      <td>1</td>\n",
              "      <td>1</td>\n",
              "      <td>1955000.0</td>\n",
              "      <td>NaN</td>\n",
              "      <td>NaN</td>\n",
              "      <td>NaN</td>\n",
              "      <td>...</td>\n",
              "      <td>NaN</td>\n",
              "      <td>NaN</td>\n",
              "      <td>5.0</td>\n",
              "      <td>NaN</td>\n",
              "      <td>NaN</td>\n",
              "      <td>NaN</td>\n",
              "      <td>NaN</td>\n",
              "      <td>2</td>\n",
              "      <td>35-44</td>\n",
              "      <td>1</td>\n",
              "    </tr>\n",
              "    <tr>\n",
              "      <th>54131</th>\n",
              "      <td>6037.0</td>\n",
              "      <td>6.037262e+09</td>\n",
              "      <td>1</td>\n",
              "      <td>2</td>\n",
              "      <td>1</td>\n",
              "      <td>1</td>\n",
              "      <td>3045000.0</td>\n",
              "      <td>NaN</td>\n",
              "      <td>NaN</td>\n",
              "      <td>NaN</td>\n",
              "      <td>...</td>\n",
              "      <td>NaN</td>\n",
              "      <td>NaN</td>\n",
              "      <td>5.0</td>\n",
              "      <td>NaN</td>\n",
              "      <td>NaN</td>\n",
              "      <td>NaN</td>\n",
              "      <td>NaN</td>\n",
              "      <td>1</td>\n",
              "      <td>NaN</td>\n",
              "      <td>1</td>\n",
              "    </tr>\n",
              "    <tr>\n",
              "      <th>54139</th>\n",
              "      <td>6059.0</td>\n",
              "      <td>6.059063e+09</td>\n",
              "      <td>1</td>\n",
              "      <td>2</td>\n",
              "      <td>1</td>\n",
              "      <td>1</td>\n",
              "      <td>2625000.0</td>\n",
              "      <td>NaN</td>\n",
              "      <td>NaN</td>\n",
              "      <td>NaN</td>\n",
              "      <td>...</td>\n",
              "      <td>NaN</td>\n",
              "      <td>NaN</td>\n",
              "      <td>5.0</td>\n",
              "      <td>NaN</td>\n",
              "      <td>NaN</td>\n",
              "      <td>NaN</td>\n",
              "      <td>NaN</td>\n",
              "      <td>1</td>\n",
              "      <td>NaN</td>\n",
              "      <td>1</td>\n",
              "    </tr>\n",
              "    <tr>\n",
              "      <th>64997</th>\n",
              "      <td>6085.0</td>\n",
              "      <td>6.085508e+09</td>\n",
              "      <td>1</td>\n",
              "      <td>2</td>\n",
              "      <td>1</td>\n",
              "      <td>1</td>\n",
              "      <td>1725000.0</td>\n",
              "      <td>65.0</td>\n",
              "      <td>360.0</td>\n",
              "      <td>18.0</td>\n",
              "      <td>...</td>\n",
              "      <td>9.0</td>\n",
              "      <td>10.0</td>\n",
              "      <td>2.0</td>\n",
              "      <td>NaN</td>\n",
              "      <td>NaN</td>\n",
              "      <td>NaN</td>\n",
              "      <td>NaN</td>\n",
              "      <td>1</td>\n",
              "      <td>45-54</td>\n",
              "      <td>1</td>\n",
              "    </tr>\n",
              "    <tr>\n",
              "      <th>...</th>\n",
              "      <td>...</td>\n",
              "      <td>...</td>\n",
              "      <td>...</td>\n",
              "      <td>...</td>\n",
              "      <td>...</td>\n",
              "      <td>...</td>\n",
              "      <td>...</td>\n",
              "      <td>...</td>\n",
              "      <td>...</td>\n",
              "      <td>...</td>\n",
              "      <td>...</td>\n",
              "      <td>...</td>\n",
              "      <td>...</td>\n",
              "      <td>...</td>\n",
              "      <td>...</td>\n",
              "      <td>...</td>\n",
              "      <td>...</td>\n",
              "      <td>...</td>\n",
              "      <td>...</td>\n",
              "      <td>...</td>\n",
              "      <td>...</td>\n",
              "    </tr>\n",
              "    <tr>\n",
              "      <th>1547658</th>\n",
              "      <td>6071.0</td>\n",
              "      <td>6.071002e+09</td>\n",
              "      <td>1</td>\n",
              "      <td>2</td>\n",
              "      <td>1</td>\n",
              "      <td>1</td>\n",
              "      <td>395000.0</td>\n",
              "      <td>NaN</td>\n",
              "      <td>NaN</td>\n",
              "      <td>NaN</td>\n",
              "      <td>...</td>\n",
              "      <td>NaN</td>\n",
              "      <td>NaN</td>\n",
              "      <td>2.0</td>\n",
              "      <td>2.0</td>\n",
              "      <td>NaN</td>\n",
              "      <td>NaN</td>\n",
              "      <td>NaN</td>\n",
              "      <td>1</td>\n",
              "      <td>25-34</td>\n",
              "      <td>1</td>\n",
              "    </tr>\n",
              "    <tr>\n",
              "      <th>1547660</th>\n",
              "      <td>6059.0</td>\n",
              "      <td>6.059052e+09</td>\n",
              "      <td>1</td>\n",
              "      <td>2</td>\n",
              "      <td>1</td>\n",
              "      <td>1</td>\n",
              "      <td>1025000.0</td>\n",
              "      <td>NaN</td>\n",
              "      <td>NaN</td>\n",
              "      <td>NaN</td>\n",
              "      <td>...</td>\n",
              "      <td>NaN</td>\n",
              "      <td>NaN</td>\n",
              "      <td>2.0</td>\n",
              "      <td>2.0</td>\n",
              "      <td>NaN</td>\n",
              "      <td>NaN</td>\n",
              "      <td>NaN</td>\n",
              "      <td>2</td>\n",
              "      <td>25-34</td>\n",
              "      <td>1</td>\n",
              "    </tr>\n",
              "    <tr>\n",
              "      <th>1547661</th>\n",
              "      <td>6037.0</td>\n",
              "      <td>6.037403e+09</td>\n",
              "      <td>1</td>\n",
              "      <td>2</td>\n",
              "      <td>1</td>\n",
              "      <td>1</td>\n",
              "      <td>545000.0</td>\n",
              "      <td>NaN</td>\n",
              "      <td>NaN</td>\n",
              "      <td>NaN</td>\n",
              "      <td>...</td>\n",
              "      <td>NaN</td>\n",
              "      <td>NaN</td>\n",
              "      <td>2.0</td>\n",
              "      <td>2.0</td>\n",
              "      <td>NaN</td>\n",
              "      <td>NaN</td>\n",
              "      <td>NaN</td>\n",
              "      <td>1</td>\n",
              "      <td>25-34</td>\n",
              "      <td>1</td>\n",
              "    </tr>\n",
              "    <tr>\n",
              "      <th>1547662</th>\n",
              "      <td>6037.0</td>\n",
              "      <td>6.037431e+09</td>\n",
              "      <td>1</td>\n",
              "      <td>2</td>\n",
              "      <td>32</td>\n",
              "      <td>1</td>\n",
              "      <td>875000.0</td>\n",
              "      <td>NaN</td>\n",
              "      <td>NaN</td>\n",
              "      <td>NaN</td>\n",
              "      <td>...</td>\n",
              "      <td>NaN</td>\n",
              "      <td>NaN</td>\n",
              "      <td>2.0</td>\n",
              "      <td>2.0</td>\n",
              "      <td>NaN</td>\n",
              "      <td>NaN</td>\n",
              "      <td>NaN</td>\n",
              "      <td>2</td>\n",
              "      <td>45-54</td>\n",
              "      <td>1</td>\n",
              "    </tr>\n",
              "    <tr>\n",
              "      <th>1547663</th>\n",
              "      <td>6059.0</td>\n",
              "      <td>6.059052e+09</td>\n",
              "      <td>1</td>\n",
              "      <td>2</td>\n",
              "      <td>1</td>\n",
              "      <td>1</td>\n",
              "      <td>1275000.0</td>\n",
              "      <td>NaN</td>\n",
              "      <td>NaN</td>\n",
              "      <td>NaN</td>\n",
              "      <td>...</td>\n",
              "      <td>NaN</td>\n",
              "      <td>NaN</td>\n",
              "      <td>2.0</td>\n",
              "      <td>2.0</td>\n",
              "      <td>NaN</td>\n",
              "      <td>NaN</td>\n",
              "      <td>NaN</td>\n",
              "      <td>1</td>\n",
              "      <td>25-34</td>\n",
              "      <td>1</td>\n",
              "    </tr>\n",
              "  </tbody>\n",
              "</table>\n",
              "<p>64873 rows × 29 columns</p>\n",
              "</div>\n",
              "    <div class=\"colab-df-buttons\">\n",
              "\n",
              "  <div class=\"colab-df-container\">\n",
              "    <button class=\"colab-df-convert\" onclick=\"convertToInteractive('df-98ee8abc-27af-4d06-8a25-3176e2b97ece')\"\n",
              "            title=\"Convert this dataframe to an interactive table.\"\n",
              "            style=\"display:none;\">\n",
              "\n",
              "  <svg xmlns=\"http://www.w3.org/2000/svg\" height=\"24px\" viewBox=\"0 -960 960 960\">\n",
              "    <path d=\"M120-120v-720h720v720H120Zm60-500h600v-160H180v160Zm220 220h160v-160H400v160Zm0 220h160v-160H400v160ZM180-400h160v-160H180v160Zm440 0h160v-160H620v160ZM180-180h160v-160H180v160Zm440 0h160v-160H620v160Z\"/>\n",
              "  </svg>\n",
              "    </button>\n",
              "\n",
              "  <style>\n",
              "    .colab-df-container {\n",
              "      display:flex;\n",
              "      gap: 12px;\n",
              "    }\n",
              "\n",
              "    .colab-df-convert {\n",
              "      background-color: #E8F0FE;\n",
              "      border: none;\n",
              "      border-radius: 50%;\n",
              "      cursor: pointer;\n",
              "      display: none;\n",
              "      fill: #1967D2;\n",
              "      height: 32px;\n",
              "      padding: 0 0 0 0;\n",
              "      width: 32px;\n",
              "    }\n",
              "\n",
              "    .colab-df-convert:hover {\n",
              "      background-color: #E2EBFA;\n",
              "      box-shadow: 0px 1px 2px rgba(60, 64, 67, 0.3), 0px 1px 3px 1px rgba(60, 64, 67, 0.15);\n",
              "      fill: #174EA6;\n",
              "    }\n",
              "\n",
              "    .colab-df-buttons div {\n",
              "      margin-bottom: 4px;\n",
              "    }\n",
              "\n",
              "    [theme=dark] .colab-df-convert {\n",
              "      background-color: #3B4455;\n",
              "      fill: #D2E3FC;\n",
              "    }\n",
              "\n",
              "    [theme=dark] .colab-df-convert:hover {\n",
              "      background-color: #434B5C;\n",
              "      box-shadow: 0px 1px 3px 1px rgba(0, 0, 0, 0.15);\n",
              "      filter: drop-shadow(0px 1px 2px rgba(0, 0, 0, 0.3));\n",
              "      fill: #FFFFFF;\n",
              "    }\n",
              "  </style>\n",
              "\n",
              "    <script>\n",
              "      const buttonEl =\n",
              "        document.querySelector('#df-98ee8abc-27af-4d06-8a25-3176e2b97ece button.colab-df-convert');\n",
              "      buttonEl.style.display =\n",
              "        google.colab.kernel.accessAllowed ? 'block' : 'none';\n",
              "\n",
              "      async function convertToInteractive(key) {\n",
              "        const element = document.querySelector('#df-98ee8abc-27af-4d06-8a25-3176e2b97ece');\n",
              "        const dataTable =\n",
              "          await google.colab.kernel.invokeFunction('convertToInteractive',\n",
              "                                                    [key], {});\n",
              "        if (!dataTable) return;\n",
              "\n",
              "        const docLinkHtml = 'Like what you see? Visit the ' +\n",
              "          '<a target=\"_blank\" href=https://colab.research.google.com/notebooks/data_table.ipynb>data table notebook</a>'\n",
              "          + ' to learn more about interactive tables.';\n",
              "        element.innerHTML = '';\n",
              "        dataTable['output_type'] = 'display_data';\n",
              "        await google.colab.output.renderOutput(dataTable, element);\n",
              "        const docLink = document.createElement('div');\n",
              "        docLink.innerHTML = docLinkHtml;\n",
              "        element.appendChild(docLink);\n",
              "      }\n",
              "    </script>\n",
              "  </div>\n",
              "\n",
              "\n",
              "<div id=\"df-ff96c9f4-2c98-4509-b194-985712a952a0\">\n",
              "  <button class=\"colab-df-quickchart\" onclick=\"quickchart('df-ff96c9f4-2c98-4509-b194-985712a952a0')\"\n",
              "            title=\"Suggest charts\"\n",
              "            style=\"display:none;\">\n",
              "\n",
              "<svg xmlns=\"http://www.w3.org/2000/svg\" height=\"24px\"viewBox=\"0 0 24 24\"\n",
              "     width=\"24px\">\n",
              "    <g>\n",
              "        <path d=\"M19 3H5c-1.1 0-2 .9-2 2v14c0 1.1.9 2 2 2h14c1.1 0 2-.9 2-2V5c0-1.1-.9-2-2-2zM9 17H7v-7h2v7zm4 0h-2V7h2v10zm4 0h-2v-4h2v4z\"/>\n",
              "    </g>\n",
              "</svg>\n",
              "  </button>\n",
              "\n",
              "<style>\n",
              "  .colab-df-quickchart {\n",
              "      --bg-color: #E8F0FE;\n",
              "      --fill-color: #1967D2;\n",
              "      --hover-bg-color: #E2EBFA;\n",
              "      --hover-fill-color: #174EA6;\n",
              "      --disabled-fill-color: #AAA;\n",
              "      --disabled-bg-color: #DDD;\n",
              "  }\n",
              "\n",
              "  [theme=dark] .colab-df-quickchart {\n",
              "      --bg-color: #3B4455;\n",
              "      --fill-color: #D2E3FC;\n",
              "      --hover-bg-color: #434B5C;\n",
              "      --hover-fill-color: #FFFFFF;\n",
              "      --disabled-bg-color: #3B4455;\n",
              "      --disabled-fill-color: #666;\n",
              "  }\n",
              "\n",
              "  .colab-df-quickchart {\n",
              "    background-color: var(--bg-color);\n",
              "    border: none;\n",
              "    border-radius: 50%;\n",
              "    cursor: pointer;\n",
              "    display: none;\n",
              "    fill: var(--fill-color);\n",
              "    height: 32px;\n",
              "    padding: 0;\n",
              "    width: 32px;\n",
              "  }\n",
              "\n",
              "  .colab-df-quickchart:hover {\n",
              "    background-color: var(--hover-bg-color);\n",
              "    box-shadow: 0 1px 2px rgba(60, 64, 67, 0.3), 0 1px 3px 1px rgba(60, 64, 67, 0.15);\n",
              "    fill: var(--button-hover-fill-color);\n",
              "  }\n",
              "\n",
              "  .colab-df-quickchart-complete:disabled,\n",
              "  .colab-df-quickchart-complete:disabled:hover {\n",
              "    background-color: var(--disabled-bg-color);\n",
              "    fill: var(--disabled-fill-color);\n",
              "    box-shadow: none;\n",
              "  }\n",
              "\n",
              "  .colab-df-spinner {\n",
              "    border: 2px solid var(--fill-color);\n",
              "    border-color: transparent;\n",
              "    border-bottom-color: var(--fill-color);\n",
              "    animation:\n",
              "      spin 1s steps(1) infinite;\n",
              "  }\n",
              "\n",
              "  @keyframes spin {\n",
              "    0% {\n",
              "      border-color: transparent;\n",
              "      border-bottom-color: var(--fill-color);\n",
              "      border-left-color: var(--fill-color);\n",
              "    }\n",
              "    20% {\n",
              "      border-color: transparent;\n",
              "      border-left-color: var(--fill-color);\n",
              "      border-top-color: var(--fill-color);\n",
              "    }\n",
              "    30% {\n",
              "      border-color: transparent;\n",
              "      border-left-color: var(--fill-color);\n",
              "      border-top-color: var(--fill-color);\n",
              "      border-right-color: var(--fill-color);\n",
              "    }\n",
              "    40% {\n",
              "      border-color: transparent;\n",
              "      border-right-color: var(--fill-color);\n",
              "      border-top-color: var(--fill-color);\n",
              "    }\n",
              "    60% {\n",
              "      border-color: transparent;\n",
              "      border-right-color: var(--fill-color);\n",
              "    }\n",
              "    80% {\n",
              "      border-color: transparent;\n",
              "      border-right-color: var(--fill-color);\n",
              "      border-bottom-color: var(--fill-color);\n",
              "    }\n",
              "    90% {\n",
              "      border-color: transparent;\n",
              "      border-bottom-color: var(--fill-color);\n",
              "    }\n",
              "  }\n",
              "</style>\n",
              "\n",
              "  <script>\n",
              "    async function quickchart(key) {\n",
              "      const quickchartButtonEl =\n",
              "        document.querySelector('#' + key + ' button');\n",
              "      quickchartButtonEl.disabled = true;  // To prevent multiple clicks.\n",
              "      quickchartButtonEl.classList.add('colab-df-spinner');\n",
              "      try {\n",
              "        const charts = await google.colab.kernel.invokeFunction(\n",
              "            'suggestCharts', [key], {});\n",
              "      } catch (error) {\n",
              "        console.error('Error during call to suggestCharts:', error);\n",
              "      }\n",
              "      quickchartButtonEl.classList.remove('colab-df-spinner');\n",
              "      quickchartButtonEl.classList.add('colab-df-quickchart-complete');\n",
              "    }\n",
              "    (() => {\n",
              "      let quickchartButtonEl =\n",
              "        document.querySelector('#df-ff96c9f4-2c98-4509-b194-985712a952a0 button');\n",
              "      quickchartButtonEl.style.display =\n",
              "        google.colab.kernel.accessAllowed ? 'block' : 'none';\n",
              "    })();\n",
              "  </script>\n",
              "</div>\n",
              "    </div>\n",
              "  </div>\n"
            ],
            "text/plain": [
              "         county_code  census_tract  action_taken  preapproval  loan_purpose  \\\n",
              "54108         6085.0  6.085504e+09             1            2             1   \n",
              "54116         6059.0  6.059063e+09             1            2             1   \n",
              "54131         6037.0  6.037262e+09             1            2             1   \n",
              "54139         6059.0  6.059063e+09             1            2             1   \n",
              "64997         6085.0  6.085508e+09             1            2             1   \n",
              "...              ...           ...           ...          ...           ...   \n",
              "1547658       6071.0  6.071002e+09             1            2             1   \n",
              "1547660       6059.0  6.059052e+09             1            2             1   \n",
              "1547661       6037.0  6.037403e+09             1            2             1   \n",
              "1547662       6037.0  6.037431e+09             1            2            32   \n",
              "1547663       6059.0  6.059052e+09             1            2             1   \n",
              "\n",
              "         lien_status  loan_amount loan_to_value_ratio loan_term  \\\n",
              "54108              1    1085000.0                 NaN       NaN   \n",
              "54116              1    1955000.0                 NaN       NaN   \n",
              "54131              1    3045000.0                 NaN       NaN   \n",
              "54139              1    2625000.0                 NaN       NaN   \n",
              "64997              1    1725000.0                65.0     360.0   \n",
              "...              ...          ...                 ...       ...   \n",
              "1547658            1     395000.0                 NaN       NaN   \n",
              "1547660            1    1025000.0                 NaN       NaN   \n",
              "1547661            1     545000.0                 NaN       NaN   \n",
              "1547662            1     875000.0                 NaN       NaN   \n",
              "1547663            1    1275000.0                 NaN       NaN   \n",
              "\n",
              "        prepayment_penalty_term  ... applicant_credit_score_type  \\\n",
              "54108                       NaN  ...                         NaN   \n",
              "54116                       NaN  ...                         NaN   \n",
              "54131                       NaN  ...                         NaN   \n",
              "54139                       NaN  ...                         NaN   \n",
              "64997                      18.0  ...                         9.0   \n",
              "...                         ...  ...                         ...   \n",
              "1547658                     NaN  ...                         NaN   \n",
              "1547660                     NaN  ...                         NaN   \n",
              "1547661                     NaN  ...                         NaN   \n",
              "1547662                     NaN  ...                         NaN   \n",
              "1547663                     NaN  ...                         NaN   \n",
              "\n",
              "         co-applicant_credit_score_type  applicant_race-1  applicant_race-2  \\\n",
              "54108                               NaN               2.0               2.0   \n",
              "54116                               NaN               5.0               NaN   \n",
              "54131                               NaN               5.0               NaN   \n",
              "54139                               NaN               5.0               NaN   \n",
              "64997                              10.0               2.0               NaN   \n",
              "...                                 ...               ...               ...   \n",
              "1547658                             NaN               2.0               2.0   \n",
              "1547660                             NaN               2.0               2.0   \n",
              "1547661                             NaN               2.0               2.0   \n",
              "1547662                             NaN               2.0               2.0   \n",
              "1547663                             NaN               2.0               2.0   \n",
              "\n",
              "        applicant_race-3  applicant_race-4  applicant_race-5  applicant_sex  \\\n",
              "54108                NaN               NaN               NaN              1   \n",
              "54116                NaN               NaN               NaN              2   \n",
              "54131                NaN               NaN               NaN              1   \n",
              "54139                NaN               NaN               NaN              1   \n",
              "64997                NaN               NaN               NaN              1   \n",
              "...                  ...               ...               ...            ...   \n",
              "1547658              NaN               NaN               NaN              1   \n",
              "1547660              NaN               NaN               NaN              2   \n",
              "1547661              NaN               NaN               NaN              1   \n",
              "1547662              NaN               NaN               NaN              2   \n",
              "1547663              NaN               NaN               NaN              1   \n",
              "\n",
              "        applicant_age  applicant_ethnicity  \n",
              "54108           35-44                    1  \n",
              "54116           35-44                    1  \n",
              "54131             NaN                    1  \n",
              "54139             NaN                    1  \n",
              "64997           45-54                    1  \n",
              "...               ...                  ...  \n",
              "1547658         25-34                    1  \n",
              "1547660         25-34                    1  \n",
              "1547661         25-34                    1  \n",
              "1547662         45-54                    1  \n",
              "1547663         25-34                    1  \n",
              "\n",
              "[64873 rows x 29 columns]"
            ]
          },
          "execution_count": 13,
          "metadata": {},
          "output_type": "execute_result"
        }
      ],
      "source": [
        "data"
      ]
    },
    {
      "cell_type": "code",
      "execution_count": null,
      "metadata": {
        "id": "l-DMhCRqTqdF"
      },
      "outputs": [],
      "source": [
        "def combine_race(row):\n",
        "    races = []\n",
        "    for i in range(1, 6):\n",
        "        race_col = f'applicant_race-{i}'\n",
        "        if pd.notna(row[race_col]) and row[race_col] in [1,2,3,4,5]:\n",
        "            races.append(row[race_col])\n",
        "    return races\n"
      ]
    },
    {
      "cell_type": "code",
      "execution_count": null,
      "metadata": {
        "id": "V6umv60MY74v"
      },
      "outputs": [],
      "source": [
        "from sklearn.preprocessing import MultiLabelBinarizer\n",
        "\n",
        "app_race = data.apply(combine_race, axis=1)\n",
        "mlb = MultiLabelBinarizer()\n",
        "race_binarized = mlb.fit_transform(app_race)\n",
        "data=data.drop(columns=['applicant_race-1', 'applicant_race-2', 'applicant_race-3', 'applicant_race-4', 'applicant_race-5'])"
      ]
    },
    {
      "cell_type": "code",
      "execution_count": null,
      "metadata": {
        "colab": {
          "base_uri": "https://localhost:8080/"
        },
        "id": "YJyqcNI2aWvU",
        "outputId": "50472b04-ee76-40b7-a2e7-4e41a44fec04"
      },
      "outputs": [
        {
          "data": {
            "text/plain": [
              "Index(['county_code', 'census_tract', 'action_taken', 'preapproval',\n",
              "       'loan_purpose', 'lien_status', 'loan_amount', 'loan_to_value_ratio',\n",
              "       'loan_term', 'prepayment_penalty_term', 'intro_rate_period',\n",
              "       'negative_amortization', 'interest_only_payment', 'balloon_payment',\n",
              "       'property_value', 'construction_method', 'occupancy_type', 'income',\n",
              "       'debt_to_income_ratio', 'applicant_credit_score_type',\n",
              "       'co-applicant_credit_score_type', 'applicant_sex', 'applicant_age',\n",
              "       'applicant_ethnicity'],\n",
              "      dtype='object')"
            ]
          },
          "execution_count": 16,
          "metadata": {},
          "output_type": "execute_result"
        }
      ],
      "source": [
        "data.columns"
      ]
    },
    {
      "cell_type": "code",
      "execution_count": null,
      "metadata": {
        "colab": {
          "base_uri": "https://localhost:8080/"
        },
        "id": "ZawLhfUR9RPy",
        "outputId": "2021fa45-0732-464d-88cd-935265f56413"
      },
      "outputs": [
        {
          "data": {
            "text/plain": [
              "array([[0, 1, 0, 0, 0],\n",
              "       [0, 0, 0, 0, 1],\n",
              "       [0, 0, 0, 0, 1],\n",
              "       ...,\n",
              "       [0, 1, 0, 0, 0],\n",
              "       [0, 1, 0, 0, 0],\n",
              "       [0, 1, 0, 0, 0]])"
            ]
          },
          "execution_count": 17,
          "metadata": {},
          "output_type": "execute_result"
        }
      ],
      "source": [
        "race_binarized"
      ]
    },
    {
      "cell_type": "code",
      "execution_count": null,
      "metadata": {
        "id": "4z1SXfLyenIy"
      },
      "outputs": [],
      "source": [
        "import numpy as np\n",
        "race_sums = race_binarized.sum(axis=1)\n",
        "data['Mixed'] = (race_sums > 1).astype(int)\n",
        "\n",
        "data = data[race_sums > 0]\n",
        "race_binarized = race_binarized[race_sums > 0]"
      ]
    },
    {
      "cell_type": "code",
      "execution_count": null,
      "metadata": {
        "id": "vRAix_lbegQi"
      },
      "outputs": [],
      "source": [
        "for i, race in enumerate(['AI or AN', 'Asian', 'Black or AA', 'NH or PI', 'White']):\n",
        "    data[f'{race}'] = race_binarized[:, i]"
      ]
    },
    {
      "cell_type": "code",
      "execution_count": null,
      "metadata": {
        "colab": {
          "base_uri": "https://localhost:8080/"
        },
        "id": "kvvZ_tV9eemP",
        "outputId": "09d36852-782e-4c02-adac-f6737f163031"
      },
      "outputs": [
        {
          "name": "stdout",
          "output_type": "stream",
          "text": [
            "Empty DataFrame\n",
            "Columns: [county_code, census_tract, action_taken, preapproval, loan_purpose, lien_status, loan_amount, loan_to_value_ratio, loan_term, prepayment_penalty_term, intro_rate_period, negative_amortization, interest_only_payment, balloon_payment, property_value, construction_method, occupancy_type, income, debt_to_income_ratio, applicant_credit_score_type, co-applicant_credit_score_type, applicant_sex, applicant_age, applicant_ethnicity, Mixed, AI or AN, Asian, Black or AA, NH or PI, White, race]\n",
            "Index: []\n",
            "\n",
            "[0 rows x 31 columns]\n"
          ]
        }
      ],
      "source": [
        "data['race'] = np.where(np.any(race_binarized[:,:4], axis=1),1,0)\n",
        "race_columns = ['AI or AN', 'Asian', 'Black or AA', 'NH or PI', 'White']\n",
        "result_a =data[race_columns].sum(axis=1)<1\n",
        "off_rows = data[result_a]\n",
        "print(off_rows)"
      ]
    },
    {
      "cell_type": "code",
      "execution_count": null,
      "metadata": {
        "id": "DBT0qPUPTBxi"
      },
      "outputs": [],
      "source": [
        "data.dropna(inplace=True)"
      ]
    },
    {
      "cell_type": "code",
      "execution_count": null,
      "metadata": {
        "id": "3f4DkRe84JQi"
      },
      "outputs": [],
      "source": [
        "data['prepayment_penalty_term'] = data['prepayment_penalty_term'].astype(int)\n",
        "data['intro_rate_period'] = data['intro_rate_period'].astype(int)"
      ]
    },
    {
      "cell_type": "code",
      "execution_count": null,
      "metadata": {
        "colab": {
          "base_uri": "https://localhost:8080/"
        },
        "id": "r3uC8cW5NAas",
        "outputId": "42239212-ec23-49ae-9947-c0cb93c2493b"
      },
      "outputs": [
        {
          "name": "stdout",
          "output_type": "stream",
          "text": [
            "Column 'county_code' has 57 distinct values 0\n",
            "Column 'census_tract' has 8063 distinct values 1\n",
            "Column 'action_taken' has 2 distinct values 2\n",
            "Column 'preapproval' has 2 distinct values 3\n",
            "Column 'loan_purpose' has 6 distinct values 4\n",
            "Column 'lien_status' has 2 distinct values 5\n",
            "Column 'loan_amount' has 186 distinct values 6\n",
            "Column 'loan_to_value_ratio' has 26126 distinct values 7\n",
            "Column 'loan_term' has 13 distinct values 8\n",
            "Column 'prepayment_penalty_term' has 7 distinct values 9\n",
            "Column 'intro_rate_period' has 9 distinct values 10\n",
            "Column 'negative_amortization' has 2 distinct values 11\n",
            "Column 'interest_only_payment' has 2 distinct values 12\n",
            "Column 'balloon_payment' has 2 distinct values 13\n",
            "Column 'property_value' has 1058 distinct values 14\n",
            "Column 'construction_method' has 2 distinct values 15\n",
            "Column 'occupancy_type' has 3 distinct values 16\n",
            "Column 'income' has 1343 distinct values 17\n",
            "Column 'debt_to_income_ratio' has 8 distinct values 18\n",
            "Column 'applicant_credit_score_type' has 8 distinct values 19\n",
            "Column 'co-applicant_credit_score_type' has 9 distinct values 20\n",
            "Column 'applicant_sex' has 2 distinct values 21\n",
            "Column 'applicant_age' has 7 distinct values 22\n",
            "Column 'applicant_ethnicity' has 2 distinct values 23\n",
            "Column 'Mixed' has 2 distinct values 24\n",
            "Column 'AI or AN' has 2 distinct values 25\n",
            "Column 'Asian' has 2 distinct values 26\n",
            "Column 'Black or AA' has 2 distinct values 27\n",
            "Column 'NH or PI' has 2 distinct values 28\n",
            "Column 'White' has 2 distinct values 29\n",
            "Column 'race' has 2 distinct values 30\n"
          ]
        }
      ],
      "source": [
        "x = 0\n",
        "for column in data.columns:\n",
        "  distinct_values = data[column].nunique()\n",
        "  print(f\"Column '{column}' has {distinct_values} distinct values\", x)\n",
        "  x+=1"
      ]
    },
    {
      "cell_type": "code",
      "execution_count": null,
      "metadata": {
        "id": "KIfiy2csZ_IS"
      },
      "outputs": [],
      "source": [
        "import numpy as np\n",
        "categorical_features = []\n",
        "dicts = {}\n",
        "x = 0\n",
        "for column in data.columns:\n",
        "  feature_dict= {}\n",
        "  distinct_values = data[column].nunique()\n",
        "  if column == 'action_taken' or column == 'Asian' or column == 'Black or AA' or column == 'NH or PI' or column == 'White':\n",
        "    continue\n",
        "  if column == 'AI or AN':\n",
        "    feature_dict['AI or AN'] = x\n",
        "    x+=1\n",
        "    feature_dict['Asian'] = x\n",
        "    x+=1\n",
        "    feature_dict['Black or AA'] = x\n",
        "    x+=1\n",
        "    feature_dict['NH or PI'] = x\n",
        "    x+=1\n",
        "    feature_dict['White'] = x\n",
        "    x+=1\n",
        "    dicts['race'] = feature_dict\n",
        "    continue\n",
        "  elif distinct_values < 50 and distinct_values>2:\n",
        "    categorical_features.append(column)\n",
        "    distinct_ops = data[column].unique()\n",
        "    for y in distinct_ops:\n",
        "      feature_dict[y] = x\n",
        "      x+=1\n",
        "  elif distinct_values == 2:\n",
        "    feature_dict['binary'] = x\n",
        "    x+=1\n",
        "  else:\n",
        "    feature_dict['continuous'] = x\n",
        "    x += 1\n",
        "  dicts[column]=feature_dict"
      ]
    },
    {
      "cell_type": "code",
      "execution_count": null,
      "metadata": {
        "colab": {
          "base_uri": "https://localhost:8080/"
        },
        "id": "EQ0cG_rQnhz5",
        "outputId": "a7ec2849-229e-490e-c243-101338b287c1"
      },
      "outputs": [
        {
          "name": "stdout",
          "output_type": "stream",
          "text": [
            "{'county_code': {'continuous': 0}, 'census_tract': {'continuous': 1}, 'preapproval': {'binary': 2}, 'loan_purpose': {1: 3, 31: 4, 2: 5, 32: 6, 4: 7, 5: 8}, 'lien_status': {'binary': 9}, 'loan_amount': {'continuous': 10}, 'loan_to_value_ratio': {'continuous': 11}, 'loan_term': {360.0: 12, 240.0: 13, '360': 14, '240': 15, '300': 16, '180': 17, 180.0: 18, 300.0: 19, '60': 20, '120': 21, '480': 22, '84': 23, '420': 24}, 'prepayment_penalty_term': {18: 25, 36: 26, 0: 27, 24: 28, 12: 29, 6: 30, 2: 31}, 'intro_rate_period': {60: 32, 1: 33, 84: 34, 299: 35, 120: 36, 3: 37, 12: 38, 6: 39, 9: 40}, 'negative_amortization': {'binary': 41}, 'interest_only_payment': {'binary': 42}, 'balloon_payment': {'binary': 43}, 'property_value': {'continuous': 44}, 'construction_method': {'binary': 45}, 'occupancy_type': {3: 46, 1: 47, 2: 48}, 'income': {'continuous': 49}, 'debt_to_income_ratio': {'50': 50, '30': 51, '37': 52, '43': 53, '60': 54, '20': 55, '0': 56, '36': 57}, 'applicant_credit_score_type': {9.0: 58, 3.0: 59, 2.0: 60, 1.0: 61, 7.0: 62, 4.0: 63, 8.0: 64, 11.0: 65}, 'co-applicant_credit_score_type': {10.0: 66, 3.0: 67, 1.0: 68, 2.0: 69, 9.0: 70, 7.0: 71, 8.0: 72, 11.0: 73, 4.0: 74}, 'applicant_sex': {'binary': 75}, 'applicant_age': {'45-54': 76, '55-64': 77, '35-44': 78, '65-74': 79, '>74': 80, '25-34': 81, '<25': 82}, 'applicant_ethnicity': {'binary': 83}, 'Mixed': {'binary': 84}, 'race': {'binary': 90}}\n"
          ]
        }
      ],
      "source": [
        "print(dicts)"
      ]
    },
    {
      "cell_type": "code",
      "execution_count": null,
      "metadata": {
        "id": "677DEKelNE9X"
      },
      "outputs": [],
      "source": [
        "# = ['occupancy_type', 'preapproval','lien_status', 'balloon_payment', 'negative_amortization', 'interest_only_payment', 'debt_to_income_ratio','applicant_age', 'loan_purpose', 'applicant_credit_score_type', 'co-applicant_credit_score_type']\n",
        "\n",
        "data_encoded = pd.get_dummies(data, columns=categorical_features)"
      ]
    },
    {
      "cell_type": "code",
      "execution_count": null,
      "metadata": {
        "id": "mO6IGan6Tgvs"
      },
      "outputs": [],
      "source": [
        "data = data_encoded"
      ]
    },
    {
      "cell_type": "code",
      "execution_count": null,
      "metadata": {
        "colab": {
          "base_uri": "https://localhost:8080/"
        },
        "id": "51IfOGC2oJ8A",
        "outputId": "c674cc37-ddde-41b0-cbd5-9f504864fb1d"
      },
      "outputs": [
        {
          "data": {
            "text/plain": [
              "Index(['county_code', 'census_tract', 'action_taken', 'preapproval',\n",
              "       'lien_status', 'loan_amount', 'loan_to_value_ratio',\n",
              "       'negative_amortization', 'interest_only_payment', 'balloon_payment',\n",
              "       'property_value', 'construction_method', 'income', 'applicant_sex',\n",
              "       'applicant_ethnicity', 'Mixed', 'AI or AN', 'Asian', 'Black or AA',\n",
              "       'NH or PI', 'White', 'race', 'loan_purpose_1', 'loan_purpose_2',\n",
              "       'loan_purpose_4', 'loan_purpose_5', 'loan_purpose_31',\n",
              "       'loan_purpose_32', 'loan_term_180.0', 'loan_term_240.0',\n",
              "       'loan_term_300.0', 'loan_term_360.0', 'loan_term_120', 'loan_term_180',\n",
              "       'loan_term_240', 'loan_term_300', 'loan_term_360', 'loan_term_420',\n",
              "       'loan_term_480', 'loan_term_60', 'loan_term_84',\n",
              "       'prepayment_penalty_term_0', 'prepayment_penalty_term_2',\n",
              "       'prepayment_penalty_term_6', 'prepayment_penalty_term_12',\n",
              "       'prepayment_penalty_term_18', 'prepayment_penalty_term_24',\n",
              "       'prepayment_penalty_term_36', 'intro_rate_period_1',\n",
              "       'intro_rate_period_3', 'intro_rate_period_6', 'intro_rate_period_9',\n",
              "       'intro_rate_period_12', 'intro_rate_period_60', 'intro_rate_period_84',\n",
              "       'intro_rate_period_120', 'intro_rate_period_299', 'occupancy_type_1',\n",
              "       'occupancy_type_2', 'occupancy_type_3', 'debt_to_income_ratio_0',\n",
              "       'debt_to_income_ratio_20', 'debt_to_income_ratio_30',\n",
              "       'debt_to_income_ratio_36', 'debt_to_income_ratio_37',\n",
              "       'debt_to_income_ratio_43', 'debt_to_income_ratio_50',\n",
              "       'debt_to_income_ratio_60', 'applicant_credit_score_type_1.0',\n",
              "       'applicant_credit_score_type_2.0', 'applicant_credit_score_type_3.0',\n",
              "       'applicant_credit_score_type_4.0', 'applicant_credit_score_type_7.0',\n",
              "       'applicant_credit_score_type_8.0', 'applicant_credit_score_type_9.0',\n",
              "       'applicant_credit_score_type_11.0',\n",
              "       'co-applicant_credit_score_type_1.0',\n",
              "       'co-applicant_credit_score_type_2.0',\n",
              "       'co-applicant_credit_score_type_3.0',\n",
              "       'co-applicant_credit_score_type_4.0',\n",
              "       'co-applicant_credit_score_type_7.0',\n",
              "       'co-applicant_credit_score_type_8.0',\n",
              "       'co-applicant_credit_score_type_9.0',\n",
              "       'co-applicant_credit_score_type_10.0',\n",
              "       'co-applicant_credit_score_type_11.0', 'applicant_age_25-34',\n",
              "       'applicant_age_35-44', 'applicant_age_45-54', 'applicant_age_55-64',\n",
              "       'applicant_age_65-74', 'applicant_age_<25', 'applicant_age_>74'],\n",
              "      dtype='object')"
            ]
          },
          "execution_count": 28,
          "metadata": {},
          "output_type": "execute_result"
        }
      ],
      "source": [
        "data.columns"
      ]
    },
    {
      "cell_type": "markdown",
      "metadata": {
        "id": "7t9Qpaipf-Ko"
      },
      "source": []
    },
    {
      "cell_type": "code",
      "execution_count": null,
      "metadata": {
        "id": "sNhJw9QOLlb8"
      },
      "outputs": [],
      "source": [
        "\n",
        "# Separate the majority and minority classes\n",
        "df_majority = data[data.action_taken == 0]\n",
        "df_minority = data[data.action_taken == 1]\n",
        "\n",
        "# Undersample the majority class without replacement\n",
        "df_majority_undersampled = df_majority.sample(n=len(df_minority), random_state=42)\n",
        "\n",
        "# Combine minority class with undersampled majority class\n",
        "df_undersampled = pd.concat([df_minority, df_majority_undersampled])\n",
        "\n",
        "# Shuffle the dataset to prevent the model from learning any order\n",
        "df_undersampled = df_undersampled.sample(frac=1, random_state=42).reset_index(drop=True)\n"
      ]
    },
    {
      "cell_type": "code",
      "execution_count": null,
      "metadata": {
        "id": "CTBOE3Z4M-D8"
      },
      "outputs": [],
      "source": [
        " data = df_undersampled"
      ]
    },
    {
      "cell_type": "code",
      "execution_count": null,
      "metadata": {
        "colab": {
          "base_uri": "https://localhost:8080/"
        },
        "id": "AiiYOcOlLsbh",
        "outputId": "ec7fb708-9b16-4698-9353-ce8090d9c8d5"
      },
      "outputs": [
        {
          "name": "stdout",
          "output_type": "stream",
          "text": [
            "action_taken\n",
            "1    26720\n",
            "0    26720\n",
            "Name: count, dtype: int64\n"
          ]
        }
      ],
      "source": [
        "action_taken_counts = data['action_taken'].value_counts()\n",
        "print(action_taken_counts)"
      ]
    },
    {
      "cell_type": "code",
      "execution_count": null,
      "metadata": {
        "colab": {
          "base_uri": "https://localhost:8080/"
        },
        "id": "v53O5lmlRAkQ",
        "outputId": "eb4eab51-ed26-42b6-dcf9-b911e55c083e"
      },
      "outputs": [
        {
          "name": "stdout",
          "output_type": "stream",
          "text": [
            "Collecting holisticai[all]\n",
            "  Downloading holisticai-0.7.3-py3-none-any.whl (288 kB)\n",
            "\u001b[2K     \u001b[90m━━━━━━━━━━━━━━━━━━━━━━━━━━━━━━━━━━━━━━━━\u001b[0m \u001b[32m288.8/288.8 kB\u001b[0m \u001b[31m5.3 MB/s\u001b[0m eta \u001b[36m0:00:00\u001b[0m\n",
            "\u001b[?25hRequirement already satisfied: scikit-learn>=1.0.2 in /usr/local/lib/python3.10/dist-packages (from holisticai[all]) (1.2.2)\n",
            "Requirement already satisfied: cvxopt>=1.3.0 in /usr/local/lib/python3.10/dist-packages (from holisticai[all]) (1.3.2)\n",
            "Requirement already satisfied: cvxpy[cbc]>1.3.0 in /usr/local/lib/python3.10/dist-packages (from holisticai[all]) (1.3.4)\n",
            "Collecting lime>=0.2.0.1 (from holisticai[all])\n",
            "  Downloading lime-0.2.0.1.tar.gz (275 kB)\n",
            "\u001b[2K     \u001b[90m━━━━━━━━━━━━━━━━━━━━━━━━━━━━━━━━━━━━━━━━\u001b[0m \u001b[32m275.7/275.7 kB\u001b[0m \u001b[31m11.7 MB/s\u001b[0m eta \u001b[36m0:00:00\u001b[0m\n",
            "\u001b[?25h  Preparing metadata (setup.py) ... \u001b[?25l\u001b[?25hdone\n",
            "Requirement already satisfied: networkx>=3.1 in /usr/local/lib/python3.10/dist-packages (from holisticai[all]) (3.3)\n",
            "Requirement already satisfied: seaborn>=0.11.2 in /usr/local/lib/python3.10/dist-packages (from holisticai[all]) (0.13.1)\n",
            "Collecting shap>=0.42.1 (from holisticai[all])\n",
            "  Downloading shap-0.45.1-cp310-cp310-manylinux_2_12_x86_64.manylinux2010_x86_64.manylinux_2_17_x86_64.manylinux2014_x86_64.whl (540 kB)\n",
            "\u001b[2K     \u001b[90m━━━━━━━━━━━━━━━━━━━━━━━━━━━━━━━━━━━━━━━━\u001b[0m \u001b[32m540.5/540.5 kB\u001b[0m \u001b[31m15.4 MB/s\u001b[0m eta \u001b[36m0:00:00\u001b[0m\n",
            "\u001b[?25hRequirement already satisfied: tqdm>=4.64.1 in /usr/local/lib/python3.10/dist-packages (from holisticai[all]) (4.66.4)\n",
            "Requirement already satisfied: osqp>=0.4.1 in /usr/local/lib/python3.10/dist-packages (from cvxpy[cbc]>1.3.0->holisticai[all]) (0.6.2.post8)\n",
            "Requirement already satisfied: ecos>=2 in /usr/local/lib/python3.10/dist-packages (from cvxpy[cbc]>1.3.0->holisticai[all]) (2.0.13)\n",
            "Requirement already satisfied: scs>=1.1.6 in /usr/local/lib/python3.10/dist-packages (from cvxpy[cbc]>1.3.0->holisticai[all]) (3.2.4.post1)\n",
            "Requirement already satisfied: numpy>=1.15 in /usr/local/lib/python3.10/dist-packages (from cvxpy[cbc]>1.3.0->holisticai[all]) (1.25.2)\n",
            "Requirement already satisfied: scipy>=1.1.0 in /usr/local/lib/python3.10/dist-packages (from cvxpy[cbc]>1.3.0->holisticai[all]) (1.11.4)\n",
            "Requirement already satisfied: setuptools>65.5.1 in /usr/local/lib/python3.10/dist-packages (from cvxpy[cbc]>1.3.0->holisticai[all]) (67.7.2)\n",
            "Collecting cylp>=0.91.5 (from cvxpy[cbc]>1.3.0->holisticai[all])\n",
            "  Downloading cylp-0.92.2-cp310-cp310-manylinux_2_17_x86_64.manylinux2014_x86_64.whl (10.4 MB)\n",
            "\u001b[2K     \u001b[90m━━━━━━━━━━━━━━━━━━━━━━━━━━━━━━━━━━━━━━━━\u001b[0m \u001b[32m10.4/10.4 MB\u001b[0m \u001b[31m30.7 MB/s\u001b[0m eta \u001b[36m0:00:00\u001b[0m\n",
            "\u001b[?25hRequirement already satisfied: matplotlib in /usr/local/lib/python3.10/dist-packages (from lime>=0.2.0.1->holisticai[all]) (3.7.1)\n",
            "Requirement already satisfied: scikit-image>=0.12 in /usr/local/lib/python3.10/dist-packages (from lime>=0.2.0.1->holisticai[all]) (0.19.3)\n",
            "Requirement already satisfied: joblib>=1.1.1 in /usr/local/lib/python3.10/dist-packages (from scikit-learn>=1.0.2->holisticai[all]) (1.4.2)\n",
            "Requirement already satisfied: threadpoolctl>=2.0.0 in /usr/local/lib/python3.10/dist-packages (from scikit-learn>=1.0.2->holisticai[all]) (3.5.0)\n",
            "Requirement already satisfied: pandas>=1.2 in /usr/local/lib/python3.10/dist-packages (from seaborn>=0.11.2->holisticai[all]) (2.0.3)\n",
            "Requirement already satisfied: packaging>20.9 in /usr/local/lib/python3.10/dist-packages (from shap>=0.42.1->holisticai[all]) (24.0)\n",
            "Collecting slicer==0.0.8 (from shap>=0.42.1->holisticai[all])\n",
            "  Downloading slicer-0.0.8-py3-none-any.whl (15 kB)\n",
            "Requirement already satisfied: numba in /usr/local/lib/python3.10/dist-packages (from shap>=0.42.1->holisticai[all]) (0.58.1)\n",
            "Requirement already satisfied: cloudpickle in /usr/local/lib/python3.10/dist-packages (from shap>=0.42.1->holisticai[all]) (2.2.1)\n",
            "Requirement already satisfied: contourpy>=1.0.1 in /usr/local/lib/python3.10/dist-packages (from matplotlib->lime>=0.2.0.1->holisticai[all]) (1.2.1)\n",
            "Requirement already satisfied: cycler>=0.10 in /usr/local/lib/python3.10/dist-packages (from matplotlib->lime>=0.2.0.1->holisticai[all]) (0.12.1)\n",
            "Requirement already satisfied: fonttools>=4.22.0 in /usr/local/lib/python3.10/dist-packages (from matplotlib->lime>=0.2.0.1->holisticai[all]) (4.51.0)\n",
            "Requirement already satisfied: kiwisolver>=1.0.1 in /usr/local/lib/python3.10/dist-packages (from matplotlib->lime>=0.2.0.1->holisticai[all]) (1.4.5)\n",
            "Requirement already satisfied: pillow>=6.2.0 in /usr/local/lib/python3.10/dist-packages (from matplotlib->lime>=0.2.0.1->holisticai[all]) (9.4.0)\n",
            "Requirement already satisfied: pyparsing>=2.3.1 in /usr/local/lib/python3.10/dist-packages (from matplotlib->lime>=0.2.0.1->holisticai[all]) (3.1.2)\n",
            "Requirement already satisfied: python-dateutil>=2.7 in /usr/local/lib/python3.10/dist-packages (from matplotlib->lime>=0.2.0.1->holisticai[all]) (2.8.2)\n",
            "Requirement already satisfied: qdldl in /usr/local/lib/python3.10/dist-packages (from osqp>=0.4.1->cvxpy[cbc]>1.3.0->holisticai[all]) (0.1.7.post2)\n",
            "Requirement already satisfied: pytz>=2020.1 in /usr/local/lib/python3.10/dist-packages (from pandas>=1.2->seaborn>=0.11.2->holisticai[all]) (2023.4)\n",
            "Requirement already satisfied: tzdata>=2022.1 in /usr/local/lib/python3.10/dist-packages (from pandas>=1.2->seaborn>=0.11.2->holisticai[all]) (2024.1)\n",
            "Requirement already satisfied: imageio>=2.4.1 in /usr/local/lib/python3.10/dist-packages (from scikit-image>=0.12->lime>=0.2.0.1->holisticai[all]) (2.31.6)\n",
            "Requirement already satisfied: tifffile>=2019.7.26 in /usr/local/lib/python3.10/dist-packages (from scikit-image>=0.12->lime>=0.2.0.1->holisticai[all]) (2024.5.3)\n",
            "Requirement already satisfied: PyWavelets>=1.1.1 in /usr/local/lib/python3.10/dist-packages (from scikit-image>=0.12->lime>=0.2.0.1->holisticai[all]) (1.6.0)\n",
            "Requirement already satisfied: llvmlite<0.42,>=0.41.0dev0 in /usr/local/lib/python3.10/dist-packages (from numba->shap>=0.42.1->holisticai[all]) (0.41.1)\n",
            "Requirement already satisfied: six>=1.5 in /usr/local/lib/python3.10/dist-packages (from python-dateutil>=2.7->matplotlib->lime>=0.2.0.1->holisticai[all]) (1.16.0)\n",
            "Building wheels for collected packages: lime\n",
            "  Building wheel for lime (setup.py) ... \u001b[?25l\u001b[?25hdone\n",
            "  Created wheel for lime: filename=lime-0.2.0.1-py3-none-any.whl size=283835 sha256=4dd78cacc929298ce0012d9c9867e095e2ff31aec82729a1982bbad4b536e3c6\n",
            "  Stored in directory: /root/.cache/pip/wheels/fd/a2/af/9ac0a1a85a27f314a06b39e1f492bee1547d52549a4606ed89\n",
            "Successfully built lime\n",
            "Installing collected packages: slicer, cylp, shap, lime, holisticai\n",
            "Successfully installed cylp-0.92.2 holisticai-0.7.3 lime-0.2.0.1 shap-0.45.1 slicer-0.0.8\n"
          ]
        }
      ],
      "source": [
        "!pip install holisticai[all]"
      ]
    },
    {
      "cell_type": "code",
      "execution_count": null,
      "metadata": {
        "id": "RFq8zVKVTGEJ"
      },
      "outputs": [],
      "source": [
        "#DATA ANALYSIS FOR EQUALIZED ODDS\n",
        "from holisticai.datasets import load_dataset\n",
        "from holisticai.bias.plots import group_pie_plot"
      ]
    },
    {
      "cell_type": "code",
      "execution_count": null,
      "metadata": {
        "colab": {
          "base_uri": "https://localhost:8080/",
          "height": 1000
        },
        "id": "D4ko0gRfNqOu",
        "outputId": "49e7733f-4693-405b-9cca-069e3b7d631e"
      },
      "outputs": [
        {
          "data": {
            "text/plain": [
              "<Axes: >"
            ]
          },
          "execution_count": 34,
          "metadata": {},
          "output_type": "execute_result"
        },
        {
          "data": {
            "image/png": "[encoded data removed]",
            "text/plain": [
              "<Figure size 640x480 with 1 Axes>"
            ]
          },
          "metadata": {},
          "output_type": "display_data"
        },
        {
          "data": {
            "image/png": "[encoded data removed]",
            "text/plain": [
              "<Figure size 640x480 with 1 Axes>"
            ]
          },
          "metadata": {},
          "output_type": "display_data"
        },
        {
          "data": {
            "image/png": "[encoded data removed]",
            "text/plain": [
              "<Figure size 640x480 with 1 Axes>"
            ]
          },
          "metadata": {},
          "output_type": "display_data"
        },
        {
          "data": {
            "image/png": "[encoded data removed]",
            "text/plain": [
              "<Figure size 640x480 with 1 Axes>"
            ]
          },
          "metadata": {},
          "output_type": "display_data"
        },
        {
          "data": {
            "image/png": "[encoded data removed]",
            "text/plain": [
              "<Figure size 640x480 with 1 Axes>"
            ]
          },
          "metadata": {},
          "output_type": "display_data"
        },
        {
          "data": {
            "image/png": "[encoded data removed]",
            "text/plain": [
              "<Figure size 640x480 with 1 Axes>"
            ]
          },
          "metadata": {},
          "output_type": "display_data"
        }
      ],
      "source": [
        "group_ai_an = data['AI or AN'].astype(bool)\n",
        "group_asian = data['Asian'].astype(bool)\n",
        "group_black_aa = data['Black or AA'].astype(bool)\n",
        "group_nh_pi = data['NH or PI'].astype(bool)\n",
        "group_white = data['White'].astype(bool)\n",
        "group_mixed = data['Mixed'].astype(bool)\n",
        "\n",
        "group_pie_plot(group_ai_an)\n",
        "group_pie_plot(group_asian)\n",
        "group_pie_plot(group_black_aa)\n",
        "group_pie_plot(group_nh_pi)\n",
        "group_pie_plot(group_white)\n",
        "group_pie_plot(group_mixed)"
      ]
    },
    {
      "cell_type": "code",
      "execution_count": null,
      "metadata": {
        "id": "2HYIKV4kNuVJ"
      },
      "outputs": [],
      "source": [
        "def group_success_rate(g, y):\n",
        "  success_rate = y[g == 1].sum() / g.sum()  # success rate group_a\n",
        "  return success_rate"
      ]
    },
    {
      "cell_type": "code",
      "execution_count": null,
      "metadata": {
        "id": "OGsnMTbnNvDt"
      },
      "outputs": [],
      "source": [
        "def statistical_parity_multigroup(group_labels, y_pred):\n",
        "    success_rates = {}\n",
        "    for i, group in enumerate(group_labels):\n",
        "\n",
        "        success_rates[race_cols[i]] = group_success_rate(group, y_pred)\n",
        "\n",
        "    return success_rates"
      ]
    },
    {
      "cell_type": "code",
      "execution_count": null,
      "metadata": {
        "id": "9IZqF8xKNxZO"
      },
      "outputs": [],
      "source": [
        "from sklearn.metrics import confusion_matrix\n",
        "def tpr_multigroup(group_labels, y_pred, y_test, X_test):\n",
        "    tpr_dict = {}\n",
        "\n",
        "    for group in group_labels:\n",
        "        X_test = X_test.reset_index(drop=True)\n",
        "        y_test = y_test.reset_index(drop=True)\n",
        "        filtered_indices = X_test[X_test[group]==1].index\n",
        "        group_y_test = y_test[filtered_indices]\n",
        "        group_y_pred = y_pred[filtered_indices]\n",
        "\n",
        "        cm = confusion_matrix(group_y_test, group_y_pred, labels=[1, 0])\n",
        "\n",
        "        if cm.shape == (2, 2):\n",
        "            TP = cm[0, 0]\n",
        "            FN = cm[1, 0]\n",
        "            tpr = TP / (TP + FN) if (TP + FN) > 0 else 0\n",
        "            tpr_dict[group] = tpr\n",
        "        else:\n",
        "            tpr_dict[group] = 0\n",
        "\n",
        "    return tpr_dict\n",
        "\n",
        "def fpr_multigroup(group_labels, y_pred, y_test, X_test):\n",
        "    fpr_dict = {}\n",
        "\n",
        "    for group in group_labels:\n",
        "        X_test = X_test.reset_index(drop=True)\n",
        "        y_test = y_test.reset_index(drop=True)\n",
        "        filtered_indices = X_test[X_test[group]==1].index\n",
        "        group_y_test = y_test[filtered_indices]\n",
        "        group_y_pred = y_pred[filtered_indices]\n",
        "\n",
        "        cm = confusion_matrix(group_y_test, group_y_pred, labels=[1, 0])\n",
        "        if cm.shape == (2, 2):\n",
        "            FP = cm[0, 1]\n",
        "            TN = cm[0, 0]\n",
        "            fpr = FP / (FP + TN) if (FP + TN) > 0 else 0\n",
        "            fpr_dict[group] = fpr\n",
        "        else:\n",
        "            fpr_dict[group] = 0\n",
        "\n",
        "    return fpr_dict\n"
      ]
    },
    {
      "cell_type": "code",
      "execution_count": null,
      "metadata": {
        "id": "EKo-0cq3MpA_"
      },
      "outputs": [],
      "source": [
        "from sklearn.model_selection import train_test_split\n",
        "\n",
        "# Assuming 'action_taken' is the target variable\n",
        "\n",
        "\n",
        "columns_with_na = data.columns[data.isna().any()].tolist()\n",
        "X = data.drop(['action_taken','race'], axis=1)\n",
        "y = data['action_taken']\n",
        "bin_cols = data['race']\n",
        "\n",
        "# Split data into training and testing sets\n",
        "X_train, X_test, y_train, y_test, group_ai_an_tr, group_ai_an_ts, group_asian_tr, group_asian_ts, group_black_aa_tr, \\\n",
        "group_black_aa_ts, group_nh_pi_tr, group_nh_pi_ts, group_white_tr, group_white_ts, group_mixed_tr, group_mixed_ts,  bin_cols_train, bin_cols_test = \\\n",
        "train_test_split(X, y, group_ai_an, group_asian, group_black_aa, group_nh_pi, group_white, group_mixed, bin_cols, test_size=0.2, random_state=42)\n",
        "\n",
        "train_data = X_train, y_train\n",
        "test_data  = X_test, y_test"
      ]
    },
    {
      "cell_type": "code",
      "execution_count": null,
      "metadata": {
        "colab": {
          "base_uri": "https://localhost:8080/"
        },
        "id": "HKqDOg46jMPG",
        "outputId": "f027156c-bc79-477f-f32e-b9d0144da8ac"
      },
      "outputs": [
        {
          "data": {
            "text/plain": [
              "Index(['county_code', 'census_tract', 'preapproval', 'lien_status',\n",
              "       'loan_amount', 'loan_to_value_ratio', 'negative_amortization',\n",
              "       'interest_only_payment', 'balloon_payment', 'property_value',\n",
              "       'construction_method', 'income', 'applicant_sex', 'applicant_ethnicity',\n",
              "       'Mixed', 'AI or AN', 'Asian', 'Black or AA', 'NH or PI', 'White',\n",
              "       'loan_purpose_1', 'loan_purpose_2', 'loan_purpose_4', 'loan_purpose_5',\n",
              "       'loan_purpose_31', 'loan_purpose_32', 'loan_term_180.0',\n",
              "       'loan_term_240.0', 'loan_term_300.0', 'loan_term_360.0',\n",
              "       'loan_term_120', 'loan_term_180', 'loan_term_240', 'loan_term_300',\n",
              "       'loan_term_360', 'loan_term_420', 'loan_term_480', 'loan_term_60',\n",
              "       'loan_term_84', 'prepayment_penalty_term_0',\n",
              "       'prepayment_penalty_term_2', 'prepayment_penalty_term_6',\n",
              "       'prepayment_penalty_term_12', 'prepayment_penalty_term_18',\n",
              "       'prepayment_penalty_term_24', 'prepayment_penalty_term_36',\n",
              "       'intro_rate_period_1', 'intro_rate_period_3', 'intro_rate_period_6',\n",
              "       'intro_rate_period_9', 'intro_rate_period_12', 'intro_rate_period_60',\n",
              "       'intro_rate_period_84', 'intro_rate_period_120',\n",
              "       'intro_rate_period_299', 'occupancy_type_1', 'occupancy_type_2',\n",
              "       'occupancy_type_3', 'debt_to_income_ratio_0', 'debt_to_income_ratio_20',\n",
              "       'debt_to_income_ratio_30', 'debt_to_income_ratio_36',\n",
              "       'debt_to_income_ratio_37', 'debt_to_income_ratio_43',\n",
              "       'debt_to_income_ratio_50', 'debt_to_income_ratio_60',\n",
              "       'applicant_credit_score_type_1.0', 'applicant_credit_score_type_2.0',\n",
              "       'applicant_credit_score_type_3.0', 'applicant_credit_score_type_4.0',\n",
              "       'applicant_credit_score_type_7.0', 'applicant_credit_score_type_8.0',\n",
              "       'applicant_credit_score_type_9.0', 'applicant_credit_score_type_11.0',\n",
              "       'co-applicant_credit_score_type_1.0',\n",
              "       'co-applicant_credit_score_type_2.0',\n",
              "       'co-applicant_credit_score_type_3.0',\n",
              "       'co-applicant_credit_score_type_4.0',\n",
              "       'co-applicant_credit_score_type_7.0',\n",
              "       'co-applicant_credit_score_type_8.0',\n",
              "       'co-applicant_credit_score_type_9.0',\n",
              "       'co-applicant_credit_score_type_10.0',\n",
              "       'co-applicant_credit_score_type_11.0', 'applicant_age_25-34',\n",
              "       'applicant_age_35-44', 'applicant_age_45-54', 'applicant_age_55-64',\n",
              "       'applicant_age_65-74', 'applicant_age_<25', 'applicant_age_>74'],\n",
              "      dtype='object')"
            ]
          },
          "execution_count": 72,
          "metadata": {},
          "output_type": "execute_result"
        }
      ],
      "source": [
        "X_train.columns"
      ]
    },
    {
      "cell_type": "code",
      "execution_count": null,
      "metadata": {
        "id": "BFNp_WxxOJsZ"
      },
      "outputs": [],
      "source": [
        "group_ts = [group_ai_an_ts, group_asian_ts, group_black_aa_ts, group_nh_pi_ts, group_white_ts, group_mixed_ts]\n",
        "group_tr = [group_ai_an_tr, group_asian_tr, group_black_aa_tr, group_nh_pi_tr, group_white_tr, group_mixed_tr]\n",
        "race_cols = ['AI or AN', 'Asian', 'Black or AA', 'NH or PI', 'White', 'Mixed']"
      ]
    },
    {
      "cell_type": "code",
      "execution_count": null,
      "metadata": {
        "colab": {
          "base_uri": "https://localhost:8080/"
        },
        "id": "3S6Tk4qgOVB-",
        "outputId": "b7712aaa-7183-4f24-b45a-a29003d8bfd9"
      },
      "outputs": [
        {
          "name": "stdout",
          "output_type": "stream",
          "text": [
            "Logistic Regression Accuracy: 0.7868\n"
          ]
        }
      ],
      "source": [
        "from sklearn.linear_model import LogisticRegression\n",
        "from sklearn.preprocessing import StandardScaler\n",
        "from sklearn.pipeline import make_pipeline\n",
        "from sklearn.metrics import accuracy_score, classification_report\n",
        "from sklearn.metrics import precision_score, f1_score, recall_score\n",
        "\n",
        "X_train, y_train = train_data\n",
        "\n",
        "# Create a pipeline with preprocessing and model\n",
        "logistic_model = make_pipeline(StandardScaler(), LogisticRegression(max_iter=3000))\n",
        "\n",
        "# Fit the model on the training data\n",
        "logistic_model.fit(X_train, y_train)\n",
        "\n",
        "# Predict on the test data\n",
        "y_pred = logistic_model.predict(X_test)\n",
        "\n",
        "# Calculate the accuracy\n",
        "logistic_accuracy = accuracy_score(y_test, y_pred)\n",
        "print(f'Logistic Regression Accuracy: {logistic_accuracy:.4f}')\n",
        "\n",
        "# Generate and print the classification report\n",
        "report = classification_report(y_test, y_pred, target_names=['Class 0', 'Class 1'])"
      ]
    },
    {
      "cell_type": "code",
      "execution_count": null,
      "metadata": {
        "colab": {
          "base_uri": "https://localhost:8080/"
        },
        "id": "tH-V4_JyOjuf",
        "outputId": "e7653e7c-a93d-4642-a7ab-7a652edde00f"
      },
      "outputs": [
        {
          "name": "stdout",
          "output_type": "stream",
          "text": [
            "0.7558716506781343 0.8004203520448375 0.8505490415038154\n"
          ]
        }
      ],
      "source": [
        "print(precision_score(y_test, y_pred), f1_score(y_test, y_pred), recall_score(y_test, y_pred))"
      ]
    },
    {
      "cell_type": "code",
      "execution_count": null,
      "metadata": {
        "colab": {
          "base_uri": "https://localhost:8080/"
        },
        "id": "xZTcOLm0O1Ix",
        "outputId": "feab8d00-db0d-4d8a-e279-c358340d0711"
      },
      "outputs": [
        {
          "name": "stdout",
          "output_type": "stream",
          "text": [
            "{'AI or AN': 0.43820224719101125, 'Asian': 0.5494186046511628, 'Black or AA': 0.31277533039647576, 'NH or PI': 0.3958333333333333, 'White': 0.59120761292052, 'Mixed': 0.5336134453781513}\n",
            "{'AI or AN': 0.782051282051282, 'Asian': 0.7671957671957672, 'Black or AA': 0.6338028169014085, 'NH or PI': 0.7368421052631579, 'White': 0.7576513262298799, 'Mixed': 0.8267716535433071} \n",
            " {'AI or AN': 0.21794871794871795, 'Asian': 0.13882702301410543, 'Black or AA': 0.4827586206896552, 'NH or PI': 0.3, 'White': 0.1362109072111657, 'Mixed': 0.1732283464566929}\n",
            "0.2784322825240443 0.011255294987336217 0.1060909750513031\n",
            "0.19296883664189857 0.004189444218286071 0.06472591612550625\n",
            "0.3465477134784895 0.017694237353657577 0.13301968784227985\n"
          ]
        }
      ],
      "source": [
        "import statistics\n",
        "success_rates = statistical_parity_multigroup(group_ts, y_pred)\n",
        "\n",
        "print(success_rates)\n",
        "tpr = tpr_multigroup(race_cols, y_pred, y_test, X_test)\n",
        "fpr = fpr_multigroup(race_cols, y_pred, y_test, X_test)\n",
        "print(tpr,\"\\n\", fpr)\n",
        "sr_values = list(success_rates.values())\n",
        "sr_values_range = max(sr_values) - min(sr_values)\n",
        "sr_value_variance = statistics.variance(sr_values)\n",
        "sr_value_std_dev = statistics.stdev(sr_values)\n",
        "print(sr_values_range, sr_value_variance, sr_value_std_dev)\n",
        "\n",
        "tpr_values = list(tpr.values())\n",
        "tpr_values_range = max(tpr_values) - min(tpr_values)\n",
        "tpr_value_variance = statistics.variance(tpr_values)\n",
        "tpr_value_std_dev = statistics.stdev(tpr_values)\n",
        "print(tpr_values_range, tpr_value_variance, tpr_value_std_dev)\n",
        "\n",
        "fpr_values = list(fpr.values())\n",
        "fpr_values_range = max(fpr_values) - min(fpr_values)\n",
        "fpr_value_variance = statistics.variance(fpr_values)\n",
        "fpr_value_std_dev = statistics.stdev(fpr_values)\n",
        "print(fpr_values_range, fpr_value_variance, fpr_value_std_dev)"
      ]
    },
    {
      "cell_type": "code",
      "execution_count": null,
      "metadata": {
        "colab": {
          "base_uri": "https://localhost:8080/"
        },
        "id": "G17ZvUDzfbyt",
        "outputId": "59fd185a-f7b1-4f8c-9977-523304bcb7ee"
      },
      "outputs": [
        {
          "name": "stdout",
          "output_type": "stream",
          "text": [
            "Random Forest Accuracy: 0.8310254491017964\n",
            "              precision    recall  f1-score   support\n",
            "\n",
            "     Class 0       0.86      0.79      0.82      5315\n",
            "     Class 1       0.81      0.87      0.84      5373\n",
            "\n",
            "    accuracy                           0.83     10688\n",
            "   macro avg       0.83      0.83      0.83     10688\n",
            "weighted avg       0.83      0.83      0.83     10688\n",
            "\n"
          ]
        }
      ],
      "source": [
        "from sklearn.ensemble import RandomForestClassifier\n",
        "from sklearn.metrics import accuracy_score, classification_report\n",
        "\n",
        "# Initialize the Random Forest model\n",
        "rf_model = RandomForestClassifier(random_state=42)\n",
        "\n",
        "# Fit the model on the training data\n",
        "rf_model.fit(X_train, y_train)\n",
        "\n",
        "# Predict on the test data\n",
        "rf_pred = rf_model.predict(X_test)\n",
        "\n",
        "# Calculate the accuracy\n",
        "rf_accuracy = accuracy_score(y_test, rf_pred)\n",
        "print(f'Random Forest Accuracy: {rf_accuracy}')\n",
        "\n",
        "# Generate and print the classification report\n",
        "rf_report = classification_report(y_test, rf_pred, target_names=['Class 0', 'Class 1'])\n",
        "print(rf_report)"
      ]
    },
    {
      "cell_type": "code",
      "execution_count": null,
      "metadata": {
        "colab": {
          "base_uri": "https://localhost:8080/"
        },
        "id": "j2SBZZGNfguv",
        "outputId": "732422dc-9f00-4ba1-caae-39fa1b9413fd"
      },
      "outputs": [
        {
          "name": "stdout",
          "output_type": "stream",
          "text": [
            "0.809366869037294 0.837852397198779 0.8684161548483157\n"
          ]
        }
      ],
      "source": [
        "print(precision_score(y_test, rf_pred), f1_score(y_test, rf_pred), recall_score(y_test, rf_pred))"
      ]
    },
    {
      "cell_type": "code",
      "execution_count": null,
      "metadata": {
        "colab": {
          "base_uri": "https://localhost:8080/"
        },
        "id": "VIvzcKD_fp5e",
        "outputId": "6b3fee78-b013-4fc4-9b2f-a3869623ac70"
      },
      "outputs": [
        {
          "name": "stdout",
          "output_type": "stream",
          "text": [
            "{'AI or AN': 0.46629213483146065, 'Asian': 0.5134447674418605, 'Black or AA': 0.3876651982378855, 'NH or PI': 0.5, 'White': 0.5603806460260019, 'Mixed': 0.542016806722689} {'AI or AN': 0.7710843373493976, 'Asian': 0.8244869072894551, 'Black or AA': 0.7329545454545454, 'NH or PI': 0.7291666666666666, 'White': 0.8098541018895001, 'Mixed': 0.8294573643410853} {'AI or AN': 0.1794871794871795, 'Asian': 0.13511507052709726, 'Black or AA': 0.25862068965517243, 'NH or PI': 0.125, 'White': 0.12483845955027138, 'Mixed': 0.15748031496062992}\n",
            "0.17271544778811643 0.003839062586105046 0.06196016935181057\n",
            "0.10029069767441867 0.00202899718390593 0.0450443912591338\n",
            "0.13378223010490103 0.0026244812086432773 0.05122969069439398\n"
          ]
        }
      ],
      "source": [
        "success_rates_rf = statistical_parity_multigroup(group_ts, rf_pred)\n",
        "tpr_rf = tpr_multigroup(race_cols, rf_pred, y_test, X_test)\n",
        "fpr_rf = fpr_multigroup(race_cols, rf_pred, y_test, X_test)\n",
        "print(success_rates_rf, tpr_rf, fpr_rf)\n",
        "\n",
        "sr_values = list(success_rates_rf.values())\n",
        "sr_values_range = max(sr_values) - min(sr_values)\n",
        "sr_value_variance = statistics.variance(sr_values)\n",
        "sr_value_std_dev = statistics.stdev(sr_values)\n",
        "print(sr_values_range, sr_value_variance, sr_value_std_dev)\n",
        "\n",
        "tpr_values = list(tpr_rf.values())\n",
        "tpr_values_range = max(tpr_values) - min(tpr_values)\n",
        "tpr_value_variance = statistics.variance(tpr_values)\n",
        "tpr_value_std_dev = statistics.stdev(tpr_values)\n",
        "print(tpr_values_range, tpr_value_variance, tpr_value_std_dev)\n",
        "\n",
        "fpr_values = list(fpr_rf.values())\n",
        "fpr_values_range = max(fpr_values) - min(fpr_values)\n",
        "fpr_value_variance = statistics.variance(fpr_values)\n",
        "fpr_value_std_dev = statistics.stdev(fpr_values)\n",
        "print(fpr_values_range, fpr_value_variance, fpr_value_std_dev)"
      ]
    },
    {
      "cell_type": "code",
      "execution_count": null,
      "metadata": {
        "colab": {
          "base_uri": "https://localhost:8080/"
        },
        "id": "Cz-snpTpfsAH",
        "outputId": "88ee5c08-ecbc-47e0-8a28-b4057828b5b1"
      },
      "outputs": [
        {
          "name": "stdout",
          "output_type": "stream",
          "text": [
            "MLP Accuracy: 0.8164296407185628\n",
            "              precision    recall  f1-score   support\n",
            "\n",
            "     Class 0       0.83      0.79      0.81      5315\n",
            "     Class 1       0.80      0.84      0.82      5373\n",
            "\n",
            "    accuracy                           0.82     10688\n",
            "   macro avg       0.82      0.82      0.82     10688\n",
            "weighted avg       0.82      0.82      0.82     10688\n",
            "\n"
          ]
        }
      ],
      "source": [
        "from sklearn.neural_network import MLPClassifier\n",
        "from sklearn.preprocessing import StandardScaler\n",
        "from sklearn.pipeline import make_pipeline\n",
        "\n",
        "# Create a pipeline with preprocessing and the MLP model\n",
        "# StandardScaler is used to scale the data for better performance of the MLP\n",
        "mlp_model = make_pipeline(StandardScaler(), MLPClassifier(max_iter=1000,random_state=42, solver='sgd'))\n",
        "x\n",
        "\n",
        "# Fit the model on the training data\n",
        "mlp_model.fit(X_train, y_train)\n",
        "\n",
        "# Predict on the test data\n",
        "mlp_pred = mlp_model.predict(X_test)\n",
        "\n",
        "# Calculate the accuracy\n",
        "mlp_accuracy = accuracy_score(y_test, mlp_pred)\n",
        "print(f'MLP Accuracy: {mlp_accuracy}')\n",
        "\n",
        "# Generate and print the classification report\n",
        "mlp_report = classification_report(y_test, mlp_pred, target_names=['Class 0', 'Class 1'])\n",
        "print(mlp_report)"
      ]
    },
    {
      "cell_type": "code",
      "execution_count": null,
      "metadata": {
        "colab": {
          "base_uri": "https://localhost:8080/"
        },
        "id": "oI0r8pGafwQq",
        "outputId": "aa26a849-65f7-4247-b007-2bd96945ed9c"
      },
      "outputs": [
        {
          "name": "stdout",
          "output_type": "stream",
          "text": [
            "0.8015915119363395 0.8220892274211098 0.8436627582356225\n"
          ]
        }
      ],
      "source": [
        "print(precision_score(y_test, mlp_pred), f1_score(y_test, mlp_pred), recall_score(y_test, mlp_pred))"
      ]
    },
    {
      "cell_type": "code",
      "execution_count": null,
      "metadata": {
        "colab": {
          "base_uri": "https://localhost:8080/"
        },
        "id": "AW5JW-65gGK4",
        "outputId": "1e06da9d-1e8f-451c-92be-e1779f24ae9f"
      },
      "outputs": [
        {
          "name": "stdout",
          "output_type": "stream",
          "text": [
            "{'AI or AN': 0.42134831460674155, 'Asian': 0.4941860465116279, 'Black or AA': 0.35462555066079293, 'NH or PI': 0.4166666666666667, 'White': 0.5543492829379439, 'Mixed': 0.46638655462184875} {'AI or AN': 0.8133333333333334, 'Asian': 0.8205882352941176, 'Black or AA': 0.7080745341614907, 'NH or PI': 0.725, 'White': 0.8012572533849129, 'Mixed': 0.8648648648648649} {'AI or AN': 0.21794871794871795, 'Asian': 0.1714922048997773, 'Black or AA': 0.3448275862068966, 'NH or PI': 0.275, 'White': 0.1434479193590075, 'Mixed': 0.2440944881889764}\n",
            "0.199723732277151 0.004825696562560197 0.06946723373332349\n",
            "0.15679033070337423 0.0036280894267541612 0.06023362372258672\n",
            "0.20137966684788908 0.005284317229684917 0.07269330938734951\n"
          ]
        }
      ],
      "source": [
        "success_rates_mlp = statistical_parity_multigroup(group_ts, mlp_pred)\n",
        "tpr_mlp = tpr_multigroup(race_cols, mlp_pred, y_test, X_test)\n",
        "fpr_mlp = fpr_multigroup(race_cols, mlp_pred, y_test, X_test)\n",
        "print(success_rates_mlp, tpr_mlp, fpr_mlp)\n",
        "\n",
        "\n",
        "sr_values = list(success_rates_mlp.values())\n",
        "sr_values_range = max(sr_values) - min(sr_values)\n",
        "sr_value_variance = statistics.variance(sr_values)\n",
        "sr_value_std_dev = statistics.stdev(sr_values)\n",
        "print(sr_values_range, sr_value_variance, sr_value_std_dev)\n",
        "\n",
        "tpr_values = list(tpr_mlp.values())\n",
        "tpr_values_range = max(tpr_values) - min(tpr_values)\n",
        "tpr_value_variance = statistics.variance(tpr_values)\n",
        "tpr_value_std_dev = statistics.stdev(tpr_values)\n",
        "print(tpr_values_range, tpr_value_variance, tpr_value_std_dev)\n",
        "\n",
        "fpr_values = list(fpr_mlp.values())\n",
        "fpr_values_range = max(fpr_values) - min(fpr_values)\n",
        "fpr_value_variance = statistics.variance(fpr_values)\n",
        "fpr_value_std_dev = statistics.stdev(fpr_values)\n",
        "print(fpr_values_range, fpr_value_variance, fpr_value_std_dev)"
      ]
    },
    {
      "cell_type": "code",
      "execution_count": null,
      "metadata": {
        "colab": {
          "base_uri": "https://localhost:8080/",
          "height": 908
        },
        "id": "MpM3kjyTHah9",
        "outputId": "1ddc130a-ed92-4f88-daf4-ea0b7998fd23"
      },
      "outputs": [
        {
          "data": {
            "text/plain": [
              "<Axes: >"
            ]
          },
          "execution_count": 53,
          "metadata": {},
          "output_type": "execute_result"
        },
        {
          "data": {
            "image/png": "[encoded data removed]",
            "text/plain": [
              "<Figure size 640x480 with 1 Axes>"
            ]
          },
          "metadata": {},
          "output_type": "display_data"
        },
        {
          "data": {
            "image/png": "[encoded data removed]",
            "text/plain": [
              "<Figure size 640x480 with 1 Axes>"
            ]
          },
          "metadata": {},
          "output_type": "display_data"
        }
      ],
      "source": [
        "group_a = data['race'].astype(bool)\n",
        "group_b = ~data['race'].astype(bool)\n",
        "group_pie_plot(group_a)\n",
        "group_pie_plot(group_b)"
      ]
    },
    {
      "cell_type": "code",
      "execution_count": null,
      "metadata": {
        "colab": {
          "base_uri": "https://localhost:8080/",
          "height": 380
        },
        "id": "PBNESKLYVZil",
        "outputId": "bd729489-53e0-4aa4-b4c8-ddcc77493feb"
      },
      "outputs": [
        {
          "name": "stdout",
          "output_type": "stream",
          "text": [
            "(53440,) (53440,) (10688,)\n"
          ]
        },
        {
          "data": {
            "application/vnd.google.colaboratory.intrinsic+json": {
              "summary": "{\n  \"name\": \"df_baseline\",\n  \"rows\": 9,\n  \"fields\": [\n    {\n      \"column\": \"Metric\",\n      \"properties\": {\n        \"dtype\": \"string\",\n        \"num_unique_values\": 9,\n        \"samples\": [\n          \"Average Odds Difference\",\n          \"Disparate Impact\",\n          \"Equality of Opportunity Difference\"\n        ],\n        \"semantic_type\": \"\",\n        \"description\": \"\"\n      }\n    },\n    {\n      \"column\": \"Value\",\n      \"properties\": {\n        \"dtype\": \"number\",\n        \"std\": 2.7521322924792724,\n        \"min\": -8.002247406167585,\n        \"max\": 0.8611022187191518,\n        \"num_unique_values\": 8,\n        \"samples\": [\n          0.8611022187191518,\n          -0.0642372773002012,\n          -0.08222978076929499\n        ],\n        \"semantic_type\": \"\",\n        \"description\": \"\"\n      }\n    },\n    {\n      \"column\": \"Reference\",\n      \"properties\": {\n        \"dtype\": \"number\",\n        \"std\": 0,\n        \"min\": 0,\n        \"max\": 1,\n        \"num_unique_values\": 2,\n        \"samples\": [\n          1,\n          0\n        ],\n        \"semantic_type\": \"\",\n        \"description\": \"\"\n      }\n    }\n  ]\n}",
              "type": "dataframe",
              "variable_name": "df_baseline"
            },
            "text/html": [
              "\n",
              "  <div id=\"df-a3dc27be-1854-4466-ba9b-8d3303ca555b\" class=\"colab-df-container\">\n",
              "    <div>\n",
              "<style scoped>\n",
              "    .dataframe tbody tr th:only-of-type {\n",
              "        vertical-align: middle;\n",
              "    }\n",
              "\n",
              "    .dataframe tbody tr th {\n",
              "        vertical-align: top;\n",
              "    }\n",
              "\n",
              "    .dataframe thead th {\n",
              "        text-align: right;\n",
              "    }\n",
              "</style>\n",
              "<table border=\"1\" class=\"dataframe\">\n",
              "  <thead>\n",
              "    <tr style=\"text-align: right;\">\n",
              "      <th></th>\n",
              "      <th>Value</th>\n",
              "      <th>Reference</th>\n",
              "    </tr>\n",
              "    <tr>\n",
              "      <th>Metric</th>\n",
              "      <th></th>\n",
              "      <th></th>\n",
              "    </tr>\n",
              "  </thead>\n",
              "  <tbody>\n",
              "    <tr>\n",
              "      <th>Statistical Parity</th>\n",
              "      <td>-0.082230</td>\n",
              "      <td>0</td>\n",
              "    </tr>\n",
              "    <tr>\n",
              "      <th>Disparate Impact</th>\n",
              "      <td>0.861102</td>\n",
              "      <td>1</td>\n",
              "    </tr>\n",
              "    <tr>\n",
              "      <th>Four Fifths Rule</th>\n",
              "      <td>0.861102</td>\n",
              "      <td>1</td>\n",
              "    </tr>\n",
              "    <tr>\n",
              "      <th>Cohen D</th>\n",
              "      <td>-0.166396</td>\n",
              "      <td>0</td>\n",
              "    </tr>\n",
              "    <tr>\n",
              "      <th>2SD Rule</th>\n",
              "      <td>-8.002247</td>\n",
              "      <td>0</td>\n",
              "    </tr>\n",
              "    <tr>\n",
              "      <th>Equality of Opportunity Difference</th>\n",
              "      <td>-0.044832</td>\n",
              "      <td>0</td>\n",
              "    </tr>\n",
              "    <tr>\n",
              "      <th>False Positive Rate Difference</th>\n",
              "      <td>-0.064237</td>\n",
              "      <td>0</td>\n",
              "    </tr>\n",
              "    <tr>\n",
              "      <th>Average Odds Difference</th>\n",
              "      <td>-0.054535</td>\n",
              "      <td>0</td>\n",
              "    </tr>\n",
              "    <tr>\n",
              "      <th>Accuracy Difference</th>\n",
              "      <td>0.005108</td>\n",
              "      <td>0</td>\n",
              "    </tr>\n",
              "  </tbody>\n",
              "</table>\n",
              "</div>\n",
              "    <div class=\"colab-df-buttons\">\n",
              "\n",
              "  <div class=\"colab-df-container\">\n",
              "    <button class=\"colab-df-convert\" onclick=\"convertToInteractive('df-a3dc27be-1854-4466-ba9b-8d3303ca555b')\"\n",
              "            title=\"Convert this dataframe to an interactive table.\"\n",
              "            style=\"display:none;\">\n",
              "\n",
              "  <svg xmlns=\"http://www.w3.org/2000/svg\" height=\"24px\" viewBox=\"0 -960 960 960\">\n",
              "    <path d=\"M120-120v-720h720v720H120Zm60-500h600v-160H180v160Zm220 220h160v-160H400v160Zm0 220h160v-160H400v160ZM180-400h160v-160H180v160Zm440 0h160v-160H620v160ZM180-180h160v-160H180v160Zm440 0h160v-160H620v160Z\"/>\n",
              "  </svg>\n",
              "    </button>\n",
              "\n",
              "  <style>\n",
              "    .colab-df-container {\n",
              "      display:flex;\n",
              "      gap: 12px;\n",
              "    }\n",
              "\n",
              "    .colab-df-convert {\n",
              "      background-color: #E8F0FE;\n",
              "      border: none;\n",
              "      border-radius: 50%;\n",
              "      cursor: pointer;\n",
              "      display: none;\n",
              "      fill: #1967D2;\n",
              "      height: 32px;\n",
              "      padding: 0 0 0 0;\n",
              "      width: 32px;\n",
              "    }\n",
              "\n",
              "    .colab-df-convert:hover {\n",
              "      background-color: #E2EBFA;\n",
              "      box-shadow: 0px 1px 2px rgba(60, 64, 67, 0.3), 0px 1px 3px 1px rgba(60, 64, 67, 0.15);\n",
              "      fill: #174EA6;\n",
              "    }\n",
              "\n",
              "    .colab-df-buttons div {\n",
              "      margin-bottom: 4px;\n",
              "    }\n",
              "\n",
              "    [theme=dark] .colab-df-convert {\n",
              "      background-color: #3B4455;\n",
              "      fill: #D2E3FC;\n",
              "    }\n",
              "\n",
              "    [theme=dark] .colab-df-convert:hover {\n",
              "      background-color: #434B5C;\n",
              "      box-shadow: 0px 1px 3px 1px rgba(0, 0, 0, 0.15);\n",
              "      filter: drop-shadow(0px 1px 2px rgba(0, 0, 0, 0.3));\n",
              "      fill: #FFFFFF;\n",
              "    }\n",
              "  </style>\n",
              "\n",
              "    <script>\n",
              "      const buttonEl =\n",
              "        document.querySelector('#df-a3dc27be-1854-4466-ba9b-8d3303ca555b button.colab-df-convert');\n",
              "      buttonEl.style.display =\n",
              "        google.colab.kernel.accessAllowed ? 'block' : 'none';\n",
              "\n",
              "      async function convertToInteractive(key) {\n",
              "        const element = document.querySelector('#df-a3dc27be-1854-4466-ba9b-8d3303ca555b');\n",
              "        const dataTable =\n",
              "          await google.colab.kernel.invokeFunction('convertToInteractive',\n",
              "                                                    [key], {});\n",
              "        if (!dataTable) return;\n",
              "\n",
              "        const docLinkHtml = 'Like what you see? Visit the ' +\n",
              "          '<a target=\"_blank\" href=https://colab.research.google.com/notebooks/data_table.ipynb>data table notebook</a>'\n",
              "          + ' to learn more about interactive tables.';\n",
              "        element.innerHTML = '';\n",
              "        dataTable['output_type'] = 'display_data';\n",
              "        await google.colab.output.renderOutput(dataTable, element);\n",
              "        const docLink = document.createElement('div');\n",
              "        docLink.innerHTML = docLinkHtml;\n",
              "        element.appendChild(docLink);\n",
              "      }\n",
              "    </script>\n",
              "  </div>\n",
              "\n",
              "\n",
              "<div id=\"df-d60f03c0-050a-4cc0-b017-eac5600418c2\">\n",
              "  <button class=\"colab-df-quickchart\" onclick=\"quickchart('df-d60f03c0-050a-4cc0-b017-eac5600418c2')\"\n",
              "            title=\"Suggest charts\"\n",
              "            style=\"display:none;\">\n",
              "\n",
              "<svg xmlns=\"http://www.w3.org/2000/svg\" height=\"24px\"viewBox=\"0 0 24 24\"\n",
              "     width=\"24px\">\n",
              "    <g>\n",
              "        <path d=\"M19 3H5c-1.1 0-2 .9-2 2v14c0 1.1.9 2 2 2h14c1.1 0 2-.9 2-2V5c0-1.1-.9-2-2-2zM9 17H7v-7h2v7zm4 0h-2V7h2v10zm4 0h-2v-4h2v4z\"/>\n",
              "    </g>\n",
              "</svg>\n",
              "  </button>\n",
              "\n",
              "<style>\n",
              "  .colab-df-quickchart {\n",
              "      --bg-color: #E8F0FE;\n",
              "      --fill-color: #1967D2;\n",
              "      --hover-bg-color: #E2EBFA;\n",
              "      --hover-fill-color: #174EA6;\n",
              "      --disabled-fill-color: #AAA;\n",
              "      --disabled-bg-color: #DDD;\n",
              "  }\n",
              "\n",
              "  [theme=dark] .colab-df-quickchart {\n",
              "      --bg-color: #3B4455;\n",
              "      --fill-color: #D2E3FC;\n",
              "      --hover-bg-color: #434B5C;\n",
              "      --hover-fill-color: #FFFFFF;\n",
              "      --disabled-bg-color: #3B4455;\n",
              "      --disabled-fill-color: #666;\n",
              "  }\n",
              "\n",
              "  .colab-df-quickchart {\n",
              "    background-color: var(--bg-color);\n",
              "    border: none;\n",
              "    border-radius: 50%;\n",
              "    cursor: pointer;\n",
              "    display: none;\n",
              "    fill: var(--fill-color);\n",
              "    height: 32px;\n",
              "    padding: 0;\n",
              "    width: 32px;\n",
              "  }\n",
              "\n",
              "  .colab-df-quickchart:hover {\n",
              "    background-color: var(--hover-bg-color);\n",
              "    box-shadow: 0 1px 2px rgba(60, 64, 67, 0.3), 0 1px 3px 1px rgba(60, 64, 67, 0.15);\n",
              "    fill: var(--button-hover-fill-color);\n",
              "  }\n",
              "\n",
              "  .colab-df-quickchart-complete:disabled,\n",
              "  .colab-df-quickchart-complete:disabled:hover {\n",
              "    background-color: var(--disabled-bg-color);\n",
              "    fill: var(--disabled-fill-color);\n",
              "    box-shadow: none;\n",
              "  }\n",
              "\n",
              "  .colab-df-spinner {\n",
              "    border: 2px solid var(--fill-color);\n",
              "    border-color: transparent;\n",
              "    border-bottom-color: var(--fill-color);\n",
              "    animation:\n",
              "      spin 1s steps(1) infinite;\n",
              "  }\n",
              "\n",
              "  @keyframes spin {\n",
              "    0% {\n",
              "      border-color: transparent;\n",
              "      border-bottom-color: var(--fill-color);\n",
              "      border-left-color: var(--fill-color);\n",
              "    }\n",
              "    20% {\n",
              "      border-color: transparent;\n",
              "      border-left-color: var(--fill-color);\n",
              "      border-top-color: var(--fill-color);\n",
              "    }\n",
              "    30% {\n",
              "      border-color: transparent;\n",
              "      border-left-color: var(--fill-color);\n",
              "      border-top-color: var(--fill-color);\n",
              "      border-right-color: var(--fill-color);\n",
              "    }\n",
              "    40% {\n",
              "      border-color: transparent;\n",
              "      border-right-color: var(--fill-color);\n",
              "      border-top-color: var(--fill-color);\n",
              "    }\n",
              "    60% {\n",
              "      border-color: transparent;\n",
              "      border-right-color: var(--fill-color);\n",
              "    }\n",
              "    80% {\n",
              "      border-color: transparent;\n",
              "      border-right-color: var(--fill-color);\n",
              "      border-bottom-color: var(--fill-color);\n",
              "    }\n",
              "    90% {\n",
              "      border-color: transparent;\n",
              "      border-bottom-color: var(--fill-color);\n",
              "    }\n",
              "  }\n",
              "</style>\n",
              "\n",
              "  <script>\n",
              "    async function quickchart(key) {\n",
              "      const quickchartButtonEl =\n",
              "        document.querySelector('#' + key + ' button');\n",
              "      quickchartButtonEl.disabled = true;  // To prevent multiple clicks.\n",
              "      quickchartButtonEl.classList.add('colab-df-spinner');\n",
              "      try {\n",
              "        const charts = await google.colab.kernel.invokeFunction(\n",
              "            'suggestCharts', [key], {});\n",
              "      } catch (error) {\n",
              "        console.error('Error during call to suggestCharts:', error);\n",
              "      }\n",
              "      quickchartButtonEl.classList.remove('colab-df-spinner');\n",
              "      quickchartButtonEl.classList.add('colab-df-quickchart-complete');\n",
              "    }\n",
              "    (() => {\n",
              "      let quickchartButtonEl =\n",
              "        document.querySelector('#df-d60f03c0-050a-4cc0-b017-eac5600418c2 button');\n",
              "      quickchartButtonEl.style.display =\n",
              "        google.colab.kernel.accessAllowed ? 'block' : 'none';\n",
              "    })();\n",
              "  </script>\n",
              "</div>\n",
              "    </div>\n",
              "  </div>\n"
            ],
            "text/plain": [
              "                                       Value  Reference\n",
              "Metric                                                 \n",
              "Statistical Parity                 -0.082230          0\n",
              "Disparate Impact                    0.861102          1\n",
              "Four Fifths Rule                    0.861102          1\n",
              "Cohen D                            -0.166396          0\n",
              "2SD Rule                           -8.002247          0\n",
              "Equality of Opportunity Difference -0.044832          0\n",
              "False Positive Rate Difference     -0.064237          0\n",
              "Average Odds Difference            -0.054535          0\n",
              "Accuracy Difference                 0.005108          0"
            ]
          },
          "execution_count": 54,
          "metadata": {},
          "output_type": "execute_result"
        }
      ],
      "source": [
        "from holisticai.bias.metrics import classification_bias_metrics\n",
        "\n",
        "print(group_a.shape, group_b.shape, y_pred.shape)\n",
        "df = classification_bias_metrics(\n",
        "    bin_cols_test.astype(bool),\n",
        "    ~bin_cols_test.astype(bool),\n",
        "    y_pred,\n",
        "    y_test,\n",
        "    metric_type='both'\n",
        ")\n",
        "y_baseline = y_pred.copy()\n",
        "df_baseline=df.copy()\n",
        "df_baseline"
      ]
    },
    {
      "cell_type": "code",
      "execution_count": null,
      "metadata": {
        "colab": {
          "base_uri": "https://localhost:8080/",
          "height": 363
        },
        "id": "TyU2qSWdIIra",
        "outputId": "b05cfafe-7da7-405c-c3ec-1ae6f4650476"
      },
      "outputs": [
        {
          "data": {
            "application/vnd.google.colaboratory.intrinsic+json": {
              "summary": "{\n  \"name\": \"df_rf_baseline\",\n  \"rows\": 9,\n  \"fields\": [\n    {\n      \"column\": \"Metric\",\n      \"properties\": {\n        \"dtype\": \"string\",\n        \"num_unique_values\": 9,\n        \"samples\": [\n          \"Average Odds Difference\",\n          \"Disparate Impact\",\n          \"Equality of Opportunity Difference\"\n        ],\n        \"semantic_type\": \"\",\n        \"description\": \"\"\n      }\n    },\n    {\n      \"column\": \"Value\",\n      \"properties\": {\n        \"dtype\": \"number\",\n        \"std\": 2.2915129420933993,\n        \"min\": -6.585324335666161,\n        \"max\": 0.878740110311502,\n        \"num_unique_values\": 8,\n        \"samples\": [\n          0.878740110311502,\n          -0.04442832052710094,\n          -0.06804908055884462\n        ],\n        \"semantic_type\": \"\",\n        \"description\": \"\"\n      }\n    },\n    {\n      \"column\": \"Reference\",\n      \"properties\": {\n        \"dtype\": \"number\",\n        \"std\": 0,\n        \"min\": 0,\n        \"max\": 1,\n        \"num_unique_values\": 2,\n        \"samples\": [\n          1,\n          0\n        ],\n        \"semantic_type\": \"\",\n        \"description\": \"\"\n      }\n    }\n  ]\n}",
              "type": "dataframe",
              "variable_name": "df_rf_baseline"
            },
            "text/html": [
              "\n",
              "  <div id=\"df-d7af30d7-42ae-40e9-932f-f12ab147cb0a\" class=\"colab-df-container\">\n",
              "    <div>\n",
              "<style scoped>\n",
              "    .dataframe tbody tr th:only-of-type {\n",
              "        vertical-align: middle;\n",
              "    }\n",
              "\n",
              "    .dataframe tbody tr th {\n",
              "        vertical-align: top;\n",
              "    }\n",
              "\n",
              "    .dataframe thead th {\n",
              "        text-align: right;\n",
              "    }\n",
              "</style>\n",
              "<table border=\"1\" class=\"dataframe\">\n",
              "  <thead>\n",
              "    <tr style=\"text-align: right;\">\n",
              "      <th></th>\n",
              "      <th>Value</th>\n",
              "      <th>Reference</th>\n",
              "    </tr>\n",
              "    <tr>\n",
              "      <th>Metric</th>\n",
              "      <th></th>\n",
              "      <th></th>\n",
              "    </tr>\n",
              "  </thead>\n",
              "  <tbody>\n",
              "    <tr>\n",
              "      <th>Statistical Parity</th>\n",
              "      <td>-0.068049</td>\n",
              "      <td>0</td>\n",
              "    </tr>\n",
              "    <tr>\n",
              "      <th>Disparate Impact</th>\n",
              "      <td>0.878740</td>\n",
              "      <td>1</td>\n",
              "    </tr>\n",
              "    <tr>\n",
              "      <th>Four Fifths Rule</th>\n",
              "      <td>0.878740</td>\n",
              "      <td>1</td>\n",
              "    </tr>\n",
              "    <tr>\n",
              "      <th>Cohen D</th>\n",
              "      <td>-0.136800</td>\n",
              "      <td>0</td>\n",
              "    </tr>\n",
              "    <tr>\n",
              "      <th>2SD Rule</th>\n",
              "      <td>-6.585324</td>\n",
              "      <td>0</td>\n",
              "    </tr>\n",
              "    <tr>\n",
              "      <th>Equality of Opportunity Difference</th>\n",
              "      <td>-0.027752</td>\n",
              "      <td>0</td>\n",
              "    </tr>\n",
              "    <tr>\n",
              "      <th>False Positive Rate Difference</th>\n",
              "      <td>-0.044428</td>\n",
              "      <td>0</td>\n",
              "    </tr>\n",
              "    <tr>\n",
              "      <th>Average Odds Difference</th>\n",
              "      <td>-0.036090</td>\n",
              "      <td>0</td>\n",
              "    </tr>\n",
              "    <tr>\n",
              "      <th>Accuracy Difference</th>\n",
              "      <td>0.005759</td>\n",
              "      <td>0</td>\n",
              "    </tr>\n",
              "  </tbody>\n",
              "</table>\n",
              "</div>\n",
              "    <div class=\"colab-df-buttons\">\n",
              "\n",
              "  <div class=\"colab-df-container\">\n",
              "    <button class=\"colab-df-convert\" onclick=\"convertToInteractive('df-d7af30d7-42ae-40e9-932f-f12ab147cb0a')\"\n",
              "            title=\"Convert this dataframe to an interactive table.\"\n",
              "            style=\"display:none;\">\n",
              "\n",
              "  <svg xmlns=\"http://www.w3.org/2000/svg\" height=\"24px\" viewBox=\"0 -960 960 960\">\n",
              "    <path d=\"M120-120v-720h720v720H120Zm60-500h600v-160H180v160Zm220 220h160v-160H400v160Zm0 220h160v-160H400v160ZM180-400h160v-160H180v160Zm440 0h160v-160H620v160ZM180-180h160v-160H180v160Zm440 0h160v-160H620v160Z\"/>\n",
              "  </svg>\n",
              "    </button>\n",
              "\n",
              "  <style>\n",
              "    .colab-df-container {\n",
              "      display:flex;\n",
              "      gap: 12px;\n",
              "    }\n",
              "\n",
              "    .colab-df-convert {\n",
              "      background-color: #E8F0FE;\n",
              "      border: none;\n",
              "      border-radius: 50%;\n",
              "      cursor: pointer;\n",
              "      display: none;\n",
              "      fill: #1967D2;\n",
              "      height: 32px;\n",
              "      padding: 0 0 0 0;\n",
              "      width: 32px;\n",
              "    }\n",
              "\n",
              "    .colab-df-convert:hover {\n",
              "      background-color: #E2EBFA;\n",
              "      box-shadow: 0px 1px 2px rgba(60, 64, 67, 0.3), 0px 1px 3px 1px rgba(60, 64, 67, 0.15);\n",
              "      fill: #174EA6;\n",
              "    }\n",
              "\n",
              "    .colab-df-buttons div {\n",
              "      margin-bottom: 4px;\n",
              "    }\n",
              "\n",
              "    [theme=dark] .colab-df-convert {\n",
              "      background-color: #3B4455;\n",
              "      fill: #D2E3FC;\n",
              "    }\n",
              "\n",
              "    [theme=dark] .colab-df-convert:hover {\n",
              "      background-color: #434B5C;\n",
              "      box-shadow: 0px 1px 3px 1px rgba(0, 0, 0, 0.15);\n",
              "      filter: drop-shadow(0px 1px 2px rgba(0, 0, 0, 0.3));\n",
              "      fill: #FFFFFF;\n",
              "    }\n",
              "  </style>\n",
              "\n",
              "    <script>\n",
              "      const buttonEl =\n",
              "        document.querySelector('#df-d7af30d7-42ae-40e9-932f-f12ab147cb0a button.colab-df-convert');\n",
              "      buttonEl.style.display =\n",
              "        google.colab.kernel.accessAllowed ? 'block' : 'none';\n",
              "\n",
              "      async function convertToInteractive(key) {\n",
              "        const element = document.querySelector('#df-d7af30d7-42ae-40e9-932f-f12ab147cb0a');\n",
              "        const dataTable =\n",
              "          await google.colab.kernel.invokeFunction('convertToInteractive',\n",
              "                                                    [key], {});\n",
              "        if (!dataTable) return;\n",
              "\n",
              "        const docLinkHtml = 'Like what you see? Visit the ' +\n",
              "          '<a target=\"_blank\" href=https://colab.research.google.com/notebooks/data_table.ipynb>data table notebook</a>'\n",
              "          + ' to learn more about interactive tables.';\n",
              "        element.innerHTML = '';\n",
              "        dataTable['output_type'] = 'display_data';\n",
              "        await google.colab.output.renderOutput(dataTable, element);\n",
              "        const docLink = document.createElement('div');\n",
              "        docLink.innerHTML = docLinkHtml;\n",
              "        element.appendChild(docLink);\n",
              "      }\n",
              "    </script>\n",
              "  </div>\n",
              "\n",
              "\n",
              "<div id=\"df-b9161cfb-f033-4e35-b104-14310f9d3702\">\n",
              "  <button class=\"colab-df-quickchart\" onclick=\"quickchart('df-b9161cfb-f033-4e35-b104-14310f9d3702')\"\n",
              "            title=\"Suggest charts\"\n",
              "            style=\"display:none;\">\n",
              "\n",
              "<svg xmlns=\"http://www.w3.org/2000/svg\" height=\"24px\"viewBox=\"0 0 24 24\"\n",
              "     width=\"24px\">\n",
              "    <g>\n",
              "        <path d=\"M19 3H5c-1.1 0-2 .9-2 2v14c0 1.1.9 2 2 2h14c1.1 0 2-.9 2-2V5c0-1.1-.9-2-2-2zM9 17H7v-7h2v7zm4 0h-2V7h2v10zm4 0h-2v-4h2v4z\"/>\n",
              "    </g>\n",
              "</svg>\n",
              "  </button>\n",
              "\n",
              "<style>\n",
              "  .colab-df-quickchart {\n",
              "      --bg-color: #E8F0FE;\n",
              "      --fill-color: #1967D2;\n",
              "      --hover-bg-color: #E2EBFA;\n",
              "      --hover-fill-color: #174EA6;\n",
              "      --disabled-fill-color: #AAA;\n",
              "      --disabled-bg-color: #DDD;\n",
              "  }\n",
              "\n",
              "  [theme=dark] .colab-df-quickchart {\n",
              "      --bg-color: #3B4455;\n",
              "      --fill-color: #D2E3FC;\n",
              "      --hover-bg-color: #434B5C;\n",
              "      --hover-fill-color: #FFFFFF;\n",
              "      --disabled-bg-color: #3B4455;\n",
              "      --disabled-fill-color: #666;\n",
              "  }\n",
              "\n",
              "  .colab-df-quickchart {\n",
              "    background-color: var(--bg-color);\n",
              "    border: none;\n",
              "    border-radius: 50%;\n",
              "    cursor: pointer;\n",
              "    display: none;\n",
              "    fill: var(--fill-color);\n",
              "    height: 32px;\n",
              "    padding: 0;\n",
              "    width: 32px;\n",
              "  }\n",
              "\n",
              "  .colab-df-quickchart:hover {\n",
              "    background-color: var(--hover-bg-color);\n",
              "    box-shadow: 0 1px 2px rgba(60, 64, 67, 0.3), 0 1px 3px 1px rgba(60, 64, 67, 0.15);\n",
              "    fill: var(--button-hover-fill-color);\n",
              "  }\n",
              "\n",
              "  .colab-df-quickchart-complete:disabled,\n",
              "  .colab-df-quickchart-complete:disabled:hover {\n",
              "    background-color: var(--disabled-bg-color);\n",
              "    fill: var(--disabled-fill-color);\n",
              "    box-shadow: none;\n",
              "  }\n",
              "\n",
              "  .colab-df-spinner {\n",
              "    border: 2px solid var(--fill-color);\n",
              "    border-color: transparent;\n",
              "    border-bottom-color: var(--fill-color);\n",
              "    animation:\n",
              "      spin 1s steps(1) infinite;\n",
              "  }\n",
              "\n",
              "  @keyframes spin {\n",
              "    0% {\n",
              "      border-color: transparent;\n",
              "      border-bottom-color: var(--fill-color);\n",
              "      border-left-color: var(--fill-color);\n",
              "    }\n",
              "    20% {\n",
              "      border-color: transparent;\n",
              "      border-left-color: var(--fill-color);\n",
              "      border-top-color: var(--fill-color);\n",
              "    }\n",
              "    30% {\n",
              "      border-color: transparent;\n",
              "      border-left-color: var(--fill-color);\n",
              "      border-top-color: var(--fill-color);\n",
              "      border-right-color: var(--fill-color);\n",
              "    }\n",
              "    40% {\n",
              "      border-color: transparent;\n",
              "      border-right-color: var(--fill-color);\n",
              "      border-top-color: var(--fill-color);\n",
              "    }\n",
              "    60% {\n",
              "      border-color: transparent;\n",
              "      border-right-color: var(--fill-color);\n",
              "    }\n",
              "    80% {\n",
              "      border-color: transparent;\n",
              "      border-right-color: var(--fill-color);\n",
              "      border-bottom-color: var(--fill-color);\n",
              "    }\n",
              "    90% {\n",
              "      border-color: transparent;\n",
              "      border-bottom-color: var(--fill-color);\n",
              "    }\n",
              "  }\n",
              "</style>\n",
              "\n",
              "  <script>\n",
              "    async function quickchart(key) {\n",
              "      const quickchartButtonEl =\n",
              "        document.querySelector('#' + key + ' button');\n",
              "      quickchartButtonEl.disabled = true;  // To prevent multiple clicks.\n",
              "      quickchartButtonEl.classList.add('colab-df-spinner');\n",
              "      try {\n",
              "        const charts = await google.colab.kernel.invokeFunction(\n",
              "            'suggestCharts', [key], {});\n",
              "      } catch (error) {\n",
              "        console.error('Error during call to suggestCharts:', error);\n",
              "      }\n",
              "      quickchartButtonEl.classList.remove('colab-df-spinner');\n",
              "      quickchartButtonEl.classList.add('colab-df-quickchart-complete');\n",
              "    }\n",
              "    (() => {\n",
              "      let quickchartButtonEl =\n",
              "        document.querySelector('#df-b9161cfb-f033-4e35-b104-14310f9d3702 button');\n",
              "      quickchartButtonEl.style.display =\n",
              "        google.colab.kernel.accessAllowed ? 'block' : 'none';\n",
              "    })();\n",
              "  </script>\n",
              "</div>\n",
              "    </div>\n",
              "  </div>\n"
            ],
            "text/plain": [
              "                                       Value  Reference\n",
              "Metric                                                 \n",
              "Statistical Parity                 -0.068049          0\n",
              "Disparate Impact                    0.878740          1\n",
              "Four Fifths Rule                    0.878740          1\n",
              "Cohen D                            -0.136800          0\n",
              "2SD Rule                           -6.585324          0\n",
              "Equality of Opportunity Difference -0.027752          0\n",
              "False Positive Rate Difference     -0.044428          0\n",
              "Average Odds Difference            -0.036090          0\n",
              "Accuracy Difference                 0.005759          0"
            ]
          },
          "execution_count": 55,
          "metadata": {},
          "output_type": "execute_result"
        }
      ],
      "source": [
        "df_rf = classification_bias_metrics(\n",
        "    bin_cols_test.astype(bool),\n",
        "    ~bin_cols_test.astype(bool),\n",
        "    rf_pred,\n",
        "    y_test,\n",
        "    metric_type='both'\n",
        ")\n",
        "rf_baseline = rf_pred.copy()\n",
        "df_rf_baseline=df_rf.copy()\n",
        "df_rf_baseline"
      ]
    },
    {
      "cell_type": "code",
      "execution_count": null,
      "metadata": {
        "colab": {
          "base_uri": "https://localhost:8080/",
          "height": 363
        },
        "id": "8hh2y1roWZmm",
        "outputId": "9b7f0956-a146-47ec-9c4c-d477f7738d42"
      },
      "outputs": [
        {
          "data": {
            "application/vnd.google.colaboratory.intrinsic+json": {
              "summary": "{\n  \"name\": \"df_mlp_baseline\",\n  \"rows\": 9,\n  \"fields\": [\n    {\n      \"column\": \"Metric\",\n      \"properties\": {\n        \"dtype\": \"string\",\n        \"num_unique_values\": 9,\n        \"samples\": [\n          \"Average Odds Difference\",\n          \"Disparate Impact\",\n          \"Equality of Opportunity Difference\"\n        ],\n        \"semantic_type\": \"\",\n        \"description\": \"\"\n      }\n    },\n    {\n      \"column\": \"Value\",\n      \"properties\": {\n        \"dtype\": \"number\",\n        \"std\": 2.918816586850724,\n        \"min\": -8.518534491912291,\n        \"max\": 0.8418340418970734,\n        \"num_unique_values\": 8,\n        \"samples\": [\n          0.8418340418970734,\n          -0.06020377860223902,\n          -0.08815058009067439\n        ],\n        \"semantic_type\": \"\",\n        \"description\": \"\"\n      }\n    },\n    {\n      \"column\": \"Reference\",\n      \"properties\": {\n        \"dtype\": \"number\",\n        \"std\": 0,\n        \"min\": 0,\n        \"max\": 1,\n        \"num_unique_values\": 2,\n        \"samples\": [\n          1,\n          0\n        ],\n        \"semantic_type\": \"\",\n        \"description\": \"\"\n      }\n    }\n  ]\n}",
              "type": "dataframe",
              "variable_name": "df_mlp_baseline"
            },
            "text/html": [
              "\n",
              "  <div id=\"df-558c66a9-c739-4e16-80bf-903708f4270d\" class=\"colab-df-container\">\n",
              "    <div>\n",
              "<style scoped>\n",
              "    .dataframe tbody tr th:only-of-type {\n",
              "        vertical-align: middle;\n",
              "    }\n",
              "\n",
              "    .dataframe tbody tr th {\n",
              "        vertical-align: top;\n",
              "    }\n",
              "\n",
              "    .dataframe thead th {\n",
              "        text-align: right;\n",
              "    }\n",
              "</style>\n",
              "<table border=\"1\" class=\"dataframe\">\n",
              "  <thead>\n",
              "    <tr style=\"text-align: right;\">\n",
              "      <th></th>\n",
              "      <th>Value</th>\n",
              "      <th>Reference</th>\n",
              "    </tr>\n",
              "    <tr>\n",
              "      <th>Metric</th>\n",
              "      <th></th>\n",
              "      <th></th>\n",
              "    </tr>\n",
              "  </thead>\n",
              "  <tbody>\n",
              "    <tr>\n",
              "      <th>Statistical Parity</th>\n",
              "      <td>-0.088151</td>\n",
              "      <td>0</td>\n",
              "    </tr>\n",
              "    <tr>\n",
              "      <th>Disparate Impact</th>\n",
              "      <td>0.841834</td>\n",
              "      <td>1</td>\n",
              "    </tr>\n",
              "    <tr>\n",
              "      <th>Four Fifths Rule</th>\n",
              "      <td>0.841834</td>\n",
              "      <td>1</td>\n",
              "    </tr>\n",
              "    <tr>\n",
              "      <th>Cohen D</th>\n",
              "      <td>-0.177203</td>\n",
              "      <td>0</td>\n",
              "    </tr>\n",
              "    <tr>\n",
              "      <th>2SD Rule</th>\n",
              "      <td>-8.518534</td>\n",
              "      <td>0</td>\n",
              "    </tr>\n",
              "    <tr>\n",
              "      <th>Equality of Opportunity Difference</th>\n",
              "      <td>-0.055407</td>\n",
              "      <td>0</td>\n",
              "    </tr>\n",
              "    <tr>\n",
              "      <th>False Positive Rate Difference</th>\n",
              "      <td>-0.060204</td>\n",
              "      <td>0</td>\n",
              "    </tr>\n",
              "    <tr>\n",
              "      <th>Average Odds Difference</th>\n",
              "      <td>-0.057806</td>\n",
              "      <td>0</td>\n",
              "    </tr>\n",
              "    <tr>\n",
              "      <th>Accuracy Difference</th>\n",
              "      <td>0.001445</td>\n",
              "      <td>0</td>\n",
              "    </tr>\n",
              "  </tbody>\n",
              "</table>\n",
              "</div>\n",
              "    <div class=\"colab-df-buttons\">\n",
              "\n",
              "  <div class=\"colab-df-container\">\n",
              "    <button class=\"colab-df-convert\" onclick=\"convertToInteractive('df-558c66a9-c739-4e16-80bf-903708f4270d')\"\n",
              "            title=\"Convert this dataframe to an interactive table.\"\n",
              "            style=\"display:none;\">\n",
              "\n",
              "  <svg xmlns=\"http://www.w3.org/2000/svg\" height=\"24px\" viewBox=\"0 -960 960 960\">\n",
              "    <path d=\"M120-120v-720h720v720H120Zm60-500h600v-160H180v160Zm220 220h160v-160H400v160Zm0 220h160v-160H400v160ZM180-400h160v-160H180v160Zm440 0h160v-160H620v160ZM180-180h160v-160H180v160Zm440 0h160v-160H620v160Z\"/>\n",
              "  </svg>\n",
              "    </button>\n",
              "\n",
              "  <style>\n",
              "    .colab-df-container {\n",
              "      display:flex;\n",
              "      gap: 12px;\n",
              "    }\n",
              "\n",
              "    .colab-df-convert {\n",
              "      background-color: #E8F0FE;\n",
              "      border: none;\n",
              "      border-radius: 50%;\n",
              "      cursor: pointer;\n",
              "      display: none;\n",
              "      fill: #1967D2;\n",
              "      height: 32px;\n",
              "      padding: 0 0 0 0;\n",
              "      width: 32px;\n",
              "    }\n",
              "\n",
              "    .colab-df-convert:hover {\n",
              "      background-color: #E2EBFA;\n",
              "      box-shadow: 0px 1px 2px rgba(60, 64, 67, 0.3), 0px 1px 3px 1px rgba(60, 64, 67, 0.15);\n",
              "      fill: #174EA6;\n",
              "    }\n",
              "\n",
              "    .colab-df-buttons div {\n",
              "      margin-bottom: 4px;\n",
              "    }\n",
              "\n",
              "    [theme=dark] .colab-df-convert {\n",
              "      background-color: #3B4455;\n",
              "      fill: #D2E3FC;\n",
              "    }\n",
              "\n",
              "    [theme=dark] .colab-df-convert:hover {\n",
              "      background-color: #434B5C;\n",
              "      box-shadow: 0px 1px 3px 1px rgba(0, 0, 0, 0.15);\n",
              "      filter: drop-shadow(0px 1px 2px rgba(0, 0, 0, 0.3));\n",
              "      fill: #FFFFFF;\n",
              "    }\n",
              "  </style>\n",
              "\n",
              "    <script>\n",
              "      const buttonEl =\n",
              "        document.querySelector('#df-558c66a9-c739-4e16-80bf-903708f4270d button.colab-df-convert');\n",
              "      buttonEl.style.display =\n",
              "        google.colab.kernel.accessAllowed ? 'block' : 'none';\n",
              "\n",
              "      async function convertToInteractive(key) {\n",
              "        const element = document.querySelector('#df-558c66a9-c739-4e16-80bf-903708f4270d');\n",
              "        const dataTable =\n",
              "          await google.colab.kernel.invokeFunction('convertToInteractive',\n",
              "                                                    [key], {});\n",
              "        if (!dataTable) return;\n",
              "\n",
              "        const docLinkHtml = 'Like what you see? Visit the ' +\n",
              "          '<a target=\"_blank\" href=https://colab.research.google.com/notebooks/data_table.ipynb>data table notebook</a>'\n",
              "          + ' to learn more about interactive tables.';\n",
              "        element.innerHTML = '';\n",
              "        dataTable['output_type'] = 'display_data';\n",
              "        await google.colab.output.renderOutput(dataTable, element);\n",
              "        const docLink = document.createElement('div');\n",
              "        docLink.innerHTML = docLinkHtml;\n",
              "        element.appendChild(docLink);\n",
              "      }\n",
              "    </script>\n",
              "  </div>\n",
              "\n",
              "\n",
              "<div id=\"df-104819f4-fd36-4df8-a495-47ea62b505d8\">\n",
              "  <button class=\"colab-df-quickchart\" onclick=\"quickchart('df-104819f4-fd36-4df8-a495-47ea62b505d8')\"\n",
              "            title=\"Suggest charts\"\n",
              "            style=\"display:none;\">\n",
              "\n",
              "<svg xmlns=\"http://www.w3.org/2000/svg\" height=\"24px\"viewBox=\"0 0 24 24\"\n",
              "     width=\"24px\">\n",
              "    <g>\n",
              "        <path d=\"M19 3H5c-1.1 0-2 .9-2 2v14c0 1.1.9 2 2 2h14c1.1 0 2-.9 2-2V5c0-1.1-.9-2-2-2zM9 17H7v-7h2v7zm4 0h-2V7h2v10zm4 0h-2v-4h2v4z\"/>\n",
              "    </g>\n",
              "</svg>\n",
              "  </button>\n",
              "\n",
              "<style>\n",
              "  .colab-df-quickchart {\n",
              "      --bg-color: #E8F0FE;\n",
              "      --fill-color: #1967D2;\n",
              "      --hover-bg-color: #E2EBFA;\n",
              "      --hover-fill-color: #174EA6;\n",
              "      --disabled-fill-color: #AAA;\n",
              "      --disabled-bg-color: #DDD;\n",
              "  }\n",
              "\n",
              "  [theme=dark] .colab-df-quickchart {\n",
              "      --bg-color: #3B4455;\n",
              "      --fill-color: #D2E3FC;\n",
              "      --hover-bg-color: #434B5C;\n",
              "      --hover-fill-color: #FFFFFF;\n",
              "      --disabled-bg-color: #3B4455;\n",
              "      --disabled-fill-color: #666;\n",
              "  }\n",
              "\n",
              "  .colab-df-quickchart {\n",
              "    background-color: var(--bg-color);\n",
              "    border: none;\n",
              "    border-radius: 50%;\n",
              "    cursor: pointer;\n",
              "    display: none;\n",
              "    fill: var(--fill-color);\n",
              "    height: 32px;\n",
              "    padding: 0;\n",
              "    width: 32px;\n",
              "  }\n",
              "\n",
              "  .colab-df-quickchart:hover {\n",
              "    background-color: var(--hover-bg-color);\n",
              "    box-shadow: 0 1px 2px rgba(60, 64, 67, 0.3), 0 1px 3px 1px rgba(60, 64, 67, 0.15);\n",
              "    fill: var(--button-hover-fill-color);\n",
              "  }\n",
              "\n",
              "  .colab-df-quickchart-complete:disabled,\n",
              "  .colab-df-quickchart-complete:disabled:hover {\n",
              "    background-color: var(--disabled-bg-color);\n",
              "    fill: var(--disabled-fill-color);\n",
              "    box-shadow: none;\n",
              "  }\n",
              "\n",
              "  .colab-df-spinner {\n",
              "    border: 2px solid var(--fill-color);\n",
              "    border-color: transparent;\n",
              "    border-bottom-color: var(--fill-color);\n",
              "    animation:\n",
              "      spin 1s steps(1) infinite;\n",
              "  }\n",
              "\n",
              "  @keyframes spin {\n",
              "    0% {\n",
              "      border-color: transparent;\n",
              "      border-bottom-color: var(--fill-color);\n",
              "      border-left-color: var(--fill-color);\n",
              "    }\n",
              "    20% {\n",
              "      border-color: transparent;\n",
              "      border-left-color: var(--fill-color);\n",
              "      border-top-color: var(--fill-color);\n",
              "    }\n",
              "    30% {\n",
              "      border-color: transparent;\n",
              "      border-left-color: var(--fill-color);\n",
              "      border-top-color: var(--fill-color);\n",
              "      border-right-color: var(--fill-color);\n",
              "    }\n",
              "    40% {\n",
              "      border-color: transparent;\n",
              "      border-right-color: var(--fill-color);\n",
              "      border-top-color: var(--fill-color);\n",
              "    }\n",
              "    60% {\n",
              "      border-color: transparent;\n",
              "      border-right-color: var(--fill-color);\n",
              "    }\n",
              "    80% {\n",
              "      border-color: transparent;\n",
              "      border-right-color: var(--fill-color);\n",
              "      border-bottom-color: var(--fill-color);\n",
              "    }\n",
              "    90% {\n",
              "      border-color: transparent;\n",
              "      border-bottom-color: var(--fill-color);\n",
              "    }\n",
              "  }\n",
              "</style>\n",
              "\n",
              "  <script>\n",
              "    async function quickchart(key) {\n",
              "      const quickchartButtonEl =\n",
              "        document.querySelector('#' + key + ' button');\n",
              "      quickchartButtonEl.disabled = true;  // To prevent multiple clicks.\n",
              "      quickchartButtonEl.classList.add('colab-df-spinner');\n",
              "      try {\n",
              "        const charts = await google.colab.kernel.invokeFunction(\n",
              "            'suggestCharts', [key], {});\n",
              "      } catch (error) {\n",
              "        console.error('Error during call to suggestCharts:', error);\n",
              "      }\n",
              "      quickchartButtonEl.classList.remove('colab-df-spinner');\n",
              "      quickchartButtonEl.classList.add('colab-df-quickchart-complete');\n",
              "    }\n",
              "    (() => {\n",
              "      let quickchartButtonEl =\n",
              "        document.querySelector('#df-104819f4-fd36-4df8-a495-47ea62b505d8 button');\n",
              "      quickchartButtonEl.style.display =\n",
              "        google.colab.kernel.accessAllowed ? 'block' : 'none';\n",
              "    })();\n",
              "  </script>\n",
              "</div>\n",
              "    </div>\n",
              "  </div>\n"
            ],
            "text/plain": [
              "                                       Value  Reference\n",
              "Metric                                                 \n",
              "Statistical Parity                 -0.088151          0\n",
              "Disparate Impact                    0.841834          1\n",
              "Four Fifths Rule                    0.841834          1\n",
              "Cohen D                            -0.177203          0\n",
              "2SD Rule                           -8.518534          0\n",
              "Equality of Opportunity Difference -0.055407          0\n",
              "False Positive Rate Difference     -0.060204          0\n",
              "Average Odds Difference            -0.057806          0\n",
              "Accuracy Difference                 0.001445          0"
            ]
          },
          "execution_count": 56,
          "metadata": {},
          "output_type": "execute_result"
        }
      ],
      "source": [
        "df_mlp = classification_bias_metrics(\n",
        "    bin_cols_test.astype(bool),\n",
        "    ~bin_cols_test.astype(bool),\n",
        "    mlp_pred,\n",
        "    y_test,\n",
        "    metric_type='both'\n",
        ")\n",
        "mlp_baseline = mlp_pred.copy()\n",
        "df_mlp_baseline=df_mlp.copy()\n",
        "df_mlp_baseline"
      ]
    },
    {
      "cell_type": "code",
      "execution_count": null,
      "metadata": {
        "id": "GJ-IJDTFMQrN"
      },
      "outputs": [],
      "source": [
        "bin= ['White', 'Non-white']\n",
        "df = pd.DataFrame({bin[0]: bin_cols_test.astype(bool), bin[1]: ~bin_cols_test.astype(bool)})"
      ]
    },
    {
      "cell_type": "code",
      "execution_count": null,
      "metadata": {
        "id": "tYNnkRVTQAvZ"
      },
      "outputs": [],
      "source": [
        "def statistical_parity_multigroup(group_labels, y_pred):\n",
        "    success_rates = {}\n",
        "    for i, group in enumerate(group_labels):\n",
        "\n",
        "        success_rates[bin[i]] = group_success_rate(group, y_pred)\n",
        "\n",
        "    return success_rates"
      ]
    },
    {
      "cell_type": "code",
      "execution_count": null,
      "metadata": {
        "colab": {
          "base_uri": "https://localhost:8080/"
        },
        "id": "H3mQ0uayL0J7",
        "outputId": "b9aff69f-e2ad-4dd7-e97b-e546002ca2ca"
      },
      "outputs": [
        {
          "name": "stdout",
          "output_type": "stream",
          "text": [
            "{'White': 0.5097867367806018, 'Non-white': 0.5920165175498968} {'White': 0.7553008595988538, 'Non-white': 0.7561032318065566} {'White': 0.18085767557489124, 'Non-white': 0.13602550478214664}\n"
          ]
        }
      ],
      "source": [
        "success_rates_rf = statistical_parity_multigroup([bin_cols_test.astype(bool),~bin_cols_test.astype(bool)], y_pred)\n",
        "tpr_rf = tpr_multigroup(bin, y_pred, y_test, df)\n",
        "fpr_rf = fpr_multigroup(bin, y_pred, y_test, df)\n",
        "print(success_rates_rf, tpr_rf, fpr_rf)"
      ]
    },
    {
      "cell_type": "code",
      "execution_count": null,
      "metadata": {
        "colab": {
          "base_uri": "https://localhost:8080/"
        },
        "id": "YXftRW1yL07Z",
        "outputId": "eeeb073d-01e5-41a1-a6f1-b762d51ae613"
      },
      "outputs": [
        {
          "name": "stdout",
          "output_type": "stream",
          "text": [
            "{'White': 0.4931346771837569, 'Non-white': 0.5611837577426015} {'White': 0.8092417061611374, 'Non-white': 0.8094186902133922} {'White': 0.15102548166563082, 'Non-white': 0.12327311370882041}\n"
          ]
        }
      ],
      "source": [
        "success_rates_rf = statistical_parity_multigroup([bin_cols_test.astype(bool),~bin_cols_test.astype(bool)], rf_pred)\n",
        "tpr_rf = tpr_multigroup(bin, rf_pred, y_test, df)\n",
        "fpr_rf = fpr_multigroup(bin, rf_pred, y_test, df)\n",
        "print(success_rates_rf, tpr_rf, fpr_rf)"
      ]
    },
    {
      "cell_type": "code",
      "execution_count": null,
      "metadata": {
        "colab": {
          "base_uri": "https://localhost:8080/"
        },
        "id": "HAH5xofCL1-T",
        "outputId": "6fc8566a-5372-441b-bc6b-399483c21462"
      },
      "outputs": [
        {
          "name": "stdout",
          "output_type": "stream",
          "text": [
            "{'White': 0.4691790826760152, 'Non-white': 0.5573296627666896} {'White': 0.8063511830635118, 'Non-white': 0.7997036305260559} {'White': 0.19515226848974518, 'Non-white': 0.13974495217853347}\n"
          ]
        }
      ],
      "source": [
        "success_rates_rf = statistical_parity_multigroup([bin_cols_test.astype(bool),~bin_cols_test.astype(bool)], mlp_pred)\n",
        "tpr_rf = tpr_multigroup(bin, mlp_pred, y_test, df)\n",
        "fpr_rf = fpr_multigroup(bin, mlp_pred, y_test,df)\n",
        "print(success_rates_rf, tpr_rf, fpr_rf)"
      ]
    },
    {
      "cell_type": "markdown",
      "metadata": {
        "id": "_Z0Zr6bCewWj"
      },
      "source": []
    },
    {
      "cell_type": "code",
      "execution_count": null,
      "metadata": {
        "id": "X39kIC5lgugv"
      },
      "outputs": [],
      "source": [
        "# !pip install numba shap"
      ]
    },
    {
      "cell_type": "code",
      "execution_count": null,
      "metadata": {
        "id": "p-n1m99-g7iT"
      },
      "outputs": [],
      "source": [
        "# import shap"
      ]
    },
    {
      "cell_type": "code",
      "execution_count": null,
      "metadata": {
        "id": "2VeUbOLzhWFa"
      },
      "outputs": [],
      "source": [
        "#Usingg Tree explainer for\n",
        "# explainer = shap.TreeExplainer(rf_model, feature_perturbation=\"interventional\")\n",
        "# shap_values = explainer.shap_values(X_test)"
      ]
    },
    {
      "cell_type": "code",
      "execution_count": null,
      "metadata": {
        "id": "Yi6qU5T4rm5B"
      },
      "outputs": [],
      "source": [
        "# shap.summary_plot(shap_values, X_test)"
      ]
    },
    {
      "cell_type": "code",
      "execution_count": null,
      "metadata": {
        "id": "rnod5mnonAY2"
      },
      "outputs": [],
      "source": [
        "# shap.initjs()\n",
        "# shap.force_plot(explainer.expected_value[0], shap_values[0][0,:], X_test[0,:], feature_names=feature_names)"
      ]
    }
  ],
  "metadata": {
    "colab": {
      "provenance": []
    },
    "kernelspec": {
      "display_name": "Python 3",
      "name": "python3"
    },
    "language_info": {
      "name": "python"
    }
  },
  "nbformat": 4,
  "nbformat_minor": 0
}

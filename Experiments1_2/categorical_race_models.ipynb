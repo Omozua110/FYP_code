{
  "cells": [
    {
      "cell_type": "markdown",
      "metadata": {
        "colab": {
          "base_uri": "https://localhost:8080/"
        },
        "id": "wgQtmV9CCPlq",
        "outputId": "bc31d381-c5fd-4fd7-f7ce-d01fe9de5d2f"
      },
      "source": [
        "from google.colab import drive\n",
        "drive.mount('/content/drive')"
      ]
    },
    {
      "cell_type": "code",
      "execution_count": null,
      "metadata": {
        "colab": {
          "base_uri": "https://localhost:8080/"
        },
        "id": "0aX1r5E-CVto",
        "outputId": "a6a9a54e-d858-4c36-82e3-f774f58eef1f"
      },
      "outputs": [
        {
          "name": "stderr",
          "output_type": "stream",
          "text": [
            "<ipython-input-142-9cb36043a649>:21: DtypeWarning: Columns (22,31,32,33,38,46,77) have mixed types. Specify dtype option on import or set low_memory=False.\n",
            "  data = pd.read_csv(\"/content/drive/MyDrive/Colab Notebooks/state_CA.csv\", usecols= columns_list)\n"
          ]
        }
      ],
      "source": [
        "import pandas as pd\n",
        "import numpy as np\n",
        "\n",
        "columns_list = ['income', 'debt_to_income_ratio', 'applicant_credit_score_type', 'co-applicant_credit_score_type', 'loan_amount', 'loan_purpose', 'loan_to_value_ratio', 'loan_term', 'preapproval', 'lien_status', 'prepayment_penalty_term', 'intro_rate_period', 'negative_amortization', 'interest_only_payment', 'balloon_payment', 'property_value', 'construction_method', 'occupancy_type', 'county_code', 'census_tract', 'applicant_ethnicity-1', 'applicant_ethnicity-2', 'applicant_ethnicity-3', 'applicant_ethnicity-4', 'applicant_ethnicity-5', 'applicant_race-1', 'applicant_race-2', 'applicant_race-3', 'applicant_race-4', 'applicant_race-5', 'applicant_sex','applicant_age', 'action_taken']\n",
        "\n",
        "#columns_list = ['loan_purpose', 'loan_amount', 'action_taken', 'applicant_ethnicity-1', 'applicant_ethnicity-2', 'applicant_ethnicity-3', 'applicant_ethnicity-4', 'applicant_ethnicity-5', 'applicant_race-1', 'applicant_race-2', 'applicant_race-3', 'applicant_race-4', 'applicant_race-5', 'applicant_sex', 'lien_status',\n",
        "\n",
        "\n",
        "#  'income', 'debt_to_income_ratio', 'applicant_credit_score_type', 'co-applicant_credit_score_type', 'loan_amount', 'loan_type', 'loan_purpose', 'loan_to_value_ratio', 'interest_rate', 'rate_spread', 'loan_term', 'preapproval', 'lien_status', 'prepayment_penalty_term', 'intro_rate_period', 'negative_amortization', 'interest_only_payment', 'balloon_payment', 'property_value', 'construction_method', 'occupancy_type', 'county_code', 'census_tract', 'applicant_ethnicity-1', 'applicant_ethnicity-2', 'applicant_ethnicity-3', 'applicant_ethnicity-4', 'applicant_ethnicity-5', 'applicant_race-1', 'applicant_race-2', 'applicant_race-3', 'applicant_race-4', 'applicant_race-5', 'applicant_sex', 'action_taken']\n",
        "\n",
        "\n",
        "int_types = ['applicant_ethnicity-1',\n",
        "       'applicant_ethnicity-2', 'applicant_ethnicity-3',\n",
        "       'applicant_ethnicity-4', 'applicant_ethnicity-5', 'applicant_race-1',\n",
        "       'applicant_race-2', 'applicant_race-3', 'applicant_race-4',\n",
        "       'applicant_race-5', 'applicant_sex', 'action_taken']\n",
        "float_types=['loan_amount','loan_to_value_ratio', 'interest_rate', 'rate_spread', 'income', 'debt_to_income_ratio', 'loan_to_value_ratio']\n",
        "\n",
        "object_types=[]\n",
        "\n",
        "data = pd.read_csv(\"state_CA.csv\", usecols= columns_list)\n",
        "\n"
      ]
    },
    {
      "cell_type": "code",
      "execution_count": null,
      "metadata": {
        "colab": {
          "base_uri": "https://localhost:8080/"
        },
        "id": "we1iZr4Nmdpj",
        "outputId": "63605624-981e-49ae-91c9-e16d9bbaf408"
      },
      "outputs": [
        {
          "data": {
            "text/plain": [
              "33"
            ]
          },
          "execution_count": 143,
          "metadata": {},
          "output_type": "execute_result"
        }
      ],
      "source": [
        "len(columns_list)"
      ]
    },
    {
      "cell_type": "markdown",
      "metadata": {
        "id": "jPMVZFY9Mk8m"
      },
      "source": []
    },
    {
      "cell_type": "markdown",
      "metadata": {
        "id": "AL8V93O-MkyH"
      },
      "source": []
    },
    {
      "cell_type": "code",
      "execution_count": null,
      "metadata": {
        "colab": {
          "base_uri": "https://localhost:8080/"
        },
        "id": "olQ-ooUK_T7B",
        "outputId": "c511d7b7-b65c-451c-e76a-37a1fff4e6ae"
      },
      "outputs": [
        {
          "data": {
            "text/plain": [
              "Index(['county_code', 'census_tract', 'action_taken', 'preapproval',\n",
              "       'loan_purpose', 'lien_status', 'loan_amount', 'loan_to_value_ratio',\n",
              "       'loan_term', 'prepayment_penalty_term', 'intro_rate_period',\n",
              "       'negative_amortization', 'interest_only_payment', 'balloon_payment',\n",
              "       'property_value', 'construction_method', 'occupancy_type', 'income',\n",
              "       'debt_to_income_ratio', 'applicant_credit_score_type',\n",
              "       'co-applicant_credit_score_type', 'applicant_ethnicity-1',\n",
              "       'applicant_ethnicity-2', 'applicant_ethnicity-3',\n",
              "       'applicant_ethnicity-4', 'applicant_ethnicity-5', 'applicant_race-1',\n",
              "       'applicant_race-2', 'applicant_race-3', 'applicant_race-4',\n",
              "       'applicant_race-5', 'applicant_sex', 'applicant_age'],\n",
              "      dtype='object')"
            ]
          },
          "execution_count": 144,
          "metadata": {},
          "output_type": "execute_result"
        }
      ],
      "source": [
        "data.columns"
      ]
    },
    {
      "cell_type": "code",
      "execution_count": null,
      "metadata": {
        "id": "S9WupKZ_DCdf"
      },
      "outputs": [],
      "source": [
        "columns_to_check_for_na = ['county_code', 'census_tract', 'preapproval',\n",
        "       'loan_purpose', 'lien_status', 'loan_amount', 'loan_to_value_ratio', 'loan_term', 'prepayment_penalty_term',\n",
        "       'intro_rate_period', 'negative_amortization', 'interest_only_payment',\n",
        "       'balloon_payment', 'property_value', 'construction_method',\n",
        "       'occupancy_type', 'income', 'debt_to_income_ratio',\n",
        "       'applicant_credit_score_type', 'co-applicant_credit_score_type',\n",
        "       'applicant_ethnicity-1', 'applicant_race-1', 'applicant_sex']\n",
        "\n",
        "data= data.dropna(subset=columns_to_check_for_na)\n"
      ]
    },
    {
      "cell_type": "code",
      "execution_count": null,
      "metadata": {
        "id": "s23YsHjxbqau"
      },
      "outputs": [],
      "source": [
        "data = data[data!= 'Exempt']\n",
        "data = data[data!= '1111']\n",
        "data = data[data!= 1111]\n",
        "data = data[data!= '8888']\n",
        "data = data[data!= 8888]"
      ]
    },
    {
      "cell_type": "code",
      "execution_count": null,
      "metadata": {
        "id": "PbhZiYkScFt3"
      },
      "outputs": [],
      "source": [
        "data = data[data!= 'NaN']\n",
        "data = data[data!= 'nan']"
      ]
    },
    {
      "cell_type": "code",
      "execution_count": null,
      "metadata": {
        "id": "c1EaDpcQJZP1"
      },
      "outputs": [],
      "source": [
        "# Update action_taken values\n",
        "data['action_taken'] = data['action_taken'].replace({1: 1, 2: 1, 3: 0, 7: 0})\n",
        "\n",
        "# Drop rows with action_taken values of 4, 5, 6, or 8\n",
        "data = data[~data['action_taken'].isin([4, 5, 6, 8])]\n",
        "data = data[~data['applicant_ethnicity-1'].isin([3, 4])]\n",
        "data = data[~data['applicant_sex'].isin([3, 4, 6])]\n",
        "\n"
      ]
    },
    {
      "cell_type": "code",
      "execution_count": null,
      "metadata": {
        "colab": {
          "base_uri": "https://localhost:8080/"
        },
        "id": "A-J2ebQuJFmq",
        "outputId": "6434af1a-debc-44ac-8f74-4e829d74419d"
      },
      "outputs": [
        {
          "name": "stdout",
          "output_type": "stream",
          "text": [
            "action_taken\n",
            "0    32992\n",
            "1    31881\n",
            "Name: count, dtype: int64\n"
          ]
        }
      ],
      "source": [
        "action_taken_counts = data['action_taken'].value_counts()\n",
        "print(action_taken_counts)"
      ]
    },
    {
      "cell_type": "code",
      "execution_count": null,
      "metadata": {
        "id": "h2Nxc2XKT8gh"
      },
      "outputs": [],
      "source": [
        "data['debt_to_income_ratio']= data['debt_to_income_ratio'].replace({\n",
        "    '<20%': '0',\n",
        "    '>60%': '60',\n",
        "\n",
        "    '30%-<36%': '30',\n",
        "    '20%-<30%': '20',\n",
        "    '50%-60%': '50'\n",
        "})\n",
        "\n",
        "num_elements_per_range = min(data['debt_to_income_ratio'].value_counts())\n",
        "\n"
      ]
    },
    {
      "cell_type": "code",
      "execution_count": null,
      "metadata": {
        "id": "So8oQzWHUJ3j"
      },
      "outputs": [],
      "source": [
        "\n",
        "replacement_ranges = {\n",
        "    '37': [37,38,39,40,41,42],\n",
        "    '43': [43,44,45,46,47,48,49],\n",
        "}\n",
        "\n",
        "for key,value in replacement_ranges.items():\n",
        "  selected_rows= data['debt_to_income_ratio'].astype(float).between(min(value), max(value))\n",
        "  data.loc[selected_rows, 'debt_to_income_ratio'] = key\n",
        "\n"
      ]
    },
    {
      "cell_type": "code",
      "execution_count": null,
      "metadata": {
        "id": "xN-QpS5ihyMe"
      },
      "outputs": [],
      "source": [
        "for i in range(1, 6):\n",
        "        race_col = f'applicant_race-{i}'\n",
        "        data[race_col] = data[race_col].replace({1: 1, 2: 2, 21:2, 22:2, 23:2, 24:2, 25:2, 26:2, 27:2, 3: 3, 4: 4, 41:4, 42: 4, 43: 4, 44: 4})\n",
        "\n",
        "for i in range(1, 6):\n",
        "        race_col = f'applicant_ethnicity-{i}'\n",
        "        data[race_col] = data[race_col].replace({1: 1, 2: 0, 11:1, 12:1, 13:1, 14:1})\n",
        "\n",
        "data['applicant_ethnicity'] = (data[['applicant_ethnicity-1', 'applicant_ethnicity-2', 'applicant_ethnicity-3', 'applicant_ethnicity-4', 'applicant_ethnicity-5']].sum(axis=1) >= 1).astype(int) + 1\n",
        "data.drop(['applicant_ethnicity-1', 'applicant_ethnicity-2', 'applicant_ethnicity-3', 'applicant_ethnicity-4', 'applicant_ethnicity-5'],  axis=1, inplace=True)\n"
      ]
    },
    {
      "cell_type": "code",
      "execution_count": null,
      "metadata": {
        "colab": {
          "base_uri": "https://localhost:8080/",
          "height": 461
        },
        "id": "05njUAZHThwD",
        "outputId": "392cc515-047d-488b-aebc-a1c95d0ffbd7"
      },
      "outputs": [
        {
          "data": {
            "application/vnd.google.colaboratory.intrinsic+json": {
              "type": "dataframe",
              "variable_name": "data"
            },
            "text/html": [
              "\n",
              "  <div id=\"df-e1300436-cf99-4bcf-937b-a1aa66b1d152\" class=\"colab-df-container\">\n",
              "    <div>\n",
              "<style scoped>\n",
              "    .dataframe tbody tr th:only-of-type {\n",
              "        vertical-align: middle;\n",
              "    }\n",
              "\n",
              "    .dataframe tbody tr th {\n",
              "        vertical-align: top;\n",
              "    }\n",
              "\n",
              "    .dataframe thead th {\n",
              "        text-align: right;\n",
              "    }\n",
              "</style>\n",
              "<table border=\"1\" class=\"dataframe\">\n",
              "  <thead>\n",
              "    <tr style=\"text-align: right;\">\n",
              "      <th></th>\n",
              "      <th>county_code</th>\n",
              "      <th>census_tract</th>\n",
              "      <th>action_taken</th>\n",
              "      <th>preapproval</th>\n",
              "      <th>loan_purpose</th>\n",
              "      <th>lien_status</th>\n",
              "      <th>loan_amount</th>\n",
              "      <th>loan_to_value_ratio</th>\n",
              "      <th>loan_term</th>\n",
              "      <th>prepayment_penalty_term</th>\n",
              "      <th>...</th>\n",
              "      <th>applicant_credit_score_type</th>\n",
              "      <th>co-applicant_credit_score_type</th>\n",
              "      <th>applicant_race-1</th>\n",
              "      <th>applicant_race-2</th>\n",
              "      <th>applicant_race-3</th>\n",
              "      <th>applicant_race-4</th>\n",
              "      <th>applicant_race-5</th>\n",
              "      <th>applicant_sex</th>\n",
              "      <th>applicant_age</th>\n",
              "      <th>applicant_ethnicity</th>\n",
              "    </tr>\n",
              "  </thead>\n",
              "  <tbody>\n",
              "    <tr>\n",
              "      <th>54108</th>\n",
              "      <td>6085.0</td>\n",
              "      <td>6.085504e+09</td>\n",
              "      <td>1</td>\n",
              "      <td>2</td>\n",
              "      <td>1</td>\n",
              "      <td>1</td>\n",
              "      <td>1085000.0</td>\n",
              "      <td>NaN</td>\n",
              "      <td>NaN</td>\n",
              "      <td>NaN</td>\n",
              "      <td>...</td>\n",
              "      <td>NaN</td>\n",
              "      <td>NaN</td>\n",
              "      <td>2.0</td>\n",
              "      <td>2.0</td>\n",
              "      <td>NaN</td>\n",
              "      <td>NaN</td>\n",
              "      <td>NaN</td>\n",
              "      <td>1</td>\n",
              "      <td>35-44</td>\n",
              "      <td>1</td>\n",
              "    </tr>\n",
              "    <tr>\n",
              "      <th>54116</th>\n",
              "      <td>6059.0</td>\n",
              "      <td>6.059063e+09</td>\n",
              "      <td>1</td>\n",
              "      <td>2</td>\n",
              "      <td>1</td>\n",
              "      <td>1</td>\n",
              "      <td>1955000.0</td>\n",
              "      <td>NaN</td>\n",
              "      <td>NaN</td>\n",
              "      <td>NaN</td>\n",
              "      <td>...</td>\n",
              "      <td>NaN</td>\n",
              "      <td>NaN</td>\n",
              "      <td>5.0</td>\n",
              "      <td>NaN</td>\n",
              "      <td>NaN</td>\n",
              "      <td>NaN</td>\n",
              "      <td>NaN</td>\n",
              "      <td>2</td>\n",
              "      <td>35-44</td>\n",
              "      <td>1</td>\n",
              "    </tr>\n",
              "    <tr>\n",
              "      <th>54131</th>\n",
              "      <td>6037.0</td>\n",
              "      <td>6.037262e+09</td>\n",
              "      <td>1</td>\n",
              "      <td>2</td>\n",
              "      <td>1</td>\n",
              "      <td>1</td>\n",
              "      <td>3045000.0</td>\n",
              "      <td>NaN</td>\n",
              "      <td>NaN</td>\n",
              "      <td>NaN</td>\n",
              "      <td>...</td>\n",
              "      <td>NaN</td>\n",
              "      <td>NaN</td>\n",
              "      <td>5.0</td>\n",
              "      <td>NaN</td>\n",
              "      <td>NaN</td>\n",
              "      <td>NaN</td>\n",
              "      <td>NaN</td>\n",
              "      <td>1</td>\n",
              "      <td>NaN</td>\n",
              "      <td>1</td>\n",
              "    </tr>\n",
              "    <tr>\n",
              "      <th>54139</th>\n",
              "      <td>6059.0</td>\n",
              "      <td>6.059063e+09</td>\n",
              "      <td>1</td>\n",
              "      <td>2</td>\n",
              "      <td>1</td>\n",
              "      <td>1</td>\n",
              "      <td>2625000.0</td>\n",
              "      <td>NaN</td>\n",
              "      <td>NaN</td>\n",
              "      <td>NaN</td>\n",
              "      <td>...</td>\n",
              "      <td>NaN</td>\n",
              "      <td>NaN</td>\n",
              "      <td>5.0</td>\n",
              "      <td>NaN</td>\n",
              "      <td>NaN</td>\n",
              "      <td>NaN</td>\n",
              "      <td>NaN</td>\n",
              "      <td>1</td>\n",
              "      <td>NaN</td>\n",
              "      <td>1</td>\n",
              "    </tr>\n",
              "    <tr>\n",
              "      <th>64997</th>\n",
              "      <td>6085.0</td>\n",
              "      <td>6.085508e+09</td>\n",
              "      <td>1</td>\n",
              "      <td>2</td>\n",
              "      <td>1</td>\n",
              "      <td>1</td>\n",
              "      <td>1725000.0</td>\n",
              "      <td>65.0</td>\n",
              "      <td>360.0</td>\n",
              "      <td>18.0</td>\n",
              "      <td>...</td>\n",
              "      <td>9.0</td>\n",
              "      <td>10.0</td>\n",
              "      <td>2.0</td>\n",
              "      <td>NaN</td>\n",
              "      <td>NaN</td>\n",
              "      <td>NaN</td>\n",
              "      <td>NaN</td>\n",
              "      <td>1</td>\n",
              "      <td>45-54</td>\n",
              "      <td>1</td>\n",
              "    </tr>\n",
              "    <tr>\n",
              "      <th>...</th>\n",
              "      <td>...</td>\n",
              "      <td>...</td>\n",
              "      <td>...</td>\n",
              "      <td>...</td>\n",
              "      <td>...</td>\n",
              "      <td>...</td>\n",
              "      <td>...</td>\n",
              "      <td>...</td>\n",
              "      <td>...</td>\n",
              "      <td>...</td>\n",
              "      <td>...</td>\n",
              "      <td>...</td>\n",
              "      <td>...</td>\n",
              "      <td>...</td>\n",
              "      <td>...</td>\n",
              "      <td>...</td>\n",
              "      <td>...</td>\n",
              "      <td>...</td>\n",
              "      <td>...</td>\n",
              "      <td>...</td>\n",
              "      <td>...</td>\n",
              "    </tr>\n",
              "    <tr>\n",
              "      <th>1547658</th>\n",
              "      <td>6071.0</td>\n",
              "      <td>6.071002e+09</td>\n",
              "      <td>1</td>\n",
              "      <td>2</td>\n",
              "      <td>1</td>\n",
              "      <td>1</td>\n",
              "      <td>395000.0</td>\n",
              "      <td>NaN</td>\n",
              "      <td>NaN</td>\n",
              "      <td>NaN</td>\n",
              "      <td>...</td>\n",
              "      <td>NaN</td>\n",
              "      <td>NaN</td>\n",
              "      <td>2.0</td>\n",
              "      <td>2.0</td>\n",
              "      <td>NaN</td>\n",
              "      <td>NaN</td>\n",
              "      <td>NaN</td>\n",
              "      <td>1</td>\n",
              "      <td>25-34</td>\n",
              "      <td>1</td>\n",
              "    </tr>\n",
              "    <tr>\n",
              "      <th>1547660</th>\n",
              "      <td>6059.0</td>\n",
              "      <td>6.059052e+09</td>\n",
              "      <td>1</td>\n",
              "      <td>2</td>\n",
              "      <td>1</td>\n",
              "      <td>1</td>\n",
              "      <td>1025000.0</td>\n",
              "      <td>NaN</td>\n",
              "      <td>NaN</td>\n",
              "      <td>NaN</td>\n",
              "      <td>...</td>\n",
              "      <td>NaN</td>\n",
              "      <td>NaN</td>\n",
              "      <td>2.0</td>\n",
              "      <td>2.0</td>\n",
              "      <td>NaN</td>\n",
              "      <td>NaN</td>\n",
              "      <td>NaN</td>\n",
              "      <td>2</td>\n",
              "      <td>25-34</td>\n",
              "      <td>1</td>\n",
              "    </tr>\n",
              "    <tr>\n",
              "      <th>1547661</th>\n",
              "      <td>6037.0</td>\n",
              "      <td>6.037403e+09</td>\n",
              "      <td>1</td>\n",
              "      <td>2</td>\n",
              "      <td>1</td>\n",
              "      <td>1</td>\n",
              "      <td>545000.0</td>\n",
              "      <td>NaN</td>\n",
              "      <td>NaN</td>\n",
              "      <td>NaN</td>\n",
              "      <td>...</td>\n",
              "      <td>NaN</td>\n",
              "      <td>NaN</td>\n",
              "      <td>2.0</td>\n",
              "      <td>2.0</td>\n",
              "      <td>NaN</td>\n",
              "      <td>NaN</td>\n",
              "      <td>NaN</td>\n",
              "      <td>1</td>\n",
              "      <td>25-34</td>\n",
              "      <td>1</td>\n",
              "    </tr>\n",
              "    <tr>\n",
              "      <th>1547662</th>\n",
              "      <td>6037.0</td>\n",
              "      <td>6.037431e+09</td>\n",
              "      <td>1</td>\n",
              "      <td>2</td>\n",
              "      <td>32</td>\n",
              "      <td>1</td>\n",
              "      <td>875000.0</td>\n",
              "      <td>NaN</td>\n",
              "      <td>NaN</td>\n",
              "      <td>NaN</td>\n",
              "      <td>...</td>\n",
              "      <td>NaN</td>\n",
              "      <td>NaN</td>\n",
              "      <td>2.0</td>\n",
              "      <td>2.0</td>\n",
              "      <td>NaN</td>\n",
              "      <td>NaN</td>\n",
              "      <td>NaN</td>\n",
              "      <td>2</td>\n",
              "      <td>45-54</td>\n",
              "      <td>1</td>\n",
              "    </tr>\n",
              "    <tr>\n",
              "      <th>1547663</th>\n",
              "      <td>6059.0</td>\n",
              "      <td>6.059052e+09</td>\n",
              "      <td>1</td>\n",
              "      <td>2</td>\n",
              "      <td>1</td>\n",
              "      <td>1</td>\n",
              "      <td>1275000.0</td>\n",
              "      <td>NaN</td>\n",
              "      <td>NaN</td>\n",
              "      <td>NaN</td>\n",
              "      <td>...</td>\n",
              "      <td>NaN</td>\n",
              "      <td>NaN</td>\n",
              "      <td>2.0</td>\n",
              "      <td>2.0</td>\n",
              "      <td>NaN</td>\n",
              "      <td>NaN</td>\n",
              "      <td>NaN</td>\n",
              "      <td>1</td>\n",
              "      <td>25-34</td>\n",
              "      <td>1</td>\n",
              "    </tr>\n",
              "  </tbody>\n",
              "</table>\n",
              "<p>64873 rows × 29 columns</p>\n",
              "</div>\n",
              "    <div class=\"colab-df-buttons\">\n",
              "\n",
              "  <div class=\"colab-df-container\">\n",
              "    <button class=\"colab-df-convert\" onclick=\"convertToInteractive('df-e1300436-cf99-4bcf-937b-a1aa66b1d152')\"\n",
              "            title=\"Convert this dataframe to an interactive table.\"\n",
              "            style=\"display:none;\">\n",
              "\n",
              "  <svg xmlns=\"http://www.w3.org/2000/svg\" height=\"24px\" viewBox=\"0 -960 960 960\">\n",
              "    <path d=\"M120-120v-720h720v720H120Zm60-500h600v-160H180v160Zm220 220h160v-160H400v160Zm0 220h160v-160H400v160ZM180-400h160v-160H180v160Zm440 0h160v-160H620v160ZM180-180h160v-160H180v160Zm440 0h160v-160H620v160Z\"/>\n",
              "  </svg>\n",
              "    </button>\n",
              "\n",
              "  <style>\n",
              "    .colab-df-container {\n",
              "      display:flex;\n",
              "      gap: 12px;\n",
              "    }\n",
              "\n",
              "    .colab-df-convert {\n",
              "      background-color: #E8F0FE;\n",
              "      border: none;\n",
              "      border-radius: 50%;\n",
              "      cursor: pointer;\n",
              "      display: none;\n",
              "      fill: #1967D2;\n",
              "      height: 32px;\n",
              "      padding: 0 0 0 0;\n",
              "      width: 32px;\n",
              "    }\n",
              "\n",
              "    .colab-df-convert:hover {\n",
              "      background-color: #E2EBFA;\n",
              "      box-shadow: 0px 1px 2px rgba(60, 64, 67, 0.3), 0px 1px 3px 1px rgba(60, 64, 67, 0.15);\n",
              "      fill: #174EA6;\n",
              "    }\n",
              "\n",
              "    .colab-df-buttons div {\n",
              "      margin-bottom: 4px;\n",
              "    }\n",
              "\n",
              "    [theme=dark] .colab-df-convert {\n",
              "      background-color: #3B4455;\n",
              "      fill: #D2E3FC;\n",
              "    }\n",
              "\n",
              "    [theme=dark] .colab-df-convert:hover {\n",
              "      background-color: #434B5C;\n",
              "      box-shadow: 0px 1px 3px 1px rgba(0, 0, 0, 0.15);\n",
              "      filter: drop-shadow(0px 1px 2px rgba(0, 0, 0, 0.3));\n",
              "      fill: #FFFFFF;\n",
              "    }\n",
              "  </style>\n",
              "\n",
              "    <script>\n",
              "      const buttonEl =\n",
              "        document.querySelector('#df-e1300436-cf99-4bcf-937b-a1aa66b1d152 button.colab-df-convert');\n",
              "      buttonEl.style.display =\n",
              "        google.colab.kernel.accessAllowed ? 'block' : 'none';\n",
              "\n",
              "      async function convertToInteractive(key) {\n",
              "        const element = document.querySelector('#df-e1300436-cf99-4bcf-937b-a1aa66b1d152');\n",
              "        const dataTable =\n",
              "          await google.colab.kernel.invokeFunction('convertToInteractive',\n",
              "                                                    [key], {});\n",
              "        if (!dataTable) return;\n",
              "\n",
              "        const docLinkHtml = 'Like what you see? Visit the ' +\n",
              "          '<a target=\"_blank\" href=https://colab.research.google.com/notebooks/data_table.ipynb>data table notebook</a>'\n",
              "          + ' to learn more about interactive tables.';\n",
              "        element.innerHTML = '';\n",
              "        dataTable['output_type'] = 'display_data';\n",
              "        await google.colab.output.renderOutput(dataTable, element);\n",
              "        const docLink = document.createElement('div');\n",
              "        docLink.innerHTML = docLinkHtml;\n",
              "        element.appendChild(docLink);\n",
              "      }\n",
              "    </script>\n",
              "  </div>\n",
              "\n",
              "\n",
              "<div id=\"df-f9ec2adf-c127-4a72-adf1-932cf6b66b93\">\n",
              "  <button class=\"colab-df-quickchart\" onclick=\"quickchart('df-f9ec2adf-c127-4a72-adf1-932cf6b66b93')\"\n",
              "            title=\"Suggest charts\"\n",
              "            style=\"display:none;\">\n",
              "\n",
              "<svg xmlns=\"http://www.w3.org/2000/svg\" height=\"24px\"viewBox=\"0 0 24 24\"\n",
              "     width=\"24px\">\n",
              "    <g>\n",
              "        <path d=\"M19 3H5c-1.1 0-2 .9-2 2v14c0 1.1.9 2 2 2h14c1.1 0 2-.9 2-2V5c0-1.1-.9-2-2-2zM9 17H7v-7h2v7zm4 0h-2V7h2v10zm4 0h-2v-4h2v4z\"/>\n",
              "    </g>\n",
              "</svg>\n",
              "  </button>\n",
              "\n",
              "<style>\n",
              "  .colab-df-quickchart {\n",
              "      --bg-color: #E8F0FE;\n",
              "      --fill-color: #1967D2;\n",
              "      --hover-bg-color: #E2EBFA;\n",
              "      --hover-fill-color: #174EA6;\n",
              "      --disabled-fill-color: #AAA;\n",
              "      --disabled-bg-color: #DDD;\n",
              "  }\n",
              "\n",
              "  [theme=dark] .colab-df-quickchart {\n",
              "      --bg-color: #3B4455;\n",
              "      --fill-color: #D2E3FC;\n",
              "      --hover-bg-color: #434B5C;\n",
              "      --hover-fill-color: #FFFFFF;\n",
              "      --disabled-bg-color: #3B4455;\n",
              "      --disabled-fill-color: #666;\n",
              "  }\n",
              "\n",
              "  .colab-df-quickchart {\n",
              "    background-color: var(--bg-color);\n",
              "    border: none;\n",
              "    border-radius: 50%;\n",
              "    cursor: pointer;\n",
              "    display: none;\n",
              "    fill: var(--fill-color);\n",
              "    height: 32px;\n",
              "    padding: 0;\n",
              "    width: 32px;\n",
              "  }\n",
              "\n",
              "  .colab-df-quickchart:hover {\n",
              "    background-color: var(--hover-bg-color);\n",
              "    box-shadow: 0 1px 2px rgba(60, 64, 67, 0.3), 0 1px 3px 1px rgba(60, 64, 67, 0.15);\n",
              "    fill: var(--button-hover-fill-color);\n",
              "  }\n",
              "\n",
              "  .colab-df-quickchart-complete:disabled,\n",
              "  .colab-df-quickchart-complete:disabled:hover {\n",
              "    background-color: var(--disabled-bg-color);\n",
              "    fill: var(--disabled-fill-color);\n",
              "    box-shadow: none;\n",
              "  }\n",
              "\n",
              "  .colab-df-spinner {\n",
              "    border: 2px solid var(--fill-color);\n",
              "    border-color: transparent;\n",
              "    border-bottom-color: var(--fill-color);\n",
              "    animation:\n",
              "      spin 1s steps(1) infinite;\n",
              "  }\n",
              "\n",
              "  @keyframes spin {\n",
              "    0% {\n",
              "      border-color: transparent;\n",
              "      border-bottom-color: var(--fill-color);\n",
              "      border-left-color: var(--fill-color);\n",
              "    }\n",
              "    20% {\n",
              "      border-color: transparent;\n",
              "      border-left-color: var(--fill-color);\n",
              "      border-top-color: var(--fill-color);\n",
              "    }\n",
              "    30% {\n",
              "      border-color: transparent;\n",
              "      border-left-color: var(--fill-color);\n",
              "      border-top-color: var(--fill-color);\n",
              "      border-right-color: var(--fill-color);\n",
              "    }\n",
              "    40% {\n",
              "      border-color: transparent;\n",
              "      border-right-color: var(--fill-color);\n",
              "      border-top-color: var(--fill-color);\n",
              "    }\n",
              "    60% {\n",
              "      border-color: transparent;\n",
              "      border-right-color: var(--fill-color);\n",
              "    }\n",
              "    80% {\n",
              "      border-color: transparent;\n",
              "      border-right-color: var(--fill-color);\n",
              "      border-bottom-color: var(--fill-color);\n",
              "    }\n",
              "    90% {\n",
              "      border-color: transparent;\n",
              "      border-bottom-color: var(--fill-color);\n",
              "    }\n",
              "  }\n",
              "</style>\n",
              "\n",
              "  <script>\n",
              "    async function quickchart(key) {\n",
              "      const quickchartButtonEl =\n",
              "        document.querySelector('#' + key + ' button');\n",
              "      quickchartButtonEl.disabled = true;  // To prevent multiple clicks.\n",
              "      quickchartButtonEl.classList.add('colab-df-spinner');\n",
              "      try {\n",
              "        const charts = await google.colab.kernel.invokeFunction(\n",
              "            'suggestCharts', [key], {});\n",
              "      } catch (error) {\n",
              "        console.error('Error during call to suggestCharts:', error);\n",
              "      }\n",
              "      quickchartButtonEl.classList.remove('colab-df-spinner');\n",
              "      quickchartButtonEl.classList.add('colab-df-quickchart-complete');\n",
              "    }\n",
              "    (() => {\n",
              "      let quickchartButtonEl =\n",
              "        document.querySelector('#df-f9ec2adf-c127-4a72-adf1-932cf6b66b93 button');\n",
              "      quickchartButtonEl.style.display =\n",
              "        google.colab.kernel.accessAllowed ? 'block' : 'none';\n",
              "    })();\n",
              "  </script>\n",
              "</div>\n",
              "    </div>\n",
              "  </div>\n"
            ],
            "text/plain": [
              "         county_code  census_tract  action_taken  preapproval  loan_purpose  \\\n",
              "54108         6085.0  6.085504e+09             1            2             1   \n",
              "54116         6059.0  6.059063e+09             1            2             1   \n",
              "54131         6037.0  6.037262e+09             1            2             1   \n",
              "54139         6059.0  6.059063e+09             1            2             1   \n",
              "64997         6085.0  6.085508e+09             1            2             1   \n",
              "...              ...           ...           ...          ...           ...   \n",
              "1547658       6071.0  6.071002e+09             1            2             1   \n",
              "1547660       6059.0  6.059052e+09             1            2             1   \n",
              "1547661       6037.0  6.037403e+09             1            2             1   \n",
              "1547662       6037.0  6.037431e+09             1            2            32   \n",
              "1547663       6059.0  6.059052e+09             1            2             1   \n",
              "\n",
              "         lien_status  loan_amount loan_to_value_ratio loan_term  \\\n",
              "54108              1    1085000.0                 NaN       NaN   \n",
              "54116              1    1955000.0                 NaN       NaN   \n",
              "54131              1    3045000.0                 NaN       NaN   \n",
              "54139              1    2625000.0                 NaN       NaN   \n",
              "64997              1    1725000.0                65.0     360.0   \n",
              "...              ...          ...                 ...       ...   \n",
              "1547658            1     395000.0                 NaN       NaN   \n",
              "1547660            1    1025000.0                 NaN       NaN   \n",
              "1547661            1     545000.0                 NaN       NaN   \n",
              "1547662            1     875000.0                 NaN       NaN   \n",
              "1547663            1    1275000.0                 NaN       NaN   \n",
              "\n",
              "        prepayment_penalty_term  ... applicant_credit_score_type  \\\n",
              "54108                       NaN  ...                         NaN   \n",
              "54116                       NaN  ...                         NaN   \n",
              "54131                       NaN  ...                         NaN   \n",
              "54139                       NaN  ...                         NaN   \n",
              "64997                      18.0  ...                         9.0   \n",
              "...                         ...  ...                         ...   \n",
              "1547658                     NaN  ...                         NaN   \n",
              "1547660                     NaN  ...                         NaN   \n",
              "1547661                     NaN  ...                         NaN   \n",
              "1547662                     NaN  ...                         NaN   \n",
              "1547663                     NaN  ...                         NaN   \n",
              "\n",
              "         co-applicant_credit_score_type  applicant_race-1  applicant_race-2  \\\n",
              "54108                               NaN               2.0               2.0   \n",
              "54116                               NaN               5.0               NaN   \n",
              "54131                               NaN               5.0               NaN   \n",
              "54139                               NaN               5.0               NaN   \n",
              "64997                              10.0               2.0               NaN   \n",
              "...                                 ...               ...               ...   \n",
              "1547658                             NaN               2.0               2.0   \n",
              "1547660                             NaN               2.0               2.0   \n",
              "1547661                             NaN               2.0               2.0   \n",
              "1547662                             NaN               2.0               2.0   \n",
              "1547663                             NaN               2.0               2.0   \n",
              "\n",
              "        applicant_race-3  applicant_race-4  applicant_race-5  applicant_sex  \\\n",
              "54108                NaN               NaN               NaN              1   \n",
              "54116                NaN               NaN               NaN              2   \n",
              "54131                NaN               NaN               NaN              1   \n",
              "54139                NaN               NaN               NaN              1   \n",
              "64997                NaN               NaN               NaN              1   \n",
              "...                  ...               ...               ...            ...   \n",
              "1547658              NaN               NaN               NaN              1   \n",
              "1547660              NaN               NaN               NaN              2   \n",
              "1547661              NaN               NaN               NaN              1   \n",
              "1547662              NaN               NaN               NaN              2   \n",
              "1547663              NaN               NaN               NaN              1   \n",
              "\n",
              "        applicant_age  applicant_ethnicity  \n",
              "54108           35-44                    1  \n",
              "54116           35-44                    1  \n",
              "54131             NaN                    1  \n",
              "54139             NaN                    1  \n",
              "64997           45-54                    1  \n",
              "...               ...                  ...  \n",
              "1547658         25-34                    1  \n",
              "1547660         25-34                    1  \n",
              "1547661         25-34                    1  \n",
              "1547662         45-54                    1  \n",
              "1547663         25-34                    1  \n",
              "\n",
              "[64873 rows x 29 columns]"
            ]
          },
          "execution_count": 153,
          "metadata": {},
          "output_type": "execute_result"
        }
      ],
      "source": [
        "data"
      ]
    },
    {
      "cell_type": "code",
      "execution_count": null,
      "metadata": {
        "id": "l-DMhCRqTqdF"
      },
      "outputs": [],
      "source": [
        "def combine_race(row):\n",
        "    races = []\n",
        "    for i in range(1, 6):\n",
        "        race_col = f'applicant_race-{i}'\n",
        "        if pd.notna(row[race_col]) and row[race_col] in [1,2,3,4,5]:\n",
        "            races.append(row[race_col])\n",
        "    return races\n"
      ]
    },
    {
      "cell_type": "code",
      "execution_count": null,
      "metadata": {
        "id": "V6umv60MY74v"
      },
      "outputs": [],
      "source": [
        "from sklearn.preprocessing import MultiLabelBinarizer\n",
        "\n",
        "app_race = data.apply(combine_race, axis=1)\n",
        "mlb = MultiLabelBinarizer()\n",
        "race_binarized = mlb.fit_transform(app_race)\n",
        "data=data.drop(columns=['applicant_race-1', 'applicant_race-2', 'applicant_race-3', 'applicant_race-4', 'applicant_race-5'])"
      ]
    },
    {
      "cell_type": "code",
      "execution_count": null,
      "metadata": {
        "colab": {
          "base_uri": "https://localhost:8080/"
        },
        "id": "YJyqcNI2aWvU",
        "outputId": "023963bc-248a-4d0a-d3e5-80ef30207505"
      },
      "outputs": [
        {
          "data": {
            "text/plain": [
              "Index(['county_code', 'census_tract', 'action_taken', 'preapproval',\n",
              "       'loan_purpose', 'lien_status', 'loan_amount', 'loan_to_value_ratio',\n",
              "       'loan_term', 'prepayment_penalty_term', 'intro_rate_period',\n",
              "       'negative_amortization', 'interest_only_payment', 'balloon_payment',\n",
              "       'property_value', 'construction_method', 'occupancy_type', 'income',\n",
              "       'debt_to_income_ratio', 'applicant_credit_score_type',\n",
              "       'co-applicant_credit_score_type', 'applicant_sex', 'applicant_age',\n",
              "       'applicant_ethnicity'],\n",
              "      dtype='object')"
            ]
          },
          "execution_count": 156,
          "metadata": {},
          "output_type": "execute_result"
        }
      ],
      "source": [
        "data.columns"
      ]
    },
    {
      "cell_type": "code",
      "execution_count": null,
      "metadata": {
        "colab": {
          "base_uri": "https://localhost:8080/"
        },
        "id": "ZawLhfUR9RPy",
        "outputId": "ad62e3cc-da8a-4ece-ff08-5fb7b80dbba4"
      },
      "outputs": [
        {
          "data": {
            "text/plain": [
              "array([[0, 1, 0, 0, 0],\n",
              "       [0, 0, 0, 0, 1],\n",
              "       [0, 0, 0, 0, 1],\n",
              "       ...,\n",
              "       [0, 1, 0, 0, 0],\n",
              "       [0, 1, 0, 0, 0],\n",
              "       [0, 1, 0, 0, 0]])"
            ]
          },
          "execution_count": 157,
          "metadata": {},
          "output_type": "execute_result"
        }
      ],
      "source": [
        "race_binarized"
      ]
    },
    {
      "cell_type": "code",
      "execution_count": null,
      "metadata": {
        "id": "4z1SXfLyenIy"
      },
      "outputs": [],
      "source": [
        "import numpy as np\n",
        "race_sums = race_binarized.sum(axis=1)\n",
        "data['Mixed'] = (race_sums > 1).astype(int)\n",
        "\n",
        "data = data[race_sums > 0]\n",
        "race_binarized = race_binarized[race_sums > 0]"
      ]
    },
    {
      "cell_type": "code",
      "execution_count": null,
      "metadata": {
        "id": "vRAix_lbegQi"
      },
      "outputs": [],
      "source": [
        "for i, race in enumerate(['AI or AN', 'Asian', 'Black or AA', 'NH or PI', 'White']):\n",
        "    data[f'{race}'] = race_binarized[:, i]"
      ]
    },
    {
      "cell_type": "code",
      "execution_count": null,
      "metadata": {
        "colab": {
          "base_uri": "https://localhost:8080/"
        },
        "id": "kvvZ_tV9eemP",
        "outputId": "4b2eb8f2-22ba-4e2f-9bd5-41f0e650f269"
      },
      "outputs": [
        {
          "name": "stdout",
          "output_type": "stream",
          "text": [
            "         county_code  census_tract  action_taken  preapproval  loan_purpose  \\\n",
            "126918        6061.0  6.061021e+09             1            2             4   \n",
            "127123        6067.0  6.067006e+09             0            2             2   \n",
            "127549        6067.0  6.067009e+09             1            2             2   \n",
            "127567        6067.0  6.067004e+09             0            2             4   \n",
            "127581        6113.0  6.113011e+09             0            2             2   \n",
            "...              ...           ...           ...          ...           ...   \n",
            "1525451       6037.0  6.037462e+09             1            2             4   \n",
            "1525965       6037.0  6.037263e+09             1            2             4   \n",
            "1526350       6037.0  6.037277e+09             1            2             2   \n",
            "1527221       6037.0  6.037464e+09             0            2             2   \n",
            "1527562       6111.0  6.111007e+09             0            2            32   \n",
            "\n",
            "         lien_status  loan_amount loan_to_value_ratio loan_term  \\\n",
            "126918             2      75000.0              71.255     360.0   \n",
            "127123             2      25000.0              80.351     360.0   \n",
            "127549             2      65000.0               75.14     360.0   \n",
            "127567             2      75000.0              64.283     360.0   \n",
            "127581             2     135000.0              79.983     360.0   \n",
            "...              ...          ...                 ...       ...   \n",
            "1525451            2     105000.0                80.0       360   \n",
            "1525965            2     445000.0               73.53       360   \n",
            "1526350            2      95000.0               79.94       360   \n",
            "1527221            2    1005000.0                80.6       360   \n",
            "1527562            2     145000.0               82.87       360   \n",
            "\n",
            "        prepayment_penalty_term  ... applicant_sex  applicant_age  \\\n",
            "126918                     36.0  ...             2          35-44   \n",
            "127123                     36.0  ...             1          55-64   \n",
            "127549                     36.0  ...             2          55-64   \n",
            "127567                     36.0  ...             2          45-54   \n",
            "127581                     36.0  ...             2          55-64   \n",
            "...                         ...  ...           ...            ...   \n",
            "1525451                      36  ...             1          25-34   \n",
            "1525965                      36  ...             1          35-44   \n",
            "1526350                      36  ...             1          45-54   \n",
            "1527221                      36  ...             1          35-44   \n",
            "1527562                      36  ...             2          45-54   \n",
            "\n",
            "         applicant_ethnicity  Mixed AI or AN  Asian  Black or AA  NH or PI  \\\n",
            "126918                     1      1        1      0            0         1   \n",
            "127123                     1      1        0      1            0         0   \n",
            "127549                     1      1        1      0            0         0   \n",
            "127567                     2      1        0      0            1         0   \n",
            "127581                     1      1        0      1            0         0   \n",
            "...                      ...    ...      ...    ...          ...       ...   \n",
            "1525451                    1      1        0      0            1         0   \n",
            "1525965                    1      1        0      1            0         0   \n",
            "1526350                    1      1        0      0            1         0   \n",
            "1527221                    1      1        0      1            1         0   \n",
            "1527562                    1      1        0      1            0         0   \n",
            "\n",
            "        White  race  \n",
            "126918      0     1  \n",
            "127123      1     1  \n",
            "127549      1     1  \n",
            "127567      1     1  \n",
            "127581      1     1  \n",
            "...       ...   ...  \n",
            "1525451     1     1  \n",
            "1525965     1     1  \n",
            "1526350     1     1  \n",
            "1527221     1     1  \n",
            "1527562     1     1  \n",
            "\n",
            "[1284 rows x 31 columns]\n",
            "         AI or AN_me  Asian_me  Black or AA_me  NH or PI_me  White_me\n",
            "54108              0         1               0            0         0\n",
            "54116              0         0               0            0         1\n",
            "54131              0         0               0            0         1\n",
            "54139              0         0               0            0         1\n",
            "64997              0         1               0            0         0\n",
            "...              ...       ...             ...          ...       ...\n",
            "1547658            0         1               0            0         0\n",
            "1547660            0         1               0            0         0\n",
            "1547661            0         1               0            0         0\n",
            "1547662            0         1               0            0         0\n",
            "1547663            0         1               0            0         0\n",
            "\n",
            "[58602 rows x 5 columns]\n"
          ]
        }
      ],
      "source": [
        "data['race'] = np.where(np.any(race_binarized[:,:4], axis=1),1,0)\n",
        "race_columns = ['AI or AN', 'Asian', 'Black or AA', 'NH or PI', 'White']\n",
        "result_a =data[race_columns].sum(axis=1)<1\n",
        "result_b =data[race_columns].sum(axis=1)>1\n",
        "#off_rows = data[result_a]\n",
        "#print(off_rows)\n",
        "on_rows = data[result_b]\n",
        "print(on_rows)\n",
        "for i, race in enumerate(['AI or AN_me', 'Asian_me', 'Black or AA_me', 'NH or PI_me', 'White_me']):\n",
        "    data[f'{race}'] = race_binarized[:, i]\n",
        "race_columns_me = ['AI or AN_me', 'Asian_me', 'Black or AA_me', 'NH or PI_me', 'White_me']\n",
        "data.loc[data['Mixed'] == 1, race_columns_me] = 0\n",
        "print(data[race_columns_me])"
      ]
    },
    {
      "cell_type": "code",
      "execution_count": null,
      "metadata": {
        "colab": {
          "base_uri": "https://localhost:8080/"
        },
        "id": "8vBam5MdwmuC",
        "outputId": "45d7d33e-5078-45c7-c9d6-5019a68a0f68"
      },
      "outputs": [
        {
          "name": "stdout",
          "output_type": "stream",
          "text": [
            "         AI or AN_me  Asian_me  Black or AA_me  NH or PI_me  White_me\n",
            "54108              0         1               0            0         0\n",
            "54116              0         0               0            0         1\n",
            "54131              0         0               0            0         1\n",
            "54139              0         0               0            0         1\n",
            "64997              0         1               0            0         0\n",
            "...              ...       ...             ...          ...       ...\n",
            "1547658            0         1               0            0         0\n",
            "1547660            0         1               0            0         0\n",
            "1547661            0         1               0            0         0\n",
            "1547662            0         1               0            0         0\n",
            "1547663            0         1               0            0         0\n",
            "\n",
            "[58602 rows x 5 columns]          AI or AN  Asian  Black or AA  NH or PI  White\n",
            "54108           0      1            0         0      0\n",
            "54116           0      0            0         0      1\n",
            "54131           0      0            0         0      1\n",
            "54139           0      0            0         0      1\n",
            "64997           0      1            0         0      0\n",
            "...           ...    ...          ...       ...    ...\n",
            "1547658         0      1            0         0      0\n",
            "1547660         0      1            0         0      0\n",
            "1547661         0      1            0         0      0\n",
            "1547662         0      1            0         0      0\n",
            "1547663         0      1            0         0      0\n",
            "\n",
            "[58602 rows x 5 columns]\n"
          ]
        }
      ],
      "source": [
        "print(data[race_columns_me], data[race_columns])"
      ]
    },
    {
      "cell_type": "code",
      "execution_count": null,
      "metadata": {
        "id": "DBT0qPUPTBxi"
      },
      "outputs": [],
      "source": [
        "data.dropna(inplace=True)"
      ]
    },
    {
      "cell_type": "code",
      "execution_count": null,
      "metadata": {
        "id": "3f4DkRe84JQi"
      },
      "outputs": [],
      "source": [
        "data['prepayment_penalty_term'] = data['prepayment_penalty_term'].astype(int)\n",
        "data['intro_rate_period'] = data['intro_rate_period'].astype(int)"
      ]
    },
    {
      "cell_type": "code",
      "execution_count": null,
      "metadata": {
        "colab": {
          "base_uri": "https://localhost:8080/"
        },
        "id": "r3uC8cW5NAas",
        "outputId": "72d526e2-d555-4aec-b9bd-10fe745f9e50"
      },
      "outputs": [
        {
          "name": "stdout",
          "output_type": "stream",
          "text": [
            "Column 'county_code' has 57 distinct values 0\n",
            "Column 'census_tract' has 8063 distinct values 1\n",
            "Column 'action_taken' has 2 distinct values 2\n",
            "Column 'preapproval' has 2 distinct values 3\n",
            "Column 'loan_purpose' has 6 distinct values 4\n",
            "Column 'lien_status' has 2 distinct values 5\n",
            "Column 'loan_amount' has 186 distinct values 6\n",
            "Column 'loan_to_value_ratio' has 26126 distinct values 7\n",
            "Column 'loan_term' has 13 distinct values 8\n",
            "Column 'prepayment_penalty_term' has 7 distinct values 9\n",
            "Column 'intro_rate_period' has 9 distinct values 10\n",
            "Column 'negative_amortization' has 2 distinct values 11\n",
            "Column 'interest_only_payment' has 2 distinct values 12\n",
            "Column 'balloon_payment' has 2 distinct values 13\n",
            "Column 'property_value' has 1058 distinct values 14\n",
            "Column 'construction_method' has 2 distinct values 15\n",
            "Column 'occupancy_type' has 3 distinct values 16\n",
            "Column 'income' has 1343 distinct values 17\n",
            "Column 'debt_to_income_ratio' has 8 distinct values 18\n",
            "Column 'applicant_credit_score_type' has 8 distinct values 19\n",
            "Column 'co-applicant_credit_score_type' has 9 distinct values 20\n",
            "Column 'applicant_sex' has 2 distinct values 21\n",
            "Column 'applicant_age' has 7 distinct values 22\n",
            "Column 'applicant_ethnicity' has 2 distinct values 23\n",
            "Column 'Mixed' has 2 distinct values 24\n",
            "Column 'AI or AN' has 2 distinct values 25\n",
            "Column 'Asian' has 2 distinct values 26\n",
            "Column 'Black or AA' has 2 distinct values 27\n",
            "Column 'NH or PI' has 2 distinct values 28\n",
            "Column 'White' has 2 distinct values 29\n",
            "Column 'race' has 2 distinct values 30\n",
            "Column 'AI or AN_me' has 2 distinct values 31\n",
            "Column 'Asian_me' has 2 distinct values 32\n",
            "Column 'Black or AA_me' has 2 distinct values 33\n",
            "Column 'NH or PI_me' has 2 distinct values 34\n",
            "Column 'White_me' has 2 distinct values 35\n"
          ]
        }
      ],
      "source": [
        "x = 0\n",
        "for column in data.columns:\n",
        "  distinct_values = data[column].nunique()\n",
        "  print(f\"Column '{column}' has {distinct_values} distinct values\", x)\n",
        "  x+=1"
      ]
    },
    {
      "cell_type": "code",
      "execution_count": null,
      "metadata": {
        "id": "KIfiy2csZ_IS"
      },
      "outputs": [],
      "source": [
        "import numpy as np\n",
        "categorical_features = []\n",
        "dicts = {}\n",
        "x = 0\n",
        "for column in data.columns:\n",
        "  feature_dict= {}\n",
        "  distinct_values = data[column].nunique()\n",
        "  if column == 'action_taken' or column == 'Asian' or column == 'Black or AA' or column == 'NH or PI' or column == 'White':\n",
        "    continue\n",
        "  if column == 'AI or AN':\n",
        "    feature_dict['AI or AN'] = x\n",
        "    x+=1\n",
        "    feature_dict['Asian'] = x\n",
        "    x+=1\n",
        "    feature_dict['Black or AA'] = x\n",
        "    x+=1\n",
        "    feature_dict['NH or PI'] = x\n",
        "    x+=1\n",
        "    feature_dict['White'] = x\n",
        "    x+=1\n",
        "    dicts['race'] = feature_dict\n",
        "    continue\n",
        "  elif distinct_values < 50 and distinct_values>2:\n",
        "    categorical_features.append(column)\n",
        "    distinct_ops = data[column].unique()\n",
        "    for y in distinct_ops:\n",
        "      feature_dict[y] = x\n",
        "      x+=1\n",
        "  elif distinct_values == 2:\n",
        "    feature_dict['binary'] = x\n",
        "    x+=1\n",
        "  else:\n",
        "    feature_dict['continuous'] = x\n",
        "    x+=1\n",
        "  dicts[column]=feature_dict"
      ]
    },
    {
      "cell_type": "code",
      "execution_count": null,
      "metadata": {
        "colab": {
          "base_uri": "https://localhost:8080/"
        },
        "id": "EQ0cG_rQnhz5",
        "outputId": "11fb0662-fc66-41c9-b0d4-8415c2514e83"
      },
      "outputs": [
        {
          "name": "stdout",
          "output_type": "stream",
          "text": [
            "{'county_code': {'continuous': 0}, 'census_tract': {'continuous': 1}, 'preapproval': {'binary': 2}, 'loan_purpose': {1: 3, 31: 4, 2: 5, 32: 6, 4: 7, 5: 8}, 'lien_status': {'binary': 9}, 'loan_amount': {'continuous': 10}, 'loan_to_value_ratio': {'continuous': 11}, 'loan_term': {360.0: 12, 240.0: 13, '360': 14, '240': 15, '300': 16, '180': 17, 180.0: 18, 300.0: 19, '60': 20, '120': 21, '480': 22, '84': 23, '420': 24}, 'prepayment_penalty_term': {18: 25, 36: 26, 0: 27, 24: 28, 12: 29, 6: 30, 2: 31}, 'intro_rate_period': {60: 32, 1: 33, 84: 34, 299: 35, 120: 36, 3: 37, 12: 38, 6: 39, 9: 40}, 'negative_amortization': {'binary': 41}, 'interest_only_payment': {'binary': 42}, 'balloon_payment': {'binary': 43}, 'property_value': {'continuous': 44}, 'construction_method': {'binary': 45}, 'occupancy_type': {3: 46, 1: 47, 2: 48}, 'income': {'continuous': 49}, 'debt_to_income_ratio': {'50': 50, '30': 51, '37': 52, '43': 53, '60': 54, '20': 55, '0': 56, '36': 57}, 'applicant_credit_score_type': {9.0: 58, 3.0: 59, 2.0: 60, 1.0: 61, 7.0: 62, 4.0: 63, 8.0: 64, 11.0: 65}, 'co-applicant_credit_score_type': {10.0: 66, 3.0: 67, 1.0: 68, 2.0: 69, 9.0: 70, 7.0: 71, 8.0: 72, 11.0: 73, 4.0: 74}, 'applicant_sex': {'binary': 75}, 'applicant_age': {'45-54': 76, '55-64': 77, '35-44': 78, '65-74': 79, '>74': 80, '25-34': 81, '<25': 82}, 'applicant_ethnicity': {'binary': 83}, 'Mixed': {'binary': 84}, 'race': {'binary': 90}, 'AI or AN_me': {'binary': 91}, 'Asian_me': {'binary': 92}, 'Black or AA_me': {'binary': 93}, 'NH or PI_me': {'binary': 94}, 'White_me': {'binary': 95}}\n"
          ]
        }
      ],
      "source": [
        "print(dicts)"
      ]
    },
    {
      "cell_type": "code",
      "execution_count": null,
      "metadata": {
        "id": "677DEKelNE9X"
      },
      "outputs": [],
      "source": [
        "# = ['occupancy_type', 'preapproval','lien_status', 'balloon_payment', 'negative_amortization', 'interest_only_payment', 'debt_to_income_ratio','applicant_age', 'loan_purpose', 'applicant_credit_score_type', 'co-applicant_credit_score_type']\n",
        "\n",
        "data_encoded = pd.get_dummies(data, columns=categorical_features)"
      ]
    },
    {
      "cell_type": "code",
      "execution_count": null,
      "metadata": {
        "id": "mO6IGan6Tgvs"
      },
      "outputs": [],
      "source": [
        "data = data_encoded"
      ]
    },
    {
      "cell_type": "code",
      "execution_count": null,
      "metadata": {
        "colab": {
          "base_uri": "https://localhost:8080/"
        },
        "id": "51IfOGC2oJ8A",
        "outputId": "8afefffc-5078-488c-ed66-4549e7595801"
      },
      "outputs": [
        {
          "data": {
            "text/plain": [
              "Index(['county_code', 'census_tract', 'action_taken', 'preapproval',\n",
              "       'lien_status', 'loan_amount', 'loan_to_value_ratio',\n",
              "       'negative_amortization', 'interest_only_payment', 'balloon_payment',\n",
              "       'property_value', 'construction_method', 'income', 'applicant_sex',\n",
              "       'applicant_ethnicity', 'Mixed', 'AI or AN', 'Asian', 'Black or AA',\n",
              "       'NH or PI', 'White', 'race', 'AI or AN_me', 'Asian_me',\n",
              "       'Black or AA_me', 'NH or PI_me', 'White_me', 'loan_purpose_1',\n",
              "       'loan_purpose_2', 'loan_purpose_4', 'loan_purpose_5', 'loan_purpose_31',\n",
              "       'loan_purpose_32', 'loan_term_180.0', 'loan_term_240.0',\n",
              "       'loan_term_300.0', 'loan_term_360.0', 'loan_term_120', 'loan_term_180',\n",
              "       'loan_term_240', 'loan_term_300', 'loan_term_360', 'loan_term_420',\n",
              "       'loan_term_480', 'loan_term_60', 'loan_term_84',\n",
              "       'prepayment_penalty_term_0', 'prepayment_penalty_term_2',\n",
              "       'prepayment_penalty_term_6', 'prepayment_penalty_term_12',\n",
              "       'prepayment_penalty_term_18', 'prepayment_penalty_term_24',\n",
              "       'prepayment_penalty_term_36', 'intro_rate_period_1',\n",
              "       'intro_rate_period_3', 'intro_rate_period_6', 'intro_rate_period_9',\n",
              "       'intro_rate_period_12', 'intro_rate_period_60', 'intro_rate_period_84',\n",
              "       'intro_rate_period_120', 'intro_rate_period_299', 'occupancy_type_1',\n",
              "       'occupancy_type_2', 'occupancy_type_3', 'debt_to_income_ratio_0',\n",
              "       'debt_to_income_ratio_20', 'debt_to_income_ratio_30',\n",
              "       'debt_to_income_ratio_36', 'debt_to_income_ratio_37',\n",
              "       'debt_to_income_ratio_43', 'debt_to_income_ratio_50',\n",
              "       'debt_to_income_ratio_60', 'applicant_credit_score_type_1.0',\n",
              "       'applicant_credit_score_type_2.0', 'applicant_credit_score_type_3.0',\n",
              "       'applicant_credit_score_type_4.0', 'applicant_credit_score_type_7.0',\n",
              "       'applicant_credit_score_type_8.0', 'applicant_credit_score_type_9.0',\n",
              "       'applicant_credit_score_type_11.0',\n",
              "       'co-applicant_credit_score_type_1.0',\n",
              "       'co-applicant_credit_score_type_2.0',\n",
              "       'co-applicant_credit_score_type_3.0',\n",
              "       'co-applicant_credit_score_type_4.0',\n",
              "       'co-applicant_credit_score_type_7.0',\n",
              "       'co-applicant_credit_score_type_8.0',\n",
              "       'co-applicant_credit_score_type_9.0',\n",
              "       'co-applicant_credit_score_type_10.0',\n",
              "       'co-applicant_credit_score_type_11.0', 'applicant_age_25-34',\n",
              "       'applicant_age_35-44', 'applicant_age_45-54', 'applicant_age_55-64',\n",
              "       'applicant_age_65-74', 'applicant_age_<25', 'applicant_age_>74'],\n",
              "      dtype='object')"
            ]
          },
          "execution_count": 169,
          "metadata": {},
          "output_type": "execute_result"
        }
      ],
      "source": [
        "data.columns"
      ]
    },
    {
      "cell_type": "markdown",
      "metadata": {
        "id": "7t9Qpaipf-Ko"
      },
      "source": []
    },
    {
      "cell_type": "code",
      "execution_count": null,
      "metadata": {
        "id": "sNhJw9QOLlb8"
      },
      "outputs": [],
      "source": [
        "\n",
        "# Separate the majority and minority classes\n",
        "df_majority = data[data.action_taken == 0]\n",
        "df_minority = data[data.action_taken == 1]\n",
        "\n",
        "# Undersample the majority class without replacement\n",
        "df_majority_undersampled = df_majority.sample(n=len(df_minority), random_state=42)\n",
        "\n",
        "# Combine minority class with undersampled majority class\n",
        "df_undersampled = pd.concat([df_minority, df_majority_undersampled])\n",
        "\n",
        "# Shuffle the dataset to prevent the model from learning any order\n",
        "df_undersampled = df_undersampled.sample(frac=1, random_state=42).reset_index(drop=True)\n"
      ]
    },
    {
      "cell_type": "code",
      "execution_count": null,
      "metadata": {
        "id": "CTBOE3Z4M-D8"
      },
      "outputs": [],
      "source": [
        " data = df_undersampled"
      ]
    },
    {
      "cell_type": "code",
      "execution_count": null,
      "metadata": {
        "colab": {
          "base_uri": "https://localhost:8080/"
        },
        "id": "AiiYOcOlLsbh",
        "outputId": "29093f50-f6d1-47da-f98d-ea62666578b4"
      },
      "outputs": [
        {
          "name": "stdout",
          "output_type": "stream",
          "text": [
            "action_taken\n",
            "1    26720\n",
            "0    26720\n",
            "Name: count, dtype: int64\n"
          ]
        }
      ],
      "source": [
        "action_taken_counts = data['action_taken'].value_counts()\n",
        "print(action_taken_counts)"
      ]
    },
    {
      "cell_type": "code",
      "execution_count": null,
      "metadata": {
        "id": "RFq8zVKVTGEJ"
      },
      "outputs": [],
      "source": []
    },
    {
      "cell_type": "code",
      "execution_count": null,
      "metadata": {
        "id": "Knh2YxdN9d0I"
      },
      "outputs": [],
      "source": [
        "from sklearn.model_selection import train_test_split\n",
        "\n",
        "# Assuming 'action_taken' is the target variable\n",
        "\n",
        "\n",
        "columns_with_na = data.columns[data.isna().any()].tolist()\n",
        "X = data.drop(['action_taken','AI or AN_me', 'Asian_me', 'Black or AA_me', 'NH or PI_me', 'White_me', 'Mixed', 'race'], axis=1)\n",
        "y = data['action_taken']\n",
        "me_cols = data[['AI or AN_me', 'Asian_me', 'Black or AA_me', 'NH or PI_me', 'White_me', 'Mixed']]\n",
        "bin_cols = data['race']\n",
        "# Split data into training and testing sets\n",
        "X_train, X_test, y_train, y_test, me_cols_train, me_cols_test, bin_cols_train, bin_cols_test = train_test_split(X, y, me_cols, bin_cols, test_size=0.2, random_state=42)"
      ]
    },
    {
      "cell_type": "code",
      "execution_count": null,
      "metadata": {
        "colab": {
          "base_uri": "https://localhost:8080/"
        },
        "id": "4L8UnmkNBzMW",
        "outputId": "74d6ea63-3b1e-47d2-b07a-b0ed901ad4b7"
      },
      "outputs": [
        {
          "data": {
            "text/plain": [
              "[]"
            ]
          },
          "execution_count": 174,
          "metadata": {},
          "output_type": "execute_result"
        }
      ],
      "source": [
        "columns_with_na"
      ]
    },
    {
      "cell_type": "code",
      "execution_count": null,
      "metadata": {
        "colab": {
          "base_uri": "https://localhost:8080/"
        },
        "id": "kmTVXKeS95bP",
        "outputId": "5525ba8c-dbd3-4407-dece-16940071dbbc"
      },
      "outputs": [
        {
          "name": "stdout",
          "output_type": "stream",
          "text": [
            "Logistic Regression Accuracy: 0.7867\n"
          ]
        }
      ],
      "source": [
        "from sklearn.linear_model import LogisticRegression\n",
        "from sklearn.preprocessing import StandardScaler\n",
        "from sklearn.pipeline import make_pipeline\n",
        "from sklearn.metrics import accuracy_score, classification_report\n",
        "\n",
        "# Create a pipeline with preprocessing and model\n",
        "logistic_model = make_pipeline(StandardScaler(), LogisticRegression(max_iter=3000))\n",
        "\n",
        "# Fit the model on the training data\n",
        "logistic_model.fit(X_train, y_train)\n",
        "\n",
        "# Predict on the test data\n",
        "y_pred = logistic_model.predict(X_test)\n",
        "\n",
        "# Calculate the accuracy\n",
        "logistic_accuracy = accuracy_score(y_test, y_pred)\n",
        "print(f'Logistic Regression Accuracy: {logistic_accuracy:.4f}')\n",
        "\n",
        "# Generate and print the classification report\n",
        "report = classification_report(y_test, y_pred, target_names=['Class 0', 'Class 1'])"
      ]
    },
    {
      "cell_type": "code",
      "execution_count": null,
      "metadata": {
        "colab": {
          "base_uri": "https://localhost:8080/"
        },
        "id": "Jy9V4xkhEN-x",
        "outputId": "64573b77-798f-434a-ca51-804ca68c4b53"
      },
      "outputs": [
        {
          "name": "stdout",
          "output_type": "stream",
          "text": [
            "              precision    recall  f1-score   support\n",
            "\n",
            "     Class 0       0.83      0.72      0.77      5315\n",
            "     Class 1       0.76      0.85      0.80      5373\n",
            "\n",
            "    accuracy                           0.79     10688\n",
            "   macro avg       0.79      0.79      0.79     10688\n",
            "weighted avg       0.79      0.79      0.79     10688\n",
            "\n"
          ]
        }
      ],
      "source": [
        "print(report)"
      ]
    },
    {
      "cell_type": "code",
      "execution_count": null,
      "metadata": {
        "colab": {
          "base_uri": "https://localhost:8080/"
        },
        "id": "nWxq3hk2i7lx",
        "outputId": "10706970-7b26-4b9b-e0b8-78ff052633ad"
      },
      "outputs": [
        {
          "name": "stdout",
          "output_type": "stream",
          "text": [
            "0.7558312655086848 0.8003152916447713 0.8503629257398102\n"
          ]
        }
      ],
      "source": [
        "from sklearn.metrics import precision_score, f1_score, recall_score\n",
        "print(precision_score(y_test, y_pred), f1_score(y_test, y_pred), recall_score(y_test, y_pred))"
      ]
    },
    {
      "cell_type": "code",
      "execution_count": null,
      "metadata": {
        "colab": {
          "base_uri": "https://localhost:8080/"
        },
        "id": "0_9r6cF7ElSg",
        "outputId": "ff935498-e5e8-4e07-cc2f-3f476d5fb8fb"
      },
      "outputs": [
        {
          "name": "stdout",
          "output_type": "stream",
          "text": [
            "Random Forest Accuracy: 0.8313997005988024\n",
            "              precision    recall  f1-score   support\n",
            "\n",
            "     Class 0       0.86      0.79      0.82      5315\n",
            "     Class 1       0.81      0.87      0.84      5373\n",
            "\n",
            "    accuracy                           0.83     10688\n",
            "   macro avg       0.83      0.83      0.83     10688\n",
            "weighted avg       0.83      0.83      0.83     10688\n",
            "\n"
          ]
        }
      ],
      "source": [
        "from sklearn.ensemble import RandomForestClassifier\n",
        "from sklearn.metrics import accuracy_score, classification_report\n",
        "\n",
        "# Initialize the Random Forest model\n",
        "rf_model = RandomForestClassifier(random_state=42)\n",
        "\n",
        "# Fit the model on the training data\n",
        "rf_model.fit(X_train, y_train)\n",
        "\n",
        "# Predict on the test data\n",
        "rf_pred = rf_model.predict(X_test)\n",
        "\n",
        "# Calculate the accuracy\n",
        "rf_accuracy = accuracy_score(y_test, rf_pred)\n",
        "print(f'Random Forest Accuracy: {rf_accuracy}')\n",
        "\n",
        "# Generate and print the classification report\n",
        "rf_report = classification_report(y_test, rf_pred, target_names=['Class 0', 'Class 1'])\n",
        "print(rf_report)"
      ]
    },
    {
      "cell_type": "code",
      "execution_count": null,
      "metadata": {
        "colab": {
          "base_uri": "https://localhost:8080/"
        },
        "id": "7J7bO3mzjKi_",
        "outputId": "cfca24fb-24e1-47e0-990d-7562c539ff48"
      },
      "outputs": [
        {
          "name": "stdout",
          "output_type": "stream",
          "text": [
            "0.8097137901127494 0.8382115281019932 0.868788386376326\n"
          ]
        }
      ],
      "source": [
        "print(precision_score(y_test, rf_pred), f1_score(y_test, rf_pred), recall_score(y_test, rf_pred))"
      ]
    },
    {
      "cell_type": "code",
      "execution_count": null,
      "metadata": {
        "colab": {
          "base_uri": "https://localhost:8080/"
        },
        "id": "x5RUkA4yEobb",
        "outputId": "df1116ea-c3d2-466a-bb2c-b7cefad41ed1"
      },
      "outputs": [
        {
          "name": "stdout",
          "output_type": "stream",
          "text": [
            "MLP Accuracy: 0.8135291916167665\n",
            "              precision    recall  f1-score   support\n",
            "\n",
            "     Class 0       0.83      0.78      0.81      5315\n",
            "     Class 1       0.80      0.85      0.82      5373\n",
            "\n",
            "    accuracy                           0.81     10688\n",
            "   macro avg       0.81      0.81      0.81     10688\n",
            "weighted avg       0.81      0.81      0.81     10688\n",
            "\n"
          ]
        },
        {
          "name": "stderr",
          "output_type": "stream",
          "text": [
            "/usr/local/lib/python3.10/dist-packages/sklearn/neural_network/_multilayer_perceptron.py:686: ConvergenceWarning: Stochastic Optimizer: Maximum iterations (1000) reached and the optimization hasn't converged yet.\n",
            "  warnings.warn(\n"
          ]
        }
      ],
      "source": [
        "from sklearn.neural_network import MLPClassifier\n",
        "from sklearn.preprocessing import StandardScaler\n",
        "from sklearn.pipeline import make_pipeline\n",
        "\n",
        "# Create a pipeline with preprocessing and the MLP model\n",
        "# StandardScaler is used to scale the data for better performance of the MLP\n",
        "mlp_model = make_pipeline(StandardScaler(), MLPClassifier(max_iter=1000,random_state=42, solver='sgd'))\n",
        "\n",
        "\n",
        "# Fit the model on the training data\n",
        "mlp_model.fit(X_train, y_train)\n",
        "\n",
        "# Predict on the test data\n",
        "mlp_pred = mlp_model.predict(X_test)\n",
        "\n",
        "# Calculate the accuracy\n",
        "mlp_accuracy = accuracy_score(y_test, mlp_pred)\n",
        "print(f'MLP Accuracy: {mlp_accuracy}')\n",
        "\n",
        "# Generate and print the classification report\n",
        "mlp_report = classification_report(y_test, mlp_pred, target_names=['Class 0', 'Class 1'])\n",
        "print(mlp_report)\n"
      ]
    },
    {
      "cell_type": "code",
      "execution_count": null,
      "metadata": {
        "colab": {
          "base_uri": "https://localhost:8080/"
        },
        "id": "orfrUCY5mx1W",
        "outputId": "7880e95e-2372-4a7d-de14-7a7026ff04e6"
      },
      "outputs": [
        {
          "name": "stdout",
          "output_type": "stream",
          "text": [
            "0.7961794602173151 0.8201101182417185 0.8455239158756747\n"
          ]
        }
      ],
      "source": [
        "print(precision_score(y_test, mlp_pred), f1_score(y_test, mlp_pred), recall_score(y_test, mlp_pred))"
      ]
    },
    {
      "cell_type": "code",
      "execution_count": null,
      "metadata": {
        "colab": {
          "base_uri": "https://localhost:8080/"
        },
        "id": "KFa42vaZIDYB",
        "outputId": "59d34600-a7ac-4c9e-9361-a4c6a994a03a"
      },
      "outputs": [
        {
          "name": "stdout",
          "output_type": "stream",
          "text": [
            "debt_to_income_ratio_60 -1.7349687717363131\n",
            "loan_term_180.0 0.879550813688456\n",
            "debt_to_income_ratio_43 0.6234575858754285\n",
            "debt_to_income_ratio_37 0.6142558423956593\n",
            "loan_to_value_ratio -0.5518750513480809\n",
            "loan_term_300 -0.4141725597219719\n",
            "debt_to_income_ratio_30 0.40806960508990425\n",
            "debt_to_income_ratio_20 0.3120538090141395\n",
            "applicant_credit_score_type_9.0 -0.2768705860595469\n",
            "debt_to_income_ratio_50 -0.27659088392544146\n",
            "prepayment_penalty_term_12 0.2726490051769512\n",
            "loan_amount 0.26150724276274917\n",
            "applicant_credit_score_type_1.0 0.2602343512547832\n",
            "prepayment_penalty_term_2 -0.24573693683760198\n",
            "loan_term_180 0.24515300060461612\n",
            "intro_rate_period_1 -0.23444318404451137\n",
            "lien_status 0.21684627632712877\n",
            "debt_to_income_ratio_36 0.21550827896501026\n",
            "prepayment_penalty_term_24 0.2140943349938007\n",
            "applicant_ethnicity -0.20456730429814107\n",
            "intro_rate_period_3 0.18965885435107455\n",
            "applicant_credit_score_type_2.0 0.18628648461745143\n",
            "intro_rate_period_6 0.18203812631994348\n",
            "loan_term_360.0 -0.17996245385509924\n",
            "co-applicant_credit_score_type_8.0 0.15643323353381877\n",
            "applicant_credit_score_type_3.0 0.15430166527584963\n",
            "prepayment_penalty_term_36 0.14171546745765126\n",
            "applicant_credit_score_type_8.0 -0.13964220984004688\n",
            "co-applicant_credit_score_type_10.0 -0.12258588641889062\n",
            "negative_amortization 0.11843185219681927\n",
            "intro_rate_period_84 -0.11627612593263727\n",
            "intro_rate_period_12 0.11299901862701502\n",
            "applicant_age_25-34 -0.1068676598863399\n",
            "loan_purpose_31 0.10686743148597336\n",
            "co-applicant_credit_score_type_2.0 0.10362915012508246\n",
            "property_value -0.1026694320723615\n",
            "Black or AA -0.08950840747810902\n",
            "intro_rate_period_120 0.08607191037243367\n",
            "loan_term_360 0.07958236742694037\n",
            "occupancy_type_2 -0.0755007042035656\n",
            "intro_rate_period_9 0.07338772244865015\n",
            "White 0.07291600227026432\n",
            "applicant_age_65-74 0.07260159001162092\n",
            "prepayment_penalty_term_0 -0.06921655858026929\n",
            "occupancy_type_1 0.06470296611420173\n",
            "loan_purpose_4 -0.06425772765254173\n",
            "co-applicant_credit_score_type_9.0 -0.06040969041424352\n",
            "preapproval -0.0594411392473026\n",
            "construction_method -0.05427383322579182\n",
            "intro_rate_period_60 0.05149706321061317\n",
            "co-applicant_credit_score_type_3.0 0.05127057906673695\n",
            "interest_only_payment -0.04662215765091363\n",
            "loan_term_60 0.04539557481206654\n",
            "co-applicant_credit_score_type_7.0 -0.044308738377964375\n",
            "income -0.04231603832198616\n",
            "applicant_credit_score_type_7.0 -0.041678463370123556\n",
            "co-applicant_credit_score_type_4.0 0.038085258526422715\n",
            "loan_term_420 0.03511822787532503\n",
            "applicant_age_55-64 0.03479852945252827\n",
            "co-applicant_credit_score_type_1.0 0.034188501001334956\n",
            "NH or PI -0.03293279508145886\n",
            "applicant_age_>74 -0.03236942159485846\n",
            "applicant_age_<25 -0.03226883084679928\n",
            "loan_purpose_32 0.03136578231860388\n",
            "prepayment_penalty_term_18 -0.027789475970094103\n",
            "loan_term_300.0 0.025906376799808385\n",
            "loan_term_240.0 -0.025418603424831404\n",
            "applicant_age_35-44 -0.02364738161598579\n",
            "loan_term_240 0.022005088611895963\n",
            "intro_rate_period_299 0.022005088611895963\n",
            "applicant_credit_score_type_4.0 -0.019576577859458367\n",
            "loan_term_120 0.01880706104163056\n",
            "loan_term_480 0.01726295695878147\n",
            "prepayment_penalty_term_6 0.01726295695878147\n",
            "applicant_age_45-54 0.016395421236938167\n",
            "balloon_payment 0.012539449597635364\n",
            "applicant_sex -0.012109001422338431\n",
            "loan_term_84 0.01093495002922984\n",
            "loan_purpose_1 -0.009977123683773464\n",
            "occupancy_type_3 0.009182265384492662\n",
            "census_tract -0.008300485569002099\n",
            "Asian -0.008195030103887967\n",
            "county_code -0.00787177356111719\n",
            "loan_purpose_2 -0.006476861040700767\n",
            "applicant_credit_score_type_11.0 0.005338723569317749\n",
            "debt_to_income_ratio_0 -0.004763124622711342\n",
            "co-applicant_credit_score_type_11.0 -0.0044976187550606955\n",
            "AI or AN -0.0015508172639012736\n",
            "loan_purpose_5 0.0\n"
          ]
        }
      ],
      "source": [
        "coefficients = logistic_model.named_steps['logisticregression'].coef_[0]\n",
        "feature_names = X_train.columns\n",
        "feature_coefficients = dict(zip(feature_names, coefficients))\n",
        "sorted_features = sorted(feature_coefficients.items(), key=lambda x: abs(x[1]), reverse=True)\n",
        "for feature, coefficient in sorted_features:\n",
        "    print(feature, coefficient)\n"
      ]
    },
    {
      "cell_type": "code",
      "execution_count": null,
      "metadata": {
        "colab": {
          "base_uri": "https://localhost:8080/",
          "height": 1474
        },
        "id": "VFEDW2JRUlh0",
        "outputId": "2d1cae8d-87b7-4799-fa05-5485a8d73e40"
      },
      "outputs": [
        {
          "name": "stdout",
          "output_type": "stream",
          "text": [
            "Logistic\n"
          ]
        },
        {
          "data": {
            "image/png": "[encoded data removed]",
            "text/plain": [
              "<Figure size 500x500 with 2 Axes>"
            ]
          },
          "metadata": {},
          "output_type": "display_data"
        },
        {
          "name": "stdout",
          "output_type": "stream",
          "text": [
            "\n",
            "Random Forest\n"
          ]
        },
        {
          "data": {
            "image/png": "[encoded data removed]",
            "text/plain": [
              "<Figure size 500x500 with 2 Axes>"
            ]
          },
          "metadata": {},
          "output_type": "display_data"
        },
        {
          "name": "stdout",
          "output_type": "stream",
          "text": [
            "\n",
            "MLP\n"
          ]
        },
        {
          "data": {
            "image/png": "[encoded data removed]",
            "text/plain": [
              "<Figure size 500x500 with 2 Axes>"
            ]
          },
          "metadata": {},
          "output_type": "display_data"
        }
      ],
      "source": [
        "from sklearn.metrics import confusion_matrix\n",
        "import seaborn as sns\n",
        "import matplotlib.pyplot as plt\n",
        "\n",
        "\n",
        "print(\"Logistic\")\n",
        "lg_cm = confusion_matrix(y_test, y_pred)\n",
        "\n",
        "rf_cm =confusion_matrix(y_test, rf_pred)\n",
        "\n",
        "mlp_cm = confusion_matrix(y_test, mlp_pred)\n",
        "\n",
        "plt.figure(figsize=(5,5))\n",
        "sns.heatmap(lg_cm, annot=True, fmt=\".0f\", cmap=\"Blues\")\n",
        "plt.xlabel('Predicted')\n",
        "plt.ylabel('Truth')\n",
        "plt.show()\n",
        "\n",
        "print(\"\\nRandom Forest\")\n",
        "plt.figure(figsize=(5,5))\n",
        "sns.heatmap(rf_cm, annot=True, fmt=\".0f\", cmap=\"Blues\")\n",
        "plt.xlabel('Predicted')\n",
        "plt.ylabel('Truth')\n",
        "plt.show()\n",
        "\n",
        "print(\"\\nMLP\")\n",
        "plt.figure(figsize=(5,5))\n",
        "sns.heatmap(mlp_cm, annot=True, fmt=\".0f\", cmap=\"Blues\")\n",
        "plt.xlabel('Predicted')\n",
        "plt.ylabel('Truth')\n",
        "plt.show()"
      ]
    },
    {
      "cell_type": "code",
      "execution_count": null,
      "metadata": {
        "id": "x9SN9CXenNoA"
      },
      "outputs": [],
      "source": []
    },
    {
      "cell_type": "code",
      "execution_count": null,
      "metadata": {
        "colab": {
          "base_uri": "https://localhost:8080/"
        },
        "id": "v53O5lmlRAkQ",
        "outputId": "86c41913-b2e0-4200-f568-3fb6e8c87cb0"
      },
      "outputs": [
        {
          "name": "stdout",
          "output_type": "stream",
          "text": [
            "Requirement already satisfied: holisticai[all] in /usr/local/lib/python3.10/dist-packages (0.7.3)\n",
            "Requirement already satisfied: scikit-learn>=1.0.2 in /usr/local/lib/python3.10/dist-packages (from holisticai[all]) (1.2.2)\n",
            "Requirement already satisfied: cvxopt>=1.3.0 in /usr/local/lib/python3.10/dist-packages (from holisticai[all]) (1.3.2)\n",
            "Requirement already satisfied: cvxpy[cbc]>1.3.0 in /usr/local/lib/python3.10/dist-packages (from holisticai[all]) (1.3.4)\n",
            "Requirement already satisfied: lime>=0.2.0.1 in /usr/local/lib/python3.10/dist-packages (from holisticai[all]) (0.2.0.1)\n",
            "Requirement already satisfied: networkx>=3.1 in /usr/local/lib/python3.10/dist-packages (from holisticai[all]) (3.3)\n",
            "Requirement already satisfied: seaborn>=0.11.2 in /usr/local/lib/python3.10/dist-packages (from holisticai[all]) (0.13.1)\n",
            "Requirement already satisfied: shap>=0.42.1 in /usr/local/lib/python3.10/dist-packages (from holisticai[all]) (0.45.1)\n",
            "Requirement already satisfied: tqdm>=4.64.1 in /usr/local/lib/python3.10/dist-packages (from holisticai[all]) (4.66.4)\n",
            "Requirement already satisfied: osqp>=0.4.1 in /usr/local/lib/python3.10/dist-packages (from cvxpy[cbc]>1.3.0->holisticai[all]) (0.6.2.post8)\n",
            "Requirement already satisfied: ecos>=2 in /usr/local/lib/python3.10/dist-packages (from cvxpy[cbc]>1.3.0->holisticai[all]) (2.0.13)\n",
            "Requirement already satisfied: scs>=1.1.6 in /usr/local/lib/python3.10/dist-packages (from cvxpy[cbc]>1.3.0->holisticai[all]) (3.2.4.post1)\n",
            "Requirement already satisfied: numpy>=1.15 in /usr/local/lib/python3.10/dist-packages (from cvxpy[cbc]>1.3.0->holisticai[all]) (1.25.2)\n",
            "Requirement already satisfied: scipy>=1.1.0 in /usr/local/lib/python3.10/dist-packages (from cvxpy[cbc]>1.3.0->holisticai[all]) (1.11.4)\n",
            "Requirement already satisfied: setuptools>65.5.1 in /usr/local/lib/python3.10/dist-packages (from cvxpy[cbc]>1.3.0->holisticai[all]) (67.7.2)\n",
            "Requirement already satisfied: cylp>=0.91.5 in /usr/local/lib/python3.10/dist-packages (from cvxpy[cbc]>1.3.0->holisticai[all]) (0.92.2)\n",
            "Requirement already satisfied: matplotlib in /usr/local/lib/python3.10/dist-packages (from lime>=0.2.0.1->holisticai[all]) (3.7.1)\n",
            "Requirement already satisfied: scikit-image>=0.12 in /usr/local/lib/python3.10/dist-packages (from lime>=0.2.0.1->holisticai[all]) (0.19.3)\n",
            "Requirement already satisfied: joblib>=1.1.1 in /usr/local/lib/python3.10/dist-packages (from scikit-learn>=1.0.2->holisticai[all]) (1.4.2)\n",
            "Requirement already satisfied: threadpoolctl>=2.0.0 in /usr/local/lib/python3.10/dist-packages (from scikit-learn>=1.0.2->holisticai[all]) (3.5.0)\n",
            "Requirement already satisfied: pandas>=1.2 in /usr/local/lib/python3.10/dist-packages (from seaborn>=0.11.2->holisticai[all]) (2.0.3)\n",
            "Requirement already satisfied: packaging>20.9 in /usr/local/lib/python3.10/dist-packages (from shap>=0.42.1->holisticai[all]) (24.0)\n",
            "Requirement already satisfied: slicer==0.0.8 in /usr/local/lib/python3.10/dist-packages (from shap>=0.42.1->holisticai[all]) (0.0.8)\n",
            "Requirement already satisfied: numba in /usr/local/lib/python3.10/dist-packages (from shap>=0.42.1->holisticai[all]) (0.58.1)\n",
            "Requirement already satisfied: cloudpickle in /usr/local/lib/python3.10/dist-packages (from shap>=0.42.1->holisticai[all]) (2.2.1)\n",
            "Requirement already satisfied: contourpy>=1.0.1 in /usr/local/lib/python3.10/dist-packages (from matplotlib->lime>=0.2.0.1->holisticai[all]) (1.2.1)\n",
            "Requirement already satisfied: cycler>=0.10 in /usr/local/lib/python3.10/dist-packages (from matplotlib->lime>=0.2.0.1->holisticai[all]) (0.12.1)\n",
            "Requirement already satisfied: fonttools>=4.22.0 in /usr/local/lib/python3.10/dist-packages (from matplotlib->lime>=0.2.0.1->holisticai[all]) (4.51.0)\n",
            "Requirement already satisfied: kiwisolver>=1.0.1 in /usr/local/lib/python3.10/dist-packages (from matplotlib->lime>=0.2.0.1->holisticai[all]) (1.4.5)\n",
            "Requirement already satisfied: pillow>=6.2.0 in /usr/local/lib/python3.10/dist-packages (from matplotlib->lime>=0.2.0.1->holisticai[all]) (9.4.0)\n",
            "Requirement already satisfied: pyparsing>=2.3.1 in /usr/local/lib/python3.10/dist-packages (from matplotlib->lime>=0.2.0.1->holisticai[all]) (3.1.2)\n",
            "Requirement already satisfied: python-dateutil>=2.7 in /usr/local/lib/python3.10/dist-packages (from matplotlib->lime>=0.2.0.1->holisticai[all]) (2.8.2)\n",
            "Requirement already satisfied: qdldl in /usr/local/lib/python3.10/dist-packages (from osqp>=0.4.1->cvxpy[cbc]>1.3.0->holisticai[all]) (0.1.7.post2)\n",
            "Requirement already satisfied: pytz>=2020.1 in /usr/local/lib/python3.10/dist-packages (from pandas>=1.2->seaborn>=0.11.2->holisticai[all]) (2023.4)\n",
            "Requirement already satisfied: tzdata>=2022.1 in /usr/local/lib/python3.10/dist-packages (from pandas>=1.2->seaborn>=0.11.2->holisticai[all]) (2024.1)\n",
            "Requirement already satisfied: imageio>=2.4.1 in /usr/local/lib/python3.10/dist-packages (from scikit-image>=0.12->lime>=0.2.0.1->holisticai[all]) (2.31.6)\n",
            "Requirement already satisfied: tifffile>=2019.7.26 in /usr/local/lib/python3.10/dist-packages (from scikit-image>=0.12->lime>=0.2.0.1->holisticai[all]) (2024.5.3)\n",
            "Requirement already satisfied: PyWavelets>=1.1.1 in /usr/local/lib/python3.10/dist-packages (from scikit-image>=0.12->lime>=0.2.0.1->holisticai[all]) (1.6.0)\n",
            "Requirement already satisfied: llvmlite<0.42,>=0.41.0dev0 in /usr/local/lib/python3.10/dist-packages (from numba->shap>=0.42.1->holisticai[all]) (0.41.1)\n",
            "Requirement already satisfied: six>=1.5 in /usr/local/lib/python3.10/dist-packages (from python-dateutil>=2.7->matplotlib->lime>=0.2.0.1->holisticai[all]) (1.16.0)\n"
          ]
        }
      ],
      "source": [
        "!pip install holisticai[all]"
      ]
    },
    {
      "cell_type": "code",
      "execution_count": null,
      "metadata": {
        "id": "5DwIwOLT1K3I"
      },
      "outputs": [],
      "source": [
        "#DATA ANALYSIS FOR EQUALIZED ODDS\n",
        "from holisticai.datasets import load_dataset\n",
        "from holisticai.bias.plots import group_pie_plot"
      ]
    },
    {
      "cell_type": "code",
      "execution_count": null,
      "metadata": {
        "colab": {
          "base_uri": "https://localhost:8080/",
          "height": 2656
        },
        "id": "D4ko0gRfNqOu",
        "outputId": "325e13f1-64e7-4506-86b2-2368512276b8"
      },
      "outputs": [
        {
          "data": {
            "text/plain": [
              "<Axes: >"
            ]
          },
          "execution_count": 186,
          "metadata": {},
          "output_type": "execute_result"
        },
        {
          "data": {
            "image/png": "[encoded data removed]",
            "text/plain": [
              "<Figure size 640x480 with 1 Axes>"
            ]
          },
          "metadata": {},
          "output_type": "display_data"
        },
        {
          "data": {
            "image/png": "[encoded data removed]",
            "text/plain": [
              "<Figure size 640x480 with 1 Axes>"
            ]
          },
          "metadata": {},
          "output_type": "display_data"
        },
        {
          "data": {
            "image/png": "[encoded data removed]",
            "text/plain": [
              "<Figure size 640x480 with 1 Axes>"
            ]
          },
          "metadata": {},
          "output_type": "display_data"
        },
        {
          "data": {
            "image/png": "[encoded data removed]",
            "text/plain": [
              "<Figure size 640x480 with 1 Axes>"
            ]
          },
          "metadata": {},
          "output_type": "display_data"
        },
        {
          "data": {
            "image/png": "[encoded data removed]",
            "text/plain": [
              "<Figure size 640x480 with 1 Axes>"
            ]
          },
          "metadata": {},
          "output_type": "display_data"
        },
        {
          "data": {
            "image/png": "[encoded data removed]",
            "text/plain": [
              "<Figure size 640x480 with 1 Axes>"
            ]
          },
          "metadata": {},
          "output_type": "display_data"
        }
      ],
      "source": [
        "group_ai_an = data['AI or AN_me'].astype(bool)\n",
        "group_asian = data['Asian_me'].astype(bool)\n",
        "group_black_aa = data['Black or AA_me'].astype(bool)\n",
        "group_nh_pi = data['NH or PI_me'].astype(bool)\n",
        "group_white = data['White_me'].astype(bool)\n",
        "group_mixed = data['Mixed'].astype(bool)\n",
        "\n",
        "group_pie_plot(group_ai_an)\n",
        "group_pie_plot(group_asian)\n",
        "group_pie_plot(group_black_aa)\n",
        "group_pie_plot(group_nh_pi)\n",
        "group_pie_plot(group_white)\n",
        "group_pie_plot(group_mixed)"
      ]
    },
    {
      "cell_type": "code",
      "execution_count": null,
      "metadata": {
        "id": "2HYIKV4kNuVJ"
      },
      "outputs": [],
      "source": [
        "def group_success_rate(g, y):\n",
        "  success_rate = y[g == 1].sum() / g.sum()  # success rate group_a\n",
        "  return success_rate"
      ]
    },
    {
      "cell_type": "code",
      "execution_count": null,
      "metadata": {
        "id": "OGsnMTbnNvDt"
      },
      "outputs": [],
      "source": [
        "def statistical_parity_multigroup(group_labels, y_pred):\n",
        "    success_rates = {}\n",
        "    for i, group in enumerate(group_labels):\n",
        "\n",
        "        success_rates[race_columns_me[i]] = group_success_rate(group, y_pred)\n",
        "\n",
        "    return success_rates"
      ]
    },
    {
      "cell_type": "code",
      "execution_count": null,
      "metadata": {
        "id": "9IZqF8xKNxZO"
      },
      "outputs": [],
      "source": [
        "from sklearn.metrics import confusion_matrix\n",
        "def tpr_multigroup(group_labels, y_pred, y_test, me_cols_test):\n",
        "    tpr_dict = {}\n",
        "\n",
        "    for group in group_labels:\n",
        "        me_cols_test = me_cols_test.reset_index(drop=True)\n",
        "        y_test = y_test.reset_index(drop=True)\n",
        "        filtered_indices = me_cols_test[me_cols_test[group]==1].index\n",
        "        group_y_test = y_test[filtered_indices]\n",
        "        group_y_pred = y_pred[filtered_indices]\n",
        "\n",
        "        cm = confusion_matrix(group_y_test, group_y_pred, labels=[1, 0])\n",
        "\n",
        "        if cm.shape == (2, 2):\n",
        "            TP = cm[0, 0]\n",
        "            FN = cm[1, 0]\n",
        "            tpr = TP / (TP + FN) if (TP + FN) > 0 else 0\n",
        "            tpr_dict[group] = tpr\n",
        "        else:\n",
        "            tpr_dict[group] = 0\n",
        "\n",
        "    return tpr_dict\n",
        "\n",
        "def fpr_multigroup(group_labels, y_pred, y_test, me_cols_test):\n",
        "    fpr_dict = {}\n",
        "\n",
        "    for group in group_labels:\n",
        "        me_cols_test = me_cols_test.reset_index(drop=True)\n",
        "        y_test = y_test.reset_index(drop=True)\n",
        "        filtered_indices = me_cols_test[me_cols_test[group]==1].index\n",
        "        group_y_test = y_test[filtered_indices]\n",
        "        group_y_pred = y_pred[filtered_indices]\n",
        "\n",
        "        cm = confusion_matrix(group_y_test, group_y_pred, labels=[1, 0])\n",
        "        if cm.shape == (2, 2):\n",
        "            FP = cm[0, 1]\n",
        "            TN = cm[0, 0]\n",
        "            fpr = FP / (FP + TN) if (FP + TN) > 0 else 0\n",
        "            fpr_dict[group] = fpr\n",
        "        else:\n",
        "            fpr_dict[group] = 0\n",
        "\n",
        "    return fpr_dict\n"
      ]
    },
    {
      "cell_type": "code",
      "execution_count": null,
      "metadata": {
        "id": "uWybW1A43fa_"
      },
      "outputs": [],
      "source": [
        "group_ts = [me_cols_test[x] for x in me_cols_test]"
      ]
    },
    {
      "cell_type": "code",
      "execution_count": null,
      "metadata": {
        "colab": {
          "base_uri": "https://localhost:8080/",
          "height": 423
        },
        "id": "465BgUTz-qXn",
        "outputId": "793b852f-d738-4a12-b90f-825262c29308"
      },
      "outputs": [
        {
          "data": {
            "application/vnd.google.colaboratory.intrinsic+json": {
              "summary": "{\n  \"name\": \"me_cols_test\",\n  \"rows\": 10688,\n  \"fields\": [\n    {\n      \"column\": \"AI or AN_me\",\n      \"properties\": {\n        \"dtype\": \"number\",\n        \"std\": 0,\n        \"min\": 0,\n        \"max\": 1,\n        \"num_unique_values\": 2,\n        \"samples\": [\n          1,\n          0\n        ],\n        \"semantic_type\": \"\",\n        \"description\": \"\"\n      }\n    },\n    {\n      \"column\": \"Asian_me\",\n      \"properties\": {\n        \"dtype\": \"number\",\n        \"std\": 0,\n        \"min\": 0,\n        \"max\": 1,\n        \"num_unique_values\": 2,\n        \"samples\": [\n          1,\n          0\n        ],\n        \"semantic_type\": \"\",\n        \"description\": \"\"\n      }\n    },\n    {\n      \"column\": \"Black or AA_me\",\n      \"properties\": {\n        \"dtype\": \"number\",\n        \"std\": 0,\n        \"min\": 0,\n        \"max\": 1,\n        \"num_unique_values\": 2,\n        \"samples\": [\n          1,\n          0\n        ],\n        \"semantic_type\": \"\",\n        \"description\": \"\"\n      }\n    },\n    {\n      \"column\": \"NH or PI_me\",\n      \"properties\": {\n        \"dtype\": \"number\",\n        \"std\": 0,\n        \"min\": 0,\n        \"max\": 1,\n        \"num_unique_values\": 2,\n        \"samples\": [\n          1,\n          0\n        ],\n        \"semantic_type\": \"\",\n        \"description\": \"\"\n      }\n    },\n    {\n      \"column\": \"White_me\",\n      \"properties\": {\n        \"dtype\": \"number\",\n        \"std\": 0,\n        \"min\": 0,\n        \"max\": 1,\n        \"num_unique_values\": 2,\n        \"samples\": [\n          0,\n          1\n        ],\n        \"semantic_type\": \"\",\n        \"description\": \"\"\n      }\n    },\n    {\n      \"column\": \"Mixed\",\n      \"properties\": {\n        \"dtype\": \"number\",\n        \"std\": 0,\n        \"min\": 0,\n        \"max\": 1,\n        \"num_unique_values\": 2,\n        \"samples\": [\n          1,\n          0\n        ],\n        \"semantic_type\": \"\",\n        \"description\": \"\"\n      }\n    }\n  ]\n}",
              "type": "dataframe",
              "variable_name": "me_cols_test"
            },
            "text/html": [
              "\n",
              "  <div id=\"df-852e85b1-154c-439d-b06f-c737357b67b8\" class=\"colab-df-container\">\n",
              "    <div>\n",
              "<style scoped>\n",
              "    .dataframe tbody tr th:only-of-type {\n",
              "        vertical-align: middle;\n",
              "    }\n",
              "\n",
              "    .dataframe tbody tr th {\n",
              "        vertical-align: top;\n",
              "    }\n",
              "\n",
              "    .dataframe thead th {\n",
              "        text-align: right;\n",
              "    }\n",
              "</style>\n",
              "<table border=\"1\" class=\"dataframe\">\n",
              "  <thead>\n",
              "    <tr style=\"text-align: right;\">\n",
              "      <th></th>\n",
              "      <th>AI or AN_me</th>\n",
              "      <th>Asian_me</th>\n",
              "      <th>Black or AA_me</th>\n",
              "      <th>NH or PI_me</th>\n",
              "      <th>White_me</th>\n",
              "      <th>Mixed</th>\n",
              "    </tr>\n",
              "  </thead>\n",
              "  <tbody>\n",
              "    <tr>\n",
              "      <th>2322</th>\n",
              "      <td>0</td>\n",
              "      <td>0</td>\n",
              "      <td>0</td>\n",
              "      <td>0</td>\n",
              "      <td>1</td>\n",
              "      <td>0</td>\n",
              "    </tr>\n",
              "    <tr>\n",
              "      <th>9803</th>\n",
              "      <td>0</td>\n",
              "      <td>0</td>\n",
              "      <td>1</td>\n",
              "      <td>0</td>\n",
              "      <td>0</td>\n",
              "      <td>0</td>\n",
              "    </tr>\n",
              "    <tr>\n",
              "      <th>43075</th>\n",
              "      <td>0</td>\n",
              "      <td>0</td>\n",
              "      <td>0</td>\n",
              "      <td>0</td>\n",
              "      <td>1</td>\n",
              "      <td>0</td>\n",
              "    </tr>\n",
              "    <tr>\n",
              "      <th>37382</th>\n",
              "      <td>0</td>\n",
              "      <td>0</td>\n",
              "      <td>0</td>\n",
              "      <td>0</td>\n",
              "      <td>1</td>\n",
              "      <td>0</td>\n",
              "    </tr>\n",
              "    <tr>\n",
              "      <th>10476</th>\n",
              "      <td>0</td>\n",
              "      <td>0</td>\n",
              "      <td>1</td>\n",
              "      <td>0</td>\n",
              "      <td>0</td>\n",
              "      <td>0</td>\n",
              "    </tr>\n",
              "    <tr>\n",
              "      <th>...</th>\n",
              "      <td>...</td>\n",
              "      <td>...</td>\n",
              "      <td>...</td>\n",
              "      <td>...</td>\n",
              "      <td>...</td>\n",
              "      <td>...</td>\n",
              "    </tr>\n",
              "    <tr>\n",
              "      <th>16386</th>\n",
              "      <td>0</td>\n",
              "      <td>0</td>\n",
              "      <td>0</td>\n",
              "      <td>0</td>\n",
              "      <td>1</td>\n",
              "      <td>0</td>\n",
              "    </tr>\n",
              "    <tr>\n",
              "      <th>16358</th>\n",
              "      <td>0</td>\n",
              "      <td>0</td>\n",
              "      <td>0</td>\n",
              "      <td>0</td>\n",
              "      <td>1</td>\n",
              "      <td>0</td>\n",
              "    </tr>\n",
              "    <tr>\n",
              "      <th>24711</th>\n",
              "      <td>0</td>\n",
              "      <td>0</td>\n",
              "      <td>0</td>\n",
              "      <td>0</td>\n",
              "      <td>1</td>\n",
              "      <td>0</td>\n",
              "    </tr>\n",
              "    <tr>\n",
              "      <th>49365</th>\n",
              "      <td>0</td>\n",
              "      <td>0</td>\n",
              "      <td>0</td>\n",
              "      <td>0</td>\n",
              "      <td>1</td>\n",
              "      <td>0</td>\n",
              "    </tr>\n",
              "    <tr>\n",
              "      <th>41201</th>\n",
              "      <td>0</td>\n",
              "      <td>0</td>\n",
              "      <td>0</td>\n",
              "      <td>0</td>\n",
              "      <td>1</td>\n",
              "      <td>0</td>\n",
              "    </tr>\n",
              "  </tbody>\n",
              "</table>\n",
              "<p>10688 rows × 6 columns</p>\n",
              "</div>\n",
              "    <div class=\"colab-df-buttons\">\n",
              "\n",
              "  <div class=\"colab-df-container\">\n",
              "    <button class=\"colab-df-convert\" onclick=\"convertToInteractive('df-852e85b1-154c-439d-b06f-c737357b67b8')\"\n",
              "            title=\"Convert this dataframe to an interactive table.\"\n",
              "            style=\"display:none;\">\n",
              "\n",
              "  <svg xmlns=\"http://www.w3.org/2000/svg\" height=\"24px\" viewBox=\"0 -960 960 960\">\n",
              "    <path d=\"M120-120v-720h720v720H120Zm60-500h600v-160H180v160Zm220 220h160v-160H400v160Zm0 220h160v-160H400v160ZM180-400h160v-160H180v160Zm440 0h160v-160H620v160ZM180-180h160v-160H180v160Zm440 0h160v-160H620v160Z\"/>\n",
              "  </svg>\n",
              "    </button>\n",
              "\n",
              "  <style>\n",
              "    .colab-df-container {\n",
              "      display:flex;\n",
              "      gap: 12px;\n",
              "    }\n",
              "\n",
              "    .colab-df-convert {\n",
              "      background-color: #E8F0FE;\n",
              "      border: none;\n",
              "      border-radius: 50%;\n",
              "      cursor: pointer;\n",
              "      display: none;\n",
              "      fill: #1967D2;\n",
              "      height: 32px;\n",
              "      padding: 0 0 0 0;\n",
              "      width: 32px;\n",
              "    }\n",
              "\n",
              "    .colab-df-convert:hover {\n",
              "      background-color: #E2EBFA;\n",
              "      box-shadow: 0px 1px 2px rgba(60, 64, 67, 0.3), 0px 1px 3px 1px rgba(60, 64, 67, 0.15);\n",
              "      fill: #174EA6;\n",
              "    }\n",
              "\n",
              "    .colab-df-buttons div {\n",
              "      margin-bottom: 4px;\n",
              "    }\n",
              "\n",
              "    [theme=dark] .colab-df-convert {\n",
              "      background-color: #3B4455;\n",
              "      fill: #D2E3FC;\n",
              "    }\n",
              "\n",
              "    [theme=dark] .colab-df-convert:hover {\n",
              "      background-color: #434B5C;\n",
              "      box-shadow: 0px 1px 3px 1px rgba(0, 0, 0, 0.15);\n",
              "      filter: drop-shadow(0px 1px 2px rgba(0, 0, 0, 0.3));\n",
              "      fill: #FFFFFF;\n",
              "    }\n",
              "  </style>\n",
              "\n",
              "    <script>\n",
              "      const buttonEl =\n",
              "        document.querySelector('#df-852e85b1-154c-439d-b06f-c737357b67b8 button.colab-df-convert');\n",
              "      buttonEl.style.display =\n",
              "        google.colab.kernel.accessAllowed ? 'block' : 'none';\n",
              "\n",
              "      async function convertToInteractive(key) {\n",
              "        const element = document.querySelector('#df-852e85b1-154c-439d-b06f-c737357b67b8');\n",
              "        const dataTable =\n",
              "          await google.colab.kernel.invokeFunction('convertToInteractive',\n",
              "                                                    [key], {});\n",
              "        if (!dataTable) return;\n",
              "\n",
              "        const docLinkHtml = 'Like what you see? Visit the ' +\n",
              "          '<a target=\"_blank\" href=https://colab.research.google.com/notebooks/data_table.ipynb>data table notebook</a>'\n",
              "          + ' to learn more about interactive tables.';\n",
              "        element.innerHTML = '';\n",
              "        dataTable['output_type'] = 'display_data';\n",
              "        await google.colab.output.renderOutput(dataTable, element);\n",
              "        const docLink = document.createElement('div');\n",
              "        docLink.innerHTML = docLinkHtml;\n",
              "        element.appendChild(docLink);\n",
              "      }\n",
              "    </script>\n",
              "  </div>\n",
              "\n",
              "\n",
              "<div id=\"df-2b73ee47-0035-44ff-bc06-b36f6bcfd603\">\n",
              "  <button class=\"colab-df-quickchart\" onclick=\"quickchart('df-2b73ee47-0035-44ff-bc06-b36f6bcfd603')\"\n",
              "            title=\"Suggest charts\"\n",
              "            style=\"display:none;\">\n",
              "\n",
              "<svg xmlns=\"http://www.w3.org/2000/svg\" height=\"24px\"viewBox=\"0 0 24 24\"\n",
              "     width=\"24px\">\n",
              "    <g>\n",
              "        <path d=\"M19 3H5c-1.1 0-2 .9-2 2v14c0 1.1.9 2 2 2h14c1.1 0 2-.9 2-2V5c0-1.1-.9-2-2-2zM9 17H7v-7h2v7zm4 0h-2V7h2v10zm4 0h-2v-4h2v4z\"/>\n",
              "    </g>\n",
              "</svg>\n",
              "  </button>\n",
              "\n",
              "<style>\n",
              "  .colab-df-quickchart {\n",
              "      --bg-color: #E8F0FE;\n",
              "      --fill-color: #1967D2;\n",
              "      --hover-bg-color: #E2EBFA;\n",
              "      --hover-fill-color: #174EA6;\n",
              "      --disabled-fill-color: #AAA;\n",
              "      --disabled-bg-color: #DDD;\n",
              "  }\n",
              "\n",
              "  [theme=dark] .colab-df-quickchart {\n",
              "      --bg-color: #3B4455;\n",
              "      --fill-color: #D2E3FC;\n",
              "      --hover-bg-color: #434B5C;\n",
              "      --hover-fill-color: #FFFFFF;\n",
              "      --disabled-bg-color: #3B4455;\n",
              "      --disabled-fill-color: #666;\n",
              "  }\n",
              "\n",
              "  .colab-df-quickchart {\n",
              "    background-color: var(--bg-color);\n",
              "    border: none;\n",
              "    border-radius: 50%;\n",
              "    cursor: pointer;\n",
              "    display: none;\n",
              "    fill: var(--fill-color);\n",
              "    height: 32px;\n",
              "    padding: 0;\n",
              "    width: 32px;\n",
              "  }\n",
              "\n",
              "  .colab-df-quickchart:hover {\n",
              "    background-color: var(--hover-bg-color);\n",
              "    box-shadow: 0 1px 2px rgba(60, 64, 67, 0.3), 0 1px 3px 1px rgba(60, 64, 67, 0.15);\n",
              "    fill: var(--button-hover-fill-color);\n",
              "  }\n",
              "\n",
              "  .colab-df-quickchart-complete:disabled,\n",
              "  .colab-df-quickchart-complete:disabled:hover {\n",
              "    background-color: var(--disabled-bg-color);\n",
              "    fill: var(--disabled-fill-color);\n",
              "    box-shadow: none;\n",
              "  }\n",
              "\n",
              "  .colab-df-spinner {\n",
              "    border: 2px solid var(--fill-color);\n",
              "    border-color: transparent;\n",
              "    border-bottom-color: var(--fill-color);\n",
              "    animation:\n",
              "      spin 1s steps(1) infinite;\n",
              "  }\n",
              "\n",
              "  @keyframes spin {\n",
              "    0% {\n",
              "      border-color: transparent;\n",
              "      border-bottom-color: var(--fill-color);\n",
              "      border-left-color: var(--fill-color);\n",
              "    }\n",
              "    20% {\n",
              "      border-color: transparent;\n",
              "      border-left-color: var(--fill-color);\n",
              "      border-top-color: var(--fill-color);\n",
              "    }\n",
              "    30% {\n",
              "      border-color: transparent;\n",
              "      border-left-color: var(--fill-color);\n",
              "      border-top-color: var(--fill-color);\n",
              "      border-right-color: var(--fill-color);\n",
              "    }\n",
              "    40% {\n",
              "      border-color: transparent;\n",
              "      border-right-color: var(--fill-color);\n",
              "      border-top-color: var(--fill-color);\n",
              "    }\n",
              "    60% {\n",
              "      border-color: transparent;\n",
              "      border-right-color: var(--fill-color);\n",
              "    }\n",
              "    80% {\n",
              "      border-color: transparent;\n",
              "      border-right-color: var(--fill-color);\n",
              "      border-bottom-color: var(--fill-color);\n",
              "    }\n",
              "    90% {\n",
              "      border-color: transparent;\n",
              "      border-bottom-color: var(--fill-color);\n",
              "    }\n",
              "  }\n",
              "</style>\n",
              "\n",
              "  <script>\n",
              "    async function quickchart(key) {\n",
              "      const quickchartButtonEl =\n",
              "        document.querySelector('#' + key + ' button');\n",
              "      quickchartButtonEl.disabled = true;  // To prevent multiple clicks.\n",
              "      quickchartButtonEl.classList.add('colab-df-spinner');\n",
              "      try {\n",
              "        const charts = await google.colab.kernel.invokeFunction(\n",
              "            'suggestCharts', [key], {});\n",
              "      } catch (error) {\n",
              "        console.error('Error during call to suggestCharts:', error);\n",
              "      }\n",
              "      quickchartButtonEl.classList.remove('colab-df-spinner');\n",
              "      quickchartButtonEl.classList.add('colab-df-quickchart-complete');\n",
              "    }\n",
              "    (() => {\n",
              "      let quickchartButtonEl =\n",
              "        document.querySelector('#df-2b73ee47-0035-44ff-bc06-b36f6bcfd603 button');\n",
              "      quickchartButtonEl.style.display =\n",
              "        google.colab.kernel.accessAllowed ? 'block' : 'none';\n",
              "    })();\n",
              "  </script>\n",
              "</div>\n",
              "    </div>\n",
              "  </div>\n"
            ],
            "text/plain": [
              "       AI or AN_me  Asian_me  Black or AA_me  NH or PI_me  White_me  Mixed\n",
              "2322             0         0               0            0         1      0\n",
              "9803             0         0               1            0         0      0\n",
              "43075            0         0               0            0         1      0\n",
              "37382            0         0               0            0         1      0\n",
              "10476            0         0               1            0         0      0\n",
              "...            ...       ...             ...          ...       ...    ...\n",
              "16386            0         0               0            0         1      0\n",
              "16358            0         0               0            0         1      0\n",
              "24711            0         0               0            0         1      0\n",
              "49365            0         0               0            0         1      0\n",
              "41201            0         0               0            0         1      0\n",
              "\n",
              "[10688 rows x 6 columns]"
            ]
          },
          "execution_count": 191,
          "metadata": {},
          "output_type": "execute_result"
        }
      ],
      "source": [
        "me_cols_test"
      ]
    },
    {
      "cell_type": "code",
      "execution_count": null,
      "metadata": {
        "colab": {
          "base_uri": "https://localhost:8080/"
        },
        "id": "xZTcOLm0O1Ix",
        "outputId": "0559e8af-689e-456b-c03e-9e1fda7e8e10"
      },
      "outputs": [
        {
          "name": "stdout",
          "output_type": "stream",
          "text": [
            "6 6\n",
            "{'AI or AN_me': 0.3508771929824561, 'Asian_me': 0.5484242890084551, 'Black or AA_me': 0.315035799522673, 'NH or PI_me': 0.38, 'White_me': 0.5920165175498968, 'Mixed': 0.5294117647058824}\n",
            "{'AI or AN_me': 0.725, 'Asian_me': 0.7624386825508059, 'Black or AA_me': 0.6287878787878788, 'NH or PI_me': 0.6842105263157895, 'White_me': 0.7561032318065566, 'Mixed': 0.8253968253968254} \n",
            " {'AI or AN_me': 0.2564102564102564, 'Asian_me': 0.1399209486166008, 'Black or AA_me': 0.4779874213836478, 'NH or PI_me': 0.3157894736842105, 'White_me': 0.13602550478214664, 'Mixed': 0.18110236220472442}\n",
            "0.2769807180272238 0.013812300215776568 0.11752574277908891\n",
            "0.19660894660894657 0.004639829018201048 0.06811629040252448\n",
            "0.34196191660150116 0.01723867032297144 0.13129611693790277\n"
          ]
        }
      ],
      "source": [
        "import statistics\n",
        "race_columns_me.append('Mixed')\n",
        "print(len(group_ts), len(race_columns_me))\n",
        "success_rates = statistical_parity_multigroup(group_ts, y_pred)\n",
        "\n",
        "print(success_rates)\n",
        "tpr = tpr_multigroup(race_columns_me, y_pred, y_test, me_cols_test)\n",
        "fpr = fpr_multigroup(race_columns_me, y_pred, y_test, me_cols_test)\n",
        "print(tpr,\"\\n\", fpr)\n",
        "sr_values = list(success_rates.values())\n",
        "sr_values_range = max(sr_values) - min(sr_values)\n",
        "sr_value_variance = statistics.variance(sr_values)\n",
        "sr_value_std_dev = statistics.stdev(sr_values)\n",
        "print(sr_values_range, sr_value_variance, sr_value_std_dev)\n",
        "\n",
        "tpr_values = list(tpr.values())\n",
        "tpr_values_range = max(tpr_values) - min(tpr_values)\n",
        "tpr_value_variance = statistics.variance(tpr_values)\n",
        "tpr_value_std_dev = statistics.stdev(tpr_values)\n",
        "print(tpr_values_range, tpr_value_variance, tpr_value_std_dev)\n",
        "\n",
        "fpr_values = list(fpr.values())\n",
        "fpr_values_range = max(fpr_values) - min(fpr_values)\n",
        "fpr_value_variance = statistics.variance(fpr_values)\n",
        "fpr_value_std_dev = statistics.stdev(fpr_values)\n",
        "print(fpr_values_range, fpr_value_variance, fpr_value_std_dev)"
      ]
    },
    {
      "cell_type": "code",
      "execution_count": null,
      "metadata": {
        "colab": {
          "base_uri": "https://localhost:8080/"
        },
        "id": "VIvzcKD_fp5e",
        "outputId": "dd41fe4c-a0b4-4726-bd6e-231e627d9b8d"
      },
      "outputs": [
        {
          "name": "stdout",
          "output_type": "stream",
          "text": [
            "{'AI or AN_me': 0.3684210526315789, 'Asian_me': 0.5115295926210607, 'Black or AA_me': 0.38424821002386633, 'NH or PI_me': 0.46, 'White_me': 0.5617343427391603, 'Mixed': 0.5336134453781513} {'AI or AN_me': 0.6904761904761905, 'Asian_me': 0.821938392186326, 'Black or AA_me': 0.7204968944099379, 'NH or PI_me': 0.6521739130434783, 'White_me': 0.81058564077432, 'Mixed': 0.8346456692913385} {'AI or AN_me': 0.2564102564102564, 'Asian_me': 0.13517786561264822, 'Black or AA_me': 0.27044025157232704, 'NH or PI_me': 0.21052631578947367, 'White_me': 0.12114771519659936, 'Mixed': 0.16535433070866143}\n",
            "0.19331329010758141 0.00639163698223094 0.07994771405256651\n",
            "0.18247175624786027 0.005968183635752114 0.07725402019152217\n",
            "0.14929253637572767 0.003919054379796794 0.06260235123217653\n"
          ]
        }
      ],
      "source": [
        "success_rates_rf = statistical_parity_multigroup(group_ts, rf_pred)\n",
        "tpr_rf = tpr_multigroup(race_columns_me, rf_pred, y_test, me_cols_test)\n",
        "fpr_rf = fpr_multigroup(race_columns_me, rf_pred, y_test, me_cols_test)\n",
        "print(success_rates_rf, tpr_rf, fpr_rf)\n",
        "\n",
        "sr_values = list(success_rates_rf.values())\n",
        "sr_values_range = max(sr_values) - min(sr_values)\n",
        "sr_value_variance = statistics.variance(sr_values)\n",
        "sr_value_std_dev = statistics.stdev(sr_values)\n",
        "print(sr_values_range, sr_value_variance, sr_value_std_dev)\n",
        "\n",
        "tpr_values = list(tpr_rf.values())\n",
        "tpr_values_range = max(tpr_values) - min(tpr_values)\n",
        "tpr_value_variance = statistics.variance(tpr_values)\n",
        "tpr_value_std_dev = statistics.stdev(tpr_values)\n",
        "print(tpr_values_range, tpr_value_variance, tpr_value_std_dev)\n",
        "\n",
        "fpr_values = list(fpr_rf.values())\n",
        "fpr_values_range = max(fpr_values) - min(fpr_values)\n",
        "fpr_value_variance = statistics.variance(fpr_values)\n",
        "fpr_value_std_dev = statistics.stdev(fpr_values)\n",
        "print(fpr_values_range, fpr_value_variance, fpr_value_std_dev)"
      ]
    },
    {
      "cell_type": "code",
      "execution_count": null,
      "metadata": {
        "colab": {
          "base_uri": "https://localhost:8080/"
        },
        "id": "AW5JW-65gGK4",
        "outputId": "2ff463df-5a7c-4ea1-c9f9-b655c017f863"
      },
      "outputs": [
        {
          "name": "stdout",
          "output_type": "stream",
          "text": [
            "{'AI or AN_me': 0.3508771929824561, 'Asian_me': 0.5034588777863183, 'Black or AA_me': 0.431980906921241, 'NH or PI_me': 0.44, 'White_me': 0.5549896765313145, 'Mixed': 0.5084033613445378} {'AI or AN_me': 0.775, 'Asian_me': 0.8106870229007633, 'Black or AA_me': 0.6740331491712708, 'NH or PI_me': 0.6818181818181818, 'White_me': 0.7963789682539683, 'Mixed': 0.8429752066115702} {'AI or AN_me': 0.20512820512820512, 'Asian_me': 0.16047430830039525, 'Black or AA_me': 0.23270440251572327, 'NH or PI_me': 0.21052631578947367, 'White_me': 0.14691817215727948, 'Mixed': 0.1968503937007874}\n",
            "0.20411248354885836 0.005240068102588679 0.07238831468261075\n",
            "0.16894205744029944 0.00488648700866414 0.06990341199586855\n",
            "0.0857862303584438 0.001044425785711296 0.032317577039612605\n"
          ]
        }
      ],
      "source": [
        "success_rates_mlp = statistical_parity_multigroup(group_ts, mlp_pred)\n",
        "tpr_mlp = tpr_multigroup(race_columns_me, mlp_pred, y_test, me_cols_test)\n",
        "fpr_mlp = fpr_multigroup(race_columns_me, mlp_pred, y_test, me_cols_test)\n",
        "print(success_rates_mlp, tpr_mlp, fpr_mlp)\n",
        "\n",
        "\n",
        "sr_values = list(success_rates_mlp.values())\n",
        "sr_values_range = max(sr_values) - min(sr_values)\n",
        "sr_value_variance = statistics.variance(sr_values)\n",
        "sr_value_std_dev = statistics.stdev(sr_values)\n",
        "print(sr_values_range, sr_value_variance, sr_value_std_dev)\n",
        "\n",
        "tpr_values = list(tpr_mlp.values())\n",
        "tpr_values_range = max(tpr_values) - min(tpr_values)\n",
        "tpr_value_variance = statistics.variance(tpr_values)\n",
        "tpr_value_std_dev = statistics.stdev(tpr_values)\n",
        "print(tpr_values_range, tpr_value_variance, tpr_value_std_dev)\n",
        "\n",
        "fpr_values = list(fpr_mlp.values())\n",
        "fpr_values_range = max(fpr_values) - min(fpr_values)\n",
        "fpr_value_variance = statistics.variance(fpr_values)\n",
        "fpr_value_std_dev = statistics.stdev(fpr_values)\n",
        "print(fpr_values_range, fpr_value_variance, fpr_value_std_dev)"
      ]
    },
    {
      "cell_type": "code",
      "execution_count": null,
      "metadata": {
        "colab": {
          "base_uri": "https://localhost:8080/",
          "height": 908
        },
        "id": "MpM3kjyTHah9",
        "outputId": "7290cf6c-ae84-4d3d-fd71-0503d77ff6b7"
      },
      "outputs": [
        {
          "data": {
            "text/plain": [
              "<Axes: >"
            ]
          },
          "execution_count": 195,
          "metadata": {},
          "output_type": "execute_result"
        },
        {
          "data": {
            "image/png": "[encoded data removed]",
            "text/plain": [
              "<Figure size 640x480 with 1 Axes>"
            ]
          },
          "metadata": {},
          "output_type": "display_data"
        },
        {
          "data": {
            "image/png": "[encoded data removed]",
            "text/plain": [
              "<Figure size 640x480 with 1 Axes>"
            ]
          },
          "metadata": {},
          "output_type": "display_data"
        }
      ],
      "source": [
        "group_a = data['race'].astype(bool)\n",
        "group_b = ~data['race'].astype(bool)\n",
        "group_pie_plot(group_a)\n",
        "group_pie_plot(group_b)"
      ]
    },
    {
      "cell_type": "code",
      "execution_count": null,
      "metadata": {
        "colab": {
          "base_uri": "https://localhost:8080/",
          "height": 380
        },
        "id": "PBNESKLYVZil",
        "outputId": "93b64589-b00f-4f57-aa4d-dc3ea0f8b02b"
      },
      "outputs": [
        {
          "name": "stdout",
          "output_type": "stream",
          "text": [
            "(53440,) (53440,) (10688,)\n"
          ]
        },
        {
          "data": {
            "application/vnd.google.colaboratory.intrinsic+json": {
              "summary": "{\n  \"name\": \"df_baseline\",\n  \"rows\": 9,\n  \"fields\": [\n    {\n      \"column\": \"Metric\",\n      \"properties\": {\n        \"dtype\": \"string\",\n        \"num_unique_values\": 9,\n        \"samples\": [\n          \"Average Odds Difference\",\n          \"Disparate Impact\",\n          \"Equality of Opportunity Difference\"\n        ],\n        \"semantic_type\": \"\",\n        \"description\": \"\"\n      }\n    },\n    {\n      \"column\": \"Value\",\n      \"properties\": {\n        \"dtype\": \"number\",\n        \"std\": 2.7613046062431175,\n        \"min\": -8.030476626312886,\n        \"max\": 0.860608750398969,\n        \"num_unique_values\": 8,\n        \"samples\": [\n          0.860608750398969,\n          -0.0642372773002012,\n          -0.08252192216573084\n        ],\n        \"semantic_type\": \"\",\n        \"description\": \"\"\n      }\n    },\n    {\n      \"column\": \"Reference\",\n      \"properties\": {\n        \"dtype\": \"number\",\n        \"std\": 0,\n        \"min\": 0,\n        \"max\": 1,\n        \"num_unique_values\": 2,\n        \"samples\": [\n          1,\n          0\n        ],\n        \"semantic_type\": \"\",\n        \"description\": \"\"\n      }\n    }\n  ]\n}",
              "type": "dataframe",
              "variable_name": "df_baseline"
            },
            "text/html": [
              "\n",
              "  <div id=\"df-5b9ee6a9-74f9-4c8f-bb34-31abec8cab4e\" class=\"colab-df-container\">\n",
              "    <div>\n",
              "<style scoped>\n",
              "    .dataframe tbody tr th:only-of-type {\n",
              "        vertical-align: middle;\n",
              "    }\n",
              "\n",
              "    .dataframe tbody tr th {\n",
              "        vertical-align: top;\n",
              "    }\n",
              "\n",
              "    .dataframe thead th {\n",
              "        text-align: right;\n",
              "    }\n",
              "</style>\n",
              "<table border=\"1\" class=\"dataframe\">\n",
              "  <thead>\n",
              "    <tr style=\"text-align: right;\">\n",
              "      <th></th>\n",
              "      <th>Value</th>\n",
              "      <th>Reference</th>\n",
              "    </tr>\n",
              "    <tr>\n",
              "      <th>Metric</th>\n",
              "      <th></th>\n",
              "      <th></th>\n",
              "    </tr>\n",
              "  </thead>\n",
              "  <tbody>\n",
              "    <tr>\n",
              "      <th>Statistical Parity</th>\n",
              "      <td>-0.082522</td>\n",
              "      <td>0</td>\n",
              "    </tr>\n",
              "    <tr>\n",
              "      <th>Disparate Impact</th>\n",
              "      <td>0.860609</td>\n",
              "      <td>1</td>\n",
              "    </tr>\n",
              "    <tr>\n",
              "      <th>Four Fifths Rule</th>\n",
              "      <td>0.860609</td>\n",
              "      <td>1</td>\n",
              "    </tr>\n",
              "    <tr>\n",
              "      <th>Cohen D</th>\n",
              "      <td>-0.166987</td>\n",
              "      <td>0</td>\n",
              "    </tr>\n",
              "    <tr>\n",
              "      <th>2SD Rule</th>\n",
              "      <td>-8.030477</td>\n",
              "      <td>0</td>\n",
              "    </tr>\n",
              "    <tr>\n",
              "      <th>Equality of Opportunity Difference</th>\n",
              "      <td>-0.045454</td>\n",
              "      <td>0</td>\n",
              "    </tr>\n",
              "    <tr>\n",
              "      <th>False Positive Rate Difference</th>\n",
              "      <td>-0.064237</td>\n",
              "      <td>0</td>\n",
              "    </tr>\n",
              "    <tr>\n",
              "      <th>Average Odds Difference</th>\n",
              "      <td>-0.054845</td>\n",
              "      <td>0</td>\n",
              "    </tr>\n",
              "    <tr>\n",
              "      <th>Accuracy Difference</th>\n",
              "      <td>0.004816</td>\n",
              "      <td>0</td>\n",
              "    </tr>\n",
              "  </tbody>\n",
              "</table>\n",
              "</div>\n",
              "    <div class=\"colab-df-buttons\">\n",
              "\n",
              "  <div class=\"colab-df-container\">\n",
              "    <button class=\"colab-df-convert\" onclick=\"convertToInteractive('df-5b9ee6a9-74f9-4c8f-bb34-31abec8cab4e')\"\n",
              "            title=\"Convert this dataframe to an interactive table.\"\n",
              "            style=\"display:none;\">\n",
              "\n",
              "  <svg xmlns=\"http://www.w3.org/2000/svg\" height=\"24px\" viewBox=\"0 -960 960 960\">\n",
              "    <path d=\"M120-120v-720h720v720H120Zm60-500h600v-160H180v160Zm220 220h160v-160H400v160Zm0 220h160v-160H400v160ZM180-400h160v-160H180v160Zm440 0h160v-160H620v160ZM180-180h160v-160H180v160Zm440 0h160v-160H620v160Z\"/>\n",
              "  </svg>\n",
              "    </button>\n",
              "\n",
              "  <style>\n",
              "    .colab-df-container {\n",
              "      display:flex;\n",
              "      gap: 12px;\n",
              "    }\n",
              "\n",
              "    .colab-df-convert {\n",
              "      background-color: #E8F0FE;\n",
              "      border: none;\n",
              "      border-radius: 50%;\n",
              "      cursor: pointer;\n",
              "      display: none;\n",
              "      fill: #1967D2;\n",
              "      height: 32px;\n",
              "      padding: 0 0 0 0;\n",
              "      width: 32px;\n",
              "    }\n",
              "\n",
              "    .colab-df-convert:hover {\n",
              "      background-color: #E2EBFA;\n",
              "      box-shadow: 0px 1px 2px rgba(60, 64, 67, 0.3), 0px 1px 3px 1px rgba(60, 64, 67, 0.15);\n",
              "      fill: #174EA6;\n",
              "    }\n",
              "\n",
              "    .colab-df-buttons div {\n",
              "      margin-bottom: 4px;\n",
              "    }\n",
              "\n",
              "    [theme=dark] .colab-df-convert {\n",
              "      background-color: #3B4455;\n",
              "      fill: #D2E3FC;\n",
              "    }\n",
              "\n",
              "    [theme=dark] .colab-df-convert:hover {\n",
              "      background-color: #434B5C;\n",
              "      box-shadow: 0px 1px 3px 1px rgba(0, 0, 0, 0.15);\n",
              "      filter: drop-shadow(0px 1px 2px rgba(0, 0, 0, 0.3));\n",
              "      fill: #FFFFFF;\n",
              "    }\n",
              "  </style>\n",
              "\n",
              "    <script>\n",
              "      const buttonEl =\n",
              "        document.querySelector('#df-5b9ee6a9-74f9-4c8f-bb34-31abec8cab4e button.colab-df-convert');\n",
              "      buttonEl.style.display =\n",
              "        google.colab.kernel.accessAllowed ? 'block' : 'none';\n",
              "\n",
              "      async function convertToInteractive(key) {\n",
              "        const element = document.querySelector('#df-5b9ee6a9-74f9-4c8f-bb34-31abec8cab4e');\n",
              "        const dataTable =\n",
              "          await google.colab.kernel.invokeFunction('convertToInteractive',\n",
              "                                                    [key], {});\n",
              "        if (!dataTable) return;\n",
              "\n",
              "        const docLinkHtml = 'Like what you see? Visit the ' +\n",
              "          '<a target=\"_blank\" href=https://colab.research.google.com/notebooks/data_table.ipynb>data table notebook</a>'\n",
              "          + ' to learn more about interactive tables.';\n",
              "        element.innerHTML = '';\n",
              "        dataTable['output_type'] = 'display_data';\n",
              "        await google.colab.output.renderOutput(dataTable, element);\n",
              "        const docLink = document.createElement('div');\n",
              "        docLink.innerHTML = docLinkHtml;\n",
              "        element.appendChild(docLink);\n",
              "      }\n",
              "    </script>\n",
              "  </div>\n",
              "\n",
              "\n",
              "<div id=\"df-af5c2b16-b596-4993-98f5-72be896907c6\">\n",
              "  <button class=\"colab-df-quickchart\" onclick=\"quickchart('df-af5c2b16-b596-4993-98f5-72be896907c6')\"\n",
              "            title=\"Suggest charts\"\n",
              "            style=\"display:none;\">\n",
              "\n",
              "<svg xmlns=\"http://www.w3.org/2000/svg\" height=\"24px\"viewBox=\"0 0 24 24\"\n",
              "     width=\"24px\">\n",
              "    <g>\n",
              "        <path d=\"M19 3H5c-1.1 0-2 .9-2 2v14c0 1.1.9 2 2 2h14c1.1 0 2-.9 2-2V5c0-1.1-.9-2-2-2zM9 17H7v-7h2v7zm4 0h-2V7h2v10zm4 0h-2v-4h2v4z\"/>\n",
              "    </g>\n",
              "</svg>\n",
              "  </button>\n",
              "\n",
              "<style>\n",
              "  .colab-df-quickchart {\n",
              "      --bg-color: #E8F0FE;\n",
              "      --fill-color: #1967D2;\n",
              "      --hover-bg-color: #E2EBFA;\n",
              "      --hover-fill-color: #174EA6;\n",
              "      --disabled-fill-color: #AAA;\n",
              "      --disabled-bg-color: #DDD;\n",
              "  }\n",
              "\n",
              "  [theme=dark] .colab-df-quickchart {\n",
              "      --bg-color: #3B4455;\n",
              "      --fill-color: #D2E3FC;\n",
              "      --hover-bg-color: #434B5C;\n",
              "      --hover-fill-color: #FFFFFF;\n",
              "      --disabled-bg-color: #3B4455;\n",
              "      --disabled-fill-color: #666;\n",
              "  }\n",
              "\n",
              "  .colab-df-quickchart {\n",
              "    background-color: var(--bg-color);\n",
              "    border: none;\n",
              "    border-radius: 50%;\n",
              "    cursor: pointer;\n",
              "    display: none;\n",
              "    fill: var(--fill-color);\n",
              "    height: 32px;\n",
              "    padding: 0;\n",
              "    width: 32px;\n",
              "  }\n",
              "\n",
              "  .colab-df-quickchart:hover {\n",
              "    background-color: var(--hover-bg-color);\n",
              "    box-shadow: 0 1px 2px rgba(60, 64, 67, 0.3), 0 1px 3px 1px rgba(60, 64, 67, 0.15);\n",
              "    fill: var(--button-hover-fill-color);\n",
              "  }\n",
              "\n",
              "  .colab-df-quickchart-complete:disabled,\n",
              "  .colab-df-quickchart-complete:disabled:hover {\n",
              "    background-color: var(--disabled-bg-color);\n",
              "    fill: var(--disabled-fill-color);\n",
              "    box-shadow: none;\n",
              "  }\n",
              "\n",
              "  .colab-df-spinner {\n",
              "    border: 2px solid var(--fill-color);\n",
              "    border-color: transparent;\n",
              "    border-bottom-color: var(--fill-color);\n",
              "    animation:\n",
              "      spin 1s steps(1) infinite;\n",
              "  }\n",
              "\n",
              "  @keyframes spin {\n",
              "    0% {\n",
              "      border-color: transparent;\n",
              "      border-bottom-color: var(--fill-color);\n",
              "      border-left-color: var(--fill-color);\n",
              "    }\n",
              "    20% {\n",
              "      border-color: transparent;\n",
              "      border-left-color: var(--fill-color);\n",
              "      border-top-color: var(--fill-color);\n",
              "    }\n",
              "    30% {\n",
              "      border-color: transparent;\n",
              "      border-left-color: var(--fill-color);\n",
              "      border-top-color: var(--fill-color);\n",
              "      border-right-color: var(--fill-color);\n",
              "    }\n",
              "    40% {\n",
              "      border-color: transparent;\n",
              "      border-right-color: var(--fill-color);\n",
              "      border-top-color: var(--fill-color);\n",
              "    }\n",
              "    60% {\n",
              "      border-color: transparent;\n",
              "      border-right-color: var(--fill-color);\n",
              "    }\n",
              "    80% {\n",
              "      border-color: transparent;\n",
              "      border-right-color: var(--fill-color);\n",
              "      border-bottom-color: var(--fill-color);\n",
              "    }\n",
              "    90% {\n",
              "      border-color: transparent;\n",
              "      border-bottom-color: var(--fill-color);\n",
              "    }\n",
              "  }\n",
              "</style>\n",
              "\n",
              "  <script>\n",
              "    async function quickchart(key) {\n",
              "      const quickchartButtonEl =\n",
              "        document.querySelector('#' + key + ' button');\n",
              "      quickchartButtonEl.disabled = true;  // To prevent multiple clicks.\n",
              "      quickchartButtonEl.classList.add('colab-df-spinner');\n",
              "      try {\n",
              "        const charts = await google.colab.kernel.invokeFunction(\n",
              "            'suggestCharts', [key], {});\n",
              "      } catch (error) {\n",
              "        console.error('Error during call to suggestCharts:', error);\n",
              "      }\n",
              "      quickchartButtonEl.classList.remove('colab-df-spinner');\n",
              "      quickchartButtonEl.classList.add('colab-df-quickchart-complete');\n",
              "    }\n",
              "    (() => {\n",
              "      let quickchartButtonEl =\n",
              "        document.querySelector('#df-af5c2b16-b596-4993-98f5-72be896907c6 button');\n",
              "      quickchartButtonEl.style.display =\n",
              "        google.colab.kernel.accessAllowed ? 'block' : 'none';\n",
              "    })();\n",
              "  </script>\n",
              "</div>\n",
              "    </div>\n",
              "  </div>\n"
            ],
            "text/plain": [
              "                                       Value  Reference\n",
              "Metric                                                 \n",
              "Statistical Parity                 -0.082522          0\n",
              "Disparate Impact                    0.860609          1\n",
              "Four Fifths Rule                    0.860609          1\n",
              "Cohen D                            -0.166987          0\n",
              "2SD Rule                           -8.030477          0\n",
              "Equality of Opportunity Difference -0.045454          0\n",
              "False Positive Rate Difference     -0.064237          0\n",
              "Average Odds Difference            -0.054845          0\n",
              "Accuracy Difference                 0.004816          0"
            ]
          },
          "execution_count": 198,
          "metadata": {},
          "output_type": "execute_result"
        }
      ],
      "source": [
        "from holisticai.bias.metrics import classification_bias_metrics\n",
        "\n",
        "print(group_a.shape, group_b.shape, y_pred.shape)\n",
        "df = classification_bias_metrics(\n",
        "    bin_cols_test.astype(bool),\n",
        "    ~bin_cols_test.astype(bool),\n",
        "    y_pred,\n",
        "    y_test,\n",
        "    metric_type='both'\n",
        ")\n",
        "y_baseline = y_pred.copy()\n",
        "df_baseline=df.copy()\n",
        "df_baseline"
      ]
    },
    {
      "cell_type": "code",
      "execution_count": null,
      "metadata": {
        "colab": {
          "base_uri": "https://localhost:8080/",
          "height": 363
        },
        "id": "TyU2qSWdIIra",
        "outputId": "9e50c88f-becf-46a9-8042-cd37863bc2b5"
      },
      "outputs": [
        {
          "data": {
            "application/vnd.google.colaboratory.intrinsic+json": {
              "summary": "{\n  \"name\": \"df_rf_baseline\",\n  \"rows\": 9,\n  \"fields\": [\n    {\n      \"column\": \"Metric\",\n      \"properties\": {\n        \"dtype\": \"string\",\n        \"num_unique_values\": 9,\n        \"samples\": [\n          \"Average Odds Difference\",\n          \"Disparate Impact\",\n          \"Equality of Opportunity Difference\"\n        ],\n        \"semantic_type\": \"\",\n        \"description\": \"\"\n      }\n    },\n    {\n      \"column\": \"Value\",\n      \"properties\": {\n        \"dtype\": \"number\",\n        \"std\": 2.3452384785229032,\n        \"min\": -6.751691964344404,\n        \"max\": 0.8757985299582377,\n        \"num_unique_values\": 8,\n        \"samples\": [\n          0.8757985299582377,\n          -0.04218325398917369,\n          -0.06976823114114689\n        ],\n        \"semantic_type\": \"\",\n        \"description\": \"\"\n      }\n    },\n    {\n      \"column\": \"Reference\",\n      \"properties\": {\n        \"dtype\": \"number\",\n        \"std\": 0,\n        \"min\": 0,\n        \"max\": 1,\n        \"num_unique_values\": 2,\n        \"samples\": [\n          1,\n          0\n        ],\n        \"semantic_type\": \"\",\n        \"description\": \"\"\n      }\n    }\n  ]\n}",
              "type": "dataframe",
              "variable_name": "df_rf_baseline"
            },
            "text/html": [
              "\n",
              "  <div id=\"df-d9d7cbc4-ecec-45df-9dd4-ca83981ca651\" class=\"colab-df-container\">\n",
              "    <div>\n",
              "<style scoped>\n",
              "    .dataframe tbody tr th:only-of-type {\n",
              "        vertical-align: middle;\n",
              "    }\n",
              "\n",
              "    .dataframe tbody tr th {\n",
              "        vertical-align: top;\n",
              "    }\n",
              "\n",
              "    .dataframe thead th {\n",
              "        text-align: right;\n",
              "    }\n",
              "</style>\n",
              "<table border=\"1\" class=\"dataframe\">\n",
              "  <thead>\n",
              "    <tr style=\"text-align: right;\">\n",
              "      <th></th>\n",
              "      <th>Value</th>\n",
              "      <th>Reference</th>\n",
              "    </tr>\n",
              "    <tr>\n",
              "      <th>Metric</th>\n",
              "      <th></th>\n",
              "      <th></th>\n",
              "    </tr>\n",
              "  </thead>\n",
              "  <tbody>\n",
              "    <tr>\n",
              "      <th>Statistical Parity</th>\n",
              "      <td>-0.069768</td>\n",
              "      <td>0</td>\n",
              "    </tr>\n",
              "    <tr>\n",
              "      <th>Disparate Impact</th>\n",
              "      <td>0.875799</td>\n",
              "      <td>1</td>\n",
              "    </tr>\n",
              "    <tr>\n",
              "      <th>Four Fifths Rule</th>\n",
              "      <td>0.875799</td>\n",
              "      <td>1</td>\n",
              "    </tr>\n",
              "    <tr>\n",
              "      <th>Cohen D</th>\n",
              "      <td>-0.140271</td>\n",
              "      <td>0</td>\n",
              "    </tr>\n",
              "    <tr>\n",
              "      <th>2SD Rule</th>\n",
              "      <td>-6.751692</td>\n",
              "      <td>0</td>\n",
              "    </tr>\n",
              "    <tr>\n",
              "      <th>Equality of Opportunity Difference</th>\n",
              "      <td>-0.033607</td>\n",
              "      <td>0</td>\n",
              "    </tr>\n",
              "    <tr>\n",
              "      <th>False Positive Rate Difference</th>\n",
              "      <td>-0.042183</td>\n",
              "      <td>0</td>\n",
              "    </tr>\n",
              "    <tr>\n",
              "      <th>Average Odds Difference</th>\n",
              "      <td>-0.037895</td>\n",
              "      <td>0</td>\n",
              "    </tr>\n",
              "    <tr>\n",
              "      <th>Accuracy Difference</th>\n",
              "      <td>0.001770</td>\n",
              "      <td>0</td>\n",
              "    </tr>\n",
              "  </tbody>\n",
              "</table>\n",
              "</div>\n",
              "    <div class=\"colab-df-buttons\">\n",
              "\n",
              "  <div class=\"colab-df-container\">\n",
              "    <button class=\"colab-df-convert\" onclick=\"convertToInteractive('df-d9d7cbc4-ecec-45df-9dd4-ca83981ca651')\"\n",
              "            title=\"Convert this dataframe to an interactive table.\"\n",
              "            style=\"display:none;\">\n",
              "\n",
              "  <svg xmlns=\"http://www.w3.org/2000/svg\" height=\"24px\" viewBox=\"0 -960 960 960\">\n",
              "    <path d=\"M120-120v-720h720v720H120Zm60-500h600v-160H180v160Zm220 220h160v-160H400v160Zm0 220h160v-160H400v160ZM180-400h160v-160H180v160Zm440 0h160v-160H620v160ZM180-180h160v-160H180v160Zm440 0h160v-160H620v160Z\"/>\n",
              "  </svg>\n",
              "    </button>\n",
              "\n",
              "  <style>\n",
              "    .colab-df-container {\n",
              "      display:flex;\n",
              "      gap: 12px;\n",
              "    }\n",
              "\n",
              "    .colab-df-convert {\n",
              "      background-color: #E8F0FE;\n",
              "      border: none;\n",
              "      border-radius: 50%;\n",
              "      cursor: pointer;\n",
              "      display: none;\n",
              "      fill: #1967D2;\n",
              "      height: 32px;\n",
              "      padding: 0 0 0 0;\n",
              "      width: 32px;\n",
              "    }\n",
              "\n",
              "    .colab-df-convert:hover {\n",
              "      background-color: #E2EBFA;\n",
              "      box-shadow: 0px 1px 2px rgba(60, 64, 67, 0.3), 0px 1px 3px 1px rgba(60, 64, 67, 0.15);\n",
              "      fill: #174EA6;\n",
              "    }\n",
              "\n",
              "    .colab-df-buttons div {\n",
              "      margin-bottom: 4px;\n",
              "    }\n",
              "\n",
              "    [theme=dark] .colab-df-convert {\n",
              "      background-color: #3B4455;\n",
              "      fill: #D2E3FC;\n",
              "    }\n",
              "\n",
              "    [theme=dark] .colab-df-convert:hover {\n",
              "      background-color: #434B5C;\n",
              "      box-shadow: 0px 1px 3px 1px rgba(0, 0, 0, 0.15);\n",
              "      filter: drop-shadow(0px 1px 2px rgba(0, 0, 0, 0.3));\n",
              "      fill: #FFFFFF;\n",
              "    }\n",
              "  </style>\n",
              "\n",
              "    <script>\n",
              "      const buttonEl =\n",
              "        document.querySelector('#df-d9d7cbc4-ecec-45df-9dd4-ca83981ca651 button.colab-df-convert');\n",
              "      buttonEl.style.display =\n",
              "        google.colab.kernel.accessAllowed ? 'block' : 'none';\n",
              "\n",
              "      async function convertToInteractive(key) {\n",
              "        const element = document.querySelector('#df-d9d7cbc4-ecec-45df-9dd4-ca83981ca651');\n",
              "        const dataTable =\n",
              "          await google.colab.kernel.invokeFunction('convertToInteractive',\n",
              "                                                    [key], {});\n",
              "        if (!dataTable) return;\n",
              "\n",
              "        const docLinkHtml = 'Like what you see? Visit the ' +\n",
              "          '<a target=\"_blank\" href=https://colab.research.google.com/notebooks/data_table.ipynb>data table notebook</a>'\n",
              "          + ' to learn more about interactive tables.';\n",
              "        element.innerHTML = '';\n",
              "        dataTable['output_type'] = 'display_data';\n",
              "        await google.colab.output.renderOutput(dataTable, element);\n",
              "        const docLink = document.createElement('div');\n",
              "        docLink.innerHTML = docLinkHtml;\n",
              "        element.appendChild(docLink);\n",
              "      }\n",
              "    </script>\n",
              "  </div>\n",
              "\n",
              "\n",
              "<div id=\"df-7a62eb10-42ef-4720-a09f-8b9e03026088\">\n",
              "  <button class=\"colab-df-quickchart\" onclick=\"quickchart('df-7a62eb10-42ef-4720-a09f-8b9e03026088')\"\n",
              "            title=\"Suggest charts\"\n",
              "            style=\"display:none;\">\n",
              "\n",
              "<svg xmlns=\"http://www.w3.org/2000/svg\" height=\"24px\"viewBox=\"0 0 24 24\"\n",
              "     width=\"24px\">\n",
              "    <g>\n",
              "        <path d=\"M19 3H5c-1.1 0-2 .9-2 2v14c0 1.1.9 2 2 2h14c1.1 0 2-.9 2-2V5c0-1.1-.9-2-2-2zM9 17H7v-7h2v7zm4 0h-2V7h2v10zm4 0h-2v-4h2v4z\"/>\n",
              "    </g>\n",
              "</svg>\n",
              "  </button>\n",
              "\n",
              "<style>\n",
              "  .colab-df-quickchart {\n",
              "      --bg-color: #E8F0FE;\n",
              "      --fill-color: #1967D2;\n",
              "      --hover-bg-color: #E2EBFA;\n",
              "      --hover-fill-color: #174EA6;\n",
              "      --disabled-fill-color: #AAA;\n",
              "      --disabled-bg-color: #DDD;\n",
              "  }\n",
              "\n",
              "  [theme=dark] .colab-df-quickchart {\n",
              "      --bg-color: #3B4455;\n",
              "      --fill-color: #D2E3FC;\n",
              "      --hover-bg-color: #434B5C;\n",
              "      --hover-fill-color: #FFFFFF;\n",
              "      --disabled-bg-color: #3B4455;\n",
              "      --disabled-fill-color: #666;\n",
              "  }\n",
              "\n",
              "  .colab-df-quickchart {\n",
              "    background-color: var(--bg-color);\n",
              "    border: none;\n",
              "    border-radius: 50%;\n",
              "    cursor: pointer;\n",
              "    display: none;\n",
              "    fill: var(--fill-color);\n",
              "    height: 32px;\n",
              "    padding: 0;\n",
              "    width: 32px;\n",
              "  }\n",
              "\n",
              "  .colab-df-quickchart:hover {\n",
              "    background-color: var(--hover-bg-color);\n",
              "    box-shadow: 0 1px 2px rgba(60, 64, 67, 0.3), 0 1px 3px 1px rgba(60, 64, 67, 0.15);\n",
              "    fill: var(--button-hover-fill-color);\n",
              "  }\n",
              "\n",
              "  .colab-df-quickchart-complete:disabled,\n",
              "  .colab-df-quickchart-complete:disabled:hover {\n",
              "    background-color: var(--disabled-bg-color);\n",
              "    fill: var(--disabled-fill-color);\n",
              "    box-shadow: none;\n",
              "  }\n",
              "\n",
              "  .colab-df-spinner {\n",
              "    border: 2px solid var(--fill-color);\n",
              "    border-color: transparent;\n",
              "    border-bottom-color: var(--fill-color);\n",
              "    animation:\n",
              "      spin 1s steps(1) infinite;\n",
              "  }\n",
              "\n",
              "  @keyframes spin {\n",
              "    0% {\n",
              "      border-color: transparent;\n",
              "      border-bottom-color: var(--fill-color);\n",
              "      border-left-color: var(--fill-color);\n",
              "    }\n",
              "    20% {\n",
              "      border-color: transparent;\n",
              "      border-left-color: var(--fill-color);\n",
              "      border-top-color: var(--fill-color);\n",
              "    }\n",
              "    30% {\n",
              "      border-color: transparent;\n",
              "      border-left-color: var(--fill-color);\n",
              "      border-top-color: var(--fill-color);\n",
              "      border-right-color: var(--fill-color);\n",
              "    }\n",
              "    40% {\n",
              "      border-color: transparent;\n",
              "      border-right-color: var(--fill-color);\n",
              "      border-top-color: var(--fill-color);\n",
              "    }\n",
              "    60% {\n",
              "      border-color: transparent;\n",
              "      border-right-color: var(--fill-color);\n",
              "    }\n",
              "    80% {\n",
              "      border-color: transparent;\n",
              "      border-right-color: var(--fill-color);\n",
              "      border-bottom-color: var(--fill-color);\n",
              "    }\n",
              "    90% {\n",
              "      border-color: transparent;\n",
              "      border-bottom-color: var(--fill-color);\n",
              "    }\n",
              "  }\n",
              "</style>\n",
              "\n",
              "  <script>\n",
              "    async function quickchart(key) {\n",
              "      const quickchartButtonEl =\n",
              "        document.querySelector('#' + key + ' button');\n",
              "      quickchartButtonEl.disabled = true;  // To prevent multiple clicks.\n",
              "      quickchartButtonEl.classList.add('colab-df-spinner');\n",
              "      try {\n",
              "        const charts = await google.colab.kernel.invokeFunction(\n",
              "            'suggestCharts', [key], {});\n",
              "      } catch (error) {\n",
              "        console.error('Error during call to suggestCharts:', error);\n",
              "      }\n",
              "      quickchartButtonEl.classList.remove('colab-df-spinner');\n",
              "      quickchartButtonEl.classList.add('colab-df-quickchart-complete');\n",
              "    }\n",
              "    (() => {\n",
              "      let quickchartButtonEl =\n",
              "        document.querySelector('#df-7a62eb10-42ef-4720-a09f-8b9e03026088 button');\n",
              "      quickchartButtonEl.style.display =\n",
              "        google.colab.kernel.accessAllowed ? 'block' : 'none';\n",
              "    })();\n",
              "  </script>\n",
              "</div>\n",
              "    </div>\n",
              "  </div>\n"
            ],
            "text/plain": [
              "                                       Value  Reference\n",
              "Metric                                                 \n",
              "Statistical Parity                 -0.069768          0\n",
              "Disparate Impact                    0.875799          1\n",
              "Four Fifths Rule                    0.875799          1\n",
              "Cohen D                            -0.140271          0\n",
              "2SD Rule                           -6.751692          0\n",
              "Equality of Opportunity Difference -0.033607          0\n",
              "False Positive Rate Difference     -0.042183          0\n",
              "Average Odds Difference            -0.037895          0\n",
              "Accuracy Difference                 0.001770          0"
            ]
          },
          "execution_count": 199,
          "metadata": {},
          "output_type": "execute_result"
        }
      ],
      "source": [
        "df_rf = classification_bias_metrics(\n",
        "    bin_cols_test.astype(bool),\n",
        "    ~bin_cols_test.astype(bool),\n",
        "    rf_pred,\n",
        "    y_test,\n",
        "    metric_type='both'\n",
        ")\n",
        "rf_baseline = rf_pred.copy()\n",
        "df_rf_baseline=df_rf.copy()\n",
        "df_rf_baseline"
      ]
    },
    {
      "cell_type": "code",
      "execution_count": null,
      "metadata": {
        "colab": {
          "base_uri": "https://localhost:8080/",
          "height": 363
        },
        "id": "8hh2y1roWZmm",
        "outputId": "3b835f3d-294c-47b6-b397-db564bc56f2d"
      },
      "outputs": [
        {
          "data": {
            "application/vnd.google.colaboratory.intrinsic+json": {
              "summary": "{\n  \"name\": \"df_mlp_baseline\",\n  \"rows\": 9,\n  \"fields\": [\n    {\n      \"column\": \"Metric\",\n      \"properties\": {\n        \"dtype\": \"string\",\n        \"num_unique_values\": 9,\n        \"samples\": [\n          \"Average Odds Difference\",\n          \"Disparate Impact\",\n          \"Equality of Opportunity Difference\"\n        ],\n        \"semantic_type\": \"\",\n        \"description\": \"\"\n      }\n    },\n    {\n      \"column\": \"Value\",\n      \"properties\": {\n        \"dtype\": \"number\",\n        \"std\": 2.223708495043579,\n        \"min\": -6.376516235670237,\n        \"max\": 0.8811780080130213,\n        \"num_unique_values\": 8,\n        \"samples\": [\n          0.8811780080130213,\n          -0.04597079996359521,\n          -0.06594497889765977\n        ],\n        \"semantic_type\": \"\",\n        \"description\": \"\"\n      }\n    },\n    {\n      \"column\": \"Reference\",\n      \"properties\": {\n        \"dtype\": \"number\",\n        \"std\": 0,\n        \"min\": 0,\n        \"max\": 1,\n        \"num_unique_values\": 2,\n        \"samples\": [\n          1,\n          0\n        ],\n        \"semantic_type\": \"\",\n        \"description\": \"\"\n      }\n    }\n  ]\n}",
              "type": "dataframe",
              "variable_name": "df_mlp_baseline"
            },
            "text/html": [
              "\n",
              "  <div id=\"df-cb8cafcb-8f3a-4a37-a94a-16881fbd4a50\" class=\"colab-df-container\">\n",
              "    <div>\n",
              "<style scoped>\n",
              "    .dataframe tbody tr th:only-of-type {\n",
              "        vertical-align: middle;\n",
              "    }\n",
              "\n",
              "    .dataframe tbody tr th {\n",
              "        vertical-align: top;\n",
              "    }\n",
              "\n",
              "    .dataframe thead th {\n",
              "        text-align: right;\n",
              "    }\n",
              "</style>\n",
              "<table border=\"1\" class=\"dataframe\">\n",
              "  <thead>\n",
              "    <tr style=\"text-align: right;\">\n",
              "      <th></th>\n",
              "      <th>Value</th>\n",
              "      <th>Reference</th>\n",
              "    </tr>\n",
              "    <tr>\n",
              "      <th>Metric</th>\n",
              "      <th></th>\n",
              "      <th></th>\n",
              "    </tr>\n",
              "  </thead>\n",
              "  <tbody>\n",
              "    <tr>\n",
              "      <th>Statistical Parity</th>\n",
              "      <td>-0.065945</td>\n",
              "      <td>0</td>\n",
              "    </tr>\n",
              "    <tr>\n",
              "      <th>Disparate Impact</th>\n",
              "      <td>0.881178</td>\n",
              "      <td>1</td>\n",
              "    </tr>\n",
              "    <tr>\n",
              "      <th>Four Fifths Rule</th>\n",
              "      <td>0.881178</td>\n",
              "      <td>1</td>\n",
              "    </tr>\n",
              "    <tr>\n",
              "      <th>Cohen D</th>\n",
              "      <td>-0.132446</td>\n",
              "      <td>0</td>\n",
              "    </tr>\n",
              "    <tr>\n",
              "      <th>2SD Rule</th>\n",
              "      <td>-6.376516</td>\n",
              "      <td>0</td>\n",
              "    </tr>\n",
              "    <tr>\n",
              "      <th>Equality of Opportunity Difference</th>\n",
              "      <td>-0.025238</td>\n",
              "      <td>0</td>\n",
              "    </tr>\n",
              "    <tr>\n",
              "      <th>False Positive Rate Difference</th>\n",
              "      <td>-0.045971</td>\n",
              "      <td>0</td>\n",
              "    </tr>\n",
              "    <tr>\n",
              "      <th>Average Odds Difference</th>\n",
              "      <td>-0.035605</td>\n",
              "      <td>0</td>\n",
              "    </tr>\n",
              "    <tr>\n",
              "      <th>Accuracy Difference</th>\n",
              "      <td>0.008290</td>\n",
              "      <td>0</td>\n",
              "    </tr>\n",
              "  </tbody>\n",
              "</table>\n",
              "</div>\n",
              "    <div class=\"colab-df-buttons\">\n",
              "\n",
              "  <div class=\"colab-df-container\">\n",
              "    <button class=\"colab-df-convert\" onclick=\"convertToInteractive('df-cb8cafcb-8f3a-4a37-a94a-16881fbd4a50')\"\n",
              "            title=\"Convert this dataframe to an interactive table.\"\n",
              "            style=\"display:none;\">\n",
              "\n",
              "  <svg xmlns=\"http://www.w3.org/2000/svg\" height=\"24px\" viewBox=\"0 -960 960 960\">\n",
              "    <path d=\"M120-120v-720h720v720H120Zm60-500h600v-160H180v160Zm220 220h160v-160H400v160Zm0 220h160v-160H400v160ZM180-400h160v-160H180v160Zm440 0h160v-160H620v160ZM180-180h160v-160H180v160Zm440 0h160v-160H620v160Z\"/>\n",
              "  </svg>\n",
              "    </button>\n",
              "\n",
              "  <style>\n",
              "    .colab-df-container {\n",
              "      display:flex;\n",
              "      gap: 12px;\n",
              "    }\n",
              "\n",
              "    .colab-df-convert {\n",
              "      background-color: #E8F0FE;\n",
              "      border: none;\n",
              "      border-radius: 50%;\n",
              "      cursor: pointer;\n",
              "      display: none;\n",
              "      fill: #1967D2;\n",
              "      height: 32px;\n",
              "      padding: 0 0 0 0;\n",
              "      width: 32px;\n",
              "    }\n",
              "\n",
              "    .colab-df-convert:hover {\n",
              "      background-color: #E2EBFA;\n",
              "      box-shadow: 0px 1px 2px rgba(60, 64, 67, 0.3), 0px 1px 3px 1px rgba(60, 64, 67, 0.15);\n",
              "      fill: #174EA6;\n",
              "    }\n",
              "\n",
              "    .colab-df-buttons div {\n",
              "      margin-bottom: 4px;\n",
              "    }\n",
              "\n",
              "    [theme=dark] .colab-df-convert {\n",
              "      background-color: #3B4455;\n",
              "      fill: #D2E3FC;\n",
              "    }\n",
              "\n",
              "    [theme=dark] .colab-df-convert:hover {\n",
              "      background-color: #434B5C;\n",
              "      box-shadow: 0px 1px 3px 1px rgba(0, 0, 0, 0.15);\n",
              "      filter: drop-shadow(0px 1px 2px rgba(0, 0, 0, 0.3));\n",
              "      fill: #FFFFFF;\n",
              "    }\n",
              "  </style>\n",
              "\n",
              "    <script>\n",
              "      const buttonEl =\n",
              "        document.querySelector('#df-cb8cafcb-8f3a-4a37-a94a-16881fbd4a50 button.colab-df-convert');\n",
              "      buttonEl.style.display =\n",
              "        google.colab.kernel.accessAllowed ? 'block' : 'none';\n",
              "\n",
              "      async function convertToInteractive(key) {\n",
              "        const element = document.querySelector('#df-cb8cafcb-8f3a-4a37-a94a-16881fbd4a50');\n",
              "        const dataTable =\n",
              "          await google.colab.kernel.invokeFunction('convertToInteractive',\n",
              "                                                    [key], {});\n",
              "        if (!dataTable) return;\n",
              "\n",
              "        const docLinkHtml = 'Like what you see? Visit the ' +\n",
              "          '<a target=\"_blank\" href=https://colab.research.google.com/notebooks/data_table.ipynb>data table notebook</a>'\n",
              "          + ' to learn more about interactive tables.';\n",
              "        element.innerHTML = '';\n",
              "        dataTable['output_type'] = 'display_data';\n",
              "        await google.colab.output.renderOutput(dataTable, element);\n",
              "        const docLink = document.createElement('div');\n",
              "        docLink.innerHTML = docLinkHtml;\n",
              "        element.appendChild(docLink);\n",
              "      }\n",
              "    </script>\n",
              "  </div>\n",
              "\n",
              "\n",
              "<div id=\"df-58b2e515-f1ff-4d1e-9c31-0ae195875d70\">\n",
              "  <button class=\"colab-df-quickchart\" onclick=\"quickchart('df-58b2e515-f1ff-4d1e-9c31-0ae195875d70')\"\n",
              "            title=\"Suggest charts\"\n",
              "            style=\"display:none;\">\n",
              "\n",
              "<svg xmlns=\"http://www.w3.org/2000/svg\" height=\"24px\"viewBox=\"0 0 24 24\"\n",
              "     width=\"24px\">\n",
              "    <g>\n",
              "        <path d=\"M19 3H5c-1.1 0-2 .9-2 2v14c0 1.1.9 2 2 2h14c1.1 0 2-.9 2-2V5c0-1.1-.9-2-2-2zM9 17H7v-7h2v7zm4 0h-2V7h2v10zm4 0h-2v-4h2v4z\"/>\n",
              "    </g>\n",
              "</svg>\n",
              "  </button>\n",
              "\n",
              "<style>\n",
              "  .colab-df-quickchart {\n",
              "      --bg-color: #E8F0FE;\n",
              "      --fill-color: #1967D2;\n",
              "      --hover-bg-color: #E2EBFA;\n",
              "      --hover-fill-color: #174EA6;\n",
              "      --disabled-fill-color: #AAA;\n",
              "      --disabled-bg-color: #DDD;\n",
              "  }\n",
              "\n",
              "  [theme=dark] .colab-df-quickchart {\n",
              "      --bg-color: #3B4455;\n",
              "      --fill-color: #D2E3FC;\n",
              "      --hover-bg-color: #434B5C;\n",
              "      --hover-fill-color: #FFFFFF;\n",
              "      --disabled-bg-color: #3B4455;\n",
              "      --disabled-fill-color: #666;\n",
              "  }\n",
              "\n",
              "  .colab-df-quickchart {\n",
              "    background-color: var(--bg-color);\n",
              "    border: none;\n",
              "    border-radius: 50%;\n",
              "    cursor: pointer;\n",
              "    display: none;\n",
              "    fill: var(--fill-color);\n",
              "    height: 32px;\n",
              "    padding: 0;\n",
              "    width: 32px;\n",
              "  }\n",
              "\n",
              "  .colab-df-quickchart:hover {\n",
              "    background-color: var(--hover-bg-color);\n",
              "    box-shadow: 0 1px 2px rgba(60, 64, 67, 0.3), 0 1px 3px 1px rgba(60, 64, 67, 0.15);\n",
              "    fill: var(--button-hover-fill-color);\n",
              "  }\n",
              "\n",
              "  .colab-df-quickchart-complete:disabled,\n",
              "  .colab-df-quickchart-complete:disabled:hover {\n",
              "    background-color: var(--disabled-bg-color);\n",
              "    fill: var(--disabled-fill-color);\n",
              "    box-shadow: none;\n",
              "  }\n",
              "\n",
              "  .colab-df-spinner {\n",
              "    border: 2px solid var(--fill-color);\n",
              "    border-color: transparent;\n",
              "    border-bottom-color: var(--fill-color);\n",
              "    animation:\n",
              "      spin 1s steps(1) infinite;\n",
              "  }\n",
              "\n",
              "  @keyframes spin {\n",
              "    0% {\n",
              "      border-color: transparent;\n",
              "      border-bottom-color: var(--fill-color);\n",
              "      border-left-color: var(--fill-color);\n",
              "    }\n",
              "    20% {\n",
              "      border-color: transparent;\n",
              "      border-left-color: var(--fill-color);\n",
              "      border-top-color: var(--fill-color);\n",
              "    }\n",
              "    30% {\n",
              "      border-color: transparent;\n",
              "      border-left-color: var(--fill-color);\n",
              "      border-top-color: var(--fill-color);\n",
              "      border-right-color: var(--fill-color);\n",
              "    }\n",
              "    40% {\n",
              "      border-color: transparent;\n",
              "      border-right-color: var(--fill-color);\n",
              "      border-top-color: var(--fill-color);\n",
              "    }\n",
              "    60% {\n",
              "      border-color: transparent;\n",
              "      border-right-color: var(--fill-color);\n",
              "    }\n",
              "    80% {\n",
              "      border-color: transparent;\n",
              "      border-right-color: var(--fill-color);\n",
              "      border-bottom-color: var(--fill-color);\n",
              "    }\n",
              "    90% {\n",
              "      border-color: transparent;\n",
              "      border-bottom-color: var(--fill-color);\n",
              "    }\n",
              "  }\n",
              "</style>\n",
              "\n",
              "  <script>\n",
              "    async function quickchart(key) {\n",
              "      const quickchartButtonEl =\n",
              "        document.querySelector('#' + key + ' button');\n",
              "      quickchartButtonEl.disabled = true;  // To prevent multiple clicks.\n",
              "      quickchartButtonEl.classList.add('colab-df-spinner');\n",
              "      try {\n",
              "        const charts = await google.colab.kernel.invokeFunction(\n",
              "            'suggestCharts', [key], {});\n",
              "      } catch (error) {\n",
              "        console.error('Error during call to suggestCharts:', error);\n",
              "      }\n",
              "      quickchartButtonEl.classList.remove('colab-df-spinner');\n",
              "      quickchartButtonEl.classList.add('colab-df-quickchart-complete');\n",
              "    }\n",
              "    (() => {\n",
              "      let quickchartButtonEl =\n",
              "        document.querySelector('#df-58b2e515-f1ff-4d1e-9c31-0ae195875d70 button');\n",
              "      quickchartButtonEl.style.display =\n",
              "        google.colab.kernel.accessAllowed ? 'block' : 'none';\n",
              "    })();\n",
              "  </script>\n",
              "</div>\n",
              "    </div>\n",
              "  </div>\n"
            ],
            "text/plain": [
              "                                       Value  Reference\n",
              "Metric                                                 \n",
              "Statistical Parity                 -0.065945          0\n",
              "Disparate Impact                    0.881178          1\n",
              "Four Fifths Rule                    0.881178          1\n",
              "Cohen D                            -0.132446          0\n",
              "2SD Rule                           -6.376516          0\n",
              "Equality of Opportunity Difference -0.025238          0\n",
              "False Positive Rate Difference     -0.045971          0\n",
              "Average Odds Difference            -0.035605          0\n",
              "Accuracy Difference                 0.008290          0"
            ]
          },
          "execution_count": 200,
          "metadata": {},
          "output_type": "execute_result"
        }
      ],
      "source": [
        "df_mlp = classification_bias_metrics(\n",
        "    bin_cols_test.astype(bool),\n",
        "    ~bin_cols_test.astype(bool),\n",
        "    mlp_pred,\n",
        "    y_test,\n",
        "    metric_type='both'\n",
        ")\n",
        "mlp_baseline = mlp_pred.copy()\n",
        "df_mlp_baseline=df_mlp.copy()\n",
        "df_mlp_baseline"
      ]
    },
    {
      "cell_type": "code",
      "execution_count": null,
      "metadata": {
        "id": "GJ-IJDTFMQrN"
      },
      "outputs": [],
      "source": [
        "bin= ['White', 'Non-white']\n",
        "df = pd.DataFrame({bin[0]: bin_cols_test.astype(bool), bin[1]: ~bin_cols_test.astype(bool)})"
      ]
    },
    {
      "cell_type": "code",
      "execution_count": null,
      "metadata": {
        "id": "tYNnkRVTQAvZ"
      },
      "outputs": [],
      "source": [
        "def statistical_parity_multigroup(group_labels, y_pred):\n",
        "    success_rates = {}\n",
        "    for i, group in enumerate(group_labels):\n",
        "\n",
        "        success_rates[bin[i]] = group_success_rate(group, y_pred)\n",
        "\n",
        "    return success_rates"
      ]
    },
    {
      "cell_type": "code",
      "execution_count": null,
      "metadata": {
        "colab": {
          "base_uri": "https://localhost:8080/"
        },
        "id": "H3mQ0uayL0J7",
        "outputId": "1b5064bd-b983-48bb-dda1-452609af3a91"
      },
      "outputs": [
        {
          "name": "stdout",
          "output_type": "stream",
          "text": [
            "{'White': 0.509494595384166, 'Non-white': 0.5920165175498968} {'White': 0.7551605504587156, 'Non-white': 0.7561032318065566} {'White': 0.1814791796146675, 'Non-white': 0.13602550478214664}\n"
          ]
        }
      ],
      "source": [
        "success_rates_rf = statistical_parity_multigroup([bin_cols_test.astype(bool),~bin_cols_test.astype(bool)], y_pred)\n",
        "tpr_rf = tpr_multigroup(bin, y_pred, y_test, df)\n",
        "fpr_rf = fpr_multigroup(bin, y_pred, y_test, df)\n",
        "print(success_rates_rf, tpr_rf, fpr_rf)"
      ]
    },
    {
      "cell_type": "code",
      "execution_count": null,
      "metadata": {
        "colab": {
          "base_uri": "https://localhost:8080/"
        },
        "id": "YXftRW1yL07Z",
        "outputId": "b515eee9-09ce-48b0-99a3-ccdca7b7ccf0"
      },
      "outputs": [
        {
          "name": "stdout",
          "output_type": "stream",
          "text": [
            "{'White': 0.49196611159801346, 'Non-white': 0.5617343427391603} {'White': 0.8076009501187649, 'Non-white': 0.81058564077432} {'White': 0.15475450590428838, 'Non-white': 0.12114771519659936}\n"
          ]
        }
      ],
      "source": [
        "success_rates_rf = statistical_parity_multigroup([bin_cols_test.astype(bool),~bin_cols_test.astype(bool)], rf_pred)\n",
        "tpr_rf = tpr_multigroup(bin, rf_pred, y_test, df)\n",
        "fpr_rf = fpr_multigroup(bin, rf_pred, y_test, df)\n",
        "print(success_rates_rf, tpr_rf, fpr_rf)"
      ]
    },
    {
      "cell_type": "code",
      "execution_count": null,
      "metadata": {
        "colab": {
          "base_uri": "https://localhost:8080/"
        },
        "id": "HAH5xofCL1-T",
        "outputId": "700dfac1-6306-419e-e57e-2d5f20a5c937"
      },
      "outputs": [
        {
          "name": "stdout",
          "output_type": "stream",
          "text": [
            "{'White': 0.4890446976336547, 'Non-white': 0.5549896765313145} {'White': 0.7956989247311828, 'Non-white': 0.7963789682539683} {'White': 0.17215661901802362, 'Non-white': 0.14691817215727948}\n"
          ]
        }
      ],
      "source": [
        "success_rates_rf = statistical_parity_multigroup([bin_cols_test.astype(bool),~bin_cols_test.astype(bool)], mlp_pred)\n",
        "tpr_rf = tpr_multigroup(bin, mlp_pred, y_test, df)\n",
        "fpr_rf = fpr_multigroup(bin, mlp_pred, y_test,df)\n",
        "print(success_rates_rf, tpr_rf, fpr_rf)"
      ]
    }
  ],
  "metadata": {
    "colab": {
      "provenance": []
    },
    "kernelspec": {
      "display_name": "Python 3",
      "name": "python3"
    },
    "language_info": {
      "name": "python"
    }
  },
  "nbformat": 4,
  "nbformat_minor": 0
}

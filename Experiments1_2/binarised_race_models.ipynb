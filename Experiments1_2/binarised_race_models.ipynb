{
  "cells": [
    {
      "cell_type": "markdown",
      "metadata": {
        "colab": {
          "base_uri": "https://localhost:8080/"
        },
        "id": "wgQtmV9CCPlq",
        "outputId": "a560ec5d-49e5-4657-ea9f-5fdd78f6985c"
      },
      "source": [
        "from google.colab import drive\n",
        "drive.mount('/content/drive')"
      ]
    },
    {
      "cell_type": "code",
      "execution_count": null,
      "metadata": {
        "colab": {
          "base_uri": "https://localhost:8080/"
        },
        "id": "0aX1r5E-CVto",
        "outputId": "0837ef5b-0d80-4317-d4fa-91983dbf7b9c"
      },
      "outputs": [
        {
          "name": "stderr",
          "output_type": "stream",
          "text": [
            "<ipython-input-2-9cb36043a649>:21: DtypeWarning: Columns (22,31,32,33,38,46,77) have mixed types. Specify dtype option on import or set low_memory=False.\n",
            "  data = pd.read_csv(\"/content/drive/MyDrive/Colab Notebooks/state_CA.csv\", usecols= columns_list)\n"
          ]
        }
      ],
      "source": [
        "import pandas as pd\n",
        "import numpy as np\n",
        "\n",
        "columns_list = ['income', 'debt_to_income_ratio', 'applicant_credit_score_type', 'co-applicant_credit_score_type', 'loan_amount', 'loan_purpose', 'loan_to_value_ratio', 'loan_term', 'preapproval', 'lien_status', 'prepayment_penalty_term', 'intro_rate_period', 'negative_amortization', 'interest_only_payment', 'balloon_payment', 'property_value', 'construction_method', 'occupancy_type', 'county_code', 'census_tract', 'applicant_ethnicity-1', 'applicant_ethnicity-2', 'applicant_ethnicity-3', 'applicant_ethnicity-4', 'applicant_ethnicity-5', 'applicant_race-1', 'applicant_race-2', 'applicant_race-3', 'applicant_race-4', 'applicant_race-5', 'applicant_sex','applicant_age', 'action_taken']\n",
        "\n",
        "#columns_list = ['loan_purpose', 'loan_amount', 'action_taken', 'applicant_ethnicity-1', 'applicant_ethnicity-2', 'applicant_ethnicity-3', 'applicant_ethnicity-4', 'applicant_ethnicity-5', 'applicant_race-1', 'applicant_race-2', 'applicant_race-3', 'applicant_race-4', 'applicant_race-5', 'applicant_sex', 'lien_status',\n",
        "\n",
        "\n",
        "#  'income', 'debt_to_income_ratio', 'applicant_credit_score_type', 'co-applicant_credit_score_type', 'loan_amount', 'loan_type', 'loan_purpose', 'loan_to_value_ratio', 'interest_rate', 'rate_spread', 'loan_term', 'preapproval', 'lien_status', 'prepayment_penalty_term', 'intro_rate_period', 'negative_amortization', 'interest_only_payment', 'balloon_payment', 'property_value', 'construction_method', 'occupancy_type', 'county_code', 'census_tract', 'applicant_ethnicity-1', 'applicant_ethnicity-2', 'applicant_ethnicity-3', 'applicant_ethnicity-4', 'applicant_ethnicity-5', 'applicant_race-1', 'applicant_race-2', 'applicant_race-3', 'applicant_race-4', 'applicant_race-5', 'applicant_sex', 'action_taken']\n",
        "\n",
        "\n",
        "int_types = ['applicant_ethnicity-1',\n",
        "       'applicant_ethnicity-2', 'applicant_ethnicity-3',\n",
        "       'applicant_ethnicity-4', 'applicant_ethnicity-5', 'applicant_race-1',\n",
        "       'applicant_race-2', 'applicant_race-3', 'applicant_race-4',\n",
        "       'applicant_race-5', 'applicant_sex', 'action_taken']\n",
        "float_types=['loan_amount','loan_to_value_ratio', 'interest_rate', 'rate_spread', 'income', 'debt_to_income_ratio', 'loan_to_value_ratio']\n",
        "\n",
        "object_types=[]\n",
        "\n",
        "data = pd.read_csv(\"state_CA.csv\", usecols= columns_list)\n",
        "\n"
      ]
    },
    {
      "cell_type": "code",
      "execution_count": null,
      "metadata": {
        "colab": {
          "base_uri": "https://localhost:8080/"
        },
        "id": "we1iZr4Nmdpj",
        "outputId": "7701f826-785a-4bf2-89e0-524037d9f2e2"
      },
      "outputs": [
        {
          "data": {
            "text/plain": [
              "33"
            ]
          },
          "execution_count": 3,
          "metadata": {},
          "output_type": "execute_result"
        }
      ],
      "source": [
        "len(columns_list)"
      ]
    },
    {
      "cell_type": "markdown",
      "metadata": {
        "id": "jPMVZFY9Mk8m"
      },
      "source": []
    },
    {
      "cell_type": "markdown",
      "metadata": {
        "id": "AL8V93O-MkyH"
      },
      "source": []
    },
    {
      "cell_type": "code",
      "execution_count": null,
      "metadata": {
        "colab": {
          "base_uri": "https://localhost:8080/"
        },
        "id": "olQ-ooUK_T7B",
        "outputId": "af6d2679-9d77-424b-c028-d61d42fc27f0"
      },
      "outputs": [
        {
          "data": {
            "text/plain": [
              "Index(['county_code', 'census_tract', 'action_taken', 'preapproval',\n",
              "       'loan_purpose', 'lien_status', 'loan_amount', 'loan_to_value_ratio',\n",
              "       'loan_term', 'prepayment_penalty_term', 'intro_rate_period',\n",
              "       'negative_amortization', 'interest_only_payment', 'balloon_payment',\n",
              "       'property_value', 'construction_method', 'occupancy_type', 'income',\n",
              "       'debt_to_income_ratio', 'applicant_credit_score_type',\n",
              "       'co-applicant_credit_score_type', 'applicant_ethnicity-1',\n",
              "       'applicant_ethnicity-2', 'applicant_ethnicity-3',\n",
              "       'applicant_ethnicity-4', 'applicant_ethnicity-5', 'applicant_race-1',\n",
              "       'applicant_race-2', 'applicant_race-3', 'applicant_race-4',\n",
              "       'applicant_race-5', 'applicant_sex', 'applicant_age'],\n",
              "      dtype='object')"
            ]
          },
          "execution_count": 4,
          "metadata": {},
          "output_type": "execute_result"
        }
      ],
      "source": [
        "data.columns"
      ]
    },
    {
      "cell_type": "code",
      "execution_count": null,
      "metadata": {
        "id": "S9WupKZ_DCdf"
      },
      "outputs": [],
      "source": [
        "columns_to_check_for_na = ['county_code', 'census_tract', 'preapproval',\n",
        "       'loan_purpose', 'lien_status', 'loan_amount', 'loan_to_value_ratio', 'loan_term', 'prepayment_penalty_term',\n",
        "       'intro_rate_period', 'negative_amortization', 'interest_only_payment',\n",
        "       'balloon_payment', 'property_value', 'construction_method',\n",
        "       'occupancy_type', 'income', 'debt_to_income_ratio',\n",
        "       'applicant_credit_score_type', 'co-applicant_credit_score_type',\n",
        "       'applicant_ethnicity-1', 'applicant_race-1', 'applicant_sex']\n",
        "\n",
        "data= data.dropna(subset=columns_to_check_for_na)\n"
      ]
    },
    {
      "cell_type": "code",
      "execution_count": null,
      "metadata": {
        "id": "s23YsHjxbqau"
      },
      "outputs": [],
      "source": [
        "data = data[data!= 'Exempt']\n",
        "data = data[data!= '1111']\n",
        "data = data[data!= 1111]\n",
        "data = data[data!= '8888']\n",
        "data = data[data!= 8888]"
      ]
    },
    {
      "cell_type": "code",
      "execution_count": null,
      "metadata": {
        "id": "PbhZiYkScFt3"
      },
      "outputs": [],
      "source": [
        "data = data[data!= 'NaN']\n",
        "data = data[data!= 'nan']"
      ]
    },
    {
      "cell_type": "code",
      "execution_count": null,
      "metadata": {
        "id": "c1EaDpcQJZP1"
      },
      "outputs": [],
      "source": [
        "# Update action_taken values\n",
        "data['action_taken'] = data['action_taken'].replace({1: 1, 2: 1, 3: 0, 7: 0})\n",
        "\n",
        "# Drop rows with action_taken values of 4, 5, 6, or 8\n",
        "data = data[~data['action_taken'].isin([4, 5, 6, 8])]\n",
        "data = data[~data['applicant_ethnicity-1'].isin([3, 4])]\n",
        "data = data[~data['applicant_sex'].isin([3, 4, 6])]\n",
        "\n"
      ]
    },
    {
      "cell_type": "code",
      "execution_count": null,
      "metadata": {
        "colab": {
          "base_uri": "https://localhost:8080/"
        },
        "id": "A-J2ebQuJFmq",
        "outputId": "232618c0-695a-4844-88ad-788855695be2"
      },
      "outputs": [
        {
          "name": "stdout",
          "output_type": "stream",
          "text": [
            "action_taken\n",
            "0    32992\n",
            "1    31881\n",
            "Name: count, dtype: int64\n"
          ]
        }
      ],
      "source": [
        "action_taken_counts = data['action_taken'].value_counts()\n",
        "print(action_taken_counts)"
      ]
    },
    {
      "cell_type": "code",
      "execution_count": null,
      "metadata": {
        "id": "h2Nxc2XKT8gh"
      },
      "outputs": [],
      "source": [
        "data['debt_to_income_ratio']= data['debt_to_income_ratio'].replace({\n",
        "    '<20%': '0',\n",
        "    '>60%': '60',\n",
        "\n",
        "    '30%-<36%': '30',\n",
        "    '20%-<30%': '20',\n",
        "    '50%-60%': '50'\n",
        "})\n",
        "\n",
        "num_elements_per_range = min(data['debt_to_income_ratio'].value_counts())\n",
        "\n"
      ]
    },
    {
      "cell_type": "code",
      "execution_count": null,
      "metadata": {
        "id": "So8oQzWHUJ3j"
      },
      "outputs": [],
      "source": [
        "\n",
        "replacement_ranges = {\n",
        "    '37': [37,38,39,40,41,42],\n",
        "    '43': [43,44,45,46,47,48,49],\n",
        "}\n",
        "\n",
        "for key,value in replacement_ranges.items():\n",
        "  selected_rows= data['debt_to_income_ratio'].astype(float).between(min(value), max(value))\n",
        "  data.loc[selected_rows, 'debt_to_income_ratio'] = key\n",
        "\n"
      ]
    },
    {
      "cell_type": "code",
      "execution_count": null,
      "metadata": {
        "id": "xN-QpS5ihyMe"
      },
      "outputs": [],
      "source": [
        "for i in range(1, 6):\n",
        "        race_col = f'applicant_race-{i}'\n",
        "        data[race_col] = data[race_col].replace({1: 1, 2: 2, 21:2, 22:2, 23:2, 24:2, 25:2, 26:2, 27:2, 3: 3, 4: 4, 41:4, 42: 4, 43: 4, 44: 4})\n",
        "\n",
        "for i in range(1, 6):\n",
        "        race_col = f'applicant_ethnicity-{i}'\n",
        "        data[race_col] = data[race_col].replace({1: 1, 2: 0, 11:1, 12:1, 13:1, 14:1})\n",
        "\n",
        "data['applicant_ethnicity'] = (data[['applicant_ethnicity-1', 'applicant_ethnicity-2', 'applicant_ethnicity-3', 'applicant_ethnicity-4', 'applicant_ethnicity-5']].sum(axis=1) >= 1).astype(int) + 1\n",
        "data.drop(['applicant_ethnicity-1', 'applicant_ethnicity-2', 'applicant_ethnicity-3', 'applicant_ethnicity-4', 'applicant_ethnicity-5'],  axis=1, inplace=True)\n"
      ]
    },
    {
      "cell_type": "code",
      "execution_count": null,
      "metadata": {
        "colab": {
          "base_uri": "https://localhost:8080/",
          "height": 461
        },
        "id": "05njUAZHThwD",
        "outputId": "72b07405-5b91-49ea-d5ea-84b4403f5c45"
      },
      "outputs": [
        {
          "data": {
            "application/vnd.google.colaboratory.intrinsic+json": {
              "type": "dataframe",
              "variable_name": "data"
            },
            "text/html": [
              "\n",
              "  <div id=\"df-5e8d6a08-4044-4733-a267-6ff28c8ad7fd\" class=\"colab-df-container\">\n",
              "    <div>\n",
              "<style scoped>\n",
              "    .dataframe tbody tr th:only-of-type {\n",
              "        vertical-align: middle;\n",
              "    }\n",
              "\n",
              "    .dataframe tbody tr th {\n",
              "        vertical-align: top;\n",
              "    }\n",
              "\n",
              "    .dataframe thead th {\n",
              "        text-align: right;\n",
              "    }\n",
              "</style>\n",
              "<table border=\"1\" class=\"dataframe\">\n",
              "  <thead>\n",
              "    <tr style=\"text-align: right;\">\n",
              "      <th></th>\n",
              "      <th>county_code</th>\n",
              "      <th>census_tract</th>\n",
              "      <th>action_taken</th>\n",
              "      <th>preapproval</th>\n",
              "      <th>loan_purpose</th>\n",
              "      <th>lien_status</th>\n",
              "      <th>loan_amount</th>\n",
              "      <th>loan_to_value_ratio</th>\n",
              "      <th>loan_term</th>\n",
              "      <th>prepayment_penalty_term</th>\n",
              "      <th>...</th>\n",
              "      <th>applicant_credit_score_type</th>\n",
              "      <th>co-applicant_credit_score_type</th>\n",
              "      <th>applicant_race-1</th>\n",
              "      <th>applicant_race-2</th>\n",
              "      <th>applicant_race-3</th>\n",
              "      <th>applicant_race-4</th>\n",
              "      <th>applicant_race-5</th>\n",
              "      <th>applicant_sex</th>\n",
              "      <th>applicant_age</th>\n",
              "      <th>applicant_ethnicity</th>\n",
              "    </tr>\n",
              "  </thead>\n",
              "  <tbody>\n",
              "    <tr>\n",
              "      <th>54108</th>\n",
              "      <td>6085.0</td>\n",
              "      <td>6.085504e+09</td>\n",
              "      <td>1</td>\n",
              "      <td>2</td>\n",
              "      <td>1</td>\n",
              "      <td>1</td>\n",
              "      <td>1085000.0</td>\n",
              "      <td>NaN</td>\n",
              "      <td>NaN</td>\n",
              "      <td>NaN</td>\n",
              "      <td>...</td>\n",
              "      <td>NaN</td>\n",
              "      <td>NaN</td>\n",
              "      <td>2.0</td>\n",
              "      <td>2.0</td>\n",
              "      <td>NaN</td>\n",
              "      <td>NaN</td>\n",
              "      <td>NaN</td>\n",
              "      <td>1</td>\n",
              "      <td>35-44</td>\n",
              "      <td>1</td>\n",
              "    </tr>\n",
              "    <tr>\n",
              "      <th>54116</th>\n",
              "      <td>6059.0</td>\n",
              "      <td>6.059063e+09</td>\n",
              "      <td>1</td>\n",
              "      <td>2</td>\n",
              "      <td>1</td>\n",
              "      <td>1</td>\n",
              "      <td>1955000.0</td>\n",
              "      <td>NaN</td>\n",
              "      <td>NaN</td>\n",
              "      <td>NaN</td>\n",
              "      <td>...</td>\n",
              "      <td>NaN</td>\n",
              "      <td>NaN</td>\n",
              "      <td>5.0</td>\n",
              "      <td>NaN</td>\n",
              "      <td>NaN</td>\n",
              "      <td>NaN</td>\n",
              "      <td>NaN</td>\n",
              "      <td>2</td>\n",
              "      <td>35-44</td>\n",
              "      <td>1</td>\n",
              "    </tr>\n",
              "    <tr>\n",
              "      <th>54131</th>\n",
              "      <td>6037.0</td>\n",
              "      <td>6.037262e+09</td>\n",
              "      <td>1</td>\n",
              "      <td>2</td>\n",
              "      <td>1</td>\n",
              "      <td>1</td>\n",
              "      <td>3045000.0</td>\n",
              "      <td>NaN</td>\n",
              "      <td>NaN</td>\n",
              "      <td>NaN</td>\n",
              "      <td>...</td>\n",
              "      <td>NaN</td>\n",
              "      <td>NaN</td>\n",
              "      <td>5.0</td>\n",
              "      <td>NaN</td>\n",
              "      <td>NaN</td>\n",
              "      <td>NaN</td>\n",
              "      <td>NaN</td>\n",
              "      <td>1</td>\n",
              "      <td>NaN</td>\n",
              "      <td>1</td>\n",
              "    </tr>\n",
              "    <tr>\n",
              "      <th>54139</th>\n",
              "      <td>6059.0</td>\n",
              "      <td>6.059063e+09</td>\n",
              "      <td>1</td>\n",
              "      <td>2</td>\n",
              "      <td>1</td>\n",
              "      <td>1</td>\n",
              "      <td>2625000.0</td>\n",
              "      <td>NaN</td>\n",
              "      <td>NaN</td>\n",
              "      <td>NaN</td>\n",
              "      <td>...</td>\n",
              "      <td>NaN</td>\n",
              "      <td>NaN</td>\n",
              "      <td>5.0</td>\n",
              "      <td>NaN</td>\n",
              "      <td>NaN</td>\n",
              "      <td>NaN</td>\n",
              "      <td>NaN</td>\n",
              "      <td>1</td>\n",
              "      <td>NaN</td>\n",
              "      <td>1</td>\n",
              "    </tr>\n",
              "    <tr>\n",
              "      <th>64997</th>\n",
              "      <td>6085.0</td>\n",
              "      <td>6.085508e+09</td>\n",
              "      <td>1</td>\n",
              "      <td>2</td>\n",
              "      <td>1</td>\n",
              "      <td>1</td>\n",
              "      <td>1725000.0</td>\n",
              "      <td>65.0</td>\n",
              "      <td>360.0</td>\n",
              "      <td>18.0</td>\n",
              "      <td>...</td>\n",
              "      <td>9.0</td>\n",
              "      <td>10.0</td>\n",
              "      <td>2.0</td>\n",
              "      <td>NaN</td>\n",
              "      <td>NaN</td>\n",
              "      <td>NaN</td>\n",
              "      <td>NaN</td>\n",
              "      <td>1</td>\n",
              "      <td>45-54</td>\n",
              "      <td>1</td>\n",
              "    </tr>\n",
              "    <tr>\n",
              "      <th>...</th>\n",
              "      <td>...</td>\n",
              "      <td>...</td>\n",
              "      <td>...</td>\n",
              "      <td>...</td>\n",
              "      <td>...</td>\n",
              "      <td>...</td>\n",
              "      <td>...</td>\n",
              "      <td>...</td>\n",
              "      <td>...</td>\n",
              "      <td>...</td>\n",
              "      <td>...</td>\n",
              "      <td>...</td>\n",
              "      <td>...</td>\n",
              "      <td>...</td>\n",
              "      <td>...</td>\n",
              "      <td>...</td>\n",
              "      <td>...</td>\n",
              "      <td>...</td>\n",
              "      <td>...</td>\n",
              "      <td>...</td>\n",
              "      <td>...</td>\n",
              "    </tr>\n",
              "    <tr>\n",
              "      <th>1547658</th>\n",
              "      <td>6071.0</td>\n",
              "      <td>6.071002e+09</td>\n",
              "      <td>1</td>\n",
              "      <td>2</td>\n",
              "      <td>1</td>\n",
              "      <td>1</td>\n",
              "      <td>395000.0</td>\n",
              "      <td>NaN</td>\n",
              "      <td>NaN</td>\n",
              "      <td>NaN</td>\n",
              "      <td>...</td>\n",
              "      <td>NaN</td>\n",
              "      <td>NaN</td>\n",
              "      <td>2.0</td>\n",
              "      <td>2.0</td>\n",
              "      <td>NaN</td>\n",
              "      <td>NaN</td>\n",
              "      <td>NaN</td>\n",
              "      <td>1</td>\n",
              "      <td>25-34</td>\n",
              "      <td>1</td>\n",
              "    </tr>\n",
              "    <tr>\n",
              "      <th>1547660</th>\n",
              "      <td>6059.0</td>\n",
              "      <td>6.059052e+09</td>\n",
              "      <td>1</td>\n",
              "      <td>2</td>\n",
              "      <td>1</td>\n",
              "      <td>1</td>\n",
              "      <td>1025000.0</td>\n",
              "      <td>NaN</td>\n",
              "      <td>NaN</td>\n",
              "      <td>NaN</td>\n",
              "      <td>...</td>\n",
              "      <td>NaN</td>\n",
              "      <td>NaN</td>\n",
              "      <td>2.0</td>\n",
              "      <td>2.0</td>\n",
              "      <td>NaN</td>\n",
              "      <td>NaN</td>\n",
              "      <td>NaN</td>\n",
              "      <td>2</td>\n",
              "      <td>25-34</td>\n",
              "      <td>1</td>\n",
              "    </tr>\n",
              "    <tr>\n",
              "      <th>1547661</th>\n",
              "      <td>6037.0</td>\n",
              "      <td>6.037403e+09</td>\n",
              "      <td>1</td>\n",
              "      <td>2</td>\n",
              "      <td>1</td>\n",
              "      <td>1</td>\n",
              "      <td>545000.0</td>\n",
              "      <td>NaN</td>\n",
              "      <td>NaN</td>\n",
              "      <td>NaN</td>\n",
              "      <td>...</td>\n",
              "      <td>NaN</td>\n",
              "      <td>NaN</td>\n",
              "      <td>2.0</td>\n",
              "      <td>2.0</td>\n",
              "      <td>NaN</td>\n",
              "      <td>NaN</td>\n",
              "      <td>NaN</td>\n",
              "      <td>1</td>\n",
              "      <td>25-34</td>\n",
              "      <td>1</td>\n",
              "    </tr>\n",
              "    <tr>\n",
              "      <th>1547662</th>\n",
              "      <td>6037.0</td>\n",
              "      <td>6.037431e+09</td>\n",
              "      <td>1</td>\n",
              "      <td>2</td>\n",
              "      <td>32</td>\n",
              "      <td>1</td>\n",
              "      <td>875000.0</td>\n",
              "      <td>NaN</td>\n",
              "      <td>NaN</td>\n",
              "      <td>NaN</td>\n",
              "      <td>...</td>\n",
              "      <td>NaN</td>\n",
              "      <td>NaN</td>\n",
              "      <td>2.0</td>\n",
              "      <td>2.0</td>\n",
              "      <td>NaN</td>\n",
              "      <td>NaN</td>\n",
              "      <td>NaN</td>\n",
              "      <td>2</td>\n",
              "      <td>45-54</td>\n",
              "      <td>1</td>\n",
              "    </tr>\n",
              "    <tr>\n",
              "      <th>1547663</th>\n",
              "      <td>6059.0</td>\n",
              "      <td>6.059052e+09</td>\n",
              "      <td>1</td>\n",
              "      <td>2</td>\n",
              "      <td>1</td>\n",
              "      <td>1</td>\n",
              "      <td>1275000.0</td>\n",
              "      <td>NaN</td>\n",
              "      <td>NaN</td>\n",
              "      <td>NaN</td>\n",
              "      <td>...</td>\n",
              "      <td>NaN</td>\n",
              "      <td>NaN</td>\n",
              "      <td>2.0</td>\n",
              "      <td>2.0</td>\n",
              "      <td>NaN</td>\n",
              "      <td>NaN</td>\n",
              "      <td>NaN</td>\n",
              "      <td>1</td>\n",
              "      <td>25-34</td>\n",
              "      <td>1</td>\n",
              "    </tr>\n",
              "  </tbody>\n",
              "</table>\n",
              "<p>64873 rows × 29 columns</p>\n",
              "</div>\n",
              "    <div class=\"colab-df-buttons\">\n",
              "\n",
              "  <div class=\"colab-df-container\">\n",
              "    <button class=\"colab-df-convert\" onclick=\"convertToInteractive('df-5e8d6a08-4044-4733-a267-6ff28c8ad7fd')\"\n",
              "            title=\"Convert this dataframe to an interactive table.\"\n",
              "            style=\"display:none;\">\n",
              "\n",
              "  <svg xmlns=\"http://www.w3.org/2000/svg\" height=\"24px\" viewBox=\"0 -960 960 960\">\n",
              "    <path d=\"M120-120v-720h720v720H120Zm60-500h600v-160H180v160Zm220 220h160v-160H400v160Zm0 220h160v-160H400v160ZM180-400h160v-160H180v160Zm440 0h160v-160H620v160ZM180-180h160v-160H180v160Zm440 0h160v-160H620v160Z\"/>\n",
              "  </svg>\n",
              "    </button>\n",
              "\n",
              "  <style>\n",
              "    .colab-df-container {\n",
              "      display:flex;\n",
              "      gap: 12px;\n",
              "    }\n",
              "\n",
              "    .colab-df-convert {\n",
              "      background-color: #E8F0FE;\n",
              "      border: none;\n",
              "      border-radius: 50%;\n",
              "      cursor: pointer;\n",
              "      display: none;\n",
              "      fill: #1967D2;\n",
              "      height: 32px;\n",
              "      padding: 0 0 0 0;\n",
              "      width: 32px;\n",
              "    }\n",
              "\n",
              "    .colab-df-convert:hover {\n",
              "      background-color: #E2EBFA;\n",
              "      box-shadow: 0px 1px 2px rgba(60, 64, 67, 0.3), 0px 1px 3px 1px rgba(60, 64, 67, 0.15);\n",
              "      fill: #174EA6;\n",
              "    }\n",
              "\n",
              "    .colab-df-buttons div {\n",
              "      margin-bottom: 4px;\n",
              "    }\n",
              "\n",
              "    [theme=dark] .colab-df-convert {\n",
              "      background-color: #3B4455;\n",
              "      fill: #D2E3FC;\n",
              "    }\n",
              "\n",
              "    [theme=dark] .colab-df-convert:hover {\n",
              "      background-color: #434B5C;\n",
              "      box-shadow: 0px 1px 3px 1px rgba(0, 0, 0, 0.15);\n",
              "      filter: drop-shadow(0px 1px 2px rgba(0, 0, 0, 0.3));\n",
              "      fill: #FFFFFF;\n",
              "    }\n",
              "  </style>\n",
              "\n",
              "    <script>\n",
              "      const buttonEl =\n",
              "        document.querySelector('#df-5e8d6a08-4044-4733-a267-6ff28c8ad7fd button.colab-df-convert');\n",
              "      buttonEl.style.display =\n",
              "        google.colab.kernel.accessAllowed ? 'block' : 'none';\n",
              "\n",
              "      async function convertToInteractive(key) {\n",
              "        const element = document.querySelector('#df-5e8d6a08-4044-4733-a267-6ff28c8ad7fd');\n",
              "        const dataTable =\n",
              "          await google.colab.kernel.invokeFunction('convertToInteractive',\n",
              "                                                    [key], {});\n",
              "        if (!dataTable) return;\n",
              "\n",
              "        const docLinkHtml = 'Like what you see? Visit the ' +\n",
              "          '<a target=\"_blank\" href=https://colab.research.google.com/notebooks/data_table.ipynb>data table notebook</a>'\n",
              "          + ' to learn more about interactive tables.';\n",
              "        element.innerHTML = '';\n",
              "        dataTable['output_type'] = 'display_data';\n",
              "        await google.colab.output.renderOutput(dataTable, element);\n",
              "        const docLink = document.createElement('div');\n",
              "        docLink.innerHTML = docLinkHtml;\n",
              "        element.appendChild(docLink);\n",
              "      }\n",
              "    </script>\n",
              "  </div>\n",
              "\n",
              "\n",
              "<div id=\"df-e3f32f17-7273-45bd-b06b-cd360b4203ac\">\n",
              "  <button class=\"colab-df-quickchart\" onclick=\"quickchart('df-e3f32f17-7273-45bd-b06b-cd360b4203ac')\"\n",
              "            title=\"Suggest charts\"\n",
              "            style=\"display:none;\">\n",
              "\n",
              "<svg xmlns=\"http://www.w3.org/2000/svg\" height=\"24px\"viewBox=\"0 0 24 24\"\n",
              "     width=\"24px\">\n",
              "    <g>\n",
              "        <path d=\"M19 3H5c-1.1 0-2 .9-2 2v14c0 1.1.9 2 2 2h14c1.1 0 2-.9 2-2V5c0-1.1-.9-2-2-2zM9 17H7v-7h2v7zm4 0h-2V7h2v10zm4 0h-2v-4h2v4z\"/>\n",
              "    </g>\n",
              "</svg>\n",
              "  </button>\n",
              "\n",
              "<style>\n",
              "  .colab-df-quickchart {\n",
              "      --bg-color: #E8F0FE;\n",
              "      --fill-color: #1967D2;\n",
              "      --hover-bg-color: #E2EBFA;\n",
              "      --hover-fill-color: #174EA6;\n",
              "      --disabled-fill-color: #AAA;\n",
              "      --disabled-bg-color: #DDD;\n",
              "  }\n",
              "\n",
              "  [theme=dark] .colab-df-quickchart {\n",
              "      --bg-color: #3B4455;\n",
              "      --fill-color: #D2E3FC;\n",
              "      --hover-bg-color: #434B5C;\n",
              "      --hover-fill-color: #FFFFFF;\n",
              "      --disabled-bg-color: #3B4455;\n",
              "      --disabled-fill-color: #666;\n",
              "  }\n",
              "\n",
              "  .colab-df-quickchart {\n",
              "    background-color: var(--bg-color);\n",
              "    border: none;\n",
              "    border-radius: 50%;\n",
              "    cursor: pointer;\n",
              "    display: none;\n",
              "    fill: var(--fill-color);\n",
              "    height: 32px;\n",
              "    padding: 0;\n",
              "    width: 32px;\n",
              "  }\n",
              "\n",
              "  .colab-df-quickchart:hover {\n",
              "    background-color: var(--hover-bg-color);\n",
              "    box-shadow: 0 1px 2px rgba(60, 64, 67, 0.3), 0 1px 3px 1px rgba(60, 64, 67, 0.15);\n",
              "    fill: var(--button-hover-fill-color);\n",
              "  }\n",
              "\n",
              "  .colab-df-quickchart-complete:disabled,\n",
              "  .colab-df-quickchart-complete:disabled:hover {\n",
              "    background-color: var(--disabled-bg-color);\n",
              "    fill: var(--disabled-fill-color);\n",
              "    box-shadow: none;\n",
              "  }\n",
              "\n",
              "  .colab-df-spinner {\n",
              "    border: 2px solid var(--fill-color);\n",
              "    border-color: transparent;\n",
              "    border-bottom-color: var(--fill-color);\n",
              "    animation:\n",
              "      spin 1s steps(1) infinite;\n",
              "  }\n",
              "\n",
              "  @keyframes spin {\n",
              "    0% {\n",
              "      border-color: transparent;\n",
              "      border-bottom-color: var(--fill-color);\n",
              "      border-left-color: var(--fill-color);\n",
              "    }\n",
              "    20% {\n",
              "      border-color: transparent;\n",
              "      border-left-color: var(--fill-color);\n",
              "      border-top-color: var(--fill-color);\n",
              "    }\n",
              "    30% {\n",
              "      border-color: transparent;\n",
              "      border-left-color: var(--fill-color);\n",
              "      border-top-color: var(--fill-color);\n",
              "      border-right-color: var(--fill-color);\n",
              "    }\n",
              "    40% {\n",
              "      border-color: transparent;\n",
              "      border-right-color: var(--fill-color);\n",
              "      border-top-color: var(--fill-color);\n",
              "    }\n",
              "    60% {\n",
              "      border-color: transparent;\n",
              "      border-right-color: var(--fill-color);\n",
              "    }\n",
              "    80% {\n",
              "      border-color: transparent;\n",
              "      border-right-color: var(--fill-color);\n",
              "      border-bottom-color: var(--fill-color);\n",
              "    }\n",
              "    90% {\n",
              "      border-color: transparent;\n",
              "      border-bottom-color: var(--fill-color);\n",
              "    }\n",
              "  }\n",
              "</style>\n",
              "\n",
              "  <script>\n",
              "    async function quickchart(key) {\n",
              "      const quickchartButtonEl =\n",
              "        document.querySelector('#' + key + ' button');\n",
              "      quickchartButtonEl.disabled = true;  // To prevent multiple clicks.\n",
              "      quickchartButtonEl.classList.add('colab-df-spinner');\n",
              "      try {\n",
              "        const charts = await google.colab.kernel.invokeFunction(\n",
              "            'suggestCharts', [key], {});\n",
              "      } catch (error) {\n",
              "        console.error('Error during call to suggestCharts:', error);\n",
              "      }\n",
              "      quickchartButtonEl.classList.remove('colab-df-spinner');\n",
              "      quickchartButtonEl.classList.add('colab-df-quickchart-complete');\n",
              "    }\n",
              "    (() => {\n",
              "      let quickchartButtonEl =\n",
              "        document.querySelector('#df-e3f32f17-7273-45bd-b06b-cd360b4203ac button');\n",
              "      quickchartButtonEl.style.display =\n",
              "        google.colab.kernel.accessAllowed ? 'block' : 'none';\n",
              "    })();\n",
              "  </script>\n",
              "</div>\n",
              "    </div>\n",
              "  </div>\n"
            ],
            "text/plain": [
              "         county_code  census_tract  action_taken  preapproval  loan_purpose  \\\n",
              "54108         6085.0  6.085504e+09             1            2             1   \n",
              "54116         6059.0  6.059063e+09             1            2             1   \n",
              "54131         6037.0  6.037262e+09             1            2             1   \n",
              "54139         6059.0  6.059063e+09             1            2             1   \n",
              "64997         6085.0  6.085508e+09             1            2             1   \n",
              "...              ...           ...           ...          ...           ...   \n",
              "1547658       6071.0  6.071002e+09             1            2             1   \n",
              "1547660       6059.0  6.059052e+09             1            2             1   \n",
              "1547661       6037.0  6.037403e+09             1            2             1   \n",
              "1547662       6037.0  6.037431e+09             1            2            32   \n",
              "1547663       6059.0  6.059052e+09             1            2             1   \n",
              "\n",
              "         lien_status  loan_amount loan_to_value_ratio loan_term  \\\n",
              "54108              1    1085000.0                 NaN       NaN   \n",
              "54116              1    1955000.0                 NaN       NaN   \n",
              "54131              1    3045000.0                 NaN       NaN   \n",
              "54139              1    2625000.0                 NaN       NaN   \n",
              "64997              1    1725000.0                65.0     360.0   \n",
              "...              ...          ...                 ...       ...   \n",
              "1547658            1     395000.0                 NaN       NaN   \n",
              "1547660            1    1025000.0                 NaN       NaN   \n",
              "1547661            1     545000.0                 NaN       NaN   \n",
              "1547662            1     875000.0                 NaN       NaN   \n",
              "1547663            1    1275000.0                 NaN       NaN   \n",
              "\n",
              "        prepayment_penalty_term  ... applicant_credit_score_type  \\\n",
              "54108                       NaN  ...                         NaN   \n",
              "54116                       NaN  ...                         NaN   \n",
              "54131                       NaN  ...                         NaN   \n",
              "54139                       NaN  ...                         NaN   \n",
              "64997                      18.0  ...                         9.0   \n",
              "...                         ...  ...                         ...   \n",
              "1547658                     NaN  ...                         NaN   \n",
              "1547660                     NaN  ...                         NaN   \n",
              "1547661                     NaN  ...                         NaN   \n",
              "1547662                     NaN  ...                         NaN   \n",
              "1547663                     NaN  ...                         NaN   \n",
              "\n",
              "         co-applicant_credit_score_type  applicant_race-1  applicant_race-2  \\\n",
              "54108                               NaN               2.0               2.0   \n",
              "54116                               NaN               5.0               NaN   \n",
              "54131                               NaN               5.0               NaN   \n",
              "54139                               NaN               5.0               NaN   \n",
              "64997                              10.0               2.0               NaN   \n",
              "...                                 ...               ...               ...   \n",
              "1547658                             NaN               2.0               2.0   \n",
              "1547660                             NaN               2.0               2.0   \n",
              "1547661                             NaN               2.0               2.0   \n",
              "1547662                             NaN               2.0               2.0   \n",
              "1547663                             NaN               2.0               2.0   \n",
              "\n",
              "        applicant_race-3  applicant_race-4  applicant_race-5  applicant_sex  \\\n",
              "54108                NaN               NaN               NaN              1   \n",
              "54116                NaN               NaN               NaN              2   \n",
              "54131                NaN               NaN               NaN              1   \n",
              "54139                NaN               NaN               NaN              1   \n",
              "64997                NaN               NaN               NaN              1   \n",
              "...                  ...               ...               ...            ...   \n",
              "1547658              NaN               NaN               NaN              1   \n",
              "1547660              NaN               NaN               NaN              2   \n",
              "1547661              NaN               NaN               NaN              1   \n",
              "1547662              NaN               NaN               NaN              2   \n",
              "1547663              NaN               NaN               NaN              1   \n",
              "\n",
              "        applicant_age  applicant_ethnicity  \n",
              "54108           35-44                    1  \n",
              "54116           35-44                    1  \n",
              "54131             NaN                    1  \n",
              "54139             NaN                    1  \n",
              "64997           45-54                    1  \n",
              "...               ...                  ...  \n",
              "1547658         25-34                    1  \n",
              "1547660         25-34                    1  \n",
              "1547661         25-34                    1  \n",
              "1547662         45-54                    1  \n",
              "1547663         25-34                    1  \n",
              "\n",
              "[64873 rows x 29 columns]"
            ]
          },
          "execution_count": 13,
          "metadata": {},
          "output_type": "execute_result"
        }
      ],
      "source": [
        "data"
      ]
    },
    {
      "cell_type": "code",
      "execution_count": null,
      "metadata": {
        "id": "l-DMhCRqTqdF"
      },
      "outputs": [],
      "source": [
        "def combine_race(row):\n",
        "    races = []\n",
        "    for i in range(1, 6):\n",
        "        race_col = f'applicant_race-{i}'\n",
        "        if pd.notna(row[race_col]) and row[race_col] in [1,2,3,4,5]:\n",
        "            races.append(row[race_col])\n",
        "    return races\n"
      ]
    },
    {
      "cell_type": "code",
      "execution_count": null,
      "metadata": {
        "id": "V6umv60MY74v"
      },
      "outputs": [],
      "source": [
        "from sklearn.preprocessing import MultiLabelBinarizer\n",
        "\n",
        "app_race = data.apply(combine_race, axis=1)\n",
        "mlb = MultiLabelBinarizer()\n",
        "race_binarized = mlb.fit_transform(app_race)\n",
        "data=data.drop(columns=['applicant_race-1', 'applicant_race-2', 'applicant_race-3', 'applicant_race-4', 'applicant_race-5'])"
      ]
    },
    {
      "cell_type": "code",
      "execution_count": null,
      "metadata": {
        "colab": {
          "base_uri": "https://localhost:8080/"
        },
        "id": "YJyqcNI2aWvU",
        "outputId": "7aae73b9-3d23-4384-a41d-99c6875a63ec"
      },
      "outputs": [
        {
          "data": {
            "text/plain": [
              "Index(['county_code', 'census_tract', 'action_taken', 'preapproval',\n",
              "       'loan_purpose', 'lien_status', 'loan_amount', 'loan_to_value_ratio',\n",
              "       'loan_term', 'prepayment_penalty_term', 'intro_rate_period',\n",
              "       'negative_amortization', 'interest_only_payment', 'balloon_payment',\n",
              "       'property_value', 'construction_method', 'occupancy_type', 'income',\n",
              "       'debt_to_income_ratio', 'applicant_credit_score_type',\n",
              "       'co-applicant_credit_score_type', 'applicant_sex', 'applicant_age',\n",
              "       'applicant_ethnicity'],\n",
              "      dtype='object')"
            ]
          },
          "execution_count": 16,
          "metadata": {},
          "output_type": "execute_result"
        }
      ],
      "source": [
        "data.columns"
      ]
    },
    {
      "cell_type": "code",
      "execution_count": null,
      "metadata": {
        "colab": {
          "base_uri": "https://localhost:8080/"
        },
        "id": "ZawLhfUR9RPy",
        "outputId": "b92d510b-f7b8-4fe9-bb15-7feb6c03cc16"
      },
      "outputs": [
        {
          "data": {
            "text/plain": [
              "array([[0, 1, 0, 0, 0],\n",
              "       [0, 0, 0, 0, 1],\n",
              "       [0, 0, 0, 0, 1],\n",
              "       ...,\n",
              "       [0, 1, 0, 0, 0],\n",
              "       [0, 1, 0, 0, 0],\n",
              "       [0, 1, 0, 0, 0]])"
            ]
          },
          "execution_count": 17,
          "metadata": {},
          "output_type": "execute_result"
        }
      ],
      "source": [
        "race_binarized"
      ]
    },
    {
      "cell_type": "code",
      "execution_count": null,
      "metadata": {
        "id": "4z1SXfLyenIy"
      },
      "outputs": [],
      "source": [
        "import numpy as np\n",
        "race_sums = race_binarized.sum(axis=1)\n",
        "\n",
        "data = data[race_sums > 0]\n",
        "race_binarized = race_binarized[race_sums > 0]"
      ]
    },
    {
      "cell_type": "code",
      "execution_count": null,
      "metadata": {
        "id": "vRAix_lbegQi"
      },
      "outputs": [],
      "source": [
        "data['race'] = np.where(np.any(race_binarized[:,:4], axis=1),1,0)"
      ]
    },
    {
      "cell_type": "code",
      "execution_count": null,
      "metadata": {
        "id": "DBT0qPUPTBxi"
      },
      "outputs": [],
      "source": [
        "data.dropna(inplace=True)"
      ]
    },
    {
      "cell_type": "code",
      "execution_count": null,
      "metadata": {
        "id": "3f4DkRe84JQi"
      },
      "outputs": [],
      "source": [
        "data['prepayment_penalty_term'] = data['prepayment_penalty_term'].astype(int)\n",
        "data['intro_rate_period'] = data['intro_rate_period'].astype(int)"
      ]
    },
    {
      "cell_type": "code",
      "execution_count": null,
      "metadata": {
        "colab": {
          "base_uri": "https://localhost:8080/"
        },
        "id": "r3uC8cW5NAas",
        "outputId": "c2c22656-d17a-4fb9-954c-10fef6cf9f8b"
      },
      "outputs": [
        {
          "name": "stdout",
          "output_type": "stream",
          "text": [
            "Column 'county_code' has 57 distinct values 0\n",
            "Column 'census_tract' has 8063 distinct values 1\n",
            "Column 'action_taken' has 2 distinct values 2\n",
            "Column 'preapproval' has 2 distinct values 3\n",
            "Column 'loan_purpose' has 6 distinct values 4\n",
            "Column 'lien_status' has 2 distinct values 5\n",
            "Column 'loan_amount' has 186 distinct values 6\n",
            "Column 'loan_to_value_ratio' has 26126 distinct values 7\n",
            "Column 'loan_term' has 13 distinct values 8\n",
            "Column 'prepayment_penalty_term' has 11 distinct values 9\n",
            "Column 'intro_rate_period' has 15 distinct values 10\n",
            "Column 'negative_amortization' has 2 distinct values 11\n",
            "Column 'interest_only_payment' has 2 distinct values 12\n",
            "Column 'balloon_payment' has 2 distinct values 13\n",
            "Column 'property_value' has 1058 distinct values 14\n",
            "Column 'construction_method' has 2 distinct values 15\n",
            "Column 'occupancy_type' has 3 distinct values 16\n",
            "Column 'income' has 1343 distinct values 17\n",
            "Column 'debt_to_income_ratio' has 8 distinct values 18\n",
            "Column 'applicant_credit_score_type' has 8 distinct values 19\n",
            "Column 'co-applicant_credit_score_type' has 9 distinct values 20\n",
            "Column 'applicant_sex' has 2 distinct values 21\n",
            "Column 'applicant_age' has 7 distinct values 22\n",
            "Column 'applicant_ethnicity' has 2 distinct values 23\n",
            "Column 'race' has 2 distinct values 24\n"
          ]
        }
      ],
      "source": [
        "x = 0\n",
        "for column in data.columns:\n",
        "  distinct_values = data[column].nunique()\n",
        "  print(f\"Column '{column}' has {distinct_values} distinct values\", x)\n",
        "  x+=1"
      ]
    },
    {
      "cell_type": "code",
      "execution_count": null,
      "metadata": {
        "colab": {
          "base_uri": "https://localhost:8080/"
        },
        "id": "KIfiy2csZ_IS",
        "outputId": "b0b2e70d-52c8-4df6-b396-36e388a6544a"
      },
      "outputs": [
        {
          "name": "stdout",
          "output_type": "stream",
          "text": [
            "Column 'county_code' has CONTINUOUS distinct values 0\n",
            "Column 'census_tract' has CONTINUOUS distinct values 1\n",
            "Column 'preapproval' has BINARY distinct values 2\n",
            "Column 'loan_purpose' has 1 distinct values 3\n",
            "Column 'loan_purpose' has 31 distinct values 4\n",
            "Column 'loan_purpose' has 2 distinct values 5\n",
            "Column 'loan_purpose' has 32 distinct values 6\n",
            "Column 'loan_purpose' has 4 distinct values 7\n",
            "Column 'loan_purpose' has 5 distinct values 8\n",
            "Column 'lien_status' has BINARY distinct values 9\n",
            "Column 'loan_amount' has CONTINUOUS distinct values 10\n",
            "Column 'loan_to_value_ratio' has CONTINUOUS distinct values 11\n",
            "Column 'loan_term' has 360.0 distinct values 12\n",
            "Column 'loan_term' has 240.0 distinct values 13\n",
            "Column 'loan_term' has 360 distinct values 14\n",
            "Column 'loan_term' has 240 distinct values 15\n",
            "Column 'loan_term' has 300 distinct values 16\n",
            "Column 'loan_term' has 180 distinct values 17\n",
            "Column 'loan_term' has 180.0 distinct values 18\n",
            "Column 'loan_term' has 300.0 distinct values 19\n",
            "Column 'loan_term' has 60 distinct values 20\n",
            "Column 'loan_term' has 120 distinct values 21\n",
            "Column 'loan_term' has 480 distinct values 22\n",
            "Column 'loan_term' has 84 distinct values 23\n",
            "Column 'loan_term' has 420 distinct values 24\n",
            "Column 'prepayment_penalty_term' has 18.0 distinct values 25\n",
            "Column 'prepayment_penalty_term' has 36.0 distinct values 26\n",
            "Column 'prepayment_penalty_term' has 36 distinct values 27\n",
            "Column 'prepayment_penalty_term' has 0 distinct values 28\n",
            "Column 'prepayment_penalty_term' has 24 distinct values 29\n",
            "Column 'prepayment_penalty_term' has 12 distinct values 30\n",
            "Column 'prepayment_penalty_term' has 24.0 distinct values 31\n",
            "Column 'prepayment_penalty_term' has 12.0 distinct values 32\n",
            "Column 'prepayment_penalty_term' has 6 distinct values 33\n",
            "Column 'prepayment_penalty_term' has 2 distinct values 34\n",
            "Column 'prepayment_penalty_term' has 2 distinct values 35\n",
            "Column 'intro_rate_period' has 60.0 distinct values 36\n",
            "Column 'intro_rate_period' has 1.0 distinct values 37\n",
            "Column 'intro_rate_period' has 1 distinct values 38\n",
            "Column 'intro_rate_period' has 84 distinct values 39\n",
            "Column 'intro_rate_period' has 60 distinct values 40\n",
            "Column 'intro_rate_period' has 299 distinct values 41\n",
            "Column 'intro_rate_period' has 120 distinct values 42\n",
            "Column 'intro_rate_period' has 3 distinct values 43\n",
            "Column 'intro_rate_period' has 84.0 distinct values 44\n",
            "Column 'intro_rate_period' has 12 distinct values 45\n",
            "Column 'intro_rate_period' has 6 distinct values 46\n",
            "Column 'intro_rate_period' has 12.0 distinct values 47\n",
            "Column 'intro_rate_period' has 6.0 distinct values 48\n",
            "Column 'intro_rate_period' has 120.0 distinct values 49\n",
            "Column 'intro_rate_period' has 9.0 distinct values 50\n",
            "Column 'negative_amortization' has BINARY distinct values 51\n",
            "Column 'interest_only_payment' has BINARY distinct values 52\n",
            "Column 'balloon_payment' has BINARY distinct values 53\n",
            "Column 'property_value' has CONTINUOUS distinct values 54\n",
            "Column 'construction_method' has BINARY distinct values 55\n",
            "Column 'occupancy_type' has 3 distinct values 56\n",
            "Column 'occupancy_type' has 1 distinct values 57\n",
            "Column 'occupancy_type' has 2 distinct values 58\n",
            "Column 'income' has CONTINUOUS distinct values 59\n",
            "Column 'debt_to_income_ratio' has 50 distinct values 60\n",
            "Column 'debt_to_income_ratio' has 30 distinct values 61\n",
            "Column 'debt_to_income_ratio' has 37 distinct values 62\n",
            "Column 'debt_to_income_ratio' has 43 distinct values 63\n",
            "Column 'debt_to_income_ratio' has 60 distinct values 64\n",
            "Column 'debt_to_income_ratio' has 20 distinct values 65\n",
            "Column 'debt_to_income_ratio' has 0 distinct values 66\n",
            "Column 'debt_to_income_ratio' has 36 distinct values 67\n",
            "Column 'applicant_credit_score_type' has 9.0 distinct values 68\n",
            "Column 'applicant_credit_score_type' has 3.0 distinct values 69\n",
            "Column 'applicant_credit_score_type' has 2.0 distinct values 70\n",
            "Column 'applicant_credit_score_type' has 1.0 distinct values 71\n",
            "Column 'applicant_credit_score_type' has 7.0 distinct values 72\n",
            "Column 'applicant_credit_score_type' has 4.0 distinct values 73\n",
            "Column 'applicant_credit_score_type' has 8.0 distinct values 74\n",
            "Column 'applicant_credit_score_type' has 11.0 distinct values 75\n",
            "Column 'co-applicant_credit_score_type' has 10.0 distinct values 76\n",
            "Column 'co-applicant_credit_score_type' has 3.0 distinct values 77\n",
            "Column 'co-applicant_credit_score_type' has 1.0 distinct values 78\n",
            "Column 'co-applicant_credit_score_type' has 2.0 distinct values 79\n",
            "Column 'co-applicant_credit_score_type' has 9.0 distinct values 80\n",
            "Column 'co-applicant_credit_score_type' has 7.0 distinct values 81\n",
            "Column 'co-applicant_credit_score_type' has 8.0 distinct values 82\n",
            "Column 'co-applicant_credit_score_type' has 11.0 distinct values 83\n",
            "Column 'co-applicant_credit_score_type' has 4.0 distinct values 84\n",
            "Column 'applicant_sex' has BINARY distinct values 85\n",
            "Column 'applicant_age' has 45-54 distinct values 86\n",
            "Column 'applicant_age' has 55-64 distinct values 87\n",
            "Column 'applicant_age' has 35-44 distinct values 88\n",
            "Column 'applicant_age' has 65-74 distinct values 89\n",
            "Column 'applicant_age' has >74 distinct values 90\n",
            "Column 'applicant_age' has 25-34 distinct values 91\n",
            "Column 'applicant_age' has <25 distinct values 92\n",
            "Column 'applicant_ethnicity' has BINARY distinct values 93\n",
            "Column 'race' has BINARY distinct values 94\n"
          ]
        }
      ],
      "source": [
        "categorical_features = []\n",
        "dicts = {}\n",
        "x = 0\n",
        "for column in data.columns:\n",
        "  feature_dict= {}\n",
        "  distinct_values = data[column].nunique()\n",
        "  if column == 'action_taken' or column == 'Asian' or column == 'Black or AA' or column == 'NH or PI' or column == 'White':\n",
        "    continue\n",
        "  if column == 'AI or AN':\n",
        "    feature_dict['AI or AN'] = x\n",
        "    x+=1\n",
        "    feature_dict['Asian'] = x\n",
        "    x+=1\n",
        "    feature_dict['Black or AA'] = x\n",
        "    x+=1\n",
        "    feature_dict['NH or PI'] = x\n",
        "    x+=1\n",
        "    feature_dict['White'] = x\n",
        "    x+=1\n",
        "    dicts['race'] = feature_dict\n",
        "    continue\n",
        "  elif distinct_values < 50 and distinct_values>2:\n",
        "    categorical_features.append(column)\n",
        "    distinct_ops = data[column].unique()\n",
        "    for y in distinct_ops:\n",
        "      feature_dict[y] = x\n",
        "      print(f\"Column '{column}' has {y} distinct values\", x)\n",
        "      x+=1\n",
        "  elif distinct_values == 2:\n",
        "    feature_dict['binary'] = x\n",
        "    print(f\"Column '{column}' has BINARY distinct values\", x)\n",
        "    x+=1\n",
        "  else:\n",
        "    feature_dict['continuous'] = x\n",
        "    print(f\"Column '{column}' has CONTINUOUS distinct values\", x)\n",
        "    x+=1\n",
        "  dicts[column]=feature_dict"
      ]
    },
    {
      "cell_type": "code",
      "execution_count": null,
      "metadata": {
        "colab": {
          "base_uri": "https://localhost:8080/"
        },
        "id": "EQ0cG_rQnhz5",
        "outputId": "22fe70f5-d4bf-4ab1-9cb9-949649aafb2e"
      },
      "outputs": [
        {
          "name": "stdout",
          "output_type": "stream",
          "text": [
            "{'county_code': {'continuous': 0}, 'census_tract': {'continuous': 1}, 'preapproval': {'binary': 2}, 'loan_purpose': {1: 3, 31: 4, 2: 5, 32: 6, 4: 7, 5: 8}, 'lien_status': {'binary': 9}, 'loan_amount': {'continuous': 10}, 'loan_to_value_ratio': {'continuous': 11}, 'loan_term': {360.0: 12, 240.0: 13, '360': 14, '240': 15, '300': 16, '180': 17, 180.0: 18, 300.0: 19, '60': 20, '120': 21, '480': 22, '84': 23, '420': 24}, 'prepayment_penalty_term': {18.0: 25, 36.0: 26, '36': 27, '0': 28, '24': 29, '12': 30, 24.0: 31, 12.0: 32, '6': 33, '2': 34, 2: 35}, 'intro_rate_period': {60.0: 36, 1.0: 37, '1': 38, '84': 39, '60': 40, '299': 41, '120': 42, '3': 43, 84.0: 44, '12': 45, '6': 46, 12.0: 47, 6.0: 48, 120.0: 49, 9.0: 50}, 'negative_amortization': {'binary': 51}, 'interest_only_payment': {'binary': 52}, 'balloon_payment': {'binary': 53}, 'property_value': {'continuous': 54}, 'construction_method': {'binary': 55}, 'occupancy_type': {3: 56, 1: 57, 2: 58}, 'income': {'continuous': 59}, 'debt_to_income_ratio': {'50': 60, '30': 61, '37': 62, '43': 63, '60': 64, '20': 65, '0': 66, '36': 67}, 'applicant_credit_score_type': {9.0: 68, 3.0: 69, 2.0: 70, 1.0: 71, 7.0: 72, 4.0: 73, 8.0: 74, 11.0: 75}, 'co-applicant_credit_score_type': {10.0: 76, 3.0: 77, 1.0: 78, 2.0: 79, 9.0: 80, 7.0: 81, 8.0: 82, 11.0: 83, 4.0: 84}, 'applicant_sex': {'binary': 85}, 'applicant_age': {'45-54': 86, '55-64': 87, '35-44': 88, '65-74': 89, '>74': 90, '25-34': 91, '<25': 92}, 'applicant_ethnicity': {'binary': 93}, 'race': {'binary': 94}}\n"
          ]
        }
      ],
      "source": [
        "print(dicts)"
      ]
    },
    {
      "cell_type": "code",
      "execution_count": null,
      "metadata": {
        "colab": {
          "base_uri": "https://localhost:8080/"
        },
        "id": "fdb9fzyS00Oy",
        "outputId": "8541b771-c214-4b29-e06a-c6369cb54275"
      },
      "outputs": [
        {
          "name": "stdout",
          "output_type": "stream",
          "text": [
            "Dictionary saved to /content/drive/MyDrive/headers_dict.pickle\n"
          ]
        }
      ],
      "source": [
        "import pickle\n",
        "file_path = '/content/drive/MyDrive/headers_dict.pickle'\n",
        "\n",
        "with open(file_path, 'wb') as file:  # The 'wb' argument denotes write-binary mode\n",
        "    pickle.dump(dicts, file)\n",
        "\n",
        "print(f\"Dictionary saved to {file_path}\")"
      ]
    },
    {
      "cell_type": "code",
      "execution_count": null,
      "metadata": {
        "id": "677DEKelNE9X"
      },
      "outputs": [],
      "source": [
        "# = ['occupancy_type', 'preapproval','lien_status', 'balloon_payment', 'negative_amortization', 'interest_only_payment', 'debt_to_income_ratio','applicant_age', 'loan_purpose', 'applicant_credit_score_type', 'co-applicant_credit_score_type']\n",
        "\n",
        "data_encoded = pd.get_dummies(data, columns=categorical_features)"
      ]
    },
    {
      "cell_type": "code",
      "execution_count": null,
      "metadata": {
        "id": "mO6IGan6Tgvs"
      },
      "outputs": [],
      "source": [
        "data = data_encoded"
      ]
    },
    {
      "cell_type": "code",
      "execution_count": null,
      "metadata": {
        "colab": {
          "base_uri": "https://localhost:8080/"
        },
        "id": "51IfOGC2oJ8A",
        "outputId": "83ad322d-d36d-48c0-c9cc-42b304f1b593"
      },
      "outputs": [
        {
          "data": {
            "text/plain": [
              "Index(['county_code', 'census_tract', 'action_taken', 'preapproval',\n",
              "       'lien_status', 'loan_amount', 'loan_to_value_ratio',\n",
              "       'negative_amortization', 'interest_only_payment', 'balloon_payment',\n",
              "       'property_value', 'construction_method', 'income', 'applicant_sex',\n",
              "       'applicant_ethnicity', 'race', 'loan_purpose_1', 'loan_purpose_2',\n",
              "       'loan_purpose_4', 'loan_purpose_5', 'loan_purpose_31',\n",
              "       'loan_purpose_32', 'loan_term_180.0', 'loan_term_240.0',\n",
              "       'loan_term_300.0', 'loan_term_360.0', 'loan_term_120', 'loan_term_180',\n",
              "       'loan_term_240', 'loan_term_300', 'loan_term_360', 'loan_term_420',\n",
              "       'loan_term_480', 'loan_term_60', 'loan_term_84',\n",
              "       'prepayment_penalty_term_2', 'prepayment_penalty_term_12.0',\n",
              "       'prepayment_penalty_term_18.0', 'prepayment_penalty_term_24.0',\n",
              "       'prepayment_penalty_term_36.0', 'prepayment_penalty_term_0',\n",
              "       'prepayment_penalty_term_12', 'prepayment_penalty_term_2',\n",
              "       'prepayment_penalty_term_24', 'prepayment_penalty_term_36',\n",
              "       'prepayment_penalty_term_6', 'intro_rate_period_1.0',\n",
              "       'intro_rate_period_6.0', 'intro_rate_period_9.0',\n",
              "       'intro_rate_period_12.0', 'intro_rate_period_60.0',\n",
              "       'intro_rate_period_84.0', 'intro_rate_period_120.0',\n",
              "       'intro_rate_period_1', 'intro_rate_period_12', 'intro_rate_period_120',\n",
              "       'intro_rate_period_299', 'intro_rate_period_3', 'intro_rate_period_6',\n",
              "       'intro_rate_period_60', 'intro_rate_period_84', 'occupancy_type_1',\n",
              "       'occupancy_type_2', 'occupancy_type_3', 'debt_to_income_ratio_0',\n",
              "       'debt_to_income_ratio_20', 'debt_to_income_ratio_30',\n",
              "       'debt_to_income_ratio_36', 'debt_to_income_ratio_37',\n",
              "       'debt_to_income_ratio_43', 'debt_to_income_ratio_50',\n",
              "       'debt_to_income_ratio_60', 'applicant_credit_score_type_1.0',\n",
              "       'applicant_credit_score_type_2.0', 'applicant_credit_score_type_3.0',\n",
              "       'applicant_credit_score_type_4.0', 'applicant_credit_score_type_7.0',\n",
              "       'applicant_credit_score_type_8.0', 'applicant_credit_score_type_9.0',\n",
              "       'applicant_credit_score_type_11.0',\n",
              "       'co-applicant_credit_score_type_1.0',\n",
              "       'co-applicant_credit_score_type_2.0',\n",
              "       'co-applicant_credit_score_type_3.0',\n",
              "       'co-applicant_credit_score_type_4.0',\n",
              "       'co-applicant_credit_score_type_7.0',\n",
              "       'co-applicant_credit_score_type_8.0',\n",
              "       'co-applicant_credit_score_type_9.0',\n",
              "       'co-applicant_credit_score_type_10.0',\n",
              "       'co-applicant_credit_score_type_11.0', 'applicant_age_25-34',\n",
              "       'applicant_age_35-44', 'applicant_age_45-54', 'applicant_age_55-64',\n",
              "       'applicant_age_65-74', 'applicant_age_<25', 'applicant_age_>74'],\n",
              "      dtype='object')"
            ]
          },
          "execution_count": 27,
          "metadata": {},
          "output_type": "execute_result"
        }
      ],
      "source": [
        "data.columns"
      ]
    },
    {
      "cell_type": "markdown",
      "metadata": {
        "id": "7t9Qpaipf-Ko"
      },
      "source": []
    },
    {
      "cell_type": "code",
      "execution_count": null,
      "metadata": {
        "id": "sNhJw9QOLlb8"
      },
      "outputs": [],
      "source": [
        "\n",
        "# Separate the majority and minority classes\n",
        "df_majority = data[data.action_taken == 0]\n",
        "df_minority = data[data.action_taken == 1]\n",
        "\n",
        "# Undersample the majority class without replacement\n",
        "df_majority_undersampled = df_majority.sample(n=len(df_minority), random_state=42)\n",
        "\n",
        "# Combine minority class with undersampled majority class\n",
        "df_undersampled = pd.concat([df_minority, df_majority_undersampled])\n",
        "\n",
        "# Shuffle the dataset to prevent the model from learning any order\n",
        "df_undersampled = df_undersampled.sample(frac=1, random_state=42).reset_index(drop=True)\n"
      ]
    },
    {
      "cell_type": "code",
      "execution_count": null,
      "metadata": {
        "id": "CTBOE3Z4M-D8"
      },
      "outputs": [],
      "source": [
        " data = df_undersampled"
      ]
    },
    {
      "cell_type": "code",
      "execution_count": null,
      "metadata": {
        "colab": {
          "base_uri": "https://localhost:8080/"
        },
        "id": "AiiYOcOlLsbh",
        "outputId": "b048fa40-9114-4710-8f42-7e1c2a1280d2"
      },
      "outputs": [
        {
          "name": "stdout",
          "output_type": "stream",
          "text": [
            "action_taken\n",
            "1    26720\n",
            "0    26720\n",
            "Name: count, dtype: int64\n"
          ]
        }
      ],
      "source": [
        "action_taken_counts = data['action_taken'].value_counts()\n",
        "print(action_taken_counts)"
      ]
    },
    {
      "cell_type": "code",
      "execution_count": null,
      "metadata": {
        "id": "RFq8zVKVTGEJ"
      },
      "outputs": [],
      "source": []
    },
    {
      "cell_type": "code",
      "execution_count": null,
      "metadata": {
        "id": "Knh2YxdN9d0I"
      },
      "outputs": [],
      "source": [
        "from sklearn.model_selection import train_test_split\n",
        "\n",
        "# Assuming 'action_taken' is the target variable\n",
        "\n",
        "\n",
        "columns_with_na = data.columns[data.isna().any()].tolist()\n",
        "X = data.drop('action_taken', axis=1)\n",
        "y = data['action_taken']\n",
        "\n",
        "# Split data into training and testing sets\n",
        "X_train, X_test, y_train, y_test = train_test_split(X, y, test_size=0.2, random_state=42)"
      ]
    },
    {
      "cell_type": "code",
      "execution_count": null,
      "metadata": {
        "colab": {
          "base_uri": "https://localhost:8080/"
        },
        "id": "4L8UnmkNBzMW",
        "outputId": "0b713068-5229-4cfd-a06c-43fa3b3b5636"
      },
      "outputs": [
        {
          "data": {
            "text/plain": [
              "[]"
            ]
          },
          "execution_count": 32,
          "metadata": {},
          "output_type": "execute_result"
        }
      ],
      "source": [
        "columns_with_na"
      ]
    },
    {
      "cell_type": "code",
      "execution_count": null,
      "metadata": {
        "colab": {
          "base_uri": "https://localhost:8080/"
        },
        "id": "GPGTPCxaffjJ",
        "outputId": "40be7215-206a-4f54-a6f9-e81c152996ee"
      },
      "outputs": [
        {
          "name": "stdout",
          "output_type": "stream",
          "text": [
            "(53440, 95)\n"
          ]
        }
      ],
      "source": [
        "features = X.to_numpy()\n",
        "print(features.shape)\n",
        "np.save('/content/drive/MyDrive/features.npy', features)"
      ]
    },
    {
      "cell_type": "code",
      "execution_count": null,
      "metadata": {
        "id": "Hb_mDFm9gcMT"
      },
      "outputs": [],
      "source": [
        "labels = y.to_numpy()\n",
        "np.save('/content/drive/MyDrive/labels.npy', labels)"
      ]
    },
    {
      "cell_type": "code",
      "execution_count": null,
      "metadata": {
        "id": "NEUvNL7shRSW"
      },
      "outputs": [],
      "source": [
        "column_names = X.columns.tolist()\n",
        "column_names_array = np.array(column_names)\n",
        "np.save('/content/drive/MyDrive/headers_list.npy', column_names_array)"
      ]
    },
    {
      "cell_type": "code",
      "execution_count": null,
      "metadata": {
        "colab": {
          "base_uri": "https://localhost:8080/"
        },
        "id": "kmTVXKeS95bP",
        "outputId": "59253316-dc1a-410e-a6de-4cd4a2639877"
      },
      "outputs": [
        {
          "name": "stdout",
          "output_type": "stream",
          "text": [
            "Logistic Regression Accuracy: 0.8016\n"
          ]
        }
      ],
      "source": [
        "from sklearn.linear_model import LogisticRegression\n",
        "from sklearn.preprocessing import StandardScaler\n",
        "from sklearn.pipeline import make_pipeline\n",
        "from sklearn.metrics import accuracy_score, classification_report\n",
        "\n",
        "# Create a pipeline with preprocessing and model\n",
        "logistic_model = make_pipeline(StandardScaler(), LogisticRegression(max_iter=3000))\n",
        "\n",
        "# Fit the model on the training data\n",
        "logistic_model.fit(X_train, y_train)\n",
        "\n",
        "# Predict on the test data\n",
        "y_pred = logistic_model.predict(X_test)\n",
        "\n",
        "# Calculate the accuracy\n",
        "logistic_accuracy = accuracy_score(y_test, y_pred)\n",
        "print(f'Logistic Regression Accuracy: {logistic_accuracy:.4f}')\n",
        "\n",
        "# Generate and print the classification report\n",
        "report = classification_report(y_test, y_pred, target_names=['Class 0', 'Class 1'])"
      ]
    },
    {
      "cell_type": "code",
      "execution_count": null,
      "metadata": {
        "colab": {
          "base_uri": "https://localhost:8080/"
        },
        "id": "Jy9V4xkhEN-x",
        "outputId": "9233c564-6446-442b-c6d5-9f4042f513b7"
      },
      "outputs": [
        {
          "name": "stdout",
          "output_type": "stream",
          "text": [
            "              precision    recall  f1-score   support\n",
            "\n",
            "     Class 0       0.84      0.74      0.79      5315\n",
            "     Class 1       0.77      0.86      0.81      5373\n",
            "\n",
            "    accuracy                           0.80     10688\n",
            "   macro avg       0.81      0.80      0.80     10688\n",
            "weighted avg       0.81      0.80      0.80     10688\n",
            "\n"
          ]
        }
      ],
      "source": [
        "print(report)"
      ]
    },
    {
      "cell_type": "code",
      "execution_count": null,
      "metadata": {
        "id": "fLkI2tcsMbUr"
      },
      "outputs": [],
      "source": []
    },
    {
      "cell_type": "code",
      "execution_count": null,
      "metadata": {
        "colab": {
          "base_uri": "https://localhost:8080/"
        },
        "id": "nWxq3hk2i7lx",
        "outputId": "aebf5be3-55b4-420d-9c0e-c5ca0e9f772b"
      },
      "outputs": [
        {
          "name": "stdout",
          "output_type": "stream",
          "text": [
            "0.7717245989304813 0.8132429338733821 0.8594825981760655\n"
          ]
        }
      ],
      "source": [
        "from sklearn.metrics import precision_score, f1_score, recall_score\n",
        "print(precision_score(y_test, y_pred), f1_score(y_test, y_pred), recall_score(y_test, y_pred))"
      ]
    },
    {
      "cell_type": "markdown",
      "metadata": {
        "id": "vxmjwAsQ4bXZ"
      },
      "source": []
    },
    {
      "cell_type": "code",
      "execution_count": null,
      "metadata": {
        "colab": {
          "base_uri": "https://localhost:8080/"
        },
        "id": "0_9r6cF7ElSg",
        "outputId": "538000bc-fe29-4839-a0b9-e980162c5b5b"
      },
      "outputs": [
        {
          "name": "stdout",
          "output_type": "stream",
          "text": [
            "Random Forest Accuracy: 0.8307447604790419\n",
            "              precision    recall  f1-score   support\n",
            "\n",
            "     Class 0       0.86      0.79      0.82      5315\n",
            "     Class 1       0.81      0.87      0.84      5373\n",
            "\n",
            "    accuracy                           0.83     10688\n",
            "   macro avg       0.83      0.83      0.83     10688\n",
            "weighted avg       0.83      0.83      0.83     10688\n",
            "\n"
          ]
        }
      ],
      "source": [
        "from sklearn.ensemble import RandomForestClassifier\n",
        "from sklearn.metrics import accuracy_score, classification_report\n",
        "\n",
        "# Initialize the Random Forest model\n",
        "rf_model = RandomForestClassifier(random_state=42)\n",
        "\n",
        "# Fit the model on the training data\n",
        "rf_model.fit(X_train, y_train)\n",
        "\n",
        "# Predict on the test data\n",
        "rf_pred = rf_model.predict(X_test)\n",
        "\n",
        "# Calculate the accuracy\n",
        "rf_accuracy = accuracy_score(y_test, rf_pred)\n",
        "print(f'Random Forest Accuracy: {rf_accuracy}')\n",
        "\n",
        "# Generate and print the classification report\n",
        "rf_report = classification_report(y_test, rf_pred, target_names=['Class 0', 'Class 1'])\n",
        "print(rf_report)"
      ]
    },
    {
      "cell_type": "code",
      "execution_count": null,
      "metadata": {
        "colab": {
          "base_uri": "https://localhost:8080/"
        },
        "id": "7J7bO3mzjKi_",
        "outputId": "7d28fe59-ff6c-4ea0-c874-876fbc7e07b3"
      },
      "outputs": [
        {
          "name": "stdout",
          "output_type": "stream",
          "text": [
            "0.8089459084604715 0.8376267839511715 0.8684161548483157\n"
          ]
        }
      ],
      "source": [
        "print(precision_score(y_test, rf_pred), f1_score(y_test, rf_pred), recall_score(y_test, rf_pred))"
      ]
    },
    {
      "cell_type": "code",
      "execution_count": null,
      "metadata": {
        "colab": {
          "base_uri": "https://localhost:8080/"
        },
        "id": "x5RUkA4yEobb",
        "outputId": "6def37e5-55b0-42ab-f92a-b6e99c22680a"
      },
      "outputs": [
        {
          "name": "stdout",
          "output_type": "stream",
          "text": [
            "MLP Accuracy: 0.8222305389221557\n",
            "              precision    recall  f1-score   support\n",
            "\n",
            "     Class 0       0.85      0.78      0.81      5315\n",
            "     Class 1       0.80      0.86      0.83      5373\n",
            "\n",
            "    accuracy                           0.82     10688\n",
            "   macro avg       0.82      0.82      0.82     10688\n",
            "weighted avg       0.82      0.82      0.82     10688\n",
            "\n"
          ]
        }
      ],
      "source": [
        "from sklearn.neural_network import MLPClassifier\n",
        "from sklearn.preprocessing import StandardScaler\n",
        "from sklearn.pipeline import make_pipeline\n",
        "\n",
        "# Create a pipeline with preprocessing and the MLP model\n",
        "# StandardScaler is used to scale the data for better performance of the MLP\n",
        "mlp_model = make_pipeline(StandardScaler(), MLPClassifier(max_iter=1000,random_state=42, solver='sgd'))\n",
        "\n",
        "\n",
        "# Fit the model on the training data\n",
        "mlp_model.fit(X_train, y_train)\n",
        "\n",
        "# Predict on the test data\n",
        "mlp_pred = mlp_model.predict(X_test)\n",
        "\n",
        "# Calculate the accuracy\n",
        "mlp_accuracy = accuracy_score(y_test, mlp_pred)\n",
        "print(f'MLP Accuracy: {mlp_accuracy}')\n",
        "\n",
        "# Generate and print the classification report\n",
        "mlp_report = classification_report(y_test, mlp_pred, target_names=['Class 0', 'Class 1'])\n",
        "print(mlp_report)\n"
      ]
    },
    {
      "cell_type": "code",
      "execution_count": null,
      "metadata": {
        "colab": {
          "base_uri": "https://localhost:8080/"
        },
        "id": "orfrUCY5mx1W",
        "outputId": "b19a3a59-1230-4d77-cd81-9c0aab775aa0"
      },
      "outputs": [
        {
          "name": "stdout",
          "output_type": "stream",
          "text": [
            "0.8007968127490039 0.8295352592858424 0.8604131769960915\n"
          ]
        }
      ],
      "source": [
        "print(precision_score(y_test, mlp_pred), f1_score(y_test, mlp_pred), recall_score(y_test, mlp_pred))"
      ]
    },
    {
      "cell_type": "code",
      "execution_count": null,
      "metadata": {
        "colab": {
          "base_uri": "https://localhost:8080/",
          "height": 1000
        },
        "id": "VFEDW2JRUlh0",
        "outputId": "8f66e8a0-6c23-4fee-ffd4-87fcd44f8412"
      },
      "outputs": [
        {
          "name": "stdout",
          "output_type": "stream",
          "text": [
            "Logistic\n"
          ]
        },
        {
          "data": {
            "image/png": "[encoded data removed]",
            "text/plain": [
              "<Figure size 500x500 with 2 Axes>"
            ]
          },
          "metadata": {},
          "output_type": "display_data"
        },
        {
          "name": "stdout",
          "output_type": "stream",
          "text": [
            "\n",
            "Random Forest\n"
          ]
        },
        {
          "data": {
            "image/png": "[encoded data removed]",
            "text/plain": [
              "<Figure size 500x500 with 2 Axes>"
            ]
          },
          "metadata": {},
          "output_type": "display_data"
        },
        {
          "name": "stdout",
          "output_type": "stream",
          "text": [
            "\n",
            "MLP\n"
          ]
        },
        {
          "data": {
            "image/png": "[encoded data removed]",
            "text/plain": [
              "<Figure size 500x500 with 2 Axes>"
            ]
          },
          "metadata": {},
          "output_type": "display_data"
        }
      ],
      "source": [
        "from sklearn.metrics import confusion_matrix\n",
        "import seaborn as sns\n",
        "import matplotlib.pyplot as plt\n",
        "\n",
        "\n",
        "print(\"Logistic\")\n",
        "lg_cm = confusion_matrix(y_test, y_pred)\n",
        "\n",
        "rf_cm =confusion_matrix(y_test, rf_pred)\n",
        "\n",
        "mlp_cm = confusion_matrix(y_test, mlp_pred)\n",
        "\n",
        "plt.figure(figsize=(5,5))\n",
        "sns.heatmap(lg_cm, annot=True, fmt=\".0f\", cmap=\"Blues\")\n",
        "plt.xlabel('Predicted')\n",
        "plt.ylabel('Truth')\n",
        "plt.show()\n",
        "\n",
        "print(\"\\nRandom Forest\")\n",
        "plt.figure(figsize=(5,5))\n",
        "sns.heatmap(rf_cm, annot=True, fmt=\".0f\", cmap=\"Blues\")\n",
        "plt.xlabel('Predicted')\n",
        "plt.ylabel('Truth')\n",
        "plt.show()\n",
        "\n",
        "print(\"\\nMLP\")\n",
        "plt.figure(figsize=(5,5))\n",
        "sns.heatmap(mlp_cm, annot=True, fmt=\".0f\", cmap=\"Blues\")\n",
        "plt.xlabel('Predicted')\n",
        "plt.ylabel('Truth')\n",
        "plt.show()"
      ]
    },
    {
      "cell_type": "code",
      "execution_count": null,
      "metadata": {
        "id": "x9SN9CXenNoA"
      },
      "outputs": [],
      "source": []
    }
  ],
  "metadata": {
    "colab": {
      "provenance": []
    },
    "kernelspec": {
      "display_name": "Python 3",
      "name": "python3"
    },
    "language_info": {
      "name": "python"
    }
  },
  "nbformat": 4,
  "nbformat_minor": 0
}
